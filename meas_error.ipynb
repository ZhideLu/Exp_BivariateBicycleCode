{
 "cells": [
  {
   "cell_type": "code",
   "execution_count": 1,
   "id": "b490af2f-61d8-4528-bcc8-c6177f718b1f",
   "metadata": {},
   "outputs": [],
   "source": [
    "import pickle\n",
    "import numpy as np"
   ]
  },
  {
   "cell_type": "code",
   "execution_count": 2,
   "id": "0597fba3-7ea2-40f2-85ac-03ecb5f1056a",
   "metadata": {},
   "outputs": [],
   "source": [
    "labels_z = [0, 1, 2, 5, 6, 7, 8] ;\n",
    "labels_x = [0, 1, 3, 4, 5, 6, 7] ;\n",
    "\n",
    "n2 = 9 ;\n",
    "num_checks = 7 * 2 ;"
   ]
  },
  {
   "cell_type": "code",
   "execution_count": 3,
   "id": "3c2c98d1-66ed-455a-acbb-74c163b7470a",
   "metadata": {},
   "outputs": [
    {
     "data": {
      "text/plain": [
       "dict_keys(['q_L1', 'q_R1', 'q_X1', 'q_Z0', 'q_Z1', 'q_Z7', 'q_L2', 'q_R2', 'q_R8', 'q_Z2', 'q_Z8', 'q_L5', 'q_L8', 'q_R5', 'q_X5', 'q_Z5', 'q_L3', 'q_L4', 'q_L7', 'q_R4', 'q_X4', 'q_L6', 'q_R3', 'q_X3', 'q_X6', 'q_X7', 'q_L0', 'q_R0', 'q_R6', 'q_R7', 'q_X0', 'q_Z6'])"
      ]
     },
     "execution_count": 3,
     "metadata": {},
     "output_type": "execute_result"
    }
   ],
   "source": [
    "with open ('qname2MF_20250306_dataset148.pkl','rb') as f:\n",
    "    data = pickle.load(f)\n",
    "data.keys()"
   ]
  },
  {
   "cell_type": "code",
   "execution_count": 4,
   "id": "47b3c264-0177-42af-9fd7-1ec0fa9b508c",
   "metadata": {},
   "outputs": [],
   "source": [
    "set_three_state_error_check = [] ;\n",
    "set_three_state_error_data = [] ;\n",
    "\n",
    "for i in labels_z:\n",
    "    set_three_state_error_check.append( 1 - np.mean( np.diag(data[f\"q_Z{i}\"]) ) ) ;\n",
    "\n",
    "for i in labels_x:\n",
    "    set_three_state_error_check.append( 1 - np.mean( np.diag(data[f\"q_X{i}\"]) ) ) ;\n",
    "\n",
    "for i in range(n2):\n",
    "    set_three_state_error_data.append( 1 - np.mean( np.diag(data[f\"q_L{i}\"]) ) ) ;\n",
    "\n",
    "for i in range(n2):\n",
    "    set_three_state_error_data.append( 1 - np.mean( np.diag(data[f\"q_R{i}\"]) ) ) ;"
   ]
  },
  {
   "cell_type": "code",
   "execution_count": 5,
   "id": "e4af29b1-3829-4cda-bf04-a8bb7f6113e8",
   "metadata": {},
   "outputs": [
    {
     "name": "stdout",
     "output_type": "stream",
     "text": [
      "The mean meas error (three states for check qubits: 0.0777579669871584\n",
      "The mean meas error (three states for data qubits: 0.056761198465343825\n"
     ]
    }
   ],
   "source": [
    "# np.median(set_three_state_error)\n",
    "print(\"The mean meas error (three states for check qubits:\", np.mean(set_three_state_error_check) )\n",
    "print(\"The mean meas error (three states for data qubits:\", np.mean(set_three_state_error_data) )"
   ]
  },
  {
   "cell_type": "code",
   "execution_count": 13,
   "id": "e7823b45-fc95-4809-ae51-27d1d4b6ab1e",
   "metadata": {},
   "outputs": [
    {
     "data": {
      "text/plain": [
       "array([[0.96202899, 0.02246377, 0.01550725],\n",
       "       [0.03752525, 0.95535354, 0.00712121],\n",
       "       [0.02117424, 0.03363636, 0.94518939]])"
      ]
     },
     "execution_count": 13,
     "metadata": {},
     "output_type": "execute_result"
    }
   ],
   "source": [
    "data[f\"q_Z{i}\"]"
   ]
  },
  {
   "cell_type": "code",
   "execution_count": null,
   "id": "b843801f-f317-4925-8364-97587a17b0d3",
   "metadata": {},
   "outputs": [],
   "source": []
  },
  {
   "cell_type": "code",
   "execution_count": null,
   "id": "eb47f762-69f9-459c-9a96-ef99f962c0ee",
   "metadata": {},
   "outputs": [],
   "source": []
  },
  {
   "cell_type": "markdown",
   "id": "e617b51d-0cc5-460f-bfa1-196e411f96e4",
   "metadata": {},
   "source": [
    "## Meas. errors used in classical simualtion"
   ]
  },
  {
   "cell_type": "code",
   "execution_count": 6,
   "id": "2a1d1841-8e52-4356-adba-f1261c176ddd",
   "metadata": {},
   "outputs": [],
   "source": [
    "a = 0.475 ; \n",
    "b = 0.475 ;\n",
    "c = 1 - a - b ;"
   ]
  },
  {
   "cell_type": "code",
   "execution_count": 7,
   "id": "f31b2106-c2ad-457b-9a38-e3340764455a",
   "metadata": {},
   "outputs": [],
   "source": [
    "set_remove_leakage_meas_error_check = [] ;\n",
    "set_remove_leakage_meas_error_data = [] ;\n",
    "\n",
    "for i in labels_z:\n",
    "    \n",
    "    temp = data[f\"q_Z{i}\"] ;\n",
    "    result = 1 - ( a * temp[0][0] + c * temp[2][0]/2 )/( a * temp[0][0] + c * temp[2][0]/2 + a * temp[0][1] + c * temp[2][1]/2 )/2 - \\\n",
    "        ( b * temp[1][1] + c * temp[2][1]/2 )/( b * temp[1][1] + c * temp[2][1]/2 + b * temp[1][0] + c * temp[2][0]/2 )/2 ;\n",
    "\n",
    "    set_remove_leakage_meas_error_check.append(result) ;\n",
    "\n",
    "for i in labels_x:\n",
    "    \n",
    "    temp = data[f\"q_X{i}\"] ;\n",
    "    result = 1 - ( a * temp[0][0] + c * temp[2][0]/2 )/( a * temp[0][0] + c * temp[2][0]/2 + a * temp[0][1] + c * temp[2][1]/2 )/2 - \\\n",
    "        ( b * temp[1][1] + c * temp[2][1]/2 )/( b * temp[1][1] + c * temp[2][1]/2 + b * temp[1][0] + c * temp[2][0]/2 )/2 ;\n",
    "\n",
    "    set_remove_leakage_meas_error_check.append(result) ;\n",
    "##-------------------------------------------------------------------------------------------------------------------------\n",
    "for i in range(n2):\n",
    "\n",
    "    temp = data[f\"q_L{i}\"] ;\n",
    "    \n",
    "    result = 1 - ( a * temp[0][0] + c * temp[2][0]/2 )/( a * temp[0][0] + c * temp[2][0]/2 + a * temp[0][1] + c * temp[2][1]/2 )/2 - \\\n",
    "        ( b * temp[1][1] + c * temp[2][1]/2 )/( b * temp[1][1] + c * temp[2][1]/2 + b * temp[1][0] + c * temp[2][0]/2 )/2 ;\n",
    "\n",
    "    set_remove_leakage_meas_error_data.append(result) ;\n",
    "\n",
    "for i in range(n2):\n",
    "\n",
    "    temp = data[f\"q_R{i}\"] ;\n",
    "    \n",
    "    result = 1 - ( a * temp[0][0] + c * temp[2][0]/2 )/( a * temp[0][0] + c * temp[2][0]/2 + a * temp[0][1] + c * temp[2][1]/2 )/2 - \\\n",
    "        ( b * temp[1][1] + c * temp[2][1]/2 )/( b * temp[1][1] + c * temp[2][1]/2 + b * temp[1][0] + c * temp[2][0]/2 )/2 ;\n",
    "\n",
    "    set_remove_leakage_meas_error_data.append(result) ; "
   ]
  },
  {
   "cell_type": "code",
   "execution_count": 10,
   "id": "2f325c9f-aad4-4596-8ec5-f319b63ce301",
   "metadata": {},
   "outputs": [
    {
     "name": "stdout",
     "output_type": "stream",
     "text": [
      "The mean meas error for check qubits used in classical simulation: 0.04026634471994635\n",
      "The mean meas error for data qubits used in classical simulation: 0.032920239378199524\n"
     ]
    }
   ],
   "source": [
    "print(\"The mean meas error for check qubits used in classical simulation:\", np.mean(set_remove_leakage_meas_error_check) )\n",
    "\n",
    "print(\"The mean meas error for data qubits used in classical simulation:\", np.mean(set_remove_leakage_meas_error_data) )"
   ]
  },
  {
   "cell_type": "code",
   "execution_count": null,
   "id": "07ef73e7-975a-4770-9089-87c0009556ca",
   "metadata": {},
   "outputs": [],
   "source": []
  }
 ],
 "metadata": {
  "kernelspec": {
   "display_name": "QEC",
   "language": "python",
   "name": "qec"
  },
  "language_info": {
   "codemirror_mode": {
    "name": "ipython",
    "version": 3
   },
   "file_extension": ".py",
   "mimetype": "text/x-python",
   "name": "python",
   "nbconvert_exporter": "python",
   "pygments_lexer": "ipython3",
   "version": "3.11.9"
  }
 },
 "nbformat": 4,
 "nbformat_minor": 5
}
