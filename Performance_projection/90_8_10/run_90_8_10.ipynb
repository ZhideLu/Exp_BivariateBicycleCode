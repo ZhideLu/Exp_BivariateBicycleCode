{
 "cells": [
  {
   "cell_type": "markdown",
   "id": "8893e795",
   "metadata": {},
   "source": [
    "quantum LDPCcode [[90,8,10]]"
   ]
  },
  {
   "cell_type": "code",
   "execution_count": 3,
   "id": "bfe0012e",
   "metadata": {},
   "outputs": [],
   "source": [
    "import numpy as np\n",
    "from mip import Model, xsum, minimize, BINARY\n",
    "from mip import OptimizationStatus\n",
    "from bposd.css import css_code\n",
    "from ldpc import bposd_decoder\n",
    "import pickle\n",
    "import itertools \n",
    "from scipy.sparse import coo_matrix, hstack \n",
    "from ldpc import mod2\n",
    "from tabulate import tabulate\n",
    "import matplotlib.pyplot as plt"
   ]
  },
  {
   "cell_type": "code",
   "execution_count": 4,
   "id": "ac5d2849",
   "metadata": {},
   "outputs": [],
   "source": [
    "import multiprocessing\n",
    "import subprocess\n",
    "import sys\n",
    "import os\n",
    "import itertools"
   ]
  },
  {
   "cell_type": "markdown",
   "id": "0125a52f",
   "metadata": {},
   "source": [
    "## Code construction"
   ]
  },
  {
   "cell_type": "code",
   "execution_count": 5,
   "id": "ab0dc0b8",
   "metadata": {},
   "outputs": [],
   "source": [
    "# code [[90,8,10]]\n",
    "ell,m = 3,15\n",
    "a1,a2,a3 = 0,1,5\n",
    "b1,b2,b3 = 3,1,2\n",
    "\n",
    "k = 8 ; d = 10 ;\n",
    "n = 2*ell*m ; \n",
    "n2 = ell*m ; "
   ]
  },
  {
   "cell_type": "code",
   "execution_count": 6,
   "id": "c37e0be5",
   "metadata": {},
   "outputs": [],
   "source": [
    "list_scaling_factor = [0.3, 0.4, 0.5, 0.75, 1] ;"
   ]
  },
  {
   "cell_type": "markdown",
   "id": "e69194ec",
   "metadata": {},
   "source": [
    "### Decoders"
   ]
  },
  {
   "cell_type": "code",
   "execution_count": null,
   "id": "c16d037c",
   "metadata": {
    "scrolled": true
   },
   "outputs": [],
   "source": [
    "import subprocess\n",
    "script = \"Decoder_90_8_10.py\"\n",
    "\n",
    "processes = []\n",
    "for scaling_factor in list_scaling_factor:\n",
    "    p = subprocess.Popen([sys.executable, script, str(scaling_factor)])\n",
    "    processes.append(p)\n",
    "\n",
    "# 等待所有进程完成\n",
    "for p in processes:\n",
    "    p.wait()"
   ]
  },
  {
   "cell_type": "markdown",
   "id": "4225c202",
   "metadata": {},
   "source": [
    "### Run numerical simulation to obtain data"
   ]
  },
  {
   "cell_type": "code",
   "execution_count": null,
   "id": "483d3f9e",
   "metadata": {},
   "outputs": [],
   "source": [
    "script = \"Classical_simulation_90_8_10.py\"\n",
    "\n",
    "processes = []\n",
    "for scaling_factor in list_scaling_factor:\n",
    "    p = subprocess.Popen([sys.executable, script, str(scaling_factor)])\n",
    "    processes.append(p)\n",
    "\n",
    "# 等待所有进程完成\n",
    "for p in processes:\n",
    "    p.wait()"
   ]
  },
  {
   "cell_type": "markdown",
   "id": "98dc1fa7",
   "metadata": {},
   "source": [
    "### Perform error correction on numerical data"
   ]
  },
  {
   "cell_type": "code",
   "execution_count": null,
   "id": "ba16ea39",
   "metadata": {},
   "outputs": [],
   "source": [
    "# script = \"Error_correction_classical_simulation_90_8_10.py\"\n",
    "\n",
    "# processes = []\n",
    "# for scaling_factor in list_scaling_factor:\n",
    "#     p = subprocess.Popen([sys.executable, script, str(scaling_factor)])\n",
    "#     processes.append(p)\n",
    "\n",
    "# # 等待所有进程完成\n",
    "# for p in processes:\n",
    "#     p.wait()"
   ]
  },
  {
   "cell_type": "code",
   "execution_count": null,
   "id": "34e31407",
   "metadata": {},
   "outputs": [],
   "source": [
    "num_samples = 40000 ;\n",
    "num_per_run = 400;\n",
    "num_iter_collect = int(num_samples / 400) ;"
   ]
  },
  {
   "cell_type": "code",
   "execution_count": null,
   "id": "ae26f9b3-e42e-4085-bf72-565bab65bb7f",
   "metadata": {},
   "outputs": [],
   "source": [
    "import time\n",
    "start_time = time.time()  \n",
    "##-------------------------------------------------------------------------------\n",
    "\n",
    "script = \"Error_correction_classical_simulation_90_8_10.py\"\n",
    "\n",
    "def run_error_correction(scaling_factor, iter_collect):\n",
    "    subprocess.run([sys.executable, script, str(scaling_factor), str(iter_collect)])\n",
    "\n",
    "\n",
    "args = list(itertools.product(list_scaling_factor, range(num_iter_collect)))\n",
    "\n",
    "with multiprocessing.Pool(processes=150) as pool:\n",
    "    pool.starmap(run_error_correction, args)\n",
    "\n",
    "\n",
    "##-------------------------------------------------------------------------------\n",
    "end_time = time.time()    \n",
    "print(f\"The total running time: {end_time - start_time:.2f} seconds\")"
   ]
  },
  {
   "cell_type": "code",
   "execution_count": null,
   "id": "f63934c2",
   "metadata": {},
   "outputs": [],
   "source": []
  },
  {
   "cell_type": "code",
   "execution_count": null,
   "id": "ae907612",
   "metadata": {},
   "outputs": [],
   "source": []
  }
 ],
 "metadata": {
  "kernelspec": {
   "display_name": "QEC",
   "language": "python",
   "name": "qec"
  },
  "language_info": {
   "codemirror_mode": {
    "name": "ipython",
    "version": 3
   },
   "file_extension": ".py",
   "mimetype": "text/x-python",
   "name": "python",
   "nbconvert_exporter": "python",
   "pygments_lexer": "ipython3",
   "version": "3.11.9"
  }
 },
 "nbformat": 4,
 "nbformat_minor": 5
}
