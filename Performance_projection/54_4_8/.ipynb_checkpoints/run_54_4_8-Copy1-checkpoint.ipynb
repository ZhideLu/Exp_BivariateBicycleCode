{
 "cells": [
  {
   "cell_type": "markdown",
   "id": "d18930b0-503a-4634-bb36-b0f390630c0b",
   "metadata": {},
   "source": [
    "quantum LDPCcode [[54,4,8]]"
   ]
  },
  {
   "cell_type": "code",
   "execution_count": 4,
   "id": "95dab53b-e72a-4991-a5a4-d85871ca22cc",
   "metadata": {},
   "outputs": [],
   "source": [
    "import numpy as np\n",
    "from mip import Model, xsum, minimize, BINARY\n",
    "from mip import OptimizationStatus\n",
    "from bposd.css import css_code\n",
    "from ldpc import bposd_decoder\n",
    "import pickle\n",
    "import itertools \n",
    "from scipy.sparse import coo_matrix, hstack \n",
    "from ldpc import mod2\n",
    "from tabulate import tabulate\n",
    "import matplotlib.pyplot as plt\n",
    "import sys"
   ]
  },
  {
   "cell_type": "markdown",
   "id": "116dbcba-e5b8-4ec0-9d63-ceebfde5bdc1",
   "metadata": {},
   "source": [
    "## Code construction"
   ]
  },
  {
   "cell_type": "code",
   "execution_count": 2,
   "id": "d7cd518f-dac0-48c5-8396-8a2e5f7e3eea",
   "metadata": {},
   "outputs": [],
   "source": [
    "# [[54,4,8]]\n",
    "ell,m = 9, 3\n",
    "a1,a2,a3 = 1, 0, 2\n",
    "b1,b2,b3 = 1, 6, 5\n",
    "\n",
    "k = 4 ; d = 8 ;\n",
    "n = 2*ell*m ; \n",
    "n2 = ell*m ; "
   ]
  },
  {
   "cell_type": "code",
   "execution_count": null,
   "id": "94eaca15-0223-4fa0-8a21-040139f19f98",
   "metadata": {},
   "outputs": [],
   "source": []
  },
  {
   "cell_type": "markdown",
   "id": "d0023045-3bbf-43d1-ac51-44a7ab831222",
   "metadata": {},
   "source": [
    "### Decoders"
   ]
  },
  {
   "cell_type": "code",
   "execution_count": null,
   "id": "3f8c5016-100a-44b6-8852-5521cf1eb053",
   "metadata": {
    "scrolled": true
   },
   "outputs": [],
   "source": [
    "import subprocess\n",
    "script = \"Decoder_54_4_8.py\"\n",
    "list_scaling_factor = [0.4, 0.6, 0.8, 1, 1.2, 1.3] ;\n",
    "\n",
    "processes = []\n",
    "for scaling_factor in list_scaling_factor:\n",
    "    p = subprocess.Popen([sys.executable, script, str(scaling_factor)])\n",
    "    processes.append(p)\n",
    "\n",
    "# 等待所有进程完成\n",
    "for p in processes:\n",
    "    p.wait()"
   ]
  },
  {
   "cell_type": "markdown",
   "id": "bf9ce42a-6c0d-4e15-990d-472179356231",
   "metadata": {},
   "source": [
    "### Run numerical simulation to obtain data"
   ]
  },
  {
   "cell_type": "code",
   "execution_count": null,
   "id": "6261bac1-1758-4ca6-817e-7a88989f857e",
   "metadata": {},
   "outputs": [],
   "source": [
    "script = \"Classical_simulation_54_4_8.py\"\n",
    "\n",
    "processes = []\n",
    "for scaling_factor in list_scaling_factor:\n",
    "    p = subprocess.Popen([sys.executable, script, str(scaling_factor)])\n",
    "    processes.append(p)\n",
    "\n",
    "# 等待所有进程完成\n",
    "for p in processes:\n",
    "    p.wait()"
   ]
  },
  {
   "cell_type": "markdown",
   "id": "f6482096-e977-4441-b92f-3ca6bd1a103c",
   "metadata": {},
   "source": [
    "### Perform error correction on numerical data"
   ]
  },
  {
   "cell_type": "code",
   "execution_count": null,
   "id": "4f604211-9972-4f00-bdae-cf03e4efbff0",
   "metadata": {},
   "outputs": [],
   "source": [
    "script = \"Error_correction_classical_simulation_54_4_8.py\"\n",
    "\n",
    "processes = []\n",
    "for scaling_factor in list_scaling_factor:\n",
    "    p = subprocess.Popen([sys.executable, script, str(scaling_factor)])\n",
    "    processes.append(p)\n",
    "\n",
    "# 等待所有进程完成\n",
    "for p in processes:\n",
    "    p.wait()"
   ]
  },
  {
   "cell_type": "code",
   "execution_count": null,
   "id": "5888b146-f88b-4f96-b4b8-75f04c29d1b9",
   "metadata": {},
   "outputs": [],
   "source": []
  },
  {
   "cell_type": "code",
   "execution_count": null,
   "id": "55958287-c83a-4fe2-b8b3-5e53fd3e8db3",
   "metadata": {},
   "outputs": [],
   "source": []
  },
  {
   "cell_type": "code",
   "execution_count": null,
   "id": "6d3c9e50-bcae-495b-91a0-eb83a0e8cdf2",
   "metadata": {},
   "outputs": [],
   "source": []
  },
  {
   "cell_type": "code",
   "execution_count": null,
   "id": "583fe0bd-b10e-4aa7-b032-3b9c52d41553",
   "metadata": {},
   "outputs": [],
   "source": []
  }
 ],
 "metadata": {
  "kernelspec": {
   "display_name": "QEC",
   "language": "python",
   "name": "qec"
  },
  "language_info": {
   "codemirror_mode": {
    "name": "ipython",
    "version": 3
   },
   "file_extension": ".py",
   "mimetype": "text/x-python",
   "name": "python",
   "nbconvert_exporter": "python",
   "pygments_lexer": "ipython3",
   "version": "3.11.9"
  }
 },
 "nbformat": 4,
 "nbformat_minor": 5
}
