{
 "cells": [
  {
   "cell_type": "markdown",
   "metadata": {},
   "source": [
    "#\n",
    "1. No reset. We need to transfer the original measurement outcomes to the case with reset. \n",
    "2. The parity check in the final cycle is obtained from data qubit measurements."
   ]
  },
  {
   "cell_type": "code",
   "execution_count": 282,
   "metadata": {},
   "outputs": [],
   "source": [
    "import pickle\n",
    "import numpy as np\n",
    "import matplotlib.pyplot as plt"
   ]
  },
  {
   "cell_type": "code",
   "execution_count": 283,
   "metadata": {},
   "outputs": [],
   "source": [
    "num_cycles = 1 ;\n",
    "num_initial = 10 ;\n",
    "\n",
    "num_L = 9 ; num_R = 9 ;\n",
    "index_Z_check = [0,1,2,5,6,7,8] ;\n",
    "index_X_check = [0,1,3,4,5,6,7] ;"
   ]
  },
  {
   "cell_type": "markdown",
   "metadata": {},
   "source": [
    "## logical Z protection"
   ]
  },
  {
   "cell_type": "code",
   "execution_count": 284,
   "metadata": {},
   "outputs": [
    {
     "data": {
      "text/plain": [
       "dict_keys(['cycle_num', 'stats', 'random_initial_state', 'states', 'final_cycle_states'])"
      ]
     },
     "execution_count": 284,
     "metadata": {},
     "output_type": "execute_result"
    }
   ],
   "source": [
    "with open (f'leakage_remove_ldpc_test_result_logical_Z_cycle1','rb') as f:\n",
    "    data_z = pickle.load(f)\n",
    "data_z.keys()"
   ]
  },
  {
   "cell_type": "code",
   "execution_count": null,
   "metadata": {},
   "outputs": [],
   "source": []
  },
  {
   "cell_type": "code",
   "execution_count": 285,
   "metadata": {},
   "outputs": [],
   "source": [
    "# Z check matrix for the BB code [[18,4,4]] \n",
    "hz = np.array([[1, 0, 1, 1, 0, 0, 0, 0, 0, 1, 1, 0, 0, 0, 0, 1, 0, 0],\n",
    "       [1, 1, 0, 0, 1, 0, 0, 0, 0, 0, 1, 1, 0, 0, 0, 0, 1, 0],\n",
    "       [0, 1, 1, 0, 0, 1, 0, 0, 0, 1, 0, 1, 0, 0, 0, 0, 0, 1],\n",
    "       [0, 0, 0, 0, 1, 1, 0, 0, 1, 0, 0, 1, 1, 0, 1, 0, 0, 0],\n",
    "       [1, 0, 0, 0, 0, 0, 1, 0, 1, 0, 0, 0, 1, 0, 0, 1, 1, 0],\n",
    "       [0, 1, 0, 0, 0, 0, 1, 1, 0, 0, 0, 0, 0, 1, 0, 0, 1, 1],\n",
    "       [0, 0, 1, 0, 0, 0, 0, 1, 1, 0, 0, 0, 0, 0, 1, 1, 0, 1]]) ;\n",
    "\n",
    "lz = np. array([[1, 0, 1, 1, 1, 0, 0, 0, 1, 1, 0, 0, 0, 0, 0, 0, 0, 0],\n",
    "         [1, 0, 1, 0, 1, 1, 1, 1, 0, 0, 0, 0, 0, 0, 0, 0, 0, 0],\n",
    "         [0, 1, 1, 0, 0, 0, 0, 1, 0, 0, 1, 0, 0, 0, 0, 0, 0, 0],\n",
    "         [1, 1, 0, 0, 0, 0, 1, 0, 0, 1, 0, 0, 0, 0, 0, 0, 0, 0]])"
   ]
  },
  {
   "cell_type": "code",
   "execution_count": null,
   "metadata": {},
   "outputs": [],
   "source": []
  },
  {
   "cell_type": "code",
   "execution_count": 286,
   "metadata": {},
   "outputs": [
    {
     "name": "stdout",
     "output_type": "stream",
     "text": [
      "{'q_L0': 1, 'q_L1': 0, 'q_L2': 0, 'q_L3': 1, 'q_L4': 1, 'q_L5': 1, 'q_L6': 1, 'q_L7': 1, 'q_L8': 1, 'q_R0': 1, 'q_R1': 0, 'q_R2': 0, 'q_R3': 1, 'q_R4': 1, 'q_R5': 0, 'q_R6': 0, 'q_R7': 1, 'q_R8': 0}\n"
     ]
    }
   ],
   "source": [
    "# data qubit的初态 共有 M 个初态\n",
    "random_initial_state_z = data_z['random_initial_state']\n",
    "assert(num_initial == random_initial_state_z.shape[0])\n",
    "print(random_initial_state_z[0])\n",
    "\n",
    "# 按照L0...L8,R0...R8的顺序排列\n",
    "for iter in range( num_initial ) :\n",
    "    random_initial_state_z[iter] = dict(sorted(random_initial_state_z[iter].items(), key=lambda x: (x[0][2:])))\n",
    "\n",
    "#将 dict 转化为 list\n",
    "list_initial_z = [] ;\n",
    "for iter in range( num_initial  ) :\n",
    "    list_initial_z.append( list(random_initial_state_z[iter].values()) )"
   ]
  },
  {
   "cell_type": "code",
   "execution_count": 287,
   "metadata": {},
   "outputs": [],
   "source": [
    "# list_initial_z"
   ]
  },
  {
   "cell_type": "code",
   "execution_count": null,
   "metadata": {},
   "outputs": [],
   "source": []
  },
  {
   "cell_type": "code",
   "execution_count": 288,
   "metadata": {},
   "outputs": [
    {
     "data": {
      "text/plain": [
       "array([1, 1, 0, 0, 1, 0, 0])"
      ]
     },
     "execution_count": 288,
     "metadata": {},
     "output_type": "execute_result"
    }
   ],
   "source": [
    "#第 s=0 个初始态，第 p=1  数据\n",
    "s = 0  # s <= 10\n",
    "p = 1  # p <= 1200\n",
    "initial_z_parity = hz @ np.array(list_initial_z[s]).T % 2\n",
    "initial_z_parity "
   ]
  },
  {
   "cell_type": "code",
   "execution_count": 289,
   "metadata": {},
   "outputs": [
    {
     "data": {
      "text/plain": [
       "array([1, 1, 1, 1])"
      ]
     },
     "execution_count": 289,
     "metadata": {},
     "output_type": "execute_result"
    }
   ],
   "source": [
    "initial_logical_z_outcome = (lz @ list_initial_z[s] ) % 2\n",
    "initial_logical_z_outcome"
   ]
  },
  {
   "cell_type": "code",
   "execution_count": 290,
   "metadata": {},
   "outputs": [
    {
     "data": {
      "text/plain": [
       "[[1.0, 0.0, 0.0, 1.0, 1.0, 0.0, 0.0]]"
      ]
     },
     "execution_count": 290,
     "metadata": {},
     "output_type": "execute_result"
    }
   ],
   "source": [
    "# 各个 cycle 的 Z check 的测量结果\n",
    "[ [data_z['states'][f'cycle_{j}'][f'q_Z{i}'][s][p] for i in index_Z_check ] for j in range(1, 1+num_cycles) ]"
   ]
  },
  {
   "cell_type": "code",
   "execution_count": 291,
   "metadata": {},
   "outputs": [
    {
     "data": {
      "text/plain": [
       "array([1., 0., 0., 1., 1., 0., 0.])"
      ]
     },
     "execution_count": 291,
     "metadata": {},
     "output_type": "execute_result"
    }
   ],
   "source": [
    "# 最后一个 cycle 的 Z check 的测量结果 \n",
    "final_state_z = [ data_z['final_cycle_states'][f'q_L{i}'][s][p]  for i in range(num_L) ] + \\\n",
    "              [ data_z['final_cycle_states'][f'q_R{i}'][s][p]  for i in range(num_R) ]\n",
    "hz @ np.array(final_state_z).T % 2"
   ]
  },
  {
   "cell_type": "code",
   "execution_count": 292,
   "metadata": {},
   "outputs": [],
   "source": [
    "# # 最后一个 cycle 的 Z check 的测量结果\n",
    "# final_state_z = [ data_z['states'][f'cycle_{num_cycles}'][f'q_L{i}'][s][p]  for i in range(num_L) ] + \\\n",
    "#               [ data_z['states'][f'cycle_{num_cycles}'][f'q_R{i}'][s][p]  for i in range(num_R) ]\n",
    "# hz @ np.array(final_state_z).T % 2"
   ]
  },
  {
   "cell_type": "code",
   "execution_count": null,
   "metadata": {
    "scrolled": true
   },
   "outputs": [],
   "source": []
  },
  {
   "cell_type": "code",
   "execution_count": 293,
   "metadata": {},
   "outputs": [],
   "source": [
    "num_trials_z = len(data_z['states']['cycle_1'][f'q_Z{1}'][s]) ;\n",
    "# record the Z parity check outcomes and the logical Z outcomes\n",
    "dict_cycle_z_parity = {} ;\n",
    "for i in range(1, num_cycles+1):\n",
    "    dict_cycle_z_parity[f'cycle_{i}'] = [] ;\n",
    "\n",
    "dict_cycle_z_parity['final'] = [] ;\n",
    "\n",
    "final_logical_z_outcome = [] ;\n",
    "\n",
    "for p in range(num_trials_z):\n",
    "\n",
    "    dict_cycle_z_parity['cycle_1'].append( np.array( [data_z['states']['cycle_1'][f'q_Z{i}'][s][p] for i in index_Z_check  ] )  )\n",
    "\n",
    "    for cycle in range(2, 1+num_cycles):\n",
    "        current = np.array([data_z['states'][f'cycle_{cycle}'][f'q_Z{i}'][s][p] for i in index_Z_check  ]) ;\n",
    "        former = np.array([data_z['states'][f'cycle_{cycle-1}'][f'q_Z{i}'][s][p] for i in index_Z_check  ]) ;    \n",
    "        dict_cycle_z_parity[f'cycle_{cycle}'].append( (  current + former ) %2  )\n",
    "\n",
    "    # final_state_z = [ data_z['states'][f'cycle_{num_cycles}'][f'q_L{i}'][s][p]  for i in range(num_L) ] + \\\n",
    "    #              [ data_z['states'][f'cycle_{num_cycles}'][f'q_R{i}'][s][p]  for i in range(num_R) ]  ;\n",
    "    \n",
    "    final_state_z = [ data_z['final_cycle_states'][f'q_L{i}'][s][p]  for i in range(num_L) ] + \\\n",
    "                 [ data_z['final_cycle_states'][f'q_R{i}'][s][p]  for i in range(num_R) ]  ;\n",
    "\n",
    "    dict_cycle_z_parity['final'].append( hz @ np.array(final_state_z).T % 2 ) ;   \n",
    "\n",
    "    final_logical_z_outcome.append(   (lz @ final_state_z - initial_logical_z_outcome) % 2   )"
   ]
  },
  {
   "cell_type": "code",
   "execution_count": null,
   "metadata": {},
   "outputs": [],
   "source": []
  },
  {
   "cell_type": "code",
   "execution_count": 294,
   "metadata": {
    "scrolled": true
   },
   "outputs": [],
   "source": [
    "# record the deventions\n",
    "# a error devent occur if the current parity is different from the former one\n",
    "\n",
    "dict_cycle_z_devents = {} ;\n",
    "dict_cycle_z_devents['cycle_1'] = [ (arr + initial_z_parity) %2 for arr in dict_cycle_z_parity['cycle_1'] ]\n",
    "\n",
    "for cycle in range(2, num_cycles+1):\n",
    "    \n",
    "    dict_cycle_z_devents[f'cycle_{cycle}'] = \\\n",
    "            [(a + b) %2 for a, b in zip(dict_cycle_z_parity[f'cycle_{cycle}'], dict_cycle_z_parity[f'cycle_{cycle-1}'])] ;\n",
    "\n",
    "dict_cycle_z_devents['final'] = [(a + b) %2 for a, b in zip(dict_cycle_z_parity['final'], dict_cycle_z_parity[f'cycle_{num_cycles}'])]"
   ]
  },
  {
   "cell_type": "code",
   "execution_count": null,
   "metadata": {},
   "outputs": [],
   "source": []
  },
  {
   "cell_type": "markdown",
   "metadata": {},
   "source": [
    "### Visualize the results"
   ]
  },
  {
   "cell_type": "code",
   "execution_count": 295,
   "metadata": {},
   "outputs": [],
   "source": [
    "labels_z = ['Z0', 'Z1', 'Z2', 'Z5', 'Z6', 'Z7', 'Z8']\n",
    "# np.mean(np.sum(dict_cycle_z_devents['cycle_2'], axis=0)/num_trials)\n",
    "# plt.bar(labels_z, np.sum(dict_cycle_z_devents['cycle_2'], axis=0)/num_trials)"
   ]
  },
  {
   "cell_type": "code",
   "execution_count": 296,
   "metadata": {},
   "outputs": [
    {
     "name": "stdout",
     "output_type": "stream",
     "text": [
      "The mean probability of error detection in cycle 1 is: 0.35612023551286026\n",
      "The mean probability of error detection in cycle 2 is: 0.33157731639293464\n"
     ]
    }
   ],
   "source": [
    "z_list_detect_prob = [np.mean(np.sum(dict_cycle_z_devents[f'cycle_{cycle}'], axis=0)/num_trials_z) for cycle in range(1, num_cycles+1)]\n",
    "z_list_detect_prob += [np.mean(np.sum(dict_cycle_z_devents['final'], axis=0)/num_trials_z) ]\n",
    "\n",
    "for cycle, prob in  zip(range(1, num_cycles+2), z_list_detect_prob):\n",
    "    print( f'The mean probability of error detection in cycle {cycle} is:', prob )"
   ]
  },
  {
   "cell_type": "code",
   "execution_count": 297,
   "metadata": {},
   "outputs": [
    {
     "data": {
      "text/plain": [
       "[<matplotlib.lines.Line2D at 0x7f54268e5890>]"
      ]
     },
     "execution_count": 297,
     "metadata": {},
     "output_type": "execute_result"
    },
    {
     "data": {
      "image/png": "[encoded data removed]",
      "text/plain": [
       "<Figure size 640x480 with 1 Axes>"
      ]
     },
     "metadata": {},
     "output_type": "display_data"
    }
   ],
   "source": [
    "plt.plot(range(1, num_cycles+2), z_list_detect_prob)"
   ]
  },
  {
   "cell_type": "code",
   "execution_count": null,
   "metadata": {},
   "outputs": [],
   "source": []
  },
  {
   "cell_type": "markdown",
   "metadata": {},
   "source": [
    "## Error correction"
   ]
  },
  {
   "cell_type": "code",
   "execution_count": 298,
   "metadata": {},
   "outputs": [],
   "source": [
    "import numpy as np\n",
    "from mip import Model, xsum, minimize, BINARY\n",
    "from mip import OptimizationStatus\n",
    "from bposd.css import css_code\n",
    "from ldpc import bposd_decoder\n",
    "import pickle\n",
    "import itertools\n",
    "from ldpc import bposd_decoder \n",
    "from scipy.sparse import coo_matrix, hstack \n",
    "from ldpc import mod2\n",
    "from tabulate import tabulate"
   ]
  },
  {
   "cell_type": "code",
   "execution_count": 299,
   "metadata": {},
   "outputs": [],
   "source": [
    "from defined_functions_no_reset import ell, m, n, n2, A, B, AT, BT, num_end\n",
    "from defined_functions_no_reset import distance_test, rank2, get_connection_Tanner, get_layout, get_SM_circuit2\n",
    "from defined_functions_no_reset import simulate_circuitZ, simulate_circuitX, simulate_Zerror_syndrome, simulate_Xerror_syndrome\n",
    "from defined_functions_no_reset import get_Set_Znoisy_circuits, get_Set_Xnoisy_circuits\n",
    "from defined_functions_no_reset import decoding_Z_matrix, decoding_X_matrix"
   ]
  },
  {
   "cell_type": "markdown",
   "metadata": {},
   "source": [
    "### code property"
   ]
  },
  {
   "cell_type": "code",
   "execution_count": 300,
   "metadata": {},
   "outputs": [
    {
     "name": "stdout",
     "output_type": "stream",
     "text": [
      "Testing CSS code...\n",
      "<Unnamed CSS code>, (3,6)-[[18,4,nan]]\n",
      " -Block dimensions: Pass\n",
      " -PCMs commute hz@hx.T==0: Pass\n",
      " -PCMs commute hx@hz.T==0: Pass\n",
      " -lx \\in ker{hz} AND lz \\in ker{hx}: Pass\n",
      " -lx and lz anticommute: Pass\n",
      " -<Unnamed CSS code> is a valid CSS code w/ params (3,6)-[[18,4,nan]]\n"
     ]
    },
    {
     "data": {
      "text/plain": [
       "True"
      ]
     },
     "execution_count": 300,
     "metadata": {},
     "output_type": "execute_result"
    }
   ],
   "source": [
    "# [[18, 4, 4]]\n",
    "ell,m = 3, 3\n",
    "a1,a2,a3 = 1, 0, 2\n",
    "b1,b2,b3 = 1, 0, 2\n",
    "\n",
    "# code length\n",
    "n = 2*m*ell;  n2 = m*ell\n",
    "\n",
    "I_ell = np.identity(ell,dtype=int) ; I_m = np.identity(m,dtype=int); I = np.identity(ell*m,dtype=int)\n",
    "x = {} ;  y = {}\n",
    "\n",
    "for i in range(ell):\n",
    "\tx[i] = np.kron(np.roll(I_ell,i,axis=1),I_m)\n",
    "for i in range(m):\n",
    "\ty[i] = np.kron(I_ell,np.roll(I_m,i,axis=1))\n",
    "\n",
    "A = (x[a1%ell] + y[a2%m] + y[a3%m]) % 2\n",
    "B = (y[b1%m] + x[b2%ell] + x[b3%ell]) % 2\n",
    "\n",
    "A1 = x[a1%ell]; A2 = y[a2%m]; A3 = y[a3%m]\n",
    "B1 = y[b1%m]; B2 = x[b2%ell]; B3 = x[b3%ell]\n",
    "\n",
    "AT = np.transpose(A) ; BT = np.transpose(B)\n",
    "\n",
    "# Testing CSS code\n",
    "hx = np.hstack((A,B));  hz = np.hstack((BT,AT))\n",
    "\n",
    "remove_X_list = [2,8] ;  remove_Z_list = [3,4] ;\n",
    "\n",
    "hx = np.delete(hx, remove_X_list, axis=0) ; hz = np.delete(hz, remove_Z_list, axis=0)\n",
    "\n",
    "# number of logical qubits\n",
    "k = n - rank2(hx) - rank2(hz)\n",
    "\n",
    "qcode=css_code(hx=hx, hz=hz)\n",
    "print('Testing CSS code...')\n",
    "qcode.test()"
   ]
  },
  {
   "cell_type": "code",
   "execution_count": 301,
   "metadata": {},
   "outputs": [
    {
     "data": {
      "text/plain": [
       "array([[1, 0, 0, 0],\n",
       "       [0, 1, 0, 0],\n",
       "       [0, 0, 1, 0],\n",
       "       [0, 0, 0, 1]])"
      ]
     },
     "execution_count": 301,
     "metadata": {},
     "output_type": "execute_result"
    }
   ],
   "source": [
    "# logical operator\n",
    "lz = qcode.lz ;  lx = qcode.lx\n",
    "# we choose a set of basis such that each logical X anticommute with its corresponding logical Z.\n",
    "lz[1] = (lz[1]+lz[2]) %2 ; lz[3] = (lz[3]+lz[0]) %2\n",
    "\n",
    "lz_copy = lz.copy()\n",
    "lz_copy[0] = lz[1] ;  lz_copy[1] = lz[0] ;  lz_copy[2] = lz[3] ;  lz_copy[3] = lz[2] ;\n",
    "lz = lz_copy\n",
    "(lx@lz.T) %2"
   ]
  },
  {
   "cell_type": "code",
   "execution_count": 302,
   "metadata": {},
   "outputs": [
    {
     "name": "stdout",
     "output_type": "stream",
     "text": [
      "Computing code distance...\n",
      "Code parameters: n,k,d= 18 4 4\n"
     ]
    }
   ],
   "source": [
    "# Distance_test\n",
    "print('Computing code distance...')\n",
    "d = n\n",
    "for i in range(k):\n",
    "\tw = distance_test(hz,lz[i,:])\n",
    "\t# print('Logical qubit=',i,'Distance=',w)\n",
    "\td = min(d,w)\n",
    "    \n",
    "for i in range(k):\n",
    "\tw = distance_test(hx,lx[i,:])\n",
    "\t# print('Logical qubit=',i,'Distance=',w)\n",
    "\td = min(d,w)\n",
    "print('Code parameters: n,k,d=',n,k,d)"
   ]
  },
  {
   "cell_type": "code",
   "execution_count": null,
   "metadata": {},
   "outputs": [],
   "source": []
  },
  {
   "cell_type": "code",
   "execution_count": 303,
   "metadata": {},
   "outputs": [],
   "source": [
    "# the order of two-qubit gates\n",
    "sX = ['idle', 'idle', 1, 4, 3, 5, 0, 2] ; sZ = ['idle', 3, 5, 0, 1, 2, 4, 'idle'] ;\n",
    "\n",
    "# Connections of edges in the Tanner graph\n",
    "lin_order, data_qubits, Xchecks, Zchecks, nbs = get_connection_Tanner(remove_X_list, remove_Z_list, n2)"
   ]
  },
  {
   "cell_type": "code",
   "execution_count": 304,
   "metadata": {},
   "outputs": [],
   "source": [
    "cycle_new = get_SM_circuit2(remove_X_list, remove_Z_list, lin_order, data_qubits, Xchecks, Zchecks, nbs, sX, sZ ) ;\n",
    "\n",
    "cycle_append = []\n",
    "for q in data_qubits:\n",
    "    cycle_append.append(('final',q))"
   ]
  },
  {
   "cell_type": "code",
   "execution_count": 305,
   "metadata": {},
   "outputs": [
    {
     "data": {
      "text/plain": [
       "244"
      ]
     },
     "execution_count": 305,
     "metadata": {},
     "output_type": "execute_result"
    }
   ],
   "source": [
    "len(cycle_new)"
   ]
  },
  {
   "cell_type": "code",
   "execution_count": null,
   "metadata": {},
   "outputs": [],
   "source": []
  },
  {
   "cell_type": "code",
   "execution_count": null,
   "metadata": {},
   "outputs": [],
   "source": []
  },
  {
   "cell_type": "code",
   "execution_count": 309,
   "metadata": {},
   "outputs": [],
   "source": [
    "# number of syndrome measurement cycles \n",
    "num_cycles = 1\n",
    "\n",
    "# full syndrome measurement circuit\n",
    "cycle_repeated = num_cycles * cycle_new[2*n2-len(remove_X_list)-len(remove_Z_list):]"
   ]
  },
  {
   "cell_type": "code",
   "execution_count": 310,
   "metadata": {
    "scrolled": true
   },
   "outputs": [],
   "source": [
    "cycle_repeated += cycle_append"
   ]
  },
  {
   "cell_type": "code",
   "execution_count": 311,
   "metadata": {
    "scrolled": true
   },
   "outputs": [
    {
     "data": {
      "text/plain": [
       "248"
      ]
     },
     "execution_count": 311,
     "metadata": {},
     "output_type": "execute_result"
    }
   ],
   "source": [
    "len(cycle_repeated)"
   ]
  },
  {
   "cell_type": "markdown",
   "metadata": {},
   "source": [
    "### decoder"
   ]
  },
  {
   "cell_type": "code",
   "execution_count": 312,
   "metadata": {},
   "outputs": [],
   "source": [
    "# depolarizing noise model \n",
    "error_rate_init = 0.003\n",
    "error_rate_idle = 0.01\n",
    "error_rate_cnot = 0.02\n",
    "error_rate_meas = 0.02\n",
    "error_final = 0.00\n",
    "\n",
    "# Setup BP-OSD decoder parameters\n",
    "my_bp_method = \"ms\"\n",
    "my_max_iter = 10000\n",
    "my_osd_method = \"osd_cs\"\n",
    "my_osd_order = 7\n",
    "my_ms_scaling_factor = 0"
   ]
  },
  {
   "cell_type": "code",
   "execution_count": 313,
   "metadata": {},
   "outputs": [
    {
     "name": "stdout",
     "output_type": "stream",
     "text": [
      "Number of noisy circuits= 409\n"
     ]
    }
   ],
   "source": [
    "# Generating noisy circuits with a singe Z-type faulty operation\n",
    "circuitsZ, ProbZ = get_Set_Znoisy_circuits(cycle_repeated,error_rate_init,error_rate_idle, error_rate_cnot,error_rate_meas,error_final)\n",
    "num_errZ=len(circuitsZ)\n",
    "print('Number of noisy circuits=',num_errZ)"
   ]
  },
  {
   "cell_type": "code",
   "execution_count": 314,
   "metadata": {},
   "outputs": [
    {
     "name": "stdout",
     "output_type": "stream",
     "text": [
      "Number of noisy circuits= 409\n"
     ]
    }
   ],
   "source": [
    "# Generating noisy circuits with a singe X-type faulty operation\n",
    "circuitsX, ProbX = get_Set_Xnoisy_circuits(cycle_repeated, error_rate_init,error_rate_idle,error_rate_cnot,error_rate_meas,error_final)\n",
    "num_errX=len(circuitsX)\n",
    "print('Number of noisy circuits=', num_errX)"
   ]
  },
  {
   "cell_type": "code",
   "execution_count": 315,
   "metadata": {},
   "outputs": [
    {
     "name": "stdout",
     "output_type": "stream",
     "text": [
      "Number of distinct Z-syndrome histories= 89\n",
      "Number of distinct X-syndrome histories= 89\n"
     ]
    }
   ],
   "source": [
    "channel_probsZ, HZ, HdecZ, HZdict = decoding_Z_matrix(circuitsZ, ProbZ, num_cycles, cycle_new, lin_order, n, k, data_qubits,  \\\n",
    "                                                      Xchecks, lx, remove_X_list, remove_Z_list)\n",
    "\n",
    "channel_probsX, HX, HdecX, HXdict = decoding_X_matrix(circuitsX, ProbX, num_cycles, cycle_new, lin_order, n, k, data_qubits,  \\\n",
    "                                                      Zchecks, lz, remove_X_list, remove_Z_list)"
   ]
  },
  {
   "cell_type": "code",
   "execution_count": 316,
   "metadata": {},
   "outputs": [],
   "source": [
    "# BP-OSD decoder\n",
    "bpdX=bposd_decoder(\n",
    "    HdecX, #the parity check matrix\n",
    "    channel_probs=channel_probsX, #assign error_rate to each qubit. This will override \"error_rate\" input variable\n",
    "    max_iter=my_max_iter, #the maximum number of iterations for BP)\n",
    "    bp_method=my_bp_method,\n",
    "    ms_scaling_factor=my_ms_scaling_factor, #min sum scaling factor. If set to zero the variable scaling factor method is used\n",
    "    osd_method=my_osd_method, #the OSD method. Choose from:  1) \"osd_e\", \"osd_cs\", \"osd0\"\n",
    "    osd_order=my_osd_order #the osd search depth\n",
    "    )\n",
    "\n",
    "bpdZ=bposd_decoder(\n",
    "    HdecZ, #the parity check matrix\n",
    "    channel_probs=channel_probsZ, #assign error_rate to each qubit. This will override \"error_rate\" input variable\n",
    "    max_iter=my_max_iter, #the maximum number of iterations for BP)\n",
    "    bp_method=my_bp_method,\n",
    "    ms_scaling_factor=my_ms_scaling_factor, #min sum scaling factor. If set to zero the variable scaling factor method is used\n",
    "    osd_method=\"osd_cs\", #the OSD method. Choose from:  1) \"osd_e\", \"osd_cs\", \"osd0\"\n",
    "    osd_order=my_osd_order #the osd search depth\n",
    "    )"
   ]
  },
  {
   "cell_type": "markdown",
   "metadata": {},
   "source": [
    "### decoding the experimental data"
   ]
  },
  {
   "cell_type": "code",
   "execution_count": 321,
   "metadata": {},
   "outputs": [],
   "source": [
    "Xerror_syndrome_history = [np.hstack((arr)) for arr in zip(*dict_cycle_z_devents.values())] ;\n",
    "# final_logical_z_outcome"
   ]
  },
  {
   "cell_type": "code",
   "execution_count": null,
   "metadata": {},
   "outputs": [],
   "source": []
  },
  {
   "cell_type": "code",
   "execution_count": 318,
   "metadata": {},
   "outputs": [],
   "source": [
    "# correct X-type error (Z checks)\n",
    "X_good_trials=0\n",
    "X_good_list = [0] * k  ;\n",
    "\n",
    "X_no_correction_good_list = [0] * k ;\n",
    "X_no_correction_good_trials = 0\n",
    "\n",
    "for trial in range(num_trials_z):\n",
    "    \n",
    "    syndrome_history = Xerror_syndrome_history[trial]         # experimental data\n",
    "    syndrome_final_logical = final_logical_z_outcome[trial]   # experimental data\n",
    "    \n",
    "    X_no_correction_good_list += ( syndrome_final_logical == [0] * k   )\n",
    "    if np.array_equal( syndrome_final_logical, [0] * k  ):\n",
    "        assert(  all(cc == 0 for cc in syndrome_final_logical )  )\n",
    "        X_no_correction_good_trials+=1\n",
    "\n",
    "    bpdX.decode(syndrome_history)\n",
    "    low_weight_error = bpdX.osdw_decoding\n",
    "    \n",
    "    syndrome_history_augmented_guessed = (HX @ low_weight_error) % 2\n",
    "    syndrome_final_logical_guessed = syndrome_history_augmented_guessed[len(syndrome_history):(len(syndrome_history)+k)]  \n",
    "    \n",
    "    ec_resultX = np.array_equal(syndrome_final_logical_guessed, syndrome_final_logical)\n",
    "    correct_x = (syndrome_final_logical_guessed + syndrome_final_logical)   % 2\n",
    "    \n",
    "    X_good_list += ( correct_x == [0] * k   )\n",
    "\n",
    "    if ec_resultX:\n",
    "        assert(  all(cc == 0 for cc in correct_x )  )\n",
    "        X_good_trials+=1"
   ]
  },
  {
   "cell_type": "code",
   "execution_count": 319,
   "metadata": {},
   "outputs": [
    {
     "name": "stdout",
     "output_type": "stream",
     "text": [
      "no error correction:\n",
      "Logical error over 2 cycles (four logical qubits): 0.7592190889370933\n",
      "Logical error over 2 cycles (single logical qubit): [0.42819957 0.42472885 0.29457701 0.34013015]\n",
      "\n",
      "\n",
      "error correction:\n",
      "Logical error over 2 cycles (four logical qubits): 0.5123644251626898\n",
      "Logical error over 2 cycles (single logical qubit): [0.27331887 0.26464208 0.28937093 0.2967462 ]\n"
     ]
    }
   ],
   "source": [
    "print(\"no error correction:\")\n",
    "print(f'Logical error over {num_cycles+1} cycles (four logical qubits):', 1-X_no_correction_good_trials/num_trials_z)\n",
    "print(f'Logical error over {num_cycles+1} cycles (single logical qubit):', 1-X_no_correction_good_list/num_trials_z)\n",
    "print(\"\\n\")\n",
    "print(\"error correction:\")\n",
    "print(f'Logical error over {num_cycles+1} cycles (four logical qubits):', 1-X_good_trials/num_trials_z)\n",
    "print(f'Logical error over {num_cycles+1} cycles (single logical qubit):', 1-X_good_list/num_trials_z)"
   ]
  },
  {
   "cell_type": "code",
   "execution_count": null,
   "metadata": {},
   "outputs": [],
   "source": []
  },
  {
   "cell_type": "code",
   "execution_count": 246,
   "metadata": {},
   "outputs": [
    {
     "data": {
      "text/plain": [
       "0.30169091740310994"
      ]
     },
     "execution_count": 246,
     "metadata": {},
     "output_type": "execute_result"
    }
   ],
   "source": [
    "# estimate the logical error for four logical qubits per cycle\n",
    "1-(X_good_trials/num_trials_z)**(1/(num_cycles+1))"
   ]
  },
  {
   "cell_type": "code",
   "execution_count": 259,
   "metadata": {},
   "outputs": [
    {
     "data": {
      "text/plain": [
       "0.1691069075793306"
      ]
     },
     "execution_count": 259,
     "metadata": {},
     "output_type": "execute_result"
    }
   ],
   "source": [
    "(1-(1 - 2*np.mean(1-X_good_list/num_trials_z))**(1/(num_cycles+1)))/2"
   ]
  },
  {
   "cell_type": "code",
   "execution_count": null,
   "metadata": {},
   "outputs": [],
   "source": []
  },
  {
   "cell_type": "code",
   "execution_count": 152,
   "metadata": {
    "scrolled": true
   },
   "outputs": [],
   "source": [
    "Zerror_syndrome_history = [np.hstack((arr)) for arr in zip(*dict_cycle_x_devents.values())] ;\n",
    "# final_logical_x_outcome"
   ]
  },
  {
   "cell_type": "code",
   "execution_count": 153,
   "metadata": {},
   "outputs": [],
   "source": [
    "# correct Z-type error (X checks)\n",
    "Z_good_trials = 0\n",
    "Z_good_list = [0] * k ;\n",
    "\n",
    "Z_no_correction_good_list = [0] * k ;\n",
    "Z_no_correction_good_trials = 0\n",
    "\n",
    "for trial in range(num_trials_x):\n",
    "    \n",
    "    syndrome_history = Zerror_syndrome_history[trial]\n",
    "    syndrome_final_logical = final_logical_x_outcome[trial]\n",
    "    \n",
    "    Z_no_correction_good_list += ( syndrome_final_logical == [0] * k   )\n",
    "    if np.array_equal( syndrome_final_logical, [0] * k  ):\n",
    "        assert(  all(cc == 0 for cc in syndrome_final_logical )  )\n",
    "        Z_no_correction_good_trials+=1\n",
    "\n",
    "    bpdZ.decode(syndrome_history)\n",
    "    low_weight_error = bpdZ.osdw_decoding\n",
    "    \n",
    "    syndrome_history_augmented_guessed = (HZ @ low_weight_error) % 2\n",
    "    syndrome_final_logical_guessed = syndrome_history_augmented_guessed[len(syndrome_history):(len(syndrome_history)+k)]  \n",
    "    \n",
    "    ec_resultZ = np.array_equal(syndrome_final_logical_guessed, syndrome_final_logical)\n",
    "    correct_z = (syndrome_final_logical_guessed + syndrome_final_logical)   % 2\n",
    "    \n",
    "    Z_good_list += ( correct_z == [0] * k   )\n",
    "\n",
    "    if ec_resultZ:\n",
    "        assert(  all(cc == 0 for cc in correct_z )  )\n",
    "        Z_good_trials+=1"
   ]
  },
  {
   "cell_type": "code",
   "execution_count": 154,
   "metadata": {},
   "outputs": [
    {
     "name": "stdout",
     "output_type": "stream",
     "text": [
      "no error correction:\n",
      "Logical error over 2 cycles (four logical qubits): 0.739756866276452\n",
      "Logical error over 2 cycles (single logical qubit): [0.41782981 0.40297163 0.34443944 0.41828005]\n",
      "\n",
      "\n",
      "error correction:\n",
      "Logical error over 2 cycles (four logical qubits): 0.5925258892390814\n",
      "Logical error over 2 cycles (single logical qubit): [0.33948672 0.32823053 0.31877533 0.30932013]\n"
     ]
    }
   ],
   "source": [
    "print(\"no error correction:\")\n",
    "print(f'Logical error over {num_cycles+1} cycles (four logical qubits):', 1-Z_no_correction_good_trials/num_trials_x)\n",
    "print(f'Logical error over {num_cycles+1} cycles (single logical qubit):', 1-Z_no_correction_good_list/num_trials_x)\n",
    "print(\"\\n\")\n",
    "print(\"error correction:\")\n",
    "print(f'Logical error over {num_cycles+1} cycles (four logical qubits):', 1-Z_good_trials/num_trials_x)\n",
    "print(f'Logical error over {num_cycles+1} cycles (single logical qubit):', 1-Z_good_list/num_trials_x)"
   ]
  },
  {
   "cell_type": "code",
   "execution_count": 155,
   "metadata": {},
   "outputs": [
    {
     "data": {
      "text/plain": [
       "0.361663011598953"
      ]
     },
     "execution_count": 155,
     "metadata": {},
     "output_type": "execute_result"
    }
   ],
   "source": [
    "# estimate the logical error for four logical qubits per cycle\n",
    "1-(Z_good_trials/num_trials_x)**(1/(num_cycles+1))"
   ]
  },
  {
   "cell_type": "code",
   "execution_count": null,
   "metadata": {},
   "outputs": [],
   "source": [
    "# estimate the logical error for single logical qubit per cycle"
   ]
  },
  {
   "cell_type": "code",
   "execution_count": 255,
   "metadata": {},
   "outputs": [
    {
     "data": {
      "text/plain": [
       "0.20331260074434843"
      ]
     },
     "execution_count": 255,
     "metadata": {},
     "output_type": "execute_result"
    }
   ],
   "source": [
    "(1-(1 - 2*np.mean(1-Z_good_list/num_trials_x))**(1/(num_cycles+1)))/2"
   ]
  },
  {
   "cell_type": "code",
   "execution_count": null,
   "metadata": {},
   "outputs": [],
   "source": []
  },
  {
   "cell_type": "markdown",
   "metadata": {},
   "source": [
    "## logical X protection¶"
   ]
  },
  {
   "cell_type": "code",
   "execution_count": 120,
   "metadata": {},
   "outputs": [
    {
     "data": {
      "text/plain": [
       "dict_keys(['cycle_num', 'stats', 'random_initial_state', 'states', 'final_cycle_states'])"
      ]
     },
     "execution_count": 120,
     "metadata": {},
     "output_type": "execute_result"
    }
   ],
   "source": [
    "with open (f'leakage_remove_ldpc_test_result_logical_X_cycle1','rb') as f:\n",
    "    data_x = pickle.load(f)\n",
    "data_x.keys()"
   ]
  },
  {
   "cell_type": "code",
   "execution_count": 121,
   "metadata": {},
   "outputs": [],
   "source": [
    "# X check matrix for the BB code [[18,4,4]] \n",
    "hx = np.array([[1, 0, 1, 1, 0, 0, 0, 0, 0, 1, 1, 0, 0, 0, 0, 1, 0, 0],\n",
    "       [1, 1, 0, 0, 1, 0, 0, 0, 0, 0, 1, 1, 0, 0, 0, 0, 1, 0],\n",
    "       [0, 0, 0, 1, 0, 1, 1, 0, 0, 1, 0, 0, 1, 1, 0, 0, 0, 0],\n",
    "       [0, 0, 0, 1, 1, 0, 0, 1, 0, 0, 1, 0, 0, 1, 1, 0, 0, 0],\n",
    "       [0, 0, 0, 0, 1, 1, 0, 0, 1, 0, 0, 1, 1, 0, 1, 0, 0, 0],\n",
    "       [1, 0, 0, 0, 0, 0, 1, 0, 1, 0, 0, 0, 1, 0, 0, 1, 1, 0],\n",
    "       [0, 1, 0, 0, 0, 0, 1, 1, 0, 0, 0, 0, 0, 1, 0, 0, 1, 1]])\n",
    "\n",
    "lx = np.array([[1, 0, 1, 0, 1, 1, 1, 1, 0, 0, 0, 0, 0, 0, 0, 0, 0, 0],\n",
    "       [0, 1, 1, 1, 1, 0, 1, 0, 1, 0, 0, 0, 0, 0, 0, 0, 0, 0],\n",
    "       [1, 1, 0, 0, 0, 0, 1, 0, 0, 1, 0, 0, 0, 0, 0, 0, 0, 0],\n",
    "       [1, 1, 0, 0, 1, 1, 1, 0, 0, 0, 1, 0, 0, 0, 0, 0, 0, 0]]) ;"
   ]
  },
  {
   "cell_type": "code",
   "execution_count": null,
   "metadata": {},
   "outputs": [],
   "source": []
  },
  {
   "cell_type": "code",
   "execution_count": 122,
   "metadata": {},
   "outputs": [
    {
     "name": "stdout",
     "output_type": "stream",
     "text": [
      "{'q_L0': 1, 'q_L1': 1, 'q_L2': 0, 'q_L3': 0, 'q_L4': 1, 'q_L5': 0, 'q_L6': 0, 'q_L7': 1, 'q_L8': 1, 'q_R0': 1, 'q_R1': 0, 'q_R2': 0, 'q_R3': 0, 'q_R4': 0, 'q_R5': 0, 'q_R6': 0, 'q_R7': 0, 'q_R8': 1}\n"
     ]
    }
   ],
   "source": [
    "# data qubit的初态\n",
    "random_initial_state_x = data_x['random_initial_state']\n",
    "assert(num_initial == random_initial_state_x.shape[0])\n",
    "print(random_initial_state_x[0])\n",
    "\n",
    "# 按照L0...L8,R0...R8的顺序排列\n",
    "for iter in range( num_initial ) :\n",
    "    random_initial_state_x[iter] = dict(sorted(random_initial_state_x[iter].items(), key=lambda x: (x[0][2:])))\n",
    "\n",
    "#将 dict 转化为 list\n",
    "list_initial_x = [] ;\n",
    "for iter in range( num_initial  ) :\n",
    "    list_initial_x.append( list(random_initial_state_x[iter].values()) )"
   ]
  },
  {
   "cell_type": "code",
   "execution_count": null,
   "metadata": {},
   "outputs": [],
   "source": []
  },
  {
   "cell_type": "code",
   "execution_count": 324,
   "metadata": {},
   "outputs": [
    {
     "data": {
      "text/plain": [
       "array([0, 1, 1, 0, 0, 0, 1])"
      ]
     },
     "execution_count": 324,
     "metadata": {},
     "output_type": "execute_result"
    }
   ],
   "source": [
    "#第 s=0 个初始态，第 p=1  数据\n",
    "s = 0  # \n",
    "p = 1  # p <= 1200\n",
    "initial_x_parity = hx @ np.array(list_initial_x[s]).T % 2\n",
    "initial_x_parity "
   ]
  },
  {
   "cell_type": "code",
   "execution_count": 326,
   "metadata": {},
   "outputs": [
    {
     "data": {
      "text/plain": [
       "array([1, 1, 1, 1])"
      ]
     },
     "execution_count": 326,
     "metadata": {},
     "output_type": "execute_result"
    }
   ],
   "source": [
    "initial_logical_x_outcome = (lx @ list_initial_x[s] ) % 2\n",
    "initial_logical_x_outcome"
   ]
  },
  {
   "cell_type": "code",
   "execution_count": 125,
   "metadata": {},
   "outputs": [],
   "source": [
    "# 各个 cycle 的 X check 的测量结果\n",
    "# [ [data_x['states'][f'cycle_{j}'][f'q_X{i}'][s][p] for i in index_X_check ] for j in range(1, 1+num_cycles) ]"
   ]
  },
  {
   "cell_type": "code",
   "execution_count": 126,
   "metadata": {},
   "outputs": [],
   "source": [
    "# # 最后一个 cycle 的 X check 的测量结果\n",
    "# final_state_x = [ data_x['states'][f'cycle_{num_cycles}'][f'q_L{i}'][s][p]  for i in range(num_L) ] + \\\n",
    "#               [ data_x['states'][f'cycle_{num_cycles}'][f'q_R{i}'][s][p]  for i in range(num_R) ]\n",
    "# hx @ np.array(final_state_x).T % 2\n",
    "\n",
    "# 最后一个 cycle 的 X check 的测量结果 \n",
    "# final_state_x = [ data_x['final_cycle_states'][f'q_L{i}'][s][p]  for i in range(num_L) ] + \\\n",
    "#               [ data_x['final_cycle_states'][f'q_R{i}'][s][p]  for i in range(num_R) ]\n",
    "# hx @ np.array(final_state_x).T % 2"
   ]
  },
  {
   "cell_type": "code",
   "execution_count": null,
   "metadata": {},
   "outputs": [],
   "source": []
  },
  {
   "cell_type": "code",
   "execution_count": 127,
   "metadata": {},
   "outputs": [],
   "source": [
    "num_trials_x = len(data_x['states']['cycle_1'][f'q_Z{1}'][s]) ;\n",
    "# record the X parity check outcomes and the logical X outcomes\n",
    "dict_cycle_x_parity = {} ;\n",
    "for i in range(1, num_cycles+1):\n",
    "    dict_cycle_x_parity[f'cycle_{i}'] = [] ;\n",
    "\n",
    "dict_cycle_x_parity['final'] = [] ;\n",
    "\n",
    "final_logical_x_outcome = [] ;\n",
    "\n",
    "for p in range(num_trials_x):\n",
    "\n",
    "    dict_cycle_x_parity['cycle_1'].append( np.array( [data_x['states']['cycle_1'][f'q_X{i}'][s][p] for i in index_X_check  ] )  )\n",
    "\n",
    "    for cycle in range(2, 1+num_cycles):\n",
    "        current = np.array([data_x['states'][f'cycle_{cycle}'][f'q_X{i}'][s][p] for i in index_X_check  ]) ;\n",
    "        former = np.array([data_x['states'][f'cycle_{cycle-1}'][f'q_X{i}'][s][p] for i in index_X_check  ]) ;    \n",
    "        dict_cycle_x_parity[f'cycle_{cycle}'].append( (  current + former ) %2  )\n",
    "\n",
    "    # final_state_x = [ data_x['states'][f'cycle_{num_cycles}'][f'q_L{i}'][s][p]  for i in range(num_L) ] + \\\n",
    "    #              [ data_x['states'][f'cycle_{num_cycles}'][f'q_R{i}'][s][p]  for i in range(num_R) ]  ;\n",
    "\n",
    "    final_state_x = [ data_x['final_cycle_states'][f'q_L{i}'][s][p]  for i in range(num_L) ] + \\\n",
    "                 [ data_x['final_cycle_states'][f'q_R{i}'][s][p]  for i in range(num_R) ]  ;\n",
    "     \n",
    "    dict_cycle_x_parity['final'].append( hx @ np.array(final_state_x).T % 2 ) ;    \n",
    "\n",
    "    final_logical_x_outcome.append( (lx@final_state_x - initial_logical_x_outcome) %2  )\n",
    "    # final_logical_x_outcome.append( (lx@final_state_x) %2  )"
   ]
  },
  {
   "cell_type": "code",
   "execution_count": 128,
   "metadata": {},
   "outputs": [],
   "source": [
    "# record the deventions\n",
    "# a error devent occur if the current parity is different from the former one\n",
    "\n",
    "dict_cycle_x_devents = {} ;\n",
    "dict_cycle_x_devents['cycle_1'] = [ (arr + initial_x_parity) %2 for arr in dict_cycle_x_parity['cycle_1'] ]\n",
    "\n",
    "for cycle in range(2, num_cycles+1):\n",
    "    \n",
    "    dict_cycle_x_devents[f'cycle_{cycle}'] = \\\n",
    "            [(a + b) %2 for a, b in zip(dict_cycle_x_parity[f'cycle_{cycle}'], dict_cycle_x_parity[f'cycle_{cycle-1}'])] ;\n",
    "\n",
    "dict_cycle_x_devents['final'] = [(a + b) %2 for a, b in zip(dict_cycle_x_parity['final'], dict_cycle_x_parity[f'cycle_{num_cycles}'])]"
   ]
  },
  {
   "cell_type": "code",
   "execution_count": null,
   "metadata": {},
   "outputs": [],
   "source": []
  },
  {
   "cell_type": "code",
   "execution_count": null,
   "metadata": {},
   "outputs": [],
   "source": []
  },
  {
   "cell_type": "markdown",
   "metadata": {},
   "source": [
    "### Visualize the results"
   ]
  },
  {
   "cell_type": "code",
   "execution_count": 129,
   "metadata": {},
   "outputs": [],
   "source": [
    "labels_x = ['X0', 'X1', 'X3', 'X4', 'X5', 'X6', 'X7']"
   ]
  },
  {
   "cell_type": "code",
   "execution_count": 130,
   "metadata": {},
   "outputs": [
    {
     "name": "stdout",
     "output_type": "stream",
     "text": [
      "The mean probability of error detection in cycle 1 is: 0.1357818228597157\n",
      "The mean probability of error detection in cycle 2 is: 0.4375120602045411\n"
     ]
    }
   ],
   "source": [
    "x_list_detect_prob = [np.mean(np.sum(dict_cycle_x_devents[f'cycle_{cycle}'], axis=0)/num_trials_x) for cycle in range(1, num_cycles+1)]\n",
    "x_list_detect_prob += [np.mean(np.sum(dict_cycle_x_devents['final'], axis=0)/num_trials_x) ]\n",
    "\n",
    "for cycle, prob in  zip(range(1, num_cycles+2), x_list_detect_prob):\n",
    "    print( f'The mean probability of error detection in cycle {cycle} is:', prob )"
   ]
  },
  {
   "cell_type": "code",
   "execution_count": 131,
   "metadata": {},
   "outputs": [
    {
     "data": {
      "text/plain": [
       "[<matplotlib.lines.Line2D at 0x7f54ce552e50>]"
      ]
     },
     "execution_count": 131,
     "metadata": {},
     "output_type": "execute_result"
    },
    {
     "data": {
      "image/png": "[encoded data removed]",
      "text/plain": [
       "<Figure size 640x480 with 1 Axes>"
      ]
     },
     "metadata": {},
     "output_type": "display_data"
    }
   ],
   "source": [
    "plt.plot(range(1, num_cycles+2), x_list_detect_prob)"
   ]
  },
  {
   "cell_type": "code",
   "execution_count": null,
   "metadata": {},
   "outputs": [],
   "source": []
  },
  {
   "cell_type": "code",
   "execution_count": null,
   "metadata": {},
   "outputs": [],
   "source": []
  },
  {
   "cell_type": "code",
   "execution_count": null,
   "metadata": {},
   "outputs": [],
   "source": []
  },
  {
   "cell_type": "code",
   "execution_count": null,
   "metadata": {},
   "outputs": [],
   "source": []
  }
 ],
 "metadata": {
  "kernelspec": {
   "display_name": "QEC",
   "language": "python",
   "name": "qec"
  },
  "language_info": {
   "codemirror_mode": {
    "name": "ipython",
    "version": 3
   },
   "file_extension": ".py",
   "mimetype": "text/x-python",
   "name": "python",
   "nbconvert_exporter": "python",
   "pygments_lexer": "ipython3",
   "version": "3.11.9"
  }
 },
 "nbformat": 4,
 "nbformat_minor": 4
}
