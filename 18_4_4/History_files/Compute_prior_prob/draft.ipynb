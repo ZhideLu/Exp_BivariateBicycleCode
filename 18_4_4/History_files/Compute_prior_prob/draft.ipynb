{
 "cells": [
  {
   "cell_type": "code",
   "execution_count": 1,
   "id": "39ba54c0-0c51-45bc-b154-97fdc2705659",
   "metadata": {},
   "outputs": [],
   "source": [
    "import numpy as np\n",
    "import random\n",
    "from tabulate import tabulate\n",
    "from scipy.sparse import coo_matrix, hstack "
   ]
  },
  {
   "cell_type": "code",
   "execution_count": 2,
   "id": "0ce3ce57-7c36-4600-83db-f9cf32a18c56",
   "metadata": {},
   "outputs": [],
   "source": [
    "from scipy.optimize import fsolve\n",
    "import itertools\n",
    "from itertools import combinations\n",
    "from itertools import chain\n",
    "from functools import reduce\n",
    "\n",
    "from scipy.io import savemat\n",
    "from scipy.io import loadmat\n",
    "from tabulate import tabulate"
   ]
  },
  {
   "cell_type": "code",
   "execution_count": 3,
   "id": "fc6746d7-cac5-4385-8a07-6f5e9bdb89d5",
   "metadata": {},
   "outputs": [
    {
     "name": "stdout",
     "output_type": "stream",
     "text": [
      "Testing CSS code...\n",
      "<Unnamed CSS code>, (3,6)-[[18,4,nan]]\n",
      " -Block dimensions: Pass\n",
      " -PCMs commute hz@hx.T==0: Pass\n",
      " -PCMs commute hx@hz.T==0: Pass\n",
      " -lx \\in ker{hz} AND lz \\in ker{hx}: Pass\n",
      " -lx and lz anticommute: Pass\n",
      " -<Unnamed CSS code> is a valid CSS code w/ params (3,6)-[[18,4,nan]]\n",
      "Done\n",
      "Computing code distance...\n",
      "Code parameters: n,k,d= 18 4 4\n",
      "circuit test: OK\n"
     ]
    }
   ],
   "source": [
    "from exp_ldpc import rank2, distance_test, simulate_circuitZ, simulate_circuitX, generate_noisy_circuit\n",
    "# from exp_BB import revised_BB_code, SM_circuit, decoding_matrix_BB_code, num_end, simulate_Zerror_syndrome, simulate_Xerror_syndrome\n",
    "from exp_BB import *"
   ]
  },
  {
   "cell_type": "code",
   "execution_count": 67,
   "id": "6422a2e7-11b9-4e0e-bf8d-a97aafc2a749",
   "metadata": {},
   "outputs": [],
   "source": [
    "# number of Monte Carlo trials\n",
    "num_trials = 10000\n",
    "num_cycles = 2; \n",
    "\n",
    "# depolarizing noise model \n",
    "error_rate_init = 0.000\n",
    "error_rate_idle = 0.000\n",
    "error_rate_cnot = 0.006\n",
    "error_rate_meas = 0.000\n",
    "\n",
    "## no reset for check qubits after each SM cycle\n",
    "cycle_no_reset = cycle[2*n2-len(rx)-len(rz):]"
   ]
  },
  {
   "cell_type": "code",
   "execution_count": 68,
   "id": "30804fb1-7493-4b9f-842a-684f4e361e53",
   "metadata": {},
   "outputs": [
    {
     "name": "stdout",
     "output_type": "stream",
     "text": [
      "Number of Z noisy circuits= 688\n",
      "Number of X noisy circuits= 688\n",
      "Number of distinct X-syndrome histories= 159\n",
      "Number of distinct Z-syndrome histories= 159\n"
     ]
    }
   ],
   "source": [
    "decoding_matrix = decoding_matrix_BB_code(k, nbs, cycle, num_cycles, lin_order,data_qubits,Zchecks,Xchecks, \\\n",
    "                                 error_rate_init,error_rate_idle,error_rate_cnot,error_rate_meas, lz, lx  )\n",
    "\n",
    "Xerror_syndrome_list = [ _ for _ in decoding_matrix.HXdict] ;\n",
    "Xerror_syndrome_list = [ tuple(num for num in item if num < (n2-len(rz))*(num_cycles + num_end) ) for item in Xerror_syndrome_list]\n",
    "X_detection_list = Xerror_syndrome_list"
   ]
  },
  {
   "cell_type": "code",
   "execution_count": 6,
   "id": "e7a3da7d-9624-4be7-ba77-ea9a8f3d3142",
   "metadata": {},
   "outputs": [],
   "source": [
    "Xerror_syndrome_history, Xerror_syndrome_final_logical =  simulate_Xerror_syndrome(num_trials, num_cycles, cycle_no_reset, \\\n",
    "                                error_rate_init, error_rate_idle, error_rate_cnot, error_rate_meas) ;\n",
    "Correct_X_trial_syndrome_history = Xerror_syndrome_history"
   ]
  },
  {
   "cell_type": "code",
   "execution_count": null,
   "id": "71c31af4-85cb-45ec-a2a4-be92ff9b069d",
   "metadata": {},
   "outputs": [],
   "source": []
  },
  {
   "cell_type": "code",
   "execution_count": null,
   "id": "c9f2da49-3663-427b-b326-f9c25d4f1de3",
   "metadata": {
    "scrolled": true
   },
   "outputs": [],
   "source": []
  },
  {
   "cell_type": "markdown",
   "id": "4783f5ae-d58d-4fdc-b552-84a640efc1ff",
   "metadata": {},
   "source": [
    "## Data for X-type errors, using Z-type checks"
   ]
  },
  {
   "cell_type": "code",
   "execution_count": 7,
   "id": "3f580737-c15b-4c49-b445-601141ae9ba7",
   "metadata": {},
   "outputs": [],
   "source": [
    "X_detect_expectation = {} ;\n",
    "\n",
    "for item in X_detection_list:\n",
    "\n",
    "    temp_set = [tuple(comb) for r in range(2, len(item) + 1) for comb in combinations(item, r)] ;\n",
    "    for key in temp_set:    \n",
    "        X_detect_expectation[key] = None ;\n",
    "\n",
    "for key in range( 7*(num_cycles + num_end) ):\n",
    "    X_detect_expectation[(key,)] = None ;   ##\n",
    "\n",
    "#-----------------------------------------------------------------------------------------------------------------------------\n",
    "for s in X_detect_expectation :\n",
    "    X_detect_expectation[tuple(s)] = np.sum([ np.prod([ Correct_X_trial_syndrome_history[trial][k] for k in s ])   \\\n",
    "                                             for trial in range(num_trials) ])/num_trials"
   ]
  },
  {
   "cell_type": "code",
   "execution_count": null,
   "id": "865e2636-95ef-4019-83c3-8700dd54eb80",
   "metadata": {},
   "outputs": [],
   "source": []
  },
  {
   "cell_type": "code",
   "execution_count": 8,
   "id": "af13be04-741c-4cdf-afba-d169c9739564",
   "metadata": {},
   "outputs": [],
   "source": [
    "X_detection_probability = {} ;\n",
    "for key in X_detection_list:\n",
    "    X_detection_probability[key] = None ;"
   ]
  },
  {
   "cell_type": "code",
   "execution_count": null,
   "id": "59e62818-0494-4b7d-a168-f59a7bbbe77d",
   "metadata": {
    "scrolled": true
   },
   "outputs": [],
   "source": []
  },
  {
   "cell_type": "code",
   "execution_count": null,
   "id": "156471aa-a7e8-4ca9-8acc-3c6e4944e957",
   "metadata": {},
   "outputs": [],
   "source": []
  },
  {
   "cell_type": "markdown",
   "id": "e433db0a-c63e-4cdc-9dfd-c1d5250e8836",
   "metadata": {},
   "source": [
    "## Four/three nodes"
   ]
  },
  {
   "cell_type": "code",
   "execution_count": null,
   "id": "b7e64b7f-c376-4699-a65b-1e889eb44bd8",
   "metadata": {},
   "outputs": [],
   "source": [
    "# CorrelationNode (camel)\n",
    "# MAX_VALUE = 100\n",
    "# __xxxx__: magic method, __eq__ (a==b)"
   ]
  },
  {
   "cell_type": "markdown",
   "id": "d9280ebf-59ce-43ac-9416-a774c6c7933d",
   "metadata": {},
   "source": [
    "## Defined functions"
   ]
  },
  {
   "cell_type": "code",
   "execution_count": null,
   "id": "7cf13146-a7c4-4851-bfde-cdb5feb1edb6",
   "metadata": {},
   "outputs": [],
   "source": []
  },
  {
   "cell_type": "code",
   "execution_count": 9,
   "id": "714a609b-b524-478f-b414-86e05ec160ac",
   "metadata": {},
   "outputs": [],
   "source": [
    "def get_syndrome_four_ele_property(syndrome_list):\n",
    "    syndrome_four_ele_property = {} ;\n",
    "    for key in syndrome_list:\n",
    "        if len(key) == 4:\n",
    "            syndrome_four_ele_property[key] = [None, None] ;\n",
    "\n",
    "    target_4 = [item for item in syndrome_list if len(item) == 4] ;\n",
    "    \n",
    "    for ele in target_4:\n",
    "        \n",
    "        temp2 = [item for item in syndrome_list if len(set(item) & set(ele)) == 2] ;\n",
    "        temp3 = [item for item in syndrome_list if len(set(item) & set(ele)) == 3] ;\n",
    "    \n",
    "        comb_valid_list_Two = [];\n",
    "        for comb in combinations(ele, 2):\n",
    "            \n",
    "            if not any( set(comb).issubset(set(item)) for item in temp2 + temp3)  :\n",
    "                comb_valid_list_Two.append(comb)\n",
    "        \n",
    "        comb_valid_list_Three = [];\n",
    "        for comb in combinations(ele, 3):\n",
    "            if not any( set(comb).issubset(set(item)) for item in temp3)  :\n",
    "                comb_valid_list_Three.append(comb)\n",
    "    \n",
    "        comb_valid_list_TwoThree = [];\n",
    "        for comb in combinations(ele, 2):\n",
    "            if not any( set(comb).issubset(set(item)) for item in temp2 )  :\n",
    "                comb_valid_list_TwoThree.append(comb)\n",
    "        \n",
    "        if len(comb_valid_list_TwoThree) != 0:\n",
    "            comb_valid_list_TwoThree = [ comb_valid_list_TwoThree[0] ] ;\n",
    "            [ comb_valid_list_TwoThree.append( item ) for item in combinations(ele, 3) if set(comb_valid_list_TwoThree[0]).issubset(set(item))  ]\n",
    "        if len(comb_valid_list_Two) != 0:\n",
    "            syndrome_four_ele_property[ele][0] = \"Two\" ;\n",
    "            syndrome_four_ele_property[ele][1] = comb_valid_list_Two ;\n",
    "    \n",
    "        if (len(comb_valid_list_Two) == 0) & (len(comb_valid_list_Three) != 0):\n",
    "            syndrome_four_ele_property[ele][0] = \"Three\" ;\n",
    "            syndrome_four_ele_property[ele][1] = comb_valid_list_Three ;\n",
    "    \n",
    "        if (len(comb_valid_list_Two) == 0) & (len(comb_valid_list_Three) == 0):       \n",
    "            syndrome_four_ele_property[ele][0] = \"TwoThree\" ;\n",
    "            syndrome_four_ele_property[ele][1] = comb_valid_list_TwoThree ;\n",
    "\n",
    "    return syndrome_four_ele_property        "
   ]
  },
  {
   "cell_type": "code",
   "execution_count": null,
   "id": "c8f9f95a-3c60-44a8-8edb-b200b25458b9",
   "metadata": {},
   "outputs": [],
   "source": []
  },
  {
   "cell_type": "code",
   "execution_count": 10,
   "id": "22863f34-27bf-40b3-871d-51f775733b1c",
   "metadata": {},
   "outputs": [],
   "source": [
    "def equations_4( target, detect_expectation):\n",
    "    \n",
    "    solutions = [] \n",
    "    deviation_list = []\n",
    "    ele = target ;\n",
    "    \n",
    "    x_1 = detect_expectation[(ele[0],)] ;\n",
    "    x_2 = detect_expectation[(ele[1],)] ;\n",
    "    x_12 = detect_expectation[(ele[0],ele[1])] ;\n",
    "    \n",
    "    q12 = p_ij(x_1, x_2, x_12) ;\n",
    "    q1 = ((x_1) - q12)/(1 - 2*q12) ;\n",
    "    q2 = ((x_2) - q12)/(1 - 2*q12) ;\n",
    "\n",
    "    x_1 = detect_expectation[(ele[0],)] ;\n",
    "    x_3 = detect_expectation[(ele[2],)] ;\n",
    "    x_13 = detect_expectation[(ele[0],ele[2])] ;\n",
    "    r13 = p_ij(x_1, x_3, x_13) ;\n",
    "    r1 = ((x_1) - r13)/(1 - 2*r13) ;\n",
    "    r3 = ((x_3) - r13)/(1 - 2*r13) ;\n",
    "\n",
    "    x_2 = detect_expectation[(ele[1],)] ;\n",
    "    x_3 = detect_expectation[(ele[2],)] ;\n",
    "    x_23 = detect_expectation[(ele[1],ele[2])] ;\n",
    "    t23 = p_ij(x_2, x_3, x_23) ;\n",
    "    t2 = ((x_2) - t23)/(1 - 2*t23) ;\n",
    "\n",
    "    x_123 = detect_expectation[(ele[0],ele[1],ele[2])] ;\n",
    "#---------------------------------------------------------------------\n",
    "\n",
    "    for p123 in np.linspace(0.000, 0.05, 5000):\n",
    "        \n",
    "        p12 = new_sub( q12, p123 )\n",
    "        p13 = new_sub( new_sum(q1, q12), new_sum(r1, p123)   )\n",
    "        p23 = new_sub( new_sum(q2, q12), new_sum(t2, p123)   )\n",
    "        p1 = new_sub( new_sum(r1, p123),  q12  )\n",
    "        p2 = new_sub( new_sum(t2, p123),  q12  )\n",
    "        p3 = new_sub( r3, new_sub( new_sum(q2, q12), new_sum(t2, p123)   )   )\n",
    "\n",
    "        temp4 = p123 * (1-p1) * (1-p2) * (1-p3) * (1-p12) * (1-p23) * (1-p13) \\\n",
    "           + p1 * p23 * (1-p123) * (1-p2) * (1-p3) * (1-p13) * (1-p12)   \\\n",
    "           +(1-p1) * p2 * p13 * (1-p123) * (1-p3) * (1-p23) * (1-p12)    \\\n",
    "           +(1-p1) * (1-p2) * p3 * p12 * (1-p123) * (1-p23) * (1-p13) - x_123 ;\n",
    "        \n",
    "        if (-1e-4< temp4 < 1e-4) :\n",
    "            deviation_list.append(temp4)\n",
    "            solutions.append(p123)   \n",
    "            \n",
    "    # print(np.min(np.abs(deviation_list)))\n",
    "    if len(solutions) == 0:\n",
    "        print(\"Please try again, no solution.\")\n",
    "    # print(sorted_indices)\n",
    "    # print(solutions)\n",
    "    sorted_indices = np.argsort(np.abs(deviation_list)) \n",
    "    solutions = [solutions[i] for i in sorted_indices ]\n",
    "    # solutions = [np.min(solutions)]\n",
    " \n",
    "    return [solutions[0]]"
   ]
  },
  {
   "cell_type": "markdown",
   "id": "8ccd6e43-5724-47c4-bd61-8e8628a55d93",
   "metadata": {},
   "source": [
    "## Example"
   ]
  },
  {
   "cell_type": "code",
   "execution_count": null,
   "id": "8d9e381a-3d47-4b34-9b41-8957ddbbc1ba",
   "metadata": {},
   "outputs": [],
   "source": [
    "target = (9, 12, 14)\n",
    "# target = (0, 2, 6)\n",
    "target = (4, 7, 8)"
   ]
  },
  {
   "cell_type": "code",
   "execution_count": null,
   "id": "7d58f4c5-9c92-4475-8a24-08979151fd6b",
   "metadata": {},
   "outputs": [],
   "source": [
    "equations_4( target, X_detect_expectation)"
   ]
  },
  {
   "cell_type": "code",
   "execution_count": null,
   "id": "b201e4d0-0083-4a1c-ac74-cf14db32e302",
   "metadata": {},
   "outputs": [],
   "source": [
    "target = (8, 11, 13)\n",
    "# target = (15, 18, 20)\n",
    "# target = (22, 25, 27)\n",
    "equations_4( target, X_detect_expectation)"
   ]
  },
  {
   "cell_type": "code",
   "execution_count": 20,
   "id": "e8762fbb-b5de-403c-96de-76353a5f9244",
   "metadata": {},
   "outputs": [
    {
     "data": {
      "text/plain": [
       "0.030570311013424223"
      ]
     },
     "execution_count": 20,
     "metadata": {},
     "output_type": "execute_result"
    }
   ],
   "source": [
    "# aa = 0 ; bb = 12 ; \n",
    "aa = 7 ; bb = 8 ;\n",
    "# aa = 8 ; bb = 13 ;\n",
    "x_i = X_detect_expectation[(aa,)] ;\n",
    "x_j = X_detect_expectation[(bb,)] ;\n",
    "x_ij = X_detect_expectation[(aa, bb)] ;\n",
    "result = p_ij(x_i,x_j,x_ij)\n",
    "result"
   ]
  },
  {
   "cell_type": "code",
   "execution_count": null,
   "id": "06c806a7-36bc-4e7a-ae3b-70c340701bf9",
   "metadata": {},
   "outputs": [],
   "source": [
    "print(x_i, x_j, x_ij)"
   ]
  },
  {
   "cell_type": "code",
   "execution_count": null,
   "id": "c06db8c6-d50e-4c94-982e-1c75d5fe4676",
   "metadata": {},
   "outputs": [],
   "source": []
  },
  {
   "cell_type": "code",
   "execution_count": null,
   "id": "9a21f559-2cff-40f6-aeda-026edcbdf9ed",
   "metadata": {},
   "outputs": [],
   "source": [
    "ele = (8, 11, 12)\n",
    "X_detect_expectation[(ele[0],ele[1],ele[2])]"
   ]
  },
  {
   "cell_type": "code",
   "execution_count": null,
   "id": "d109a6b9-f7b4-48e2-aa08-8895e1b5524c",
   "metadata": {},
   "outputs": [],
   "source": [
    "ele = (2, 5, 7)\n",
    "X_detect_expectation[(ele[0],ele[1],ele[2])]"
   ]
  },
  {
   "cell_type": "code",
   "execution_count": null,
   "id": "4ce1f8c9-8d20-4852-ba6b-5b11b6d55564",
   "metadata": {},
   "outputs": [],
   "source": []
  },
  {
   "cell_type": "code",
   "execution_count": null,
   "id": "9e51edd5-4e90-4ff1-9540-b1272f8d746b",
   "metadata": {
    "scrolled": true
   },
   "outputs": [],
   "source": [
    "# target_3 = [item for item in X_detection_list if len(item) == 3] ;\n",
    "# for item in target_3:\n",
    "#     equations_4( item, X_detect_expectation)"
   ]
  },
  {
   "cell_type": "code",
   "execution_count": null,
   "id": "c654d1b2-1e9c-45d4-98b5-c5533ce5eb86",
   "metadata": {},
   "outputs": [],
   "source": []
  },
  {
   "cell_type": "code",
   "execution_count": null,
   "id": "d81e0508-980c-4edc-9773-f2bab8874675",
   "metadata": {},
   "outputs": [],
   "source": []
  },
  {
   "cell_type": "code",
   "execution_count": 96,
   "id": "583c85c1-0b79-4ba7-908d-5180f3bf919a",
   "metadata": {},
   "outputs": [
    {
     "data": {
      "text/plain": [
       "[(0, 4, 6)]"
      ]
     },
     "execution_count": 96,
     "metadata": {},
     "output_type": "execute_result"
    }
   ],
   "source": [
    "[item for item in X_detection_list if len(set(item) & set( (0, 4, 6) )) == 3] "
   ]
  },
  {
   "cell_type": "code",
   "execution_count": 95,
   "id": "7745b3b4-4f7a-4f8e-8e90-0ee197de45e8",
   "metadata": {},
   "outputs": [
    {
     "data": {
      "text/plain": [
       "[(7, 8, 11, 13), (8, 11, 13), (7, 8, 10, 13)]"
      ]
     },
     "execution_count": 95,
     "metadata": {},
     "output_type": "execute_result"
    }
   ],
   "source": [
    "[item for item in X_detection_list if len(set(item) & set( (8,13) )) == 2] "
   ]
  },
  {
   "cell_type": "code",
   "execution_count": 69,
   "id": "70266f61-77f5-4611-ade7-98f91f307f15",
   "metadata": {},
   "outputs": [
    {
     "data": {
      "text/plain": [
       "[(5, 7, 8, 10), (7, 8, 11, 13), (4, 7, 8), (7, 8, 10, 13), (7, 8, 11), (7, 8)]"
      ]
     },
     "execution_count": 69,
     "metadata": {},
     "output_type": "execute_result"
    }
   ],
   "source": [
    "[item for item in X_detection_list if len(set(item) & set( (7,8) )) == 2] "
   ]
  },
  {
   "cell_type": "code",
   "execution_count": 98,
   "id": "a2f9b9b9-0a68-429e-8978-55187c974c56",
   "metadata": {},
   "outputs": [
    {
     "data": {
      "text/plain": [
       "[(2, 10, 11, 13), (7, 8, 10, 13), (10, 11, 13), (10, 13), (10, 13, 18)]"
      ]
     },
     "execution_count": 98,
     "metadata": {},
     "output_type": "execute_result"
    }
   ],
   "source": [
    "[item for item in X_detection_list if len(set(item) & set( (10,13) )) == 2] "
   ]
  },
  {
   "cell_type": "code",
   "execution_count": null,
   "id": "92d93765-4442-49fe-8401-22a68435260d",
   "metadata": {},
   "outputs": [],
   "source": []
  },
  {
   "cell_type": "code",
   "execution_count": null,
   "id": "d2aa2764-4c14-4b29-a5ef-34674a198b01",
   "metadata": {},
   "outputs": [],
   "source": [
    "# [item for item in X_detection_list if len(set(item)) >= 4] "
   ]
  },
  {
   "cell_type": "code",
   "execution_count": 90,
   "id": "75b9be4c-03df-4652-80e2-f1d340f22bae",
   "metadata": {},
   "outputs": [
    {
     "data": {
      "text/plain": [
       "[(7, 8, 10, 13)]"
      ]
     },
     "execution_count": 90,
     "metadata": {},
     "output_type": "execute_result"
    }
   ],
   "source": [
    "[item for item in X_detection_list if len(set(item) & set( (7,10,13) )) == 3] "
   ]
  },
  {
   "cell_type": "code",
   "execution_count": 41,
   "id": "285cec1f-84c3-43dd-8ab7-5259c049b8b8",
   "metadata": {},
   "outputs": [],
   "source": [
    "X_detection_way = get_syndrome_four_ele_property(X_detection_list)"
   ]
  },
  {
   "cell_type": "code",
   "execution_count": 55,
   "id": "6c19c120-9c28-4e05-a9a3-0462d71b40e5",
   "metadata": {},
   "outputs": [
    {
     "data": {
      "text/plain": [
       "{(5, 7, 8, 10): ['Two', [(5, 10)]],\n",
       " (0, 10, 11, 12): ['Two', [(0, 12)]],\n",
       " (2, 10, 11, 13): ['Two', [(2, 11)]],\n",
       " (7, 8, 11, 13): ['TwoThree', [(8, 13), (7, 8, 13), (8, 11, 13)]],\n",
       " (8, 9, 11, 12): ['TwoThree', [(9, 11), (8, 9, 11), (9, 11, 12)]],\n",
       " (9, 10, 11, 12): ['Three', [(9, 10, 11), (9, 10, 12)]],\n",
       " (7, 8, 10, 13): ['Three', [(7, 10, 13), (8, 10, 13)]],\n",
       " (12, 14, 15, 17): ['Two', [(12, 17)]],\n",
       " (7, 17, 18, 19): ['Two', [(7, 19)]],\n",
       " (9, 17, 18, 20): ['Two', [(9, 18)]],\n",
       " (14, 15, 18, 20): ['TwoThree', [(15, 20), (14, 15, 20), (15, 18, 20)]],\n",
       " (15, 16, 18, 19): ['TwoThree', [(15, 19), (15, 16, 19), (15, 18, 19)]],\n",
       " (16, 17, 18, 19): ['Three', [(16, 17, 18), (16, 17, 19)]],\n",
       " (14, 15, 17, 20): ['Three', [(14, 17, 20), (15, 17, 20)]]}"
      ]
     },
     "execution_count": 55,
     "metadata": {},
     "output_type": "execute_result"
    }
   ],
   "source": [
    "X_detection_way"
   ]
  },
  {
   "cell_type": "code",
   "execution_count": null,
   "id": "11003ae4-5284-4f2b-ac46-d89789f95000",
   "metadata": {},
   "outputs": [],
   "source": []
  },
  {
   "cell_type": "code",
   "execution_count": null,
   "id": "d2f37a0f-fa59-4e71-8b72-1337c10d41de",
   "metadata": {},
   "outputs": [],
   "source": []
  },
  {
   "cell_type": "markdown",
   "id": "fd25a0e3-d2e8-4907-a566-525aca53b804",
   "metadata": {},
   "source": [
    "## X-type errors"
   ]
  },
  {
   "cell_type": "code",
   "execution_count": null,
   "id": "85b76252-fb0d-4674-bbf8-04f54b9c2920",
   "metadata": {},
   "outputs": [],
   "source": [
    "# target = [9, 10, 11, 12] ; \n",
    "# target = [7, 8, 10, 13] ;\n",
    "# target = [8, 9, 11, 12] ;\n",
    "# target = [0, 10, 11, 12] ;  \n",
    "# target = [2, 10, 11, 13] ;  \n",
    "# target = [5, 7, 8, 10] ; \n",
    "# corr_four = correlation_nodes(target, \"X\", X_detection_list) ;\n",
    "# corr_four.cor_set"
   ]
  },
  {
   "cell_type": "code",
   "execution_count": null,
   "id": "1c5a64d5-f1b8-47a9-a5be-d84b22cebe39",
   "metadata": {
    "scrolled": true
   },
   "outputs": [],
   "source": []
  },
  {
   "cell_type": "code",
   "execution_count": null,
   "id": "1b74922e-164f-411d-98ba-9804bcd67e58",
   "metadata": {},
   "outputs": [],
   "source": []
  },
  {
   "cell_type": "code",
   "execution_count": 14,
   "id": "e0d2ad40-d967-4663-ae26-1fcbd234077b",
   "metadata": {},
   "outputs": [
    {
     "name": "stdout",
     "output_type": "stream",
     "text": [
      "0.003518193710725037\n",
      "0.003454756263317371\n",
      "0.002200405387308979\n",
      "0.007379749393745019\n",
      "0.006096984749693283\n",
      "0.004450890178035608\n",
      "0.0035507101420284063\n",
      "0.002690189635906781\n",
      "0.0027433784981676923\n",
      "0.0044785940186259365\n",
      "0.004053640489333763\n",
      "0.004021168499284443\n",
      "0.002800560112022405\n",
      "0.0026905381076215247\n"
     ]
    }
   ],
   "source": [
    "target_4 = [item for item in X_detection_list if len(item) == 4] ;\n",
    "for ele in target_4:\n",
    "    if X_detection_way[ele][0] == \"Two\" :\n",
    "        x_i = X_detect_expectation[(X_detection_way[ele][1][0][0],)] ;\n",
    "        x_j = X_detect_expectation[(X_detection_way[ele][1][0][1],)] ;\n",
    "        x_ij = X_detect_expectation[X_detection_way[ele][1][0]] ;\n",
    "        result = p_ij(x_i, x_j, x_ij)\n",
    "        print(result)\n",
    "        X_detection_probability[ele] = result\n",
    "        \n",
    "    if X_detection_way[ele][0] == \"Three\" :\n",
    "        corr_three = correlation_nodes(X_detection_way[ele][1][0], X_detection_list, X_detect_expectation) ;\n",
    "        print(corr_three.solution[0])\n",
    "        X_detection_probability[ele] = corr_three.solution[0]\n",
    "   \n",
    "    if X_detection_way[ele][0] == \"TwoThree\" :        \n",
    "        corr_three_1 = correlation_nodes(X_detection_way[ele][1][1], X_detection_list, X_detect_expectation) ;\n",
    "        corr_three_2 = correlation_nodes(X_detection_way[ele][1][2], X_detection_list, X_detect_expectation) ;\n",
    "        \n",
    "        x_i = X_detect_expectation[(X_detection_way[ele][1][0][0],)] ;\n",
    "        x_j = X_detect_expectation[(X_detection_way[ele][1][0][1],)] ;\n",
    "        x_ij = X_detect_expectation[X_detection_way[ele][1][0]] ;\n",
    "        result_0 = p_ij(x_i, x_j, x_ij)\n",
    "        # result = corr_three_1.solution[0] + corr_three_2.solution[0] - result_0 ;\n",
    "        result = new_sub( new_sum(corr_three_1.solution[0], corr_three_2.solution[0]), result_0 )\n",
    "        print(result)\n",
    "        X_detection_probability[ele] = result"
   ]
  },
  {
   "cell_type": "code",
   "execution_count": null,
   "id": "3c0abb6f-80aa-4638-b950-2abe1d2202f3",
   "metadata": {},
   "outputs": [],
   "source": []
  },
  {
   "cell_type": "code",
   "execution_count": null,
   "id": "ff9861f0-c5aa-4913-be4c-47097226ca69",
   "metadata": {},
   "outputs": [],
   "source": []
  },
  {
   "cell_type": "code",
   "execution_count": 15,
   "id": "dd6101e5-d2d8-4ae2-96b2-493b5adf9106",
   "metadata": {
    "scrolled": true
   },
   "outputs": [],
   "source": [
    "target_3 = [item for item in X_detection_list if len(item) == 3] ;\n",
    "for ele in target_3:\n",
    "    corr_three = correlation_nodes(ele, X_detection_list, X_detect_expectation) ;\n",
    "    temp_list = [X_detection_probability[tuple(item)] for item in target_4 if len(set(item) & set(ele)) == 3]\n",
    "    if len(temp_list) == 0:\n",
    "        X_detection_probability[tuple(ele)] = corr_three.solution[0]\n",
    "    if len(temp_list) != 0:\n",
    "        X_detection_probability[tuple(ele)] = new_sub( corr_three.solution[0], reduce(new_sum, temp_list) )"
   ]
  },
  {
   "cell_type": "code",
   "execution_count": null,
   "id": "cf491e91-7839-450f-bc09-5881145b5d31",
   "metadata": {},
   "outputs": [],
   "source": []
  },
  {
   "cell_type": "code",
   "execution_count": null,
   "id": "0c6446d6-7631-4126-ab10-07a018415b7d",
   "metadata": {
    "scrolled": true
   },
   "outputs": [],
   "source": []
  },
  {
   "cell_type": "code",
   "execution_count": null,
   "id": "14de77f9-3715-42ea-95c9-ae8230e30961",
   "metadata": {
    "scrolled": true
   },
   "outputs": [],
   "source": []
  },
  {
   "cell_type": "code",
   "execution_count": null,
   "id": "dc131496-e36e-4c64-8fa6-93631e4b4e87",
   "metadata": {
    "scrolled": true
   },
   "outputs": [],
   "source": []
  },
  {
   "cell_type": "markdown",
   "id": "b75129bd-0265-4fa9-87c8-3a291e74b7cc",
   "metadata": {},
   "source": [
    "## two nodes"
   ]
  },
  {
   "cell_type": "code",
   "execution_count": 16,
   "id": "622bbfa1-60a1-4184-af6f-a2157cfad151",
   "metadata": {},
   "outputs": [],
   "source": [
    "target_2 = [item for item in X_detection_list if len(item) == 2] ;\n",
    "for ele in target_2:\n",
    "    x_i = X_detect_expectation[(ele[0],)] ;\n",
    "    x_j = X_detect_expectation[(ele[1],)] ;\n",
    "    x_ij = X_detect_expectation[ele] ;\n",
    "    result = p_ij(x_i, x_j, x_ij) ;\n",
    "    temp_list_4 = [ X_detection_probability[tuple(item)] for item in target_4 if len(set(item) & set(ele)) == 2 ] ;\n",
    "    temp_list_3 = [ X_detection_probability[tuple(item)] for item in target_3 if len(set(item) & set(ele)) == 2 ] ;\n",
    "     # syndrome_probability_list[tuple(ele)] = result - np.sum( temp_list_4 ) - np.sum( temp_list_3 )\n",
    "    if len(temp_list_4 + temp_list_3) == 0:\n",
    "        X_detection_probability[tuple(ele)] = result\n",
    "    if len(temp_list_4 + temp_list_3) != 0:\n",
    "        X_detection_probability[tuple(ele)] = new_sub( result, reduce(new_sum, temp_list_4 + temp_list_3) )          "
   ]
  },
  {
   "cell_type": "code",
   "execution_count": null,
   "id": "83f07764-a94d-4bac-924e-e3c1b0849a1f",
   "metadata": {
    "scrolled": true
   },
   "outputs": [],
   "source": []
  },
  {
   "cell_type": "markdown",
   "id": "0bbfc682-2710-44ac-b268-c75e951f13b7",
   "metadata": {},
   "source": [
    "## one nodes"
   ]
  },
  {
   "cell_type": "code",
   "execution_count": 17,
   "id": "946cf6b8-e609-4cd5-ae18-fe34fa5b9a67",
   "metadata": {},
   "outputs": [],
   "source": [
    "target_1 = [item for item in X_detection_list if len(item) == 1] ;\n",
    "\n",
    "for ele in target_1:\n",
    "    temp =  [ X_detection_probability[tuple(item)] for item in target_4 if len(set(item) & set(ele)) == 1 ] +  \\\n",
    "            [ X_detection_probability[tuple(item)] for item in target_3 if len(set(item) & set(ele)) == 1 ] +  \\\n",
    "            [ X_detection_probability[tuple(item)] for item in target_2 if len(set(item) & set(ele)) == 1 ]\n",
    "    \n",
    "    P_sgima = reduce(new_sum, temp)\n",
    "    # syndrome_probability_list[tuple(ele)] = ( self.detect_expectation[ele] - P_sgima ) / (1 - 2 * P_sgima ) ;\n",
    "    X_detection_probability[tuple(ele)] = new_sub( X_detect_expectation[ele], P_sgima )"
   ]
  },
  {
   "cell_type": "code",
   "execution_count": null,
   "id": "78522062-307d-4aad-aa64-e9922bd0db89",
   "metadata": {},
   "outputs": [],
   "source": []
  },
  {
   "cell_type": "code",
   "execution_count": null,
   "id": "ac2f53c2-b4f5-4f9d-9c6a-e144b9cf1d8a",
   "metadata": {},
   "outputs": [],
   "source": []
  },
  {
   "cell_type": "code",
   "execution_count": null,
   "id": "b193f78b-89e0-408f-9535-ceae852ccc44",
   "metadata": {},
   "outputs": [],
   "source": []
  },
  {
   "cell_type": "code",
   "execution_count": null,
   "id": "3b2e6114-7cd6-49eb-afdc-696c1a765852",
   "metadata": {},
   "outputs": [],
   "source": []
  },
  {
   "cell_type": "code",
   "execution_count": null,
   "id": "960170b2-18f5-4dc0-a3b0-a10aff4e1c23",
   "metadata": {},
   "outputs": [],
   "source": []
  },
  {
   "cell_type": "code",
   "execution_count": 19,
   "id": "1ae2fe3e-363d-4a6e-a959-445634520597",
   "metadata": {
    "scrolled": true
   },
   "outputs": [
    {
     "data": {
      "text/plain": [
       "{(0, 7): 0.009764229057985685,\n",
       " (1, 8): 0.008254015755408906,\n",
       " (2, 9): 0.00849555881421482,\n",
       " (3, 10): 0.008177690372286273,\n",
       " (4, 11): 0.01011403070633049,\n",
       " (5, 12): 0.008807908642941342,\n",
       " (6, 13): 0.008542285684809359,\n",
       " (0, 1, 4): 0.00586117223444689,\n",
       " (1, 2, 5): 0.007041408281656333,\n",
       " (0, 2, 6): 0.0018403680736147233,\n",
       " (0,): 0.005164831894086506,\n",
       " (1, 3): 0.006840754021147277,\n",
       " (2, 3): 0.007741055425540824,\n",
       " (4, 5): 0.005434807826597699,\n",
       " (5, 6): 0.007199700894731912,\n",
       " (3, 4, 6): 0.0022104420884176837,\n",
       " (0, 2): 0.001555041792093666,\n",
       " (0, 1): 0.0030257682451693187,\n",
       " (1, 2, 3): 0.0019203840768153633,\n",
       " (3, 4): 0.0013565855027781223,\n",
       " (5,): 0.0002861279701100762,\n",
       " (3, 6): 0.0021069848048794098,\n",
       " (0, 4, 6): 0.0015003000600120025,\n",
       " (1, 4, 5): 0.0020604120824164835,\n",
       " (2, 5, 6): 0.0017903580716143231,\n",
       " (4, 6, 7): 0.0030406081216243254,\n",
       " (4, 5, 8): 0.004240848169633928,\n",
       " (5, 6, 9): 0.003280656131226246,\n",
       " (1, 2, 10): 0.0030506101220244054,\n",
       " (3, 11): 0.001213503759125874,\n",
       " (12,): 0.005448980649326205,\n",
       " (3, 13): 0.007069178753790766,\n",
       " (): None,\n",
       " (1, 7): 0.007828205195203608,\n",
       " (2, 8, 10): 0.007231446289257853,\n",
       " (0, 9): 0.006206711323101022,\n",
       " (10, 11): 0.0037931749444404523,\n",
       " (5, 8, 11): 0.007801560312062413,\n",
       " (6, 9, 12): 0.00556111222244449,\n",
       " (4, 7, 13): 0.007301460292058413,\n",
       " (1, 4, 9): 0.003600720144028806,\n",
       " (2, 5, 7): 0.0036907381476295265,\n",
       " (0, 10, 11): 0.004105114377155103,\n",
       " (1, 3, 12): 0.0033606721344268857,\n",
       " (2, 13): 0.004064755936475309,\n",
       " (5, 7, 13): 0.005241048209641929,\n",
       " (6, 8, 11): 0.003600720144028806,\n",
       " (2, 6, 7): 0.0037507501500300064,\n",
       " (0, 4, 8): 0.003270654130826166,\n",
       " (1, 5, 9): 0.0027405481096219246,\n",
       " (1, 10): 0.0030445002761207013,\n",
       " (3, 6, 11): 0.003950790158031607,\n",
       " (4, 12): 0.003075590592252042,\n",
       " (5, 13): 0.0018823584653935462,\n",
       " (4, 7, 9): 0.002950590118023605,\n",
       " (5, 7, 8, 10): 0.003518193710725037,\n",
       " (0, 10, 11, 12): 0.003454756263317371,\n",
       " (1, 12, 13): 0.0039407881576315265,\n",
       " (2, 10, 11, 13): 0.002200405387308979,\n",
       " (7, 8, 11, 13): 0.007379749393745019,\n",
       " (8, 9, 11, 12): 0.006096984749693283,\n",
       " (4, 7, 8): 0.003470694138827766,\n",
       " (5, 8, 9): 0.004450890178035608,\n",
       " (6, 7, 9): 0.0031006201240248053,\n",
       " (2, 10): 0.004382903699582332,\n",
       " (11, 12): 0.010982735339265809,\n",
       " (12, 13): 0.004684429744776799,\n",
       " (3, 11, 13): 0.004440888177635527,\n",
       " (9, 13): -0.0008489214672131811,\n",
       " (7, 10, 11): 0.004620924184836968,\n",
       " (9, 10, 11, 12): 0.004450890178035608,\n",
       " (7, 12, 13): 0.0041308261652330475,\n",
       " (8, 11, 13): 0.0007732923392638547,\n",
       " (7, 8, 10, 13): 0.0035507101420284063,\n",
       " (8, 9, 11): 0.000885203675785766,\n",
       " (7,): 0.008230350795114316,\n",
       " (8, 10): 0.012974188827502143,\n",
       " (9, 10): 0.011774544685402216,\n",
       " (10, 11, 13): 0.010478233842384615,\n",
       " (7, 8, 11): 0.0128032184938509,\n",
       " (8, 9, 12): 0.007294626232197987,\n",
       " (7, 9, 13): 0.010552110422084418,\n",
       " (7, 9): 0.0013991655541094542,\n",
       " (7, 8): 0.0005629175879674123,\n",
       " (8, 9, 10): 0.003410682136427286,\n",
       " (10, 13): -0.00048726630874669464,\n",
       " (7, 11, 13): 0.0003367633733168154,\n",
       " (8, 11, 12): 0.001624362991138202,\n",
       " (9, 12, 13): 0.004140828165633127,\n",
       " (7, 14): 0.009395798001211653,\n",
       " (8, 15): 0.00992664139605226,\n",
       " (9, 16): 0.007731685508245767,\n",
       " (10, 17): 0.011308387608641335,\n",
       " (11, 18): 0.009615485961441905,\n",
       " (12, 19): 0.010337987259097903,\n",
       " (13, 20): 0.008842836354528372,\n",
       " (11, 13, 14): 0.004440888177635527,\n",
       " (11, 12, 15): 0.0038907781556311266,\n",
       " (12, 13, 16): 0.004750950190038008,\n",
       " (8, 9, 17): 0.004080816163232647,\n",
       " (10, 18): 0.0021849734574929565,\n",
       " (19,): 0.004844733601839286,\n",
       " (10, 20): 0.00498295710366395,\n",
       " (8, 14): 0.00708567488357198,\n",
       " (9, 15, 17): 0.007701540308061613,\n",
       " (7, 16): 0.006535138550360864,\n",
       " (17, 18): 0.007049159929916833,\n",
       " (12, 15, 18): 0.007741548309661933,\n",
       " (13, 16, 19): 0.005161032206441289,\n",
       " (11, 14, 20): 0.006041208241648331,\n",
       " (8, 11, 16): 0.003970794158831767,\n",
       " (9, 12, 14): 0.004220844168833767,\n",
       " (7, 17, 18): 0.003396481414847114,\n",
       " (8, 10, 19): 0.0041308261652330475,\n",
       " (9, 20): 0.0006208756320883587,\n",
       " (12, 14, 20): 0.003620724144828966,\n",
       " (13, 15, 18): 0.004630926185237048,\n",
       " (9, 13, 14): 0.004790958191638328,\n",
       " (7, 11, 15): 0.0046109221844368884,\n",
       " (8, 12, 16): 0.004050810162032407,\n",
       " (8, 17): 0.0019154126330685904,\n",
       " (10, 13, 18): 0.004890978195639129,\n",
       " (11, 19): 0.002773416543058793,\n",
       " (12, 20): 0.0029899077801029687,\n",
       " (11, 14, 16): 0.0032306461292258455,\n",
       " (12, 14, 15, 17): 0.002690189635906781,\n",
       " (7, 17, 18, 19): 0.0027433784981676923,\n",
       " (8, 19, 20): 0.0048209641928385685,\n",
       " (9, 17, 18, 20): 0.0044785940186259365,\n",
       " (14, 15, 18, 20): 0.004053640489333763,\n",
       " (15, 16, 18, 19): 0.004021168499284443,\n",
       " (11, 14, 15): 0.003610722144428886,\n",
       " (12, 15, 16): 0.0032106421284256855,\n",
       " (13, 14, 16): 0.003910782156431287,\n",
       " (9, 17): 0.0015879242193152726,\n",
       " (18, 19): 0.008279246470439263,\n",
       " (19, 20): 0.0019259627335124247,\n",
       " (10, 18, 20): 0.004590918183636728,\n",
       " (16, 20): 0.003995884703907026,\n",
       " (14, 17, 18): 0.0039607921584316865,\n",
       " (16, 17, 18, 19): 0.002800560112022405,\n",
       " (14, 19, 20): 0.003290658131626326,\n",
       " (15, 18, 20): 0.0025685033530972582,\n",
       " (14, 15, 17, 20): 0.0026905381076215247,\n",
       " (15, 16, 18): 0.0024397409774973397,\n",
       " (14,): 0.0027430684913974913,\n",
       " (15, 17): 0.0074480828917688185,\n",
       " (16, 17): 0.007005608270740106,\n",
       " (17, 18, 20): 0.004977876130375279,\n",
       " (14, 15, 18): 0.007781803247004591,\n",
       " (15, 16, 19): 0.0028027322903658625,\n",
       " (14, 16, 20): 0.0073914782956591325,\n",
       " (14, 16): 0.0015043404781690292,\n",
       " (14, 15): 0.0025254838974414014,\n",
       " (15, 16, 17): 0.0010102020404080818,\n",
       " (17, 20): 0.0015683556967095891,\n",
       " (14, 18, 20): 0.000521501653942154,\n",
       " (15, 18, 19): 0.0017843399959291744,\n",
       " (16, 19, 20): 0.0013702740548109623}"
      ]
     },
     "execution_count": 19,
     "metadata": {},
     "output_type": "execute_result"
    }
   ],
   "source": [
    "X_detection_probability"
   ]
  },
  {
   "cell_type": "code",
   "execution_count": null,
   "id": "431e84ef-778e-44b4-8134-695c0cf26462",
   "metadata": {},
   "outputs": [],
   "source": []
  },
  {
   "cell_type": "code",
   "execution_count": null,
   "id": "5aa3b7a3-424f-44ce-a86e-de6b0af150d8",
   "metadata": {},
   "outputs": [],
   "source": []
  },
  {
   "cell_type": "code",
   "execution_count": null,
   "id": "b3a830aa-ff52-463b-8d0e-ca47663f64d1",
   "metadata": {},
   "outputs": [],
   "source": []
  },
  {
   "cell_type": "code",
   "execution_count": null,
   "id": "87db92a1-6679-4d8b-bb98-7815b58ce19d",
   "metadata": {},
   "outputs": [],
   "source": [
    "'''\n",
    "需要求解的: p1; p2; p3; p12; p13; p23; p123;\n",
    "已知的: x1; x2; x3; x12; x13; x23; x123;\n",
    "g(p, q) = p + q - 2 * p * q\n",
    "\n",
    "x1 = p1 *(1-p12)*(1-p13)*(1-p123)+ p12 *(1-p1)*(1-p13)*(1-p123)+ p13 *(1-p1)*(1-p12)*(1-p123) + p123 *(1-p12)*(1-p13)*(1-p1)\n",
    "     + (1-p1)*p12*p13*p123 + (1-p12)*p1*p13*p123 + (1-p13)*p1*p12*p123 + (1-p123) * p12*p13*p1 ;\n",
    "\n",
    "x2 = p2 *(1-p12)*(1-p23)*(1-p123) + p12 *(1-p2)*(1-p23)*(1-p123) + p23 *(1-p2)*(1-p12)*(1-p123) + p123 *(1-p12)*(1-p23)*(1-p2)\n",
    "    + (1-p2) * p12 * p23 * p123 + (1-p12) * p2*p23*p123 + (1-p23)*p2*p12*p123 + (1-p123) * p12*p23*p2 ;\n",
    "\n",
    "x3 = p3 *(1-p13)*(1-p23)*(1-p123) + p13 *(1-p3)*(1-p23)*(1-p123) + p23 *(1-p3)*(1-p13)*(1-p123) + p123 *(1-p13)*(1-p23)*(1-p3)\n",
    "    + (1-p3) * p13*p23*p123 + (1-p13)*p3*p23*p123 + (1-p23)*p3*p13*p123 + (1-p123)* p13*p23*p3 ;\n",
    "\n",
    "\n",
    "x12 = g(p12, p123) * (1 - g(p1, p13)) * (1 - g(p2, p23)) + (1 - g(p12, p123)) * g(p1, p13) * g(p2, p23) ;\n",
    "\n",
    "x23 = g(p23, p123) * (1 - g(p2, p12)) * (1 - g(p3, p13)) + (1 - g(p23, p123)) * g(p2, p12) * g(p3, p13) ;\n",
    "\n",
    "x13 = g(p13, p123) * (1 - g(p1, p12)) * (1 - g(p3, p23)) + (1 - g(p13, p123)) * g(p1, p12) * g(p3, p23) ;\n",
    "\n",
    "x123 = p123 * (1-p1) * (1-p2) * (1-p3) * (1-p12) * (1-p23) * (1-p13)\n",
    "        + p1 * p23 * (1-p123) * (1-p2) * (1-p3) * (1-p13) * (1-p12)\n",
    "        +(1-p1) * p2 * p13 * (1-p123) * (1-p3) * (1-p23) * (1-p12)\n",
    "        +(1-p1) * (1-p2) * p3 * p12 * (1-p123) * (1-p23) * (1-p13)\n",
    "       + higher term\n",
    "'''"
   ]
  },
  {
   "cell_type": "code",
   "execution_count": null,
   "id": "4fc272b2-ecc2-46b0-a61a-55a1808c41b2",
   "metadata": {},
   "outputs": [],
   "source": [
    "'''\n",
    "近似\n",
    "x1 = p1 *(1-p12-p13-p123) + p12 *(1-p1-p13-p123) + p13 *(1-p1-p12-p123) + p123 * (1-p12-p13-p1);\n",
    "\n",
    "x2 = p2 *(1-p12-p23-p123) + p12 *(1-p2-p23-p123) + p23 *(1-p2-p12-p123) + p123 * (1-p12-p23-p2);\n",
    "\n",
    "x3 = p3 *(1-p13-p23-p123) + p13 *(1-p3-p23-p123) + p23 *(1-p3-p13-p123) + p123 * (1-p13-p23-p3);\n",
    "\n",
    "x12 = (p12+p123) * (1-(p1+p13+p2+p23)) + (p1+p13) * (p2+p23)   - 2*p123*p12               ;\n",
    "\n",
    "x23 = (p23+p123) * (1-(p2+p12+p3+p13)) + (p2+p12) * (p3+p13)   - 2*p123*p23               ;\n",
    "\n",
    "x13 = (p13+p123) * (1-(p1+p12+p3+p23)) + (p1+p12) * (p3+p23)   - 2*p123*p13               ;\n",
    "\n",
    "x123 = p123 * (1-p1-p2-p3-p12-p23-p13) + p1 * p23 + p2 * p13 + p3 * p12\n",
    " \n",
    "'''"
   ]
  },
  {
   "cell_type": "code",
   "execution_count": null,
   "id": "e0f5c7a6-0905-48c6-af14-b0085fcb9072",
   "metadata": {},
   "outputs": [],
   "source": []
  },
  {
   "cell_type": "code",
   "execution_count": null,
   "id": "6be0465f-9e4a-4bb4-adb4-355450121005",
   "metadata": {},
   "outputs": [],
   "source": []
  },
  {
   "cell_type": "code",
   "execution_count": null,
   "id": "d15372fb-2de0-4aa3-a74a-e36450230fec",
   "metadata": {
    "scrolled": true
   },
   "outputs": [],
   "source": []
  },
  {
   "cell_type": "code",
   "execution_count": null,
   "id": "a71fb728-3b54-4bd1-96ed-6fb9c1be10b6",
   "metadata": {},
   "outputs": [],
   "source": []
  }
 ],
 "metadata": {
  "kernelspec": {
   "display_name": "QEC",
   "language": "python",
   "name": "qec"
  },
  "language_info": {
   "codemirror_mode": {
    "name": "ipython",
    "version": 3
   },
   "file_extension": ".py",
   "mimetype": "text/x-python",
   "name": "python",
   "nbconvert_exporter": "python",
   "pygments_lexer": "ipython3",
   "version": "3.11.9"
  }
 },
 "nbformat": 4,
 "nbformat_minor": 5
}
