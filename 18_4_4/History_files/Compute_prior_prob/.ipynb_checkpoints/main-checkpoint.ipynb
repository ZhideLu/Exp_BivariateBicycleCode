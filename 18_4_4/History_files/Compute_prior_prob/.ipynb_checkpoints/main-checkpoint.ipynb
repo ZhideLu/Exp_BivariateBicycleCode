{
 "cells": [
  {
   "cell_type": "markdown",
   "id": "8cef1386-2392-4301-a686-df888aea66cc",
   "metadata": {},
   "source": [
    "## In this note, we conisder oringal [[18,4,4]] code with 32 physical qubits, including 18 data qubits and 14 check qubits, as we remove two extra Z check qubits and two extra X check qubits.\n",
    "## We simultaneously prepare all check qubits in the initial step and simultaneously measure all check qubits in the final step of a full cycle of the syndrome measurement circuit. A full cycle of the SM circuit contain 9 layers.\n",
    "## We conisder no reset is perfomed after each syndrome measurement cycle."
   ]
  },
  {
   "cell_type": "code",
   "execution_count": 1,
   "id": "0bb01a3e-153c-4161-a025-9acb48aba9a4",
   "metadata": {},
   "outputs": [],
   "source": [
    "import numpy as np\n",
    "import random\n",
    "from tabulate import tabulate\n",
    "from scipy.sparse import coo_matrix, hstack \n",
    "\n",
    "from bposd.css import css_code\n",
    "from ldpc import bposd_decoder, mod2\n",
    "from mip import Model, xsum, minimize, BINARY, OptimizationStatus\n",
    "import pickle"
   ]
  },
  {
   "cell_type": "code",
   "execution_count": 2,
   "id": "d9096cde-9be6-45ef-bc4f-83de843251ec",
   "metadata": {},
   "outputs": [
    {
     "name": "stdout",
     "output_type": "stream",
     "text": [
      "Testing CSS code...\n",
      "<Unnamed CSS code>, (3,6)-[[18,4,nan]]\n",
      " -Block dimensions: Pass\n",
      " -PCMs commute hz@hx.T==0: Pass\n",
      " -PCMs commute hx@hz.T==0: Pass\n",
      " -lx \\in ker{hz} AND lz \\in ker{hx}: Pass\n",
      " -lx and lz anticommute: Pass\n",
      " -<Unnamed CSS code> is a valid CSS code w/ params (3,6)-[[18,4,nan]]\n",
      "Done\n",
      "Computing code distance...\n",
      "Code parameters: n,k,d= 18 4 4\n",
      "circuit test: OK\n"
     ]
    }
   ],
   "source": [
    "from scipy.optimize import fsolve\n",
    "import itertools\n",
    "from itertools import combinations\n",
    "from itertools import chain\n",
    "from functools import reduce\n",
    "\n",
    "from scipy.io import savemat\n",
    "from scipy.io import loadmat\n",
    "from tabulate import tabulate\n",
    "\n",
    "# from exp_BB  import equations, new_sum, p_ij, correlation_nodes\n",
    "from exp_ldpc import rank2, distance_test, simulate_circuitZ, simulate_circuitX, generate_noisy_circuit\n",
    "# from exp_BB import revised_BB_code, SM_circuit, decoding_matrix_BB_code, num_end, simulate_Zerror_syndrome, simulate_Xerror_syndrome\n",
    "from exp_BB import *"
   ]
  },
  {
   "cell_type": "code",
   "execution_count": null,
   "id": "590b835a-128a-4909-84e0-9e5eb1db1b23",
   "metadata": {},
   "outputs": [],
   "source": []
  },
  {
   "cell_type": "markdown",
   "id": "517da9f8-03b3-49cd-b950-b9bebebe2ee2",
   "metadata": {},
   "source": [
    "## Data from simulation of noisy SM circuits¶ \n",
    "(we do not reset check qubits during the experiment)"
   ]
  },
  {
   "cell_type": "code",
   "execution_count": 60,
   "id": "69c22117-7a16-4cd7-9b4d-185329f09eab",
   "metadata": {},
   "outputs": [],
   "source": [
    "# error_rate_init = 0.000\n",
    "# error_rate_idle = 0.000\n",
    "# error_rate_cnot = 0.003\n",
    "# error_rate_meas = 0.000\n",
    "# num_trials = 100000"
   ]
  },
  {
   "cell_type": "code",
   "execution_count": 43,
   "id": "34a2b907-8d17-4fd3-b979-284fd04f62ed",
   "metadata": {},
   "outputs": [],
   "source": [
    "# number of Monte Carlo trials\n",
    "num_trials = 100000\n",
    "max_cycles = 2; \n",
    "\n",
    "# depolarizing noise model \n",
    "error_rate_init = 0.000\n",
    "error_rate_idle = 0.000\n",
    "error_rate_cnot = 0.003\n",
    "error_rate_meas = 0.000\n",
    "\n",
    "## no reset for check qubits after each SM cycle\n",
    "cycle_no_reset = cycle[2*n2-len(rx)-len(rz):]"
   ]
  },
  {
   "cell_type": "code",
   "execution_count": null,
   "id": "54fdb438-3615-4a1d-9266-00855299c007",
   "metadata": {},
   "outputs": [],
   "source": [
    "Set_Zerror_syndrome_history = {} ;\n",
    "Set_Zerror_syndrome_final_logical = {} ;\n",
    "\n",
    "for num_cycles in range(1, max_cycles):\n",
    "\n",
    "    # full syndrome measurement circuit\n",
    "    # cycle_no_reset_repeated = num_cycles * cycle_no_reset\n",
    "\n",
    "    Zerror_syndrome_history, Zerror_syndrome_final_logical =   \\\n",
    "        simulate_Zerror_syndrome(num_trials, num_cycles, cycle_no_reset, error_rate_init, error_rate_idle, error_rate_cnot, error_rate_meas) ;\n",
    "\n",
    "    Set_Zerror_syndrome_history[num_cycles] = Zerror_syndrome_history\n",
    "    Set_Zerror_syndrome_final_logical[num_cycles] = Zerror_syndrome_final_logical"
   ]
  },
  {
   "cell_type": "code",
   "execution_count": 45,
   "id": "87db2c0c-ea07-4a9c-856e-332d42b13895",
   "metadata": {},
   "outputs": [],
   "source": [
    "Set_Xerror_syndrome_history = {} ;\n",
    "Set_Xerror_syndrome_final_logical = {} ;\n",
    "\n",
    "for num_cycles in range(1, max_cycles):\n",
    "\n",
    "    # full syndrome measurement circuit\n",
    "    # cycle_no_reset_repeated = num_cycles * cycle_no_reset\n",
    "\n",
    "    Xerror_syndrome_history, Xerror_syndrome_final_logical =   \\\n",
    "        simulate_Xerror_syndrome(num_trials, num_cycles, cycle_no_reset, error_rate_init, error_rate_idle, error_rate_cnot, error_rate_meas) ;\n",
    "\n",
    "    Set_Xerror_syndrome_history[num_cycles] = Xerror_syndrome_history\n",
    "    Set_Xerror_syndrome_final_logical[num_cycles] = Xerror_syndrome_final_logical"
   ]
  },
  {
   "cell_type": "code",
   "execution_count": null,
   "id": "b13afdfe-bb41-43d1-a1fb-7cfe00b1f1d5",
   "metadata": {
    "scrolled": true
   },
   "outputs": [],
   "source": []
  },
  {
   "cell_type": "markdown",
   "id": "e1d829e6-5262-48f7-b0c6-53a09c79656d",
   "metadata": {},
   "source": [
    "## Calculate the error probability\n",
    "based on the expectation values of detections in syndrome_history"
   ]
  },
  {
   "cell_type": "code",
   "execution_count": 46,
   "id": "e9a726ad-557e-41b0-ad5d-e4af6ade4a72",
   "metadata": {},
   "outputs": [
    {
     "name": "stdout",
     "output_type": "stream",
     "text": [
      "Number of Z noisy circuits= 344\n",
      "Number of X noisy circuits= 344\n",
      "Number of distinct X-syndrome histories= 89\n",
      "Number of distinct Z-syndrome histories= 89\n"
     ]
    }
   ],
   "source": [
    "# Set_Xerror_syndrome_list = {} ;\n",
    "Set_Xerror_syndrome_probability_list = {}  ;\n",
    "Set_Zerror_syndrome_probability_list = {}  ;\n",
    "\n",
    "for num_cycles in range(1, max_cycles):\n",
    "    decoding_matrix = decoding_matrix_BB_code(k, nbs, cycle, num_cycles, lin_order,data_qubits,Zchecks,Xchecks,\n",
    "                                              error_rate_init,error_rate_idle,error_rate_cnot,error_rate_meas, lz, lx  )\n",
    "    \n",
    "    Xerror_syndrome_list = [ _ for _ in decoding_matrix.HXdict] ;\n",
    "    Xerror_syndrome_list = [ tuple(num for num in item if num < (n2-len(rz))*(num_cycles + num_end) ) for item in Xerror_syndrome_list]\n",
    "    Xerror_syndrome_history = Set_Xerror_syndrome_history[num_cycles] ;\n",
    "    \n",
    "    temp1 = DetectionToSyndromeProbability(num_trials, num_cycles, Xerror_syndrome_list, Xerror_syndrome_history)\n",
    "    Set_Xerror_syndrome_probability_list[num_cycles] = temp1.syndrome_probability_list ;\n",
    "#-----------------------------------------------------------------------------------------------------------------------------\n",
    "    # Zerror_syndrome_list = [ _ for _ in decoding_matrix.HZdict] ;\n",
    "    # Zerror_syndrome_list = [ tuple(num for num in item if num < (n2-len(rx))*(num_cycles + num_end) ) for item in Zerror_syndrome_list]\n",
    "    # Zerror_syndrome_history = Set_Zerror_syndrome_history[num_cycles] ;\n",
    "\n",
    "    # temp2 = DetectionToSyndromeProbability(num_trials, num_cycles, Zerror_syndrome_list, Zerror_syndrome_history)\n",
    "    # Set_Zerror_syndrome_probability_list[num_cycles] = temp2.syndrome_probability_list ;"
   ]
  },
  {
   "cell_type": "code",
   "execution_count": null,
   "id": "c3be5268-ae71-437d-ac3a-9467d32b3923",
   "metadata": {
    "scrolled": true
   },
   "outputs": [],
   "source": [
    "# Set_Xerror_syndrome_probability_list[1]\n",
    "# list( Set_Xerror_syndrome_probability_list[1].values() )"
   ]
  },
  {
   "cell_type": "code",
   "execution_count": 49,
   "id": "107295c6-cf90-419d-b719-24199012076f",
   "metadata": {
    "scrolled": true
   },
   "outputs": [
    {
     "data": {
      "text/plain": [
       "{(0, 7): 0.005072402331105286,\n",
       " (1, 8): 0.004373981033223562,\n",
       " (2, 9): 0.004844123399850131,\n",
       " (3, 10): 0.004912303149101183,\n",
       " (4, 11): 0.004771626112896943,\n",
       " (5, 12): 0.00468216428025281,\n",
       " (6, 13): 0.005069884632015076,\n",
       " (0, 1, 4): 0.0031566445805725715,\n",
       " (1, 2, 5): 0.0028003500437554694,\n",
       " (0, 2, 6): 0.000981372671583948,\n",
       " (0,): 0.0024945980753236776,\n",
       " (1, 3): 0.003413057288425416,\n",
       " (2, 3): 0.0031215559286423833,\n",
       " (4, 5): 0.0032581148661043583,\n",
       " (5, 6): 0.003151906812424437,\n",
       " (3, 4, 6): 0.0008063507938492312,\n",
       " (0, 2): 0.0008310006873133135,\n",
       " (0, 1): 0.0009357795527280593,\n",
       " (1, 2, 3): 0.0009313664208026003,\n",
       " (3, 4): 0.0009111026657848933,\n",
       " (5,): 0.0009469980273855139,\n",
       " (3, 6): 0.0010054972810130086,\n",
       " (0, 4, 6): 0.0007125890736342043,\n",
       " (1, 4, 5): 0.0007750968871108888,\n",
       " (2, 5, 6): 0.0007313414176772097,\n",
       " (4, 6, 7): 0.0014626828353544194,\n",
       " (4, 5, 8): 0.0014064258032254033,\n",
       " (5, 6, 9): 0.0017127140892611577,\n",
       " (1, 2, 10): 0.001525190648831104,\n",
       " (3, 11): 0.0016742013623690442,\n",
       " (12,): 0.0034244787079830037,\n",
       " (3, 13): 0.0033938978740203785,\n",
       " (): 0,\n",
       " (1, 7): 0.00427894667315476,\n",
       " (2, 8, 10): 0.003312914114264283,\n",
       " (0, 9): 0.0032961674706561417,\n",
       " (10, 11): 0.0029430922937974347,\n",
       " (5, 8, 11): 0.003800475059382423,\n",
       " (6, 9, 12): 0.0019439929991248905,\n",
       " (4, 7, 13): 0.0030878859857482186,\n",
       " (1, 4, 9): 0.0018564820602575323,\n",
       " (2, 5, 7): 0.0017627203400425054,\n",
       " (0, 10, 11): 0.001681815091186638,\n",
       " (1, 3, 12): 0.0015876984623077884,\n",
       " (2, 13): 0.0013427806125407434,\n",
       " (5, 7, 13): 0.00182522815351919,\n",
       " (6, 8, 11): 0.001975246905863233,\n",
       " (2, 6, 7): 0.001537692211526441,\n",
       " (0, 4, 8): 0.001593949243655457,\n",
       " (1, 5, 9): 0.0015564445555694463,\n",
       " (1, 10): 0.0012022459939751665,\n",
       " (3, 6, 11): 0.0016189523690461308,\n",
       " (4, 12): 0.001646724096945662,\n",
       " (5, 13): 0.0014409868609256736,\n",
       " (4, 7, 9): 0.0018439804975621953,\n",
       " (5, 7, 8, 10): 0.0012814434217464643,\n",
       " (0, 10, 11, 12): 0.0015425257891641397,\n",
       " (1, 12, 13): 0.0017877234654331792,\n",
       " (2, 10, 11, 13): 0.001548982482368788,\n",
       " (7, 8, 11, 13): 0.0017609954187074064,\n",
       " (8, 9, 11, 12): 0.0012781453356479231,\n",
       " (4, 7, 8): 0.0018189773721715215,\n",
       " (5, 8, 9): 0.001593949243655457,\n",
       " (6, 7, 9): 0.0017127140892611577,\n",
       " (2, 10): 0.0014842416248750773,\n",
       " (11, 12): 0.003507050858116256,\n",
       " (12, 13): 0.0016619816740238757,\n",
       " (3, 11, 13): 0.00182522815351919,\n",
       " (9, 13): 0.0014808854462241491,\n",
       " (7, 10, 11): 0.001593949243655457,\n",
       " (9, 10, 11, 12): 0.0018502312789098637,\n",
       " (7, 12, 13): 0.0014876859607450932,\n",
       " (8, 11, 13): 0.00151976661155176,\n",
       " (7, 8, 10, 13): 0.0016814601825228153,\n",
       " (8, 9, 11): 0.0017642443206176293,\n",
       " (7,): 0.00382744024458983,\n",
       " (8, 10): 0.004175928287583348,\n",
       " (9, 10): 0.0033028906552821534,\n",
       " (10, 11, 13): 0.0038950131229471855,\n",
       " (7, 8, 11): 0.003890913117237631,\n",
       " (8, 9, 12): 0.0016702423039242462,\n",
       " (7, 9, 13): 0.003500437554694337,\n",
       " (7, 9): 0.0005761119489194248,\n",
       " (7, 8): 0.0006534699146383772,\n",
       " (8, 9, 10): 0.0008063507938492312,\n",
       " (10, 13): 0.0005514430895761198,\n",
       " (7, 11, 13): 0.0008862063018314614,\n",
       " (8, 11, 12): 0.0010059613859576717,\n",
       " (9, 12, 13): 0.0007125890736342043}"
      ]
     },
     "execution_count": 49,
     "metadata": {},
     "output_type": "execute_result"
    }
   ],
   "source": [
    "Set_Xerror_syndrome_probability_list[1]"
   ]
  },
  {
   "cell_type": "code",
   "execution_count": null,
   "id": "e8061f77-6857-4248-aa8b-4d5bc6534d22",
   "metadata": {},
   "outputs": [],
   "source": []
  },
  {
   "cell_type": "code",
   "execution_count": 48,
   "id": "f21154ec-0640-4cd4-b31b-44d17bc3f4ed",
   "metadata": {},
   "outputs": [
    {
     "data": {
      "text/plain": [
       "'\\nX_detection_list   X_detection_way    X_detect_expectation    X_detection_probability\\nsyndrome_list   syndrome_four_ele_property   detect_expectation    syndrome_probability_list\\n'"
      ]
     },
     "execution_count": 48,
     "metadata": {},
     "output_type": "execute_result"
    }
   ],
   "source": [
    "\"\"\"\n",
    "X_detection_list   X_detection_way    X_detect_expectation    X_detection_probability\n",
    "syndrome_list   syndrome_four_ele_property   detect_expectation    syndrome_probability_list\n",
    "\"\"\""
   ]
  },
  {
   "cell_type": "code",
   "execution_count": null,
   "id": "0312be70-b754-4be7-9103-2c46ada58ac9",
   "metadata": {
    "scrolled": true
   },
   "outputs": [],
   "source": []
  },
  {
   "cell_type": "markdown",
   "id": "18fb056a-3ace-4ba9-8c7a-cfbf7a77be24",
   "metadata": {},
   "source": [
    "## Decoding error syndromes"
   ]
  },
  {
   "cell_type": "code",
   "execution_count": 56,
   "id": "92588697-e013-422c-80ce-6858c6d9724b",
   "metadata": {},
   "outputs": [
    {
     "name": "stdout",
     "output_type": "stream",
     "text": [
      "Number of Z noisy circuits= 344\n",
      "Number of X noisy circuits= 344\n",
      "Number of distinct X-syndrome histories= 89\n",
      "Number of distinct Z-syndrome histories= 89\n"
     ]
    }
   ],
   "source": [
    "Set_bpdX = {} ;\n",
    "Set_bpdZ = {} ;\n",
    "Set_HZ = {}  ;\n",
    "Set_HX = {}  ;\n",
    "for num_cycles in range(1, max_cycles):\n",
    "    \n",
    "    decoding_matrix = decoding_matrix_BB_code(k, nbs, cycle, num_cycles, lin_order, data_qubits, Zchecks, Xchecks,\n",
    "                                        error_rate_init, error_rate_idle, error_rate_cnot, error_rate_meas, lz, lx)\n",
    "\n",
    "    Set_HZ[num_cycles] = decoding_matrix.HZ ;  Set_HX[num_cycles] = decoding_matrix.HX ;\n",
    "    \n",
    "    bpdX = bposd_decoder(\n",
    "        decoding_matrix.HdecX,  #the parity check matrix\n",
    "        channel_probs = list(Set_Xerror_syndrome_probability_list[num_cycles].values()) ,\n",
    "        max_iter=my_max_iter, bp_method=my_bp_method, ms_scaling_factor=my_ms_scaling_factor, osd_method=my_osd_method, \n",
    "        osd_order=my_osd_order \n",
    "        )\n",
    "    Set_bpdX[num_cycles] = bpdX ;\n",
    "\n",
    "    bpdZ = bposd_decoder(\n",
    "        decoding_matrix.HdecZ,  \n",
    "        channel_probs = list(Set_Zerror_syndrome_probability_list[num_cycles].values()) ,\n",
    "        max_iter=my_max_iter, bp_method=my_bp_method, ms_scaling_factor=my_ms_scaling_factor, osd_method=my_osd_method,  \n",
    "        osd_order=my_osd_order \n",
    "        )\n",
    "    Set_bpdZ[num_cycles] = bpdZ ;"
   ]
  },
  {
   "cell_type": "code",
   "execution_count": null,
   "id": "477ead97-c222-44f1-a398-b60892b70661",
   "metadata": {
    "scrolled": true
   },
   "outputs": [],
   "source": []
  },
  {
   "cell_type": "code",
   "execution_count": null,
   "id": "5ce9313d-cddc-4901-b2a2-4a78c558d909",
   "metadata": {
    "scrolled": true
   },
   "outputs": [],
   "source": []
  },
  {
   "cell_type": "code",
   "execution_count": null,
   "id": "a7adadf0-b01a-4df4-8f74-c75e93d2f5c5",
   "metadata": {},
   "outputs": [],
   "source": [
    "# correct Z-type error\n",
    "Z_error_correction = {} ;\n",
    "Z_no_error_correction = {} ;\n",
    "for num_cycles in range(1, max_cycles):\n",
    "\n",
    "    Z_good_trials = 0\n",
    "    Z_good_list = [0, 0, 0, 0] ;\n",
    "    \n",
    "    Z_no_correction_good_list = [0, 0, 0, 0] ;\n",
    "    Z_no_correction_good_trials = 0\n",
    "    \n",
    "    for trial in range(num_trials):\n",
    "        syndrome_history = Set_Zerror_syndrome_history[num_cycles][trial]\n",
    "        syndrome_final_logical = Set_Zerror_syndrome_final_logical[num_cycles][trial]\n",
    "        \n",
    "        Z_no_correction_good_list += ( syndrome_final_logical == np.array([0, 0, 0, 0])  )\n",
    "        if np.array_equal( syndrome_final_logical, np.array([0, 0, 0, 0]) ):\n",
    "            assert(  all(cc == 0 for cc in syndrome_final_logical )  )\n",
    "            Z_no_correction_good_trials+=1\n",
    "\n",
    "        bpdZ = Set_bpdZ[num_cycles] ;\n",
    "        bpdZ.decode(syndrome_history)\n",
    "        low_weight_error = bpdZ.osdw_decoding\n",
    "        \n",
    "        syndrome_history_augmented_guessed = (Set_HZ[num_cycles] @ low_weight_error) % 2\n",
    "        syndrome_final_logical_guessed = syndrome_history_augmented_guessed[len(syndrome_history):(len(syndrome_history)+k)]  \n",
    "        \n",
    "        ec_resultZ = np.array_equal(syndrome_final_logical_guessed, syndrome_final_logical)\n",
    "        correct_z = (syndrome_final_logical_guessed + syndrome_final_logical)   % 2\n",
    "        \n",
    "        Z_good_list += ( correct_z == np.array([0, 0, 0, 0])  )\n",
    "    \n",
    "        if ec_resultZ:\n",
    "            assert(  all(cc == 0 for cc in correct_z )  )\n",
    "            Z_good_trials+=1\n",
    "    \n",
    "    print(Z_no_correction_good_trials/num_trials)\n",
    "    print(Z_good_trials/num_trials)\n",
    "    \n",
    "    Z_error_correction[num_cycles] = {\"logical error propability\": Z_good_trials/num_trials,\n",
    "                                      \"good_trials\": Z_good_trials,\n",
    "                                      \"good_list\": Z_good_list } ;\n",
    "    \n",
    "    \n",
    "    Z_no_error_correction[num_cycles] = {\"error propability\": Z_no_correction_good_trials/num_trials,\n",
    "                                         \"good_trials\": Z_no_correction_good_trials,\n",
    "                                         \"good_list\": Z_no_correction_good_list   } ;"
   ]
  },
  {
   "cell_type": "code",
   "execution_count": null,
   "id": "10624435-5f70-40b7-b747-cb735c7dbdd5",
   "metadata": {},
   "outputs": [],
   "source": []
  },
  {
   "cell_type": "code",
   "execution_count": 57,
   "id": "8c633f1c-0067-4ff9-accd-49718e9050a8",
   "metadata": {},
   "outputs": [
    {
     "name": "stdout",
     "output_type": "stream",
     "text": [
      "0.89027\n",
      "0.99575\n"
     ]
    }
   ],
   "source": [
    "# correct X-type error\n",
    "X_error_correction = {} ;\n",
    "X_no_error_correction = {} ;\n",
    "for num_cycles in range(1, max_cycles):\n",
    "\n",
    "    X_good_trials=0\n",
    "    X_good_list = [0, 0, 0, 0] ;\n",
    "    \n",
    "    X_no_correction_good_list = [0, 0, 0, 0] ;\n",
    "    X_no_correction_good_trials = 0\n",
    "    \n",
    "    for trial in range(num_trials):\n",
    "        syndrome_history = Set_Xerror_syndrome_history[num_cycles][trial]\n",
    "        syndrome_final_logical = Set_Xerror_syndrome_final_logical[num_cycles][trial]\n",
    "        \n",
    "        X_no_correction_good_list += ( syndrome_final_logical == np.array([0, 0, 0, 0])  )\n",
    "        if np.array_equal( syndrome_final_logical, np.array([0, 0, 0, 0]) ):\n",
    "            assert(  all(cc == 0 for cc in syndrome_final_logical )  )\n",
    "            X_no_correction_good_trials+=1\n",
    "\n",
    "        bpdX = Set_bpdX[num_cycles] ;\n",
    "        bpdX.decode(syndrome_history)\n",
    "        low_weight_error = bpdX.osdw_decoding\n",
    "        \n",
    "        syndrome_history_augmented_guessed = (Set_HX[num_cycles] @ low_weight_error) % 2\n",
    "        syndrome_final_logical_guessed = syndrome_history_augmented_guessed[len(syndrome_history):(len(syndrome_history)+k)]  \n",
    "        \n",
    "        ec_resultX = np.array_equal(syndrome_final_logical_guessed, syndrome_final_logical)\n",
    "        correct_x = (syndrome_final_logical_guessed + syndrome_final_logical)   % 2\n",
    "        \n",
    "        X_good_list += ( correct_x == np.array([0, 0, 0, 0])  )\n",
    "    \n",
    "        if ec_resultX:\n",
    "            assert(  all(cc == 0 for cc in correct_x )  )\n",
    "            X_good_trials+=1\n",
    "    \n",
    "    print(X_no_correction_good_trials/num_trials)\n",
    "    print(X_good_trials/num_trials)\n",
    "    \n",
    "    X_error_correction[num_cycles] = {\"logical error propability\": X_good_trials/num_trials,\n",
    "                                      \"good_trials\": X_good_trials,\n",
    "                                      \"good_list\": X_good_list } ;\n",
    "    \n",
    "    \n",
    "    X_no_error_correction[num_cycles] = {\"error propability\": X_no_correction_good_trials/num_trials,\n",
    "                                         \"good_trials\": X_no_correction_good_trials,\n",
    "                                         \"good_list\": X_no_correction_good_list   } ;    "
   ]
  },
  {
   "cell_type": "code",
   "execution_count": null,
   "id": "9928f3da-e4d3-42ee-88a6-1ab8e82dd6a4",
   "metadata": {},
   "outputs": [],
   "source": []
  },
  {
   "cell_type": "markdown",
   "id": "30995fae-30c8-4954-a4ba-d12d81b90d26",
   "metadata": {},
   "source": [
    "## Save the data"
   ]
  },
  {
   "cell_type": "code",
   "execution_count": null,
   "id": "270429b0-cb2c-45cc-87c2-d08233bee160",
   "metadata": {},
   "outputs": [],
   "source": [
    "# savemat('Set_syndrome_history.mat', \n",
    "#         {  'Correct_X_trial_syndrome_history': Correct_X_trial_syndrome_history\n",
    "#         })"
   ]
  },
  {
   "cell_type": "code",
   "execution_count": null,
   "id": "dd17d42d-e3ff-4d04-98a2-d8903dc23a36",
   "metadata": {
    "scrolled": true
   },
   "outputs": [],
   "source": []
  },
  {
   "cell_type": "code",
   "execution_count": null,
   "id": "3589e3c3-5968-4156-9a4b-8226851a9ed7",
   "metadata": {},
   "outputs": [],
   "source": []
  },
  {
   "cell_type": "code",
   "execution_count": null,
   "id": "69ff68da-bfb0-460a-8553-d567b61254ed",
   "metadata": {},
   "outputs": [],
   "source": []
  }
 ],
 "metadata": {
  "kernelspec": {
   "display_name": "QEC",
   "language": "python",
   "name": "qec"
  },
  "language_info": {
   "codemirror_mode": {
    "name": "ipython",
    "version": 3
   },
   "file_extension": ".py",
   "mimetype": "text/x-python",
   "name": "python",
   "nbconvert_exporter": "python",
   "pygments_lexer": "ipython3",
   "version": "3.11.9"
  }
 },
 "nbformat": 4,
 "nbformat_minor": 5
}
