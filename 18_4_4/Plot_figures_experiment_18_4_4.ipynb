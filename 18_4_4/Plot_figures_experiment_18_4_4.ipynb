{
 "cells": [
  {
   "cell_type": "code",
   "execution_count": null,
   "id": "97121df1-363e-489f-a02c-e69a05733e68",
   "metadata": {},
   "outputs": [],
   "source": [
    "import numpy as np\n",
    "from tabulate import tabulate\n",
    "import os\n",
    "import sys\n",
    "# print(sys.executable)\n",
    "from scipy.io import savemat\n",
    "from scipy.io import loadmat\n",
    "from scipy.optimize import curve_fit\n",
    "from matplotlib import font_manager \n",
    "font_manager.fontManager.addfont('Arial.ttf')"
   ]
  },
  {
   "cell_type": "code",
   "execution_count": null,
   "id": "6f5d17da-d7e5-4f32-8158-62cc840d8df9",
   "metadata": {
    "scrolled": true
   },
   "outputs": [],
   "source": [
    "# %pip list\n",
    "# !python -V"
   ]
  },
  {
   "cell_type": "code",
   "execution_count": null,
   "id": "edce1f9e-923d-4886-95a9-c5b84d191230",
   "metadata": {},
   "outputs": [],
   "source": []
  },
  {
   "cell_type": "code",
   "execution_count": null,
   "id": "f6a24007-8ba6-487a-b635-3a586db668b5",
   "metadata": {},
   "outputs": [],
   "source": [
    "n2 = 9 ;\n",
    "k = 4 ;\n",
    "remove_X_list = [2,8] ;  remove_Z_list = [3,4] ;"
   ]
  },
  {
   "cell_type": "code",
   "execution_count": null,
   "id": "c53c2131-4662-4919-a035-5b33088acfdc",
   "metadata": {},
   "outputs": [],
   "source": [
    "import pickle\n",
    "import matplotlib.pyplot as plt \n",
    "from matplotlib.ticker import MaxNLocator\n",
    "import matplotlib.pyplot as plt\n",
    "import matplotlib as mpl\n",
    "import matplotlib.ticker as ticker"
   ]
  },
  {
   "cell_type": "code",
   "execution_count": null,
   "id": "7761ad2e-c0b4-4050-b68a-d2be39e1c40a",
   "metadata": {},
   "outputs": [],
   "source": [
    "max_num_cycles = 6 ;"
   ]
  },
  {
   "cell_type": "code",
   "execution_count": null,
   "id": "633a06b5-6b24-4337-bc17-6f54fb01894f",
   "metadata": {
    "scrolled": true
   },
   "outputs": [],
   "source": [
    "# import subprocess\n",
    "# script = \"ErrorCorrection_for_experiment_18_4_4.py\"\n",
    "# cycles = range(1, max_num_cycles+1)\n",
    "\n",
    "# processes = []\n",
    "# for cycle in cycles:\n",
    "#     p = subprocess.Popen([sys.executable, script, str(cycle)])\n",
    "#     processes.append(p)\n",
    "\n",
    "# for p in processes:\n",
    "#     p.wait()"
   ]
  },
  {
   "cell_type": "code",
   "execution_count": null,
   "id": "de717a20-8e3d-456f-b6d0-9e75ef05aaae",
   "metadata": {},
   "outputs": [],
   "source": []
  },
  {
   "cell_type": "markdown",
   "id": "da5c8732-23b4-491b-9921-0dc61de0a14d",
   "metadata": {},
   "source": [
    "## Load the results"
   ]
  },
  {
   "cell_type": "code",
   "execution_count": null,
   "id": "ada44d29-224c-4919-a5a7-261b9519c3b1",
   "metadata": {},
   "outputs": [],
   "source": [
    "set_exp_x_devents = {}\n",
    "set_exp_num_x = []\n",
    "for cycle in range(1, max_num_cycles+1):\n",
    "    fname = './Experimental_results/' + 'Logical_X_' + 'num_cycles_' + str(cycle) + '.mat'\n",
    "    data = loadmat(fname)\n",
    "    set_exp_x_devents[f\"cycle_{cycle}\"] = data['dict_cycle_x_devents']\n",
    "    set_exp_num_x.append(data['num_instance_x'][0][0])"
   ]
  },
  {
   "cell_type": "code",
   "execution_count": null,
   "id": "ff6425dc-b6a0-42a1-b27f-885970080c9d",
   "metadata": {},
   "outputs": [],
   "source": [
    "set_exp_z_devents = {}\n",
    "set_exp_num_z = []\n",
    "for cycle in range(1, max_num_cycles+1):\n",
    "    fname = './Experimental_results/' + 'Logical_Z_' + 'num_cycles_' + str(cycle) + '.mat'\n",
    "    data = loadmat(fname)\n",
    "    set_exp_z_devents[f\"cycle_{cycle}\"] = data['dict_cycle_z_devents']\n",
    "    set_exp_num_z.append(data['num_instance_z'][0][0])"
   ]
  },
  {
   "cell_type": "code",
   "execution_count": null,
   "id": "d62c6ebb-6165-4edb-b3a7-77947af3c0b5",
   "metadata": {},
   "outputs": [],
   "source": []
  },
  {
   "cell_type": "code",
   "execution_count": null,
   "id": "09fc8d34-df3d-462b-80c9-affa31ebf976",
   "metadata": {},
   "outputs": [],
   "source": [
    "exp_X_logic_error = [];\n",
    "exp_X_logic_error_perbit = [] ;\n",
    "for cycle in range(1, max_num_cycles+1):\n",
    "    fname = './Experimental_results/' + 'Logical_X_' + 'num_cycles_' + str(cycle) + '.mat'\n",
    "    data = loadmat(fname)\n",
    "    exp_X_logic_error.append( data['logical_error_probability'][0][0] )\n",
    "    exp_X_logic_error_perbit.append(data['logical_error_probability_per_qubit'][0])"
   ]
  },
  {
   "cell_type": "code",
   "execution_count": null,
   "id": "4937a885-5ef2-4abf-abf2-42d4829503d9",
   "metadata": {},
   "outputs": [],
   "source": [
    "exp_Z_logic_error = [];\n",
    "exp_Z_logic_error_perbit  = [] ;\n",
    "for cycle in range(1, max_num_cycles+1):\n",
    "    fname = './Experimental_results/' + 'Logical_Z_' + 'num_cycles_' + str(cycle) + '.mat'\n",
    "    data = loadmat(fname)\n",
    "    exp_Z_logic_error.append( data['logical_error_probability'][0][0]  )\n",
    "    exp_Z_logic_error_perbit.append(data['logical_error_probability_per_qubit'][0])"
   ]
  },
  {
   "cell_type": "code",
   "execution_count": null,
   "id": "89c5e124-853a-42e8-8929-47d0faa24a78",
   "metadata": {},
   "outputs": [],
   "source": []
  },
  {
   "cell_type": "code",
   "execution_count": null,
   "id": "2cee7608-3bdc-4c3b-8186-9a9a46b55211",
   "metadata": {},
   "outputs": [],
   "source": [
    "# Pauli+ sim results\n",
    "sim_Z_logic_error = [];\n",
    "sim_Z_logic_error_perbit = [] ;\n",
    "for cycle in range(1, max_num_cycles+1):\n",
    "    fname = './Pauli_plus_simulation/Numerical_results/' + 'Logical_Z_' + 'num_cycles_' + str(cycle) + '.mat'\n",
    "    data = loadmat(fname)\n",
    "    sim_Z_logic_error.append( data['logical_error_probability'][0][0]  )\n",
    "    sim_Z_logic_error_perbit.append(data['logical_error_probability_per_qubit'][0])\n",
    "\n",
    "sim_X_logic_error = [];\n",
    "sim_X_logic_error_perbit = [] ;\n",
    "for cycle in range(1, max_num_cycles+1):\n",
    "    fname = './Pauli_plus_simulation/Numerical_results/' + 'Logical_X_' + 'num_cycles_' + str(cycle) + '.mat'\n",
    "    data = loadmat(fname)\n",
    "    sim_X_logic_error.append( data['logical_error_probability'][0][0] )\n",
    "    sim_X_logic_error_perbit.append(data['logical_error_probability_per_qubit'][0])"
   ]
  },
  {
   "cell_type": "code",
   "execution_count": null,
   "id": "0dc60cf4-f1a1-4bb0-b12a-afcf764d8029",
   "metadata": {},
   "outputs": [],
   "source": [
    "set_sim_num_z = [] ; set_sim_num_x = [] ;\n",
    "z_retained_frac = [] ; x_retained_frac = [] ;\n",
    "\n",
    "set_sim_syndrome_Z = {}\n",
    "for cycle in range(1, max_num_cycles+1):\n",
    "    fname = './Pauli_plus_simulation/Numerical_data/' + 'Logical_Z_' + 'num_cycles_' + str(cycle) + '.mat'\n",
    "    data = loadmat(fname)\n",
    "    set_sim_syndrome_Z[f\"cycle_{cycle}\"] = data['syndrome_history_Z']\n",
    "    set_sim_num_z.append(data[\"retained_num_samples\"][0][0])\n",
    "    z_retained_frac.append(data[\"retain_data_fraction\"][0][0])\n",
    "\n",
    "set_sim_syndrome_X = {}\n",
    "for cycle in range(1, max_num_cycles+1):\n",
    "    fname = './Pauli_plus_simulation/Numerical_data/' + 'Logical_X_' + 'num_cycles_' + str(cycle) + '.mat'\n",
    "    data = loadmat(fname)\n",
    "    set_sim_syndrome_X[f\"cycle_{cycle}\"] = data['syndrome_history_X']\n",
    "    set_sim_num_x.append(data[\"retained_num_samples\"][0][0])\n",
    "    x_retained_frac.append(data[\"retain_data_fraction\"][0][0])"
   ]
  },
  {
   "cell_type": "code",
   "execution_count": null,
   "id": "0ac16cd7-0820-441a-80d5-707129c7258b",
   "metadata": {},
   "outputs": [],
   "source": []
  },
  {
   "cell_type": "code",
   "execution_count": null,
   "id": "37ce0e5f-c2f0-4145-92fd-212304b3a18c",
   "metadata": {},
   "outputs": [],
   "source": [
    "# pauli sim results\n",
    "set_pauli_sim_num_z = [40000] * max_num_cycles ;\n",
    "set_pauli_sim_num_x = [40000] * max_num_cycles ;\n",
    "\n",
    "set_pauli_sim_syndrome_Z = {}\n",
    "for cycle in range(1, max_num_cycles+1):\n",
    "    fname = './Numerical_data/' + 'Logical_Z_' + 'num_cycles_' + str(cycle) + '.mat'\n",
    "    data = loadmat(fname)\n",
    "    set_pauli_sim_syndrome_Z[f\"cycle_{cycle}\"] = data['syndrome_history_Z'] ;\n",
    "\n",
    "set_pauli_sim_syndrome_X = {}\n",
    "for cycle in range(1, max_num_cycles+1):\n",
    "    fname = './Numerical_data/' + 'Logical_X_' + 'num_cycles_' + str(cycle) + '.mat'\n",
    "    data = loadmat(fname)\n",
    "    set_pauli_sim_syndrome_X[f\"cycle_{cycle}\"] = data['syndrome_history_X'] ;"
   ]
  },
  {
   "cell_type": "code",
   "execution_count": null,
   "id": "9037ee6b-d677-426b-9d6f-1bc25f08e4bd",
   "metadata": {},
   "outputs": [],
   "source": [
    "pauli_sim_Z_logic_error = [];\n",
    "pauli_sim_Z_logic_error_perbit = [] ;\n",
    "for cycle in range(1, max_num_cycles+1):\n",
    "    fname = './Numerical_results/' + 'Logical_Z_' + 'num_cycles_' + str(cycle) + '.mat'\n",
    "    data = loadmat(fname)\n",
    "    pauli_sim_Z_logic_error.append( data['logical_error_probability'][0][0]  )\n",
    "    pauli_sim_Z_logic_error_perbit.append(data['logical_error_probability_per_qubit'][0])\n",
    "\n",
    "pauli_sim_X_logic_error = [];\n",
    "pauli_sim_X_logic_error_perbit = [] ;\n",
    "for cycle in range(1, max_num_cycles+1):\n",
    "    fname = './Numerical_results/' + 'Logical_X_' + 'num_cycles_' + str(cycle) + '.mat'\n",
    "    data = loadmat(fname)\n",
    "    pauli_sim_X_logic_error.append( data['logical_error_probability'][0][0] )\n",
    "    pauli_sim_X_logic_error_perbit.append(data['logical_error_probability_per_qubit'][0])"
   ]
  },
  {
   "cell_type": "code",
   "execution_count": null,
   "id": "cf565e01-5ba3-4a15-bff3-03749b4da6b1",
   "metadata": {},
   "outputs": [],
   "source": []
  },
  {
   "cell_type": "markdown",
   "id": "7e496481-efab-4257-8dc3-93e8e27bab81",
   "metadata": {},
   "source": [
    "## Error detection probability"
   ]
  },
  {
   "cell_type": "code",
   "execution_count": null,
   "id": "9e0a5059-9bed-45c8-bb6f-ef21f1dce0a5",
   "metadata": {},
   "outputs": [],
   "source": [
    "# exp logical Z state\n",
    "labels_z = ['Z0', 'Z1', 'Z2', 'X5', 'Z6', 'Z7', 'Z8']\n",
    "\n",
    "exp_z_detect = [np.mean(np.mean(set_exp_z_devents[f\"cycle_{max_num_cycles}\"][f'cycle_{cycle}'][0][0], axis=0)) \\\n",
    "                      for cycle in range(1, max_num_cycles+1)]\n",
    "exp_z_detect += [np.mean(np.mean(set_exp_z_devents[f\"cycle_{max_num_cycles}\"]['final'][0][0], axis=0)) ]\n",
    "\n",
    "# for cycle, prob in  zip(range(1, max_num_cycles+2), exp_z_detect):\n",
    "#     print( f'The mean probability of error detection in cycle {cycle} is:', prob )\n",
    "\n",
    "exp_per_z_detect = [ np.mean(set_exp_z_devents[f\"cycle_{max_num_cycles}\"][f'cycle_{cycle}'][0][0], axis=0)  \\\n",
    "         for cycle in range(1, max_num_cycles+1) ] +  \\\n",
    "            [ np.mean(set_exp_z_devents[f\"cycle_{max_num_cycles}\"]['final'][0][0], axis=0) ]"
   ]
  },
  {
   "cell_type": "code",
   "execution_count": null,
   "id": "84291de2-9ff1-4512-b001-8d969eb95e6f",
   "metadata": {},
   "outputs": [],
   "source": []
  },
  {
   "cell_type": "code",
   "execution_count": null,
   "id": "d31cacc1-4732-4850-8407-8aedc41b9bad",
   "metadata": {},
   "outputs": [],
   "source": [
    "np.mean(exp_z_detect)\n",
    "# exp_z_detect "
   ]
  },
  {
   "cell_type": "code",
   "execution_count": null,
   "id": "7b9770f7-532a-469a-be7f-df8899cc7e1c",
   "metadata": {},
   "outputs": [],
   "source": [
    "# exp logical X state\n",
    "labels_x =  ['X0', 'X1', 'X3', 'X4', 'X5', 'X6', 'X7']\n",
    "\n",
    "exp_x_detect = [np.mean(np.mean(set_exp_x_devents[f\"cycle_{max_num_cycles}\"][f'cycle_{cycle}'][0][0], axis=0)) for cycle in range(1, max_num_cycles+1)]\n",
    "exp_x_detect += [np.mean(np.mean(set_exp_x_devents[f\"cycle_{max_num_cycles}\"]['final'][0][0], axis=0)) ]\n",
    "\n",
    "# for cycle, prob in  zip(range(1, max_num_cycles+2), exp_x_detect):\n",
    "#     print( f'The mean probability of error detection in cycle {cycle} is:', prob )\n",
    "\n",
    "exp_per_x_detect = [ np.mean(set_exp_x_devents[f\"cycle_{max_num_cycles}\"][f'cycle_{cycle}'][0][0], axis=0)  \\\n",
    "         for cycle in range(1, max_num_cycles+1) ] +  \\\n",
    "            [ np.mean(set_exp_x_devents[f\"cycle_{max_num_cycles}\"]['final'][0][0], axis=0) ]"
   ]
  },
  {
   "cell_type": "code",
   "execution_count": null,
   "id": "915c9209-7cbf-43b6-a68c-7140b4c086cd",
   "metadata": {},
   "outputs": [],
   "source": [
    "np.mean(exp_x_detect)\n",
    "# exp_x_detect "
   ]
  },
  {
   "cell_type": "code",
   "execution_count": null,
   "id": "aab0a543-1ed2-4ab6-9394-4acc1870161d",
   "metadata": {
    "scrolled": true
   },
   "outputs": [],
   "source": []
  },
  {
   "cell_type": "code",
   "execution_count": null,
   "id": "36e0a7b0-0341-4275-bc0a-0b4c4bcef2b8",
   "metadata": {
    "scrolled": true
   },
   "outputs": [],
   "source": []
  },
  {
   "cell_type": "code",
   "execution_count": null,
   "id": "d9894491-9816-42ef-bdfe-427aafa12c05",
   "metadata": {},
   "outputs": [],
   "source": [
    "# Pauli+\n",
    "# sim logical Z state\n",
    "num_zcheck = len(labels_z) ;\n",
    "temp = np.mean(set_sim_syndrome_Z[f\"cycle_{max_num_cycles}\"], axis=0)\n",
    "\n",
    "sim_z_detect = [ np.mean(temp[num_zcheck*cycle:num_zcheck*(cycle+1)]) for cycle in range(max_num_cycles+1) ]\n",
    "# for cycle in range(max_num_cycles+1) :\n",
    "#     print( f'The mean probability of error detection in cycle {cycle+1} is:', sim_z_detect[cycle] )\n",
    "sim_per_z_detect = [ [ temp[i + cycle*num_zcheck ] for cycle in range(max_num_cycles+1) ] for i in range(num_zcheck) ]"
   ]
  },
  {
   "cell_type": "code",
   "execution_count": null,
   "id": "43effb26-04bf-4d32-a72a-129b6aa2d0f4",
   "metadata": {},
   "outputs": [],
   "source": [
    "np.mean(sim_z_detect)\n",
    "# sim_per_z_detect"
   ]
  },
  {
   "cell_type": "code",
   "execution_count": null,
   "id": "4f8c6227-46ab-4514-85bf-a0a2172dae78",
   "metadata": {},
   "outputs": [],
   "source": [
    "# Pauli+\n",
    "# sim logical X state\n",
    "num_xcheck = len(labels_x) ;\n",
    "temp = np.mean(set_sim_syndrome_X[f\"cycle_{max_num_cycles}\"], axis=0)\n",
    "\n",
    "sim_x_detect = [ np.mean(temp[num_xcheck*cycle:num_xcheck*(cycle+1)]) for cycle in range(max_num_cycles+1) ]\n",
    "# for cycle in range(max_num_cycles+1) :\n",
    "#     print( f'The mean probability of error detection in cycle {cycle+1} is:', sim_x_detect[cycle] )\n",
    "sim_per_x_detect = [ [ temp[i + cycle*num_xcheck ] for cycle in range(max_num_cycles+1) ] for i in range(num_xcheck) ]"
   ]
  },
  {
   "cell_type": "code",
   "execution_count": null,
   "id": "8379d811-3e1a-488c-9bcd-957142a105b1",
   "metadata": {},
   "outputs": [],
   "source": [
    "np.mean(sim_x_detect)\n",
    "# sim_per_x_detect"
   ]
  },
  {
   "cell_type": "code",
   "execution_count": null,
   "id": "af406690-28d8-4aed-85bf-4caa464d3988",
   "metadata": {},
   "outputs": [],
   "source": []
  },
  {
   "cell_type": "code",
   "execution_count": null,
   "id": "2aebc4c7-e809-4dfc-9d9a-78b426685ab4",
   "metadata": {},
   "outputs": [],
   "source": [
    "# Pauli sim\n",
    "# logical Z state\n",
    "temp = np.mean(set_pauli_sim_syndrome_Z[f\"cycle_{max_num_cycles}\"], axis=0)\n",
    "\n",
    "pauli_sim_z_detect = [ np.mean(temp[num_zcheck*cycle:num_zcheck*(cycle+1)]) for cycle in range(max_num_cycles+1) ]\n",
    "\n",
    "pauli_sim_per_z_detect = [ [ temp[i + cycle*num_zcheck ] for cycle in range(max_num_cycles+1) ] for i in range(num_zcheck) ]\n",
    "\n",
    "# logical X state\n",
    "temp2 = np.mean(set_pauli_sim_syndrome_X[f\"cycle_{max_num_cycles}\"], axis=0)\n",
    "pauli_sim_x_detect = [ np.mean(temp2[num_xcheck*cycle:num_xcheck*(cycle+1)]) for cycle in range(max_num_cycles+1) ]\n",
    "pauli_sim_per_x_detect = [ [ temp2[i + cycle*num_xcheck ] for cycle in range(max_num_cycles+1) ] for i in range(num_xcheck) ]"
   ]
  },
  {
   "cell_type": "code",
   "execution_count": null,
   "id": "af761519-a99e-4de7-a387-5031d13ae2c0",
   "metadata": {},
   "outputs": [],
   "source": []
  },
  {
   "cell_type": "code",
   "execution_count": null,
   "id": "075089ea-2786-47b9-ae9a-ef18dc94d1cc",
   "metadata": {},
   "outputs": [],
   "source": []
  },
  {
   "cell_type": "code",
   "execution_count": null,
   "id": "e605f85b-8cc0-4e89-b450-545e75b466a0",
   "metadata": {
    "scrolled": true
   },
   "outputs": [],
   "source": [
    "# sim_per_x_detect"
   ]
  },
  {
   "cell_type": "code",
   "execution_count": null,
   "id": "3ecc1d21-52b6-4e27-a1f7-29098679e9ca",
   "metadata": {},
   "outputs": [],
   "source": [
    "color_list = [\"maroon\", \"teal\", \"dimGray\", \"#FF8C00\", \"#BC8F8F\", \"#7FFFAA\"]\n",
    "\n",
    "plt.rcParams[\"font.family\"] = \"Arial\"\n",
    "plt.rcParams['figure.figsize'] = 12, 3.5\n",
    "plt.rcParams.update({'font.size': 13})\n",
    "fontsize = 13 ;\n",
    "\n",
    "fig, ax = plt.subplots(1, 3)\n",
    "ax11, ax12, ax13 = ax\n",
    "\n",
    "spine_width = 1.5 ;\n",
    "\n",
    "ax11.spines['top'].set_linewidth(spine_width)    \n",
    "ax11.spines['bottom'].set_linewidth(spine_width) \n",
    "ax11.spines['left'].set_linewidth(spine_width)   \n",
    "ax11.spines['right'].set_linewidth(spine_width)  \n",
    "ax12.spines['top'].set_linewidth(spine_width)    \n",
    "ax12.spines['bottom'].set_linewidth(spine_width) \n",
    "ax12.spines['left'].set_linewidth(spine_width)   \n",
    "ax12.spines['right'].set_linewidth(spine_width)  \n",
    "ax13.spines['top'].set_linewidth(spine_width)    \n",
    "ax13.spines['bottom'].set_linewidth(spine_width) \n",
    "ax13.spines['left'].set_linewidth(spine_width)   \n",
    "ax13.spines['right'].set_linewidth(spine_width)  \n",
    "\n",
    "ax11.set_xlim(1-0.3, 7+0.3)\n",
    "ax12.set_xlim(1-0.3, 7+0.3)\n",
    "ax13.set_xlim(1-0.3, 7+0.3)\n",
    "ax11.xaxis.set_major_locator(ticker.MultipleLocator(1))  \n",
    "ax12.xaxis.set_major_locator(ticker.MultipleLocator(1))  \n",
    "ax13.xaxis.set_major_locator(ticker.MultipleLocator(1))  \n",
    "ax11.yaxis.set_major_locator(ticker.MultipleLocator(0.1))  \n",
    "ax12.yaxis.set_major_locator(ticker.MultipleLocator(0.1))  \n",
    "ax13.yaxis.set_major_locator(ticker.MultipleLocator(0.1))  \n",
    "ax11.set_ylim(0.1, 0.45)\n",
    "ax12.set_ylim(0.1, 0.45)\n",
    "ax13.set_ylim(0.1, 0.45)\n",
    "ax12.yaxis.set_tick_params(labelleft=False)\n",
    "ax13.yaxis.set_tick_params(labelleft=False)\n",
    "\n",
    "ax11.plot( range(1, max_num_cycles+2), exp_z_detect, color = (0/255,202/255,145/255), linestyle = \"-\", linewidth = 2, \n",
    "        marker = 's', markersize = 8, label = \"Exp. Z basis\" )\n",
    "for i in range( n2 - len(remove_Z_list) ):\n",
    "    ax11.plot( range(1, max_num_cycles+2), [item[i] for item in exp_per_z_detect], color = (0/255,202/255,145/255), \\\n",
    "              linestyle = \"dashed\", linewidth=1.1, alpha = 0.5, marker = 'o', markersize = 4)\n",
    "\n",
    "ax11.legend(frameon=True, loc=(0.4, 0.2), labelspacing=0.4, fontsize=f'{fontsize}')\n",
    "ax11.set_xlabel(r'QEC cycle, $t$', labelpad = 2) \n",
    "ax11.set_ylabel('Detect. prob.', labelpad = 3) \n",
    "\n",
    "\n",
    "ax12.plot( range(1, max_num_cycles+2), exp_x_detect, color = (251/255, 111/255, 143/255), linestyle = \"-\", linewidth = 2, \n",
    "        marker = 's', markersize = 8, label = \"Exp. X basis\" )\n",
    "for i in range( n2 - len(remove_X_list) ):\n",
    "    ax12.plot( range(1, max_num_cycles+2), [item[i] for item in exp_per_x_detect], color = (251/255, 111/255, 143/255), \\\n",
    "              linestyle = \"dashed\", linewidth=1.1, alpha = 0.5, marker = 'o', markersize = 4)\n",
    "\n",
    "ax12.legend(frameon=True, loc=(0.4, 0.2), labelspacing=0.4, fontsize=f'{fontsize}')\n",
    "ax12.set_xlabel(r'QEC cycle, $t$', labelpad = 2) \n",
    "\n",
    "\n",
    "ax13.plot( range(1, max_num_cycles+2), sim_z_detect, color = (0/255,202/255,145/255), linestyle = \"-\", linewidth = 2, \n",
    "        marker = 's', markersize = 8, label = \"Sim. Z basis\" )\n",
    "for i in range( n2 - len(remove_X_list) ):\n",
    "    ax13.plot( range(1, max_num_cycles+2), sim_per_z_detect[i], color = (0/255,202/255,145/255), linestyle = \"dashed\", \\\n",
    "              linewidth=1.1,  alpha = 0.5, marker = 'o', markersize = 4)\n",
    "    \n",
    "ax13.plot( range(1, max_num_cycles+2), sim_x_detect, color = (251/255, 111/255, 143/255), linestyle = \"-\", linewidth = 2, \n",
    "        marker = 's', markersize = 8, label = \"Sim. X basis\" )\n",
    "for i in range( n2 - len(remove_X_list) ):\n",
    "    ax13.plot( range(1, max_num_cycles+2), sim_per_x_detect[i], color = (251/255, 111/255, 143/255), linestyle = \"dashed\", \\\n",
    "              linewidth=1.1,  alpha = 0.5, marker = 'o', markersize = 4)\n",
    "    \n",
    "\n",
    "ax13.legend(frameon=True, loc=(0.4, 0.2), labelspacing=0.6, fontsize=f'{fontsize}', columnspacing=8.5, handlelength=2)\n",
    "ax13.set_xlabel(r'QEC cycle, $t$', labelpad = 2) \n",
    "\n",
    "\n",
    "plt.subplots_adjust(left = 0.06, bottom = 0.13, top = 0.99, right = 0.99, hspace = 0.0, wspace = 0.1) \n",
    "plt.show()\n",
    "fig.savefig('Experimental_Figures/Detection_prob_18_4_4_experiment.pdf', format='pdf', facecolor='None')"
   ]
  },
  {
   "cell_type": "code",
   "execution_count": null,
   "id": "83d6b3d0-ada3-4f5c-9d33-3f023bb771ee",
   "metadata": {
    "scrolled": true
   },
   "outputs": [],
   "source": [
    "# sim_per_z_detect"
   ]
  },
  {
   "cell_type": "code",
   "execution_count": null,
   "id": "b2b9b69b-9121-4e84-b09d-fe592ac2137d",
   "metadata": {},
   "outputs": [],
   "source": []
  },
  {
   "cell_type": "markdown",
   "id": "9edb7612-a246-4a6e-aee3-b310f3af9c1f",
   "metadata": {},
   "source": [
    "## Logical-state preservation and error per cycle"
   ]
  },
  {
   "cell_type": "code",
   "execution_count": null,
   "id": "da0573e9-8f52-4855-85d8-2c3f8022872d",
   "metadata": {},
   "outputs": [],
   "source": [
    "set_T1 = { 0:44.7, 1:34.9, 2: 51.1, 3:45.3, 4:35.6, 5: 38.6, 6: 38.2,\n",
    "          7: 34.4, 8: 44.4, 9: 55.0, 10: 50.8, 11: 48.6, 12: 39.5, 13: 38.6, 14: 37.2, 15: 37.9,\n",
    "          16: 44.7, 17: 36.7, 18: 41.1, 19: 37.5, 20: 49.5, 21: 49.6, 22: 37.1, 23: 41.4, 24: 37.9,\n",
    "          25: 45.4, 26: 42.3, 27: 57.8, 28: 35.3, 29: 34.2, 30: 33.5, 31: 39.9 }\n",
    "\n",
    "set_Tphi = { 0: 21.0, 1: 55.1, 2: 13.8, 3: 17.0, 4: 29.6, 5: 26.1, 6: 63.4,\n",
    "            7: 109.8, 8: 95.6, 9: 15.4, 10: 42.6, 11: 24.3, 12: 17.1, 13: 62.8, 14: 53.1, 15: 23.3,\n",
    "            16: 17.9, 17: 18.0, 18: 41.4, 19: 14.7, 20: 64.1, 21: 69.2, 22: 44.5, 23: 52.5, 24: 54.2,\n",
    "            25: 23.1, 26: 26.3, 27: 29.5, 28: 20.0, 29: 50.2, 30: 33.8, 31: 42.6 } ;\n",
    "\n",
    "set_T2 = {key: 1 / ( 1/(2*set_T1[key]) + 1/set_Tphi[key] )  for key, _ in set_T1.items() }\n",
    "\n",
    "T1_max = max(set_T1.values())\n",
    "T2_max =  max(set_T2.values())\n",
    "\n",
    "# T1 = 41.83 #us\n",
    "# T_phi = 39.7 #us\n",
    "# T2 = 1 / ( 1/(2*T1) + 1/T_phi )\n",
    "cycle_time = 1.895 #us\n",
    "\n",
    "def k_to_one(p, k):\n",
    "    return 1-(1-p)**(1/k)\n",
    "\n",
    "def physical_vs_cycle(cycle, T):\n",
    "    k = 4 ;\n",
    "    t = cycle * 1.895\n",
    "\n",
    "    return (1 - np.exp(-t/T))/2\n",
    "\n",
    "def four_physical_vs_cycle(cycle, T):   \n",
    "    p = physical_vs_cycle(cycle, T)\n",
    "    return 1 - (1 - p)**k"
   ]
  },
  {
   "cell_type": "code",
   "execution_count": null,
   "id": "0b03b4d0-d1ff-45d5-9e1f-3c5249d6761d",
   "metadata": {},
   "outputs": [],
   "source": []
  },
  {
   "cell_type": "code",
   "execution_count": null,
   "id": "cad22802-b85b-4379-b33b-c875b602747b",
   "metadata": {},
   "outputs": [],
   "source": [
    "# accumulated error rate for four physical qubits\n",
    "# cycle_t_physical = np.linspace(1, max_num_cycles+1) ;\n",
    "# physical_error_single_qubit_z = [physical_p_per_cycle(cycle_time*t, T1) for t in cycle_t_physical]\n",
    "# physical_error_four_qubits_z =  [ 1 - (1 - item)**k for item in physical_error_single_qubit_z ]  ;\n",
    "# physical_error_single_qubit_x = [physical_p_per_cycle(cycle_time*t, T2) for t in cycle_t_physical]\n",
    "# physical_error_four_qubits_x =  [ 1 - (1 - item)**k for item in physical_error_single_qubit_x ]  ;"
   ]
  },
  {
   "cell_type": "code",
   "execution_count": null,
   "id": "0c26a49c-803b-4d90-96d9-babbb057c6c1",
   "metadata": {},
   "outputs": [],
   "source": []
  },
  {
   "cell_type": "markdown",
   "id": "38acfed6-c4a6-43db-883f-f0a7dfff743d",
   "metadata": {},
   "source": [
    "## logical Z state"
   ]
  },
  {
   "cell_type": "markdown",
   "id": "3d0ca705-e66f-4397-b875-b914339630b2",
   "metadata": {},
   "source": [
    "We fit using the relation $1- \\eta ~P(t) \\propto  (1 - \\eta~ p_L)^{t}$."
   ]
  },
  {
   "cell_type": "code",
   "execution_count": null,
   "id": "04fa17d7-4055-45c6-a12a-970c9106c4ea",
   "metadata": {},
   "outputs": [],
   "source": [
    "cycle_t = np.arange(1, max_num_cycles+1) ;\n",
    "cycle_interpo = np.linspace(1, max_num_cycles+1, 100) ;"
   ]
  },
  {
   "cell_type": "code",
   "execution_count": null,
   "id": "5f79ea29-f1d3-4f8e-936f-570be9da3369",
   "metadata": {},
   "outputs": [],
   "source": [
    "# eta = 1\n",
    "\n",
    "# Z_logic_error_perbit = np.mean(exp_Z_logic_error_perbit, axis=1)\n",
    "# Z_logic_fid_perbit = 1 - eta * np.array( Z_logic_error_perbit )\n",
    "# log_Z_logic_fid_perbit = np.log(Z_logic_fid_perbit)\n",
    "\n",
    "# coeff_per, cov_per = np.polyfit(cycle_t, log_Z_logic_fid_perbit, deg=1, cov=True)\n",
    "# log_A, log_B = coeff_per\n",
    "\n",
    "# A = np.exp(log_A)\n",
    "# B = np.exp(log_B)\n",
    "\n",
    "# Z_logic_error_percycle_perbit = (1 - A)/eta\n",
    "# print(f\"Logical error rate per cycle per bit = {Z_logic_error_percycle_perbit}\")\n",
    "\n",
    "# pred_Z_logic_error_perbit = (1 - B * A**(cycle_interpo))/eta"
   ]
  },
  {
   "cell_type": "code",
   "execution_count": null,
   "id": "5d54bc70-cdd2-4907-80b3-3f505386c390",
   "metadata": {},
   "outputs": [],
   "source": []
  },
  {
   "cell_type": "code",
   "execution_count": null,
   "id": "70a8f75e-231a-4159-95d9-304fb038b1fd",
   "metadata": {},
   "outputs": [],
   "source": [
    "eta = 1\n",
    "exp_Z_logic_fid = 1 - eta * np.array( exp_Z_logic_error[0:] )\n",
    "log_exp_Z_logic_fid = np.log(exp_Z_logic_fid)\n",
    "\n",
    "sigma_exp_Z_logic_error = [ np.sqrt(item*(1-item)/set_exp_num_z[index]) for index, item in enumerate(exp_Z_logic_error[0:])];\n",
    "\n",
    "# sigma_log_exp_Z_logic_fid = [1] * max_num_cycles ;\n",
    "# sigma_log_exp_Z_logic_fid = [ sigma_exp_Z_logic_error[i]/exp_Z_logic_fid[i] for i in range(0, max_num_cycles) ] ;\n",
    "# exp_Wz = 1/np.array(sigma_log_exp_Z_logic_fid)**2\n",
    "\n",
    "coeff, cov = np.polyfit(cycle_t, log_exp_Z_logic_fid, deg=1, cov=True)\n",
    "\n",
    "log_A, log_B = coeff  # [Slope, intercept]\n",
    "\n",
    "sigma_log_A = np.sqrt(cov[0,0]) ;\n",
    "exp_sigma_pL_z = np.exp(log_A) * sigma_log_A ;  #  \n",
    "\n",
    "A = np.exp(log_A)\n",
    "B = np.exp(log_B)\n",
    "\n",
    "exp_Z_logic_error_percycle = (1 - A)/eta\n",
    "print(f\"Logical error rate for four logical qubits per cycle = {exp_Z_logic_error_percycle} ± {exp_sigma_pL_z}\")\n",
    "\n",
    "# The fit line\n",
    "pred_exp_Z_logic_error = (1 - B * A**(cycle_interpo))/eta"
   ]
  },
  {
   "cell_type": "code",
   "execution_count": null,
   "id": "2921601a-cd05-4203-b56e-cb52088fcab7",
   "metadata": {},
   "outputs": [],
   "source": [
    "exp_Z_logic_error_perbit_percycle = k_to_one(exp_Z_logic_error_percycle, k)\n",
    "\n",
    "exp_sigma_pL_z_perbit = exp_sigma_pL_z / (k * (1 - exp_Z_logic_error_percycle )**(1-1/k)    )\n",
    "\n",
    "print(\"logical error per logical qubit per cycle:\", \n",
    "      exp_Z_logic_error_perbit_percycle )\n",
    "print(\"The error bar is:\",  exp_sigma_pL_z_perbit)"
   ]
  },
  {
   "cell_type": "code",
   "execution_count": null,
   "id": "913c9396-c2e8-494b-852e-2cfde29a5653",
   "metadata": {},
   "outputs": [],
   "source": []
  },
  {
   "cell_type": "code",
   "execution_count": null,
   "id": "e34bed42-4593-44f0-8c5a-ea2c4e21d979",
   "metadata": {},
   "outputs": [],
   "source": []
  },
  {
   "cell_type": "markdown",
   "id": "1675d4a1-8473-4632-9537-02a7c004d27b",
   "metadata": {},
   "source": [
    "## logical X state"
   ]
  },
  {
   "cell_type": "code",
   "execution_count": null,
   "id": "85b827ec-fd88-4d81-8dbe-c6f30b8780d2",
   "metadata": {},
   "outputs": [],
   "source": [
    "exp_X_logic_fid = 1 - np.array( exp_X_logic_error[0:] )\n",
    "log_exp_X_logic_fid = np.log(exp_X_logic_fid)\n",
    "\n",
    "sigma_exp_X_logic_error = [ np.sqrt(item*(1-item)/set_exp_num_x[index]) for index, item in enumerate(exp_X_logic_error[0:])];\n",
    "\n",
    "# sigma_log_exp_X_logic_fid = [1] * max_num_cycles ;\n",
    "# sigma_log_exp_X_logic_fid = [ sigma_exp_X_logic_error[i]/exp_X_logic_fid[i] for i in range(0, max_num_cycles) ] ;\n",
    "# exp_Wx = 1/np.array(sigma_log_exp_X_logic_fid)**2\n",
    "\n",
    "coeff, cov = np.polyfit(cycle_t, log_exp_X_logic_fid, deg=1, cov=True)\n",
    "\n",
    "log_A, log_B = coeff \n",
    "\n",
    "sigma_log_A = np.sqrt(cov[0,0]) ;\n",
    "exp_sigma_pL_x = np.exp(log_A) * sigma_log_A ;  #   \n",
    "\n",
    "A = np.exp(log_A)\n",
    "B = np.exp(log_B)\n",
    "\n",
    "exp_X_logic_error_percycle = 1 - A\n",
    "print(fr\"Logical error rate for four logical qubits per cycle = {exp_X_logic_error_percycle} ± {exp_sigma_pL_x} \")\n",
    "\n",
    "# The fit line\n",
    "pred_exp_X_logic_error = (1 - B * A**(cycle_interpo))"
   ]
  },
  {
   "cell_type": "code",
   "execution_count": null,
   "id": "144c967e-cc07-4c3c-b068-0ac1277d0a79",
   "metadata": {},
   "outputs": [],
   "source": [
    "exp_X_logic_error_perbit_percycle = k_to_one(exp_X_logic_error_percycle, k)\n",
    "\n",
    "exp_sigma_pL_x_perbit = exp_sigma_pL_x / (k * (1 - exp_X_logic_error_percycle )**(1-1/k)    )\n",
    "\n",
    "print(\"logical error per logical qubit per cycle:\", \n",
    "      exp_X_logic_error_perbit_percycle )\n",
    "print(\"The error bar is:\",  exp_sigma_pL_x_perbit)"
   ]
  },
  {
   "cell_type": "code",
   "execution_count": null,
   "id": "c246dfe9-7461-4302-9fb3-40f06a0ac883",
   "metadata": {},
   "outputs": [],
   "source": []
  },
  {
   "cell_type": "code",
   "execution_count": null,
   "id": "2753fdde-35de-493e-8baa-3d6d1bfa6152",
   "metadata": {},
   "outputs": [],
   "source": [
    "Exp_XZ = (exp_X_logic_error_perbit_percycle + exp_Z_logic_error_perbit_percycle) / 2\n",
    "print(\"The experimental average logical error per cycle is:\", Exp_XZ)\n",
    "Exp_bar_XZ = np.sqrt(exp_sigma_pL_x_perbit**2 + exp_sigma_pL_z_perbit**2)/2\n",
    "print(\"The experimental average bar of the logical error per cycle is:\", Exp_bar_XZ)"
   ]
  },
  {
   "cell_type": "code",
   "execution_count": null,
   "id": "f7078319-bd74-4b67-a600-70685d5eb451",
   "metadata": {},
   "outputs": [],
   "source": [
    "# Exp_XZ = (exp_X_logic_error_percycle + exp_Z_logic_error_percycle) / 2\n",
    "# print(\"The experimental average logical error per cycle is:\", Exp_XZ)\n",
    "# Exp_bar_XZ = np.sqrt(exp_sigma_pL_z**2 + exp_sigma_pL_x**2)/2\n",
    "# print(\"The experimental average bar of the logical error per cycle is:\", Exp_bar_XZ)\n",
    "\n",
    "# print(\"Compared to four patches of disrance-4 surface codes with each achieving the logical error per cycle:\", \n",
    "#       k_to_one(Exp_XZ, k) )\n",
    "# print(\"The error bar is:\", Exp_bar_XZ / (k * (1 - Exp_XZ )**(1-1/k)    ) )"
   ]
  },
  {
   "cell_type": "code",
   "execution_count": null,
   "id": "9ceb04a5-2f88-4cc3-9670-4322cb0a6a28",
   "metadata": {},
   "outputs": [],
   "source": []
  },
  {
   "cell_type": "markdown",
   "id": "3502f8f2-59ec-4872-b3cb-3966278fcc94",
   "metadata": {},
   "source": [
    "## Pauli+ sim results"
   ]
  },
  {
   "cell_type": "code",
   "execution_count": null,
   "id": "5a12e397-6b3e-4f8f-b4d7-7c43600a03d2",
   "metadata": {},
   "outputs": [],
   "source": [
    "sim_Z_logic_fid = 1 - np.array( sim_Z_logic_error[0:] )\n",
    "log_sim_Z_logic_fid = np.log(sim_Z_logic_fid)\n",
    "\n",
    "sigma_sim_Z_logic_error = [ np.sqrt(item*(1-item)/set_sim_num_z[index]) for index, item in enumerate(sim_Z_logic_error[0:])];\n",
    "\n",
    "coeff, cov = np.polyfit(cycle_t[0:], log_sim_Z_logic_fid, deg=1, cov=True)\n",
    "\n",
    "log_A, log_B = coeff \n",
    "\n",
    "sigma_log_A = np.sqrt(cov[0,0]) ;\n",
    "sim_sigma_pL_z = np.exp(log_A) * sigma_log_A ;  #   \n",
    "\n",
    "A = np.exp(log_A)\n",
    "B = np.exp(log_B)\n",
    "\n",
    "sim_Z_logic_error_percycle = 1 - A\n",
    "print(fr\"Logical error rate for four logical qubits per cycle = {sim_Z_logic_error_percycle} ± {sim_sigma_pL_z} \")\n",
    "\n",
    "# The fit line\n",
    "pred_sim_Z_logic_error = (1 - B * A**(cycle_interpo))"
   ]
  },
  {
   "cell_type": "code",
   "execution_count": null,
   "id": "8d956844-1d91-4b8d-9827-1e6023080881",
   "metadata": {},
   "outputs": [],
   "source": [
    "sim_Z_logic_error_perbit_percycle = k_to_one(sim_Z_logic_error_percycle, k)\n",
    "\n",
    "sim_sigma_pL_z_perbit = sim_sigma_pL_z / (k * (1 - sim_Z_logic_error_percycle )**(1-1/k)    )\n",
    "\n",
    "print(\"The logical error per logical qubit per cycle:\", \n",
    "      sim_Z_logic_error_perbit_percycle )\n",
    "print(\"The error bar is:\",  sim_sigma_pL_z_perbit)"
   ]
  },
  {
   "cell_type": "code",
   "execution_count": null,
   "id": "10a7113d-80bd-49e5-b6f8-420d6d488280",
   "metadata": {},
   "outputs": [],
   "source": []
  },
  {
   "cell_type": "code",
   "execution_count": null,
   "id": "e8bf83e9-21b0-432b-9b09-28ec8dd9d3c9",
   "metadata": {},
   "outputs": [],
   "source": [
    "sim_X_logic_fid = 1 - np.array( sim_X_logic_error[1:] )\n",
    "log_sim_X_logic_fid = np.log(sim_X_logic_fid)\n",
    "\n",
    "sigma_sim_X_logic_error = [ np.sqrt(item*(1-item)/set_sim_num_x[index]) for index, item in enumerate(sim_X_logic_error[1:])];\n",
    "\n",
    "coeff, cov = np.polyfit(cycle_t[1:], log_sim_X_logic_fid, deg=1, cov=True)\n",
    "\n",
    "log_A, log_B = coeff \n",
    "\n",
    "sigma_log_A = np.sqrt(cov[0,0]) ;\n",
    "sim_sigma_pL_x = np.exp(log_A) * sigma_log_A ;  #   \n",
    "\n",
    "A = np.exp(log_A)\n",
    "B = np.exp(log_B)\n",
    "\n",
    "sim_X_logic_error_percycle = 1 - A\n",
    "print(fr\"Logical error rate for four logical qubits per cycle = {sim_X_logic_error_percycle} ± {sim_sigma_pL_x} \")\n",
    "\n",
    "# The fit line\n",
    "pred_sim_X_logic_error = (1 - B * A**(cycle_interpo))"
   ]
  },
  {
   "cell_type": "code",
   "execution_count": null,
   "id": "06f9870d-8fd1-4fd4-9507-2cb2e5447718",
   "metadata": {},
   "outputs": [],
   "source": [
    "sim_X_logic_error_perbit_percycle = k_to_one(sim_X_logic_error_percycle, k)\n",
    "\n",
    "sim_sigma_pL_x_perbit = sim_sigma_pL_x / (k * (1 - sim_X_logic_error_percycle )**(1-1/k)    )\n",
    "\n",
    "print(\"The logical error per logical qubit per cycle:\", \n",
    "      sim_X_logic_error_perbit_percycle )\n",
    "print(\"The error bar is:\",  sim_sigma_pL_x_perbit)"
   ]
  },
  {
   "cell_type": "markdown",
   "id": "f873cd8c-aa68-4c9c-947f-17e5896ec27a",
   "metadata": {},
   "source": [
    "## Pauli sim results"
   ]
  },
  {
   "cell_type": "code",
   "execution_count": null,
   "id": "2db1f7d8-73b9-4c82-b90f-57afb8061587",
   "metadata": {},
   "outputs": [],
   "source": [
    "pauli_sim_Z_logic_fid = 1 - np.array( pauli_sim_Z_logic_error[0:] )\n",
    "log_pauli_sim_Z_logic_fid = np.log(pauli_sim_Z_logic_fid)\n",
    "\n",
    "sigma_pauli_sim_Z_logic_error = [ np.sqrt(item*(1-item)/set_pauli_sim_num_z[index])  \\\n",
    "                               for index, item in enumerate(pauli_sim_Z_logic_error[0:])];\n",
    "\n",
    "coeff, cov = np.polyfit(cycle_t, log_pauli_sim_Z_logic_fid, deg = 1, cov = True)\n",
    "\n",
    "log_A, log_B = coeff \n",
    "\n",
    "pauli_sigma_log_A = np.sqrt(cov[0,0]) ;\n",
    "pauli_sim_sigma_pL_z = np.exp(log_A) * pauli_sigma_log_A ;   \n",
    "\n",
    "A = np.exp(log_A)\n",
    "B = np.exp(log_B)\n",
    "\n",
    "pauli_sim_Z_logic_error_percycle = 1 - A\n",
    "print(fr\"Logical error rate for four logical qubits per cycle = {pauli_sim_Z_logic_error_percycle} ± {pauli_sim_sigma_pL_z} \")\n",
    "\n",
    "# The fit line\n",
    "pred_pauli_sim_Z_logic_error = (1 - B * A**(cycle_interpo))"
   ]
  },
  {
   "cell_type": "code",
   "execution_count": null,
   "id": "cfbdd3df-5cb9-469e-8fea-c873ca696cfd",
   "metadata": {},
   "outputs": [],
   "source": [
    "pauli_sim_Z_logic_error_perbit_percycle = k_to_one(pauli_sim_Z_logic_error_percycle, k)\n",
    "\n",
    "pauli_sim_sigma_pL_z_perbit = pauli_sim_sigma_pL_z / ( k * (1 - pauli_sim_Z_logic_error_percycle )**(1-1/k)  )\n",
    "\n",
    "print(\"The logical error per logical qubit per cycle:\", \n",
    "      pauli_sim_Z_logic_error_perbit_percycle )\n",
    "print(\"The error bar is:\",  pauli_sim_sigma_pL_z_perbit)"
   ]
  },
  {
   "cell_type": "code",
   "execution_count": null,
   "id": "98eb2cd6-b37b-449f-8dc1-6601a3411487",
   "metadata": {},
   "outputs": [],
   "source": []
  },
  {
   "cell_type": "code",
   "execution_count": null,
   "id": "79696e66-691c-46b0-897d-4770db031873",
   "metadata": {},
   "outputs": [],
   "source": [
    "pauli_sim_X_logic_fid = 1 - np.array( pauli_sim_X_logic_error[0:] )\n",
    "log_pauli_sim_X_logic_fid = np.log(pauli_sim_X_logic_fid)\n",
    "\n",
    "sigma_pauli_sim_X_logic_error = [ np.sqrt(item*(1-item)/set_pauli_sim_num_x[index])  \\\n",
    "                                 for index, item in enumerate(pauli_sim_X_logic_error[0:])];\n",
    "\n",
    "coeff, cov = np.polyfit(cycle_t, log_pauli_sim_X_logic_fid, deg=1, cov=True)\n",
    "\n",
    "log_A, log_B = coeff \n",
    "\n",
    "pauli_sigma_log_A = np.sqrt(cov[0,0]) ;\n",
    "pauli_sim_sigma_pL_x = np.exp(log_A) * pauli_sigma_log_A ;  #   \n",
    "\n",
    "A = np.exp(log_A)\n",
    "B = np.exp(log_B)\n",
    "\n",
    "pauli_sim_X_logic_error_percycle = 1 - A\n",
    "print(fr\"Logical error rate for four logical qubits per cycle = {pauli_sim_X_logic_error_percycle} ± {pauli_sim_sigma_pL_x} \")\n",
    "\n",
    "# The fit line\n",
    "pred_pauli_sim_X_logic_error = (1 - B * A**(cycle_interpo))"
   ]
  },
  {
   "cell_type": "code",
   "execution_count": null,
   "id": "f0b0543d-d7ad-4748-8bf0-dfb1daf0c7bc",
   "metadata": {},
   "outputs": [],
   "source": [
    "pauli_sim_X_logic_error_perbit_percycle = k_to_one(pauli_sim_X_logic_error_percycle, k)\n",
    "\n",
    "pauli_sim_sigma_pL_x_perbit = pauli_sim_sigma_pL_x / ( k * (1 - pauli_sim_X_logic_error_percycle )**(1-1/k)  )\n",
    "\n",
    "print(\"The logical error per logical qubit per cycle:\", \n",
    "      pauli_sim_X_logic_error_perbit_percycle )\n",
    "print(\"The error bar is:\",  pauli_sim_sigma_pL_x_perbit)"
   ]
  },
  {
   "cell_type": "code",
   "execution_count": null,
   "id": "bce44901-a208-45dc-8a79-5f40cf6be353",
   "metadata": {},
   "outputs": [],
   "source": []
  },
  {
   "cell_type": "markdown",
   "id": "8a0b619d-ba9e-4f82-b11d-532c4677f9ad",
   "metadata": {},
   "source": [
    "## Plot"
   ]
  },
  {
   "cell_type": "code",
   "execution_count": null,
   "id": "fb1830d8-78eb-45d6-9226-4182d5f93523",
   "metadata": {},
   "outputs": [],
   "source": [
    "color_list = [\"maroon\", \"teal\", \"dimGray\", \"#FF8C00\", \"#BC8F8F\", \"#7FFFAA\"]\n",
    "\n",
    "marker_list = [ \"o\", \"s\", \"d\", \"<\", \"p\", \"H\" ]\n",
    "\n",
    "plt.rcParams[\"font.family\"] = \"Arial\"\n",
    "plt.rcParams.update({'font.size': 13.5})\n",
    "fontsize = 13.5 ;\n",
    "\n",
    "fig, (ax11, ax21) = plt.subplots( 1, 2,              \n",
    "    figsize=(7.5, 4.5)   \n",
    ")\n",
    "\n",
    "spine_width = 1.5 ;\n",
    "\n",
    "ax11.spines['top'].set_linewidth(spine_width)    \n",
    "ax11.spines['bottom'].set_linewidth(spine_width) \n",
    "ax11.spines['left'].set_linewidth(spine_width)   \n",
    "ax11.spines['right'].set_linewidth(spine_width)  \n",
    "ax21.spines['top'].set_linewidth(spine_width)    \n",
    "ax21.spines['bottom'].set_linewidth(spine_width) \n",
    "ax21.spines['left'].set_linewidth(spine_width)   \n",
    "ax21.spines['right'].set_linewidth(spine_width)  \n",
    "\n",
    "ax11.set_xlim(0, 7.2)\n",
    "ax11.xaxis.set_major_locator(ticker.MultipleLocator(1))  \n",
    "\n",
    "ax11.set_ylim(0, 1)\n",
    "\n",
    "ax11.plot( cycle_t, exp_Z_logic_error, color = \"green\", linestyle = \"\", linewidth = 2, \\\n",
    "        marker = 'h', markersize = 9, label = 'Exp: $9.15\\%$' )\n",
    "\n",
    "ax11.plot( cycle_interpo, pred_exp_Z_logic_error, color = 'green', linestyle = \"solid\", linewidth=2)\n",
    "\n",
    "ax11.plot( cycle_t, sim_Z_logic_error, color = '#d1800f', linestyle = \"\", linewidth=1, \n",
    "        marker = 'h', markerfacecolor='none', markeredgewidth=2.8, markersize = 9, \\\n",
    "                              label = f'Pauli+ sim: {sim_Z_logic_error_perbit_percycle*100:.2f}%' )\n",
    "\n",
    "ax11.plot( cycle_interpo, pred_sim_Z_logic_error, color = '#d1800f', linestyle = \"dashed\", linewidth=2)\n",
    "\n",
    "# ax11.plot( cycle_t, pauli_sim_Z_logic_error, color = 'purple', linestyle = \"\", linewidth=1, \n",
    "#         marker = 'h', markerfacecolor='none', markeredgewidth=2.8, markersize = 9, \\\n",
    "#                               label = f'Pauli sim: {pauli_sim_Z_logic_error_perbit_percycle*100:.2f}%' )\n",
    "\n",
    "# ax11.plot( cycle_interpo, pred_pauli_sim_Z_logic_error, color = 'purple', linestyle = \"dashed\", linewidth=2)\n",
    "\n",
    "ax11.plot( cycle_interpo, four_physical_vs_cycle(cycle_interpo, T1_max), color = '#5F9EA0', \n",
    "          linestyle = \"-.\", linewidth=2.5, label = f'Physical: {100*physical_vs_cycle(1, T1_max):.2f}%')\n",
    "\n",
    "#-----------------------------------------------------------------------------------------------------------------------------------\n",
    "ax11.legend(frameon=False, loc=(-0.01, 0.78), ncol=1, columnspacing=1.5, labelspacing=0.3, handlelength=2, fontsize=f'{fontsize}')\n",
    "\n",
    "ax11.text(4.5, 0.1, \"Logical Z basis\", fontsize=f'{fontsize}', color='black', ha='center', va='bottom')\n",
    "ax11.set_xlabel(r'QEC cycle, $t$', labelpad = 3) \n",
    "ax11.set_ylabel(r'Logical error probability, $P_L(t)$', labelpad = 3) \n",
    "\n",
    "#---------------------------------------------------------------------------\n",
    "ax21.set_xlim(0, 7.2)\n",
    "ax21.xaxis.set_major_locator(ticker.MultipleLocator(1))\n",
    "ax21.yaxis.set_tick_params(labelleft=False)\n",
    "ax21.set_ylim(0, 1)\n",
    "\n",
    "ax21.plot( cycle_t, exp_X_logic_error, color = 'green', linestyle = \"\", linewidth=2, \n",
    "        marker = 'h', markersize = 9, label = 'Exp: $8.67\\%$' )\n",
    "\n",
    "ax21.plot( cycle_interpo, pred_exp_X_logic_error, color = 'green', linestyle = \"solid\", linewidth = 2)\n",
    "\n",
    "ax21.plot( cycle_t, sim_X_logic_error, color = '#d1800f', linestyle = \"\", linewidth=1, \n",
    "        marker = 'h', markerfacecolor='none', markeredgewidth=2.8, markersize = 9, \n",
    "                              label = f'Pauli+ sim: {sim_X_logic_error_perbit_percycle*100:.2f}%' )\n",
    "\n",
    "ax21.plot( cycle_interpo, pred_sim_X_logic_error, color = '#d1800f', linestyle = \"dashed\", linewidth = 2)\n",
    "\n",
    "# ax21.plot( cycle_t, pauli_sim_X_logic_error, color = 'purple', linestyle = \"\", linewidth=1, \n",
    "#         marker = 'h', markerfacecolor='none', markeredgewidth=2.8, markersize = 9, \\\n",
    "#                               label = f'Pauli sim: {pauli_sim_X_logic_error_perbit_percycle*100:.2f}%' )\n",
    "\n",
    "# ax21.plot( cycle_interpo, pred_pauli_sim_X_logic_error, color = 'purple', linestyle = \"dashed\", linewidth=2)\n",
    "\n",
    "\n",
    "ax21.plot( cycle_interpo, four_physical_vs_cycle(cycle_interpo, T2_max), color = '#5F9EA0', \n",
    "          linestyle = \"-.\", linewidth = 2.5, label = f'Physical: ${100*physical_vs_cycle(1, T2_max):.2f}\\%$')\n",
    "#-----------------------------------------------------------------------------------------------------------------\n",
    "ax21.legend(frameon = False, loc=(-0.01, 0.78), ncol=1, columnspacing=1.5, labelspacing=0.3, handlelength = 2, fontsize=f'{fontsize}')\n",
    "\n",
    "ax21.text(4.5, 0.15, \"Logical X basis\", fontsize=f'{fontsize}', color='black', ha='center', va='bottom')\n",
    "ax21.set_xlabel(r'QEC cycle, $t$', labelpad = 3) \n",
    "\n",
    "plt.subplots_adjust(left = 0.08, bottom = 0.12, top = 0.96, right = 0.99,  hspace = 0.0, wspace = 0.1) \n",
    "plt.show()\n",
    "# fig.savefig('Experimental_Figures/Logical_error_18_4_4.pdf', format='pdf', facecolor='None')"
   ]
  },
  {
   "cell_type": "code",
   "execution_count": null,
   "id": "0aa9f8ba-eeca-45f9-abe7-2e86ad81e398",
   "metadata": {},
   "outputs": [],
   "source": [
    "retained_frac = [(a + b) / 2 for a, b in zip(x_retained_frac, z_retained_frac)]\n",
    "retained_frac"
   ]
  },
  {
   "cell_type": "code",
   "execution_count": null,
   "id": "6295dda6-94cb-4df2-8067-a8c656e506c0",
   "metadata": {},
   "outputs": [],
   "source": []
  },
  {
   "cell_type": "markdown",
   "id": "50d2e0ff-81b8-4b5a-92cb-33b36573a4a6",
   "metadata": {},
   "source": [
    "### retained data fraction"
   ]
  },
  {
   "cell_type": "code",
   "execution_count": null,
   "id": "93e250f3-af80-46e5-b09f-8ac5bb72a81b",
   "metadata": {},
   "outputs": [],
   "source": [
    "color_list = [\"maroon\", \"teal\", \"dimGray\", \"#FF8C00\", \"#BC8F8F\", \"#7FFFAA\"]\n",
    "\n",
    "plt.rcParams[\"font.family\"] = \"Arial\"\n",
    "plt.rcParams['figure.figsize'] = 5.4, 4\n",
    "plt.rcParams.update({'font.size': 13})\n",
    "fontsize = 13 ;\n",
    "\n",
    "fig, ax = plt.subplots(1, 1)\n",
    "ax11 = ax\n",
    "\n",
    "spine_width = 1.5 ;\n",
    "\n",
    "ax11.spines['top'].set_linewidth(spine_width)    \n",
    "ax11.spines['bottom'].set_linewidth(spine_width) \n",
    "ax11.spines['left'].set_linewidth(spine_width)   \n",
    "ax11.spines['right'].set_linewidth(spine_width)  \n",
    "\n",
    "ax11.set_xlim(1-0.3, 6+0.3)\n",
    "\n",
    "ax11.xaxis.set_major_locator(ticker.MultipleLocator(1))  \n",
    "\n",
    "ax11.yaxis.set_major_locator(ticker.MultipleLocator(0.1))  \n",
    "\n",
    "ax11.set_ylim(0.0, 0.5)\n",
    "\n",
    "ax11.plot( range(1, max_num_cycles+1), z_retained_frac, color = (0/255,202/255,145/255), linestyle = \"-\", linewidth = 2, \n",
    "        marker = 's', markersize = 8, label = \"Pauli+ sim. logical Z basis\" )\n",
    "\n",
    "ax11.plot( range(1, max_num_cycles+1), x_retained_frac, color = (251/255, 111/255, 143/255), linestyle = \"-\", linewidth = 2, \n",
    "        marker = 's', markersize = 8, markerfacecolor='none', markeredgewidth=2.4, label = \"Pauli+ sim. logical X basis\" )\n",
    "\n",
    "ax11.legend(frameon=True, loc=(0.35, 0.7), labelspacing=0.8, fontsize=f'{fontsize}')\n",
    "ax11.set_xlabel(r'QEC cycle, $t$', labelpad = 2) \n",
    "ax11.set_ylabel('Retained data fraction', labelpad = 3) \n",
    "\n",
    "plt.subplots_adjust(left = 0.12, bottom = 0.12, top = 0.98, right = 0.99, hspace = 0.0, wspace = 0.1) \n",
    "plt.show()\n",
    "# fig.savefig('Experimental_Figures/Retained_data_fraction_18_4_4.pdf', format='pdf', facecolor='None')"
   ]
  },
  {
   "cell_type": "code",
   "execution_count": null,
   "id": "57c05b87-b405-4a95-9846-e45a278001c4",
   "metadata": {},
   "outputs": [],
   "source": []
  },
  {
   "cell_type": "code",
   "execution_count": null,
   "id": "c1bd834a-2d6b-4624-9f78-c44a6f5658ea",
   "metadata": {},
   "outputs": [],
   "source": []
  },
  {
   "cell_type": "markdown",
   "id": "9ec67e66-fe1c-4b0b-a21e-a432809b9eef",
   "metadata": {},
   "source": [
    "## With leakage"
   ]
  },
  {
   "cell_type": "code",
   "execution_count": null,
   "id": "6590df6d-555d-4bfe-99ef-64a3ab1017f9",
   "metadata": {},
   "outputs": [],
   "source": [
    "set_leakage_x_devents = {}\n",
    "set_leakage_num_x = []\n",
    "for cycle in range(1, max_num_cycles+1):\n",
    "    fname = './Experimental_results/with_leakage/' + 'Logical_X_' + 'num_cycles_' + str(cycle) + '.mat'\n",
    "    data = loadmat(fname)\n",
    "    set_leakage_x_devents[f\"cycle_{cycle}\"] = data['dict_cycle_x_devents']\n",
    "    set_leakage_num_x.append(data['num_instance_x'][0][0])"
   ]
  },
  {
   "cell_type": "code",
   "execution_count": null,
   "id": "bae00802-0db7-43ca-8b91-3c1070072cb3",
   "metadata": {},
   "outputs": [],
   "source": [
    "set_leakage_z_devents = {}\n",
    "set_leakage_num_z = []\n",
    "for cycle in range(1, max_num_cycles+1):\n",
    "    fname = './Experimental_results/with_leakage/' + 'Logical_Z_' + 'num_cycles_' + str(cycle) + '.mat'\n",
    "    data = loadmat(fname)\n",
    "    set_leakage_z_devents[f\"cycle_{cycle}\"] = data['dict_cycle_z_devents']\n",
    "    set_leakage_num_z.append(data['num_instance_z'][0][0])"
   ]
  },
  {
   "cell_type": "code",
   "execution_count": null,
   "id": "b9816d6c-5804-4dc3-ac69-72ba047a92ae",
   "metadata": {},
   "outputs": [],
   "source": [
    "leakage_X_logic_error = [];\n",
    "leakage_X_logic_error_perbit = [] ;\n",
    "for cycle in range(1, max_num_cycles+1):\n",
    "    fname = './Experimental_results/with_leakage/' + 'Logical_X_' + 'num_cycles_' + str(cycle) + '.mat'\n",
    "    data = loadmat(fname)\n",
    "    leakage_X_logic_error.append( data['logical_error_probability'][0][0] )\n",
    "    leakage_X_logic_error_perbit.append(data['logical_error_probability_per_qubit'][0])"
   ]
  },
  {
   "cell_type": "code",
   "execution_count": null,
   "id": "31fdf555-bf1f-4f0a-9f97-8d186eeb10f2",
   "metadata": {},
   "outputs": [],
   "source": [
    "leakage_Z_logic_error = [];\n",
    "leakage_Z_logic_error_perbit  = [] ;\n",
    "for cycle in range(1, max_num_cycles+1):\n",
    "    fname = './Experimental_results/with_leakage/' + 'Logical_Z_' + 'num_cycles_' + str(cycle) + '.mat'\n",
    "    data = loadmat(fname)\n",
    "    leakage_Z_logic_error.append( data['logical_error_probability'][0][0]  )\n",
    "    leakage_Z_logic_error_perbit.append(data['logical_error_probability_per_qubit'][0])"
   ]
  },
  {
   "cell_type": "code",
   "execution_count": null,
   "id": "9816b5c9-0e8b-464d-ab57-fcb63b4ab870",
   "metadata": {},
   "outputs": [],
   "source": [
    "cycle_t = np.arange(1, max_num_cycles+1) ;\n",
    "cycle_interpo = np.linspace(1, max_num_cycles+1, 100) ;"
   ]
  },
  {
   "cell_type": "code",
   "execution_count": null,
   "id": "2bab645c-26a0-4990-8559-5ecfea2f6fbe",
   "metadata": {},
   "outputs": [],
   "source": [
    "leakage_Z_logic_fid = 1 - np.array( leakage_Z_logic_error[0:] )\n",
    "log_leakage_Z_logic_fid = np.log(leakage_Z_logic_fid)\n",
    "\n",
    "sigma_leakage_Z_logic_error = [ np.sqrt(item*(1-item)/set_leakage_num_z[index]) for index, item in enumerate(leakage_Z_logic_error[0:])];\n",
    "\n",
    "coeff, cov = np.polyfit(cycle_t, log_leakage_Z_logic_fid, deg=1, cov=True)\n",
    "\n",
    "log_A, log_B = coeff  \n",
    "\n",
    "sigma_log_A = np.sqrt(cov[0,0]) ;\n",
    "leakage_sigma_pL_z = np.exp(log_A) * sigma_log_A ;  \n",
    "\n",
    "# 转换回原始参数\n",
    "A = np.exp(log_A)\n",
    "B = np.exp(log_B)\n",
    "\n",
    "leakage_Z_logic_error_percycle = 1 - A\n",
    "print(f\"Logical error rate for four logical qubits per cycle = {leakage_Z_logic_error_percycle} ± {leakage_sigma_pL_z}\")\n",
    "\n",
    "# The fit line\n",
    "pred_leakage_Z_logic_error = (1 - B * A**(cycle_interpo))"
   ]
  },
  {
   "cell_type": "code",
   "execution_count": null,
   "id": "688ed3ca-c464-4bd3-8822-c638c61f4b58",
   "metadata": {},
   "outputs": [],
   "source": [
    "leakage_Z_logic_error_perbit_percycle = k_to_one(leakage_Z_logic_error_percycle, k)\n",
    "\n",
    "leakage_sigma_pL_z_perbit = leakage_sigma_pL_z / (k * (1 - leakage_Z_logic_error_percycle )**(1-1/k)    )\n",
    "\n",
    "print(\"Compared to four patches of disrance-4 surface codes with each achieving the logical error per cycle:\", \n",
    "      leakage_Z_logic_error_perbit_percycle )\n",
    "print(\"The error bar is:\", leakage_sigma_pL_z_perbit)"
   ]
  },
  {
   "cell_type": "code",
   "execution_count": null,
   "id": "04b8eaf4-caa4-48a6-8fcf-b87f8377586c",
   "metadata": {},
   "outputs": [],
   "source": [
    "# leakage_Z_logic_error_perbit_percycle - exp_Z_logic_error_perbit_percycle"
   ]
  },
  {
   "cell_type": "code",
   "execution_count": null,
   "id": "98d66ebc-b794-49d9-84e2-58621fbddd93",
   "metadata": {},
   "outputs": [],
   "source": [
    "leakage_X_logic_fid = 1 - np.array( leakage_X_logic_error[0:] )\n",
    "log_leakage_X_logic_fid = np.log(leakage_X_logic_fid)\n",
    "\n",
    "sigma_leakage_X_logic_error = [ np.sqrt(item*(1-item)/set_leakage_num_x[index]) for index, item in enumerate(leakage_X_logic_error[0:])];\n",
    "\n",
    "coeff, cov = np.polyfit(cycle_t, log_leakage_X_logic_fid, deg=1,cov=True)\n",
    "\n",
    "log_A, log_B = coeff  # [斜率, 截距]\n",
    "\n",
    "sigma_log_A = np.sqrt(cov[0,0]) ;\n",
    "leakage_sigma_pL_x = np.exp(log_A) * sigma_log_A ;  #   \n",
    "\n",
    "\n",
    "# 转换回原始参数\n",
    "A = np.exp(log_A)\n",
    "B = np.exp(log_B)\n",
    "\n",
    "leakage_X_logic_error_percycle = 1 - A\n",
    "print(f\"Logical error rate for four logical qubits per cycle = {leakage_X_logic_error_percycle} ± {leakage_sigma_pL_x} \")\n",
    "\n",
    "# The fit line\n",
    "pred_leakage_X_logic_error = (1 - B * A**(cycle_interpo))"
   ]
  },
  {
   "cell_type": "code",
   "execution_count": null,
   "id": "bd9bc087-ef20-4e6e-a2a0-2a3658efc6a7",
   "metadata": {},
   "outputs": [],
   "source": [
    "leakage_X_logic_error_perbit_percycle = k_to_one(leakage_X_logic_error_percycle, k)\n",
    "\n",
    "leakage_sigma_pL_x_perbit = leakage_sigma_pL_x / (k * (1 - leakage_X_logic_error_percycle )**(1-1/k)    )\n",
    "\n",
    "print(\"Compared to four patches of disrance-4 surface codes with each achieving the logical error per cycle:\", \n",
    "      leakage_X_logic_error_perbit_percycle )\n",
    "print(\"The error bar is:\", leakage_sigma_pL_x_perbit)"
   ]
  },
  {
   "cell_type": "code",
   "execution_count": null,
   "id": "6923601f-2d38-4f93-89bb-760756ffdf51",
   "metadata": {},
   "outputs": [],
   "source": [
    "# leakage_X_logic_error_perbit_percycle - exp_X_logic_error_perbit_percycle"
   ]
  },
  {
   "cell_type": "code",
   "execution_count": null,
   "id": "54135a72-cbdc-4205-b3e5-8d0874305557",
   "metadata": {},
   "outputs": [],
   "source": [
    "color_list = [\"maroon\", \"teal\", \"dimGray\", \"#FF8C00\", \"#BC8F8F\", \"#7FFFAA\"]\n",
    "marker_list = [ \"o\", \"s\", \"d\", \"<\", \"p\", \"H\" ]\n",
    "\n",
    "plt.rcParams[\"font.family\"] = \"Arial\"\n",
    "plt.rcParams.update({'font.size': 12})\n",
    "fontsize = 12 ;\n",
    "\n",
    "fig, ax11 = plt.subplots( 1, 1,              \n",
    "    figsize=(5, 4)   \n",
    ")\n",
    "\n",
    "spine_width = 1.5 ;\n",
    "ax11.spines['top'].set_linewidth(spine_width)    \n",
    "ax11.spines['bottom'].set_linewidth(spine_width) \n",
    "ax11.spines['left'].set_linewidth(spine_width)   \n",
    "ax11.spines['right'].set_linewidth(spine_width)  \n",
    "ax21.spines['top'].set_linewidth(spine_width)    \n",
    "ax21.spines['bottom'].set_linewidth(spine_width) \n",
    "ax21.spines['left'].set_linewidth(spine_width)   \n",
    "ax21.spines['right'].set_linewidth(spine_width)  \n",
    "\n",
    "ax11.set_xlim(0, 7.2)\n",
    "ax11.xaxis.set_major_locator(ticker.MultipleLocator(1))  \n",
    "\n",
    "ax11.set_ylim(0, 1)\n",
    "#----------------------------------------------------------------------\n",
    "ax11.plot( cycle_t, leakage_Z_logic_error, color = 'green', linestyle = \"\", linewidth = 2, \\\n",
    "        marker = 'h', markersize = 9, label = 'logical Z basis')\n",
    "    \n",
    "ax11.plot( cycle_interpo, pred_leakage_Z_logic_error, color = 'green', linestyle = \"solid\", linewidth=2)\n",
    "\n",
    "ax11.plot( cycle_t, leakage_X_logic_error, color = '#d1800f', linestyle = \"\", linewidth=2, \n",
    "        marker = 'h', markerfacecolor='none', markeredgewidth=2.8, markersize = 9, label = 'logical X basis' )\n",
    "\n",
    "ax11.plot( cycle_interpo, pred_leakage_X_logic_error, color = '#d1800f', linestyle = \"dashed\", linewidth = 2)\n",
    "\n",
    "\n",
    "ax11.legend(frameon = False, loc=(-0.01, 0.78), ncol=1, columnspacing=1.8, labelspacing=0.8, handlelength = 2, fontsize=f'{fontsize}')\n",
    "\n",
    "ax11.set_xlabel(r'QEC cycle, $t$', labelpad = 3) \n",
    "ax11.set_ylabel(r'Logical error probability, $P_L(t)$', labelpad = 3) \n",
    "\n",
    "\n",
    "plt.subplots_adjust(left = 0.12, bottom = 0.12, top = 0.98, right = 0.99) \n",
    "plt.show()\n",
    "fig.savefig('Experimental_Figures/leakage_Logical_error_18_4_4.pdf', format='pdf', facecolor='None')"
   ]
  },
  {
   "cell_type": "code",
   "execution_count": null,
   "id": "6fd6a1f8-bede-4d36-901b-e6b679282ebc",
   "metadata": {},
   "outputs": [],
   "source": []
  },
  {
   "cell_type": "code",
   "execution_count": null,
   "id": "f433d3de-9011-4fc3-b7c9-67480d7010ae",
   "metadata": {},
   "outputs": [],
   "source": []
  }
 ],
 "metadata": {
  "kernelspec": {
   "display_name": "QEC",
   "language": "python",
   "name": "qec"
  },
  "language_info": {
   "codemirror_mode": {
    "name": "ipython",
    "version": 3
   },
   "file_extension": ".py",
   "mimetype": "text/x-python",
   "name": "python",
   "nbconvert_exporter": "python",
   "pygments_lexer": "ipython3",
   "version": "3.11.9"
  }
 },
 "nbformat": 4,
 "nbformat_minor": 5
}
