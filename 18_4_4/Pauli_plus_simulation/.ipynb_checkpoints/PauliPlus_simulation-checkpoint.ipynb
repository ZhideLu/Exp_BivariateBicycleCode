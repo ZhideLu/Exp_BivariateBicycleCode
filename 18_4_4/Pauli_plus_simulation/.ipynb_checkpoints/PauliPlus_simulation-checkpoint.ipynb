{
 "cells": [
  {
   "cell_type": "code",
   "execution_count": 1,
   "id": "8c16a781-eb42-41cf-98a1-81617110855a",
   "metadata": {},
   "outputs": [],
   "source": [
    "from tools_for_pauli_plus import *"
   ]
  },
  {
   "cell_type": "code",
   "execution_count": 2,
   "id": "cbbfa64d-cd30-4e37-915d-e8381c878880",
   "metadata": {},
   "outputs": [],
   "source": [
    "# num_level = 4 ;\n",
    "error_cz_xeb = 0.0098 ;\n",
    "\n",
    "error_rate_init = 0.003 ;\n",
    "error_rate_idle = 0.0035\n",
    "error_rate_sq = 0.0008 ;\n",
    "error_rate_cz = 0.0073  ;\n",
    "error_rate_RO_to_Data = 0.04 ;\n",
    "error_crosstalk = 0.0025 ;\n",
    "\n",
    "from functions_BB_code import error_decoding\n",
    "from ldpc import bposd_decoder, mod2\n",
    "import pickle\n",
    "with open('../Set_decoder_para_18_4_4.pkl', 'rb') as f:\n",
    "    Set_decoder_para_18_4_4 = pickle.load(f)\n",
    "## import the decoder\n",
    "my_bp_method = \"ms\"\n",
    "my_max_iter = 1000\n",
    "my_osd_method = \"osd_cs\"\n",
    "my_osd_order = 7\n",
    "my_ms_scaling_factor = 0"
   ]
  },
  {
   "cell_type": "code",
   "execution_count": null,
   "id": "19ab88c4-2338-4bc3-ad02-a62dfe90cb8c",
   "metadata": {},
   "outputs": [],
   "source": [
    "# Three-state measurement errors\n",
    "# three_state_level = [0, 1, 2] ;\n",
    "# check_three_meas_error = np.array([[0.9597, 0.0403, 0],\n",
    "#                                    [0.0403, 0.9597, 0],\n",
    "#                                    [0.5, 0.5, 0],\n",
    "#                                    [0.5, 0.5, 0] ]) ;\n",
    "# data_three_meas_error = np.array([[0.9671, 0.0329, 0],\n",
    "#                                   [0.0329, 0.9671, 0],\n",
    "#                                   [0.5, 0.5, 0],\n",
    "#                                   [0.5, 0.5, 0] ]) ;"
   ]
  },
  {
   "cell_type": "code",
   "execution_count": null,
   "id": "83b09202-0ad5-49f4-9d46-dea332eb254c",
   "metadata": {
    "scrolled": true
   },
   "outputs": [],
   "source": []
  },
  {
   "cell_type": "markdown",
   "id": "fb0bf2c6-695d-435f-aa95-73d668add9ba",
   "metadata": {},
   "source": [
    "## Physical error rates"
   ]
  },
  {
   "cell_type": "code",
   "execution_count": 3,
   "id": "67c92903-e806-4b3a-bbe3-bb55c5bb5817",
   "metadata": {},
   "outputs": [],
   "source": [
    "# U_leakage for CZ\n",
    "data = loadmat(\"Exp_crosstalk_data/leak_matrix.mat\"); leak_transit = data[\"leak_martix\"]\n",
    "# leak_transit[leak_transit < 1e-8] = 0 ;\n",
    "channel_cz = generate_channel_cz(leak_transit)  # CZ leakage, with higher-frequency qubit put in the front\n",
    "\n",
    "channel_sq = generate_channel_t(0.03)       # 30ns single-qubit gate\n",
    "channel_tq = generate_channel_t(0.105)      # 105ns two-qubit gate\n",
    "channel_DD = generate_channel_t(0.92)       # 920ns DD\n",
    "channel_idle = generate_channel_t(0.105)    # 105ns idle\n",
    "\n",
    "# Depolarized error for compensation\n",
    "error_rate_sq_com = error_rate_sq - (1 - channel_sq.get_prob_from_to(0, 0, 0))\n",
    "error_rate_cz_com = error_rate_cz - (2 - 2 * channel_tq.get_prob_from_to(0, 0, 0) + 1 - channel_cz.get_prob_from_to(0, 0, 0) ) \n",
    "error_rate_idle_com = error_rate_idle - (1 - channel_idle.get_prob_from_to(0, 0, 0))"
   ]
  },
  {
   "cell_type": "code",
   "execution_count": null,
   "id": "b7c5c1c0-20aa-4ec6-9ded-747dcf7e685a",
   "metadata": {},
   "outputs": [],
   "source": [
    "# print( channel_DD )"
   ]
  },
  {
   "cell_type": "code",
   "execution_count": null,
   "id": "f90089d1-9a0c-4f91-8bb5-15b8bda29804",
   "metadata": {},
   "outputs": [],
   "source": []
  },
  {
   "cell_type": "code",
   "execution_count": 4,
   "id": "62bffb8c-2e64-4f84-aea9-ccbf412422be",
   "metadata": {},
   "outputs": [
    {
     "data": {
      "text/plain": [
       "0.0014527288020909348"
      ]
     },
     "execution_count": 4,
     "metadata": {},
     "output_type": "execute_result"
    }
   ],
   "source": [
    "error_rate_cz_com\n",
    "# leak_transit[5,8]"
   ]
  },
  {
   "cell_type": "markdown",
   "id": "d89d7371-a049-43d1-8e16-5257dbd0aa57",
   "metadata": {},
   "source": [
    "## Circuit for BB code [[18,4,4]]¶"
   ]
  },
  {
   "cell_type": "code",
   "execution_count": 5,
   "id": "af62a096-684e-4921-9437-d49e775181b5",
   "metadata": {},
   "outputs": [],
   "source": [
    "# [[18, 4, 4]]\n",
    "ell,m = 3, 3 ; a1,a2,a3 = 1, 0, 2 ; b1,b2,b3 = 1, 0, 2\n",
    "\n",
    "# code length\n",
    "n = 2*m*ell;  n2 = m*ell ; remove_X_list = [2,8] ;  remove_Z_list = [3,4] ;\n",
    "\n",
    "I_ell = np.identity(ell,dtype=int) ; I_m = np.identity(m,dtype=int); I = np.identity(ell*m,dtype=int)\n",
    "x = {} ;  y = {}\n",
    "\n",
    "for i in range(ell):\n",
    "\tx[i] = np.kron(np.roll(I_ell,i,axis=1),I_m)\n",
    "for i in range(m):\n",
    "\ty[i] = np.kron(I_ell,np.roll(I_m,i,axis=1))\n",
    "\n",
    "A = (x[a1%ell] + y[a2%m] + y[a3%m]) % 2;  B = (y[b1%m] + x[b2%ell] + x[b3%ell]) % 2\n",
    "A1 = x[a1%ell]; A2 = y[a2%m]; A3 = y[a3%m] ; B1 = y[b1%m]; B2 = x[b2%ell]; B3 = x[b3%ell]\n",
    "AT = np.transpose(A) ; BT = np.transpose(B) ;\n",
    "\n",
    "# Testing CSS code\n",
    "hx = np.hstack((A,B));  hz = np.hstack((BT,AT))\n",
    "hx = np.delete(hx, remove_X_list, axis=0) ; hz = np.delete(hz, remove_Z_list, axis=0)\n",
    "\n",
    "# number of logical qubits\n",
    "k = n - rank2(hx) - rank2(hz)\n",
    "qcode=css_code(hx=hx, hz=hz)\n",
    "\n",
    "# logical operator\n",
    "lz = qcode.lz ;  lx = qcode.lx\n",
    "# we choose a set of basis such that each logical X anticommute with its corresponding logical Z.\n",
    "lz[1] = (lz[1]+lz[2]) %2 ; lz[3] = (lz[3]+lz[0]) %2\n",
    "\n",
    "lz_copy = lz.copy()\n",
    "lz_copy[0] = lz[1] ;  lz_copy[1] = lz[0] ;  lz_copy[2] = lz[3] ;  lz_copy[3] = lz[2] ;\n",
    "lz = lz_copy\n",
    "# (lx@lz.T) %2\n",
    "#----------------------------------------------------------------------------------------------------------------------\n",
    "sX = ['idle', 'idle', 1, 4, 3, 5, 0, 2] ; sZ = ['idle', 3, 5, 0, 1, 2, 4, 'idle'] ;\n",
    "# Connections of edges in the Tanner graph\n",
    "lin_order, data_qubits, Xchecks, Zchecks, nbs = get_connection_Tanner(remove_X_list, remove_Z_list, n2)\n",
    "#----------------------------------------------------------------------------------------------------------------------\n",
    "Xcheck = np.arange(n2 - len(remove_X_list) ).tolist()\n",
    "data_L = np.arange(n2 - len(remove_X_list), 2 * n2 - len(remove_X_list)).tolist()\n",
    "data_R = np.arange(2 * n2 - len(remove_X_list), 3 * n2 - len(remove_X_list)).tolist()\n",
    "Zcheck = np.arange(3 * n2 - len(remove_X_list), 4 * n2 - len(remove_X_list) - len(remove_Z_list) ).tolist()\n",
    "\n",
    "num_qubits = 4 * n2 - len(remove_X_list) - len(remove_Z_list) # 32 physical qubits\n",
    "num_check_Z = n2 - len(remove_Z_list) ; num_check_X = n2 - len(remove_X_list) ; num_databits = len(data_L + data_R) ;\n",
    "num_checks = num_qubits - num_databits ;"
   ]
  },
  {
   "cell_type": "code",
   "execution_count": null,
   "id": "2e38e4ce-2ba9-4375-9216-9969a450ad65",
   "metadata": {},
   "outputs": [],
   "source": []
  },
  {
   "cell_type": "code",
   "execution_count": 7,
   "id": "2098257d-f8c9-42c8-85fd-00a9ab61a703",
   "metadata": {},
   "outputs": [],
   "source": [
    "num_cycles = 2 ;\n",
    "basis_type = \"Z\" ;"
   ]
  },
  {
   "cell_type": "code",
   "execution_count": 8,
   "id": "63f75eed-9eac-4388-bd91-caa183829305",
   "metadata": {},
   "outputs": [],
   "source": [
    "initial_pre = stim.Circuit()\n",
    "initial_pre.append(\"R\", Xcheck + data_L + data_R + Zcheck)\n",
    "initial_pre.append(\"X_ERROR\", Xcheck + data_L + data_R + Zcheck, error_rate_init)  \n",
    "if basis_type == \"X\":\n",
    "    initial_pre.append(\"H\", data_L + data_R ) ;\n",
    "#----------------------------------------------------------------------------------------------------------------------\n",
    "SM_circuit = get_SM_circuit(error_rate_sq_com, error_rate_cz_com, error_rate_idle_com, error_crosstalk, remove_X_list, remove_Z_list, \\\n",
    "                            lin_order, data_qubits, Xchecks, Zchecks, nbs, sX, sZ)\n",
    "#----------------------------------------------------------------------------------------------------------------------\n",
    "circuit_DD = stim.Circuit()\n",
    "circuit_DD.append(\"SQRT_X_DAG\", data_L + data_R)\n",
    "circuit_DD.append(\"SQRT_X\", data_L + data_R)\n",
    "circuit_DD.append(\"DEPOLARIZE1\", data_L + data_R, error_rate_RO_to_Data)\n",
    "#----------------------------------------------------------------------------------------------------------------------\n",
    "final = stim.Circuit()\n",
    "if basis_type == \"X\":\n",
    "    final.append(\"H\", data_L + data_R ) ;\n",
    "final.append(\"M\", data_L + data_R )\n",
    "#----------------------------------------------------------------------------------------------------------------------\n",
    "Exp_circuit_logical_Z = initial_pre + (SM_circuit + circuit_DD) * (num_cycles-1) + SM_circuit + final"
   ]
  },
  {
   "cell_type": "code",
   "execution_count": null,
   "id": "80cbaaf9-2bdf-49de-a4ae-24150c2ad614",
   "metadata": {},
   "outputs": [],
   "source": []
  },
  {
   "cell_type": "code",
   "execution_count": 9,
   "id": "2d7bb7d5-14dc-405d-871d-40049b227092",
   "metadata": {},
   "outputs": [
    {
     "data": {
      "text/plain": [
       "1216"
      ]
     },
     "execution_count": 9,
     "metadata": {},
     "output_type": "execute_result"
    }
   ],
   "source": [
    "# bind GPCs for the simulator\n",
    "simulator = leaky.Simulator(num_qubits)\n",
    "\n",
    "for targets in range(num_qubits):\n",
    "    simulator.bind_leaky_channel(leaky.Instruction(\"Y\", [targets]), channel_sq)\n",
    "    simulator.bind_leaky_channel(leaky.Instruction(\"X\", [targets]), channel_sq)\n",
    "    simulator.bind_leaky_channel(leaky.Instruction(\"Z\", [targets]), channel_sq)   \n",
    "    simulator.bind_leaky_channel(leaky.Instruction(\"SQRT_Y\", [targets]), channel_sq)\n",
    "\n",
    "    #  qubit errors for DD\n",
    "    simulator.bind_leaky_channel(leaky.Instruction(\"SQRT_X\", [targets]), channel_DD)\n",
    "    \n",
    "    # qubit errors for CZ\n",
    "    simulator.bind_leaky_channel(leaky.Instruction(\"S\", [targets]), channel_tq)\n",
    "\n",
    "     # qubit errors for iding\n",
    "    simulator.bind_leaky_channel(leaky.Instruction(\"I\", [targets]), channel_idle)\n",
    "#----------------------------------------------------------------------------------------------------------------------\n",
    "# CZ leakage\n",
    "for target1, target2 in permutations(range(num_qubits), 2):\n",
    "    simulator.bind_leaky_channel( leaky.Instruction(\"CZ\", [target1, target2]), channel_cz )\n",
    "#----------------------------------------------------------------------------------------------------------------------\n",
    "# CZ-CZ crosstalk\n",
    "# for t in range(2,8):\n",
    "#     for ck in order_crosstalk_gpc[t]:\n",
    "#         simulator.bind_leaky_channel( leaky.Instruction(\"ISWAP\", [lin_order[ck[0]], lin_order[ck[1]]]), set_crosstalk_gpc[ck] )\n",
    "# CZ-SQ crosstalk\n",
    "# for t in range(1,8):\n",
    "#     for ck in order_crosstalk_gpc_SQ[t]:\n",
    "#         simulator.bind_leaky_channel( leaky.Instruction(\"SQRT_XX\", [lin_order[ck[0]], lin_order[ck[1]]]), set_crosstalk_gpc_SQ[ck] )\n",
    "\n",
    "len( simulator.bound_leaky_channels )"
   ]
  },
  {
   "cell_type": "code",
   "execution_count": null,
   "id": "f6b6eca1-c67d-465e-8f70-46768876ccf0",
   "metadata": {},
   "outputs": [],
   "source": []
  },
  {
   "cell_type": "markdown",
   "id": "c9bccadd-66eb-49aa-b806-4407bf4fee4e",
   "metadata": {},
   "source": [
    "## Z basis simulation"
   ]
  },
  {
   "cell_type": "code",
   "execution_count": 10,
   "id": "cb3da460-0ff5-496a-a7b7-cc4f9984d1ee",
   "metadata": {},
   "outputs": [],
   "source": [
    "num_Exp_samples_Z = 20000 ;"
   ]
  },
  {
   "cell_type": "code",
   "execution_count": 12,
   "id": "6190e8af-6525-425b-86c5-96cdda3f99cf",
   "metadata": {},
   "outputs": [],
   "source": [
    "results_no_meas_error_z = simulator.sample_batch(Exp_circuit_logical_Z, shots = num_Exp_samples_Z )\n",
    "index_no_leakage_z = np.all( (results_no_meas_error_z == 0) | (results_no_meas_error_z == 1), axis=1)\n",
    "np.sum(index_no_leakage_z)\n",
    "results_no_leakage_no_meas_error_z = results_no_meas_error_z[index_no_leakage_z]\n",
    "#----------------------------------------------------------------------------------------------------------------------\n",
    "# consider three-state readout errors\n",
    "results_z = apply_transition_2d(num_databits, results_no_meas_error_z, check_three_meas_error, data_three_meas_error)\n",
    "instance_no_leakage_z = np.all( (results_z == 0) | (results_z == 1), axis=1)\n",
    "# rejecting instances with leakage detected\n",
    "results_no_leakage_z = results_z[instance_no_leakage_z] ;\n",
    "num_trials_z = results_no_leakage_z.shape[0]"
   ]
  },
  {
   "cell_type": "code",
   "execution_count": 13,
   "id": "6de1cdb3-d6a5-4f46-9aad-3305e4728cd8",
   "metadata": {},
   "outputs": [
    {
     "name": "stdout",
     "output_type": "stream",
     "text": [
      "24.32%\n"
     ]
    }
   ],
   "source": [
    "retain_data_fraction = num_trials_z/num_Exp_samples_Z\n",
    "print(f\"{retain_data_fraction*100}%\")"
   ]
  },
  {
   "cell_type": "code",
   "execution_count": 14,
   "id": "d98ee143-5d3c-48cd-968b-3a183d61a92f",
   "metadata": {},
   "outputs": [
    {
     "data": {
      "text/plain": [
       "17562"
      ]
     },
     "execution_count": 14,
     "metadata": {},
     "output_type": "execute_result"
    }
   ],
   "source": [
    "np.sum(index_no_leakage_z)"
   ]
  },
  {
   "cell_type": "code",
   "execution_count": 15,
   "id": "77594fc6-3383-4855-9774-70889bbd2048",
   "metadata": {},
   "outputs": [],
   "source": [
    "syndrome_history_Z, final_logical_z_outcome = Z_transfer_meas_to_detection(hz, lz, num_cycles, results_no_leakage_z, num_databits)"
   ]
  },
  {
   "cell_type": "code",
   "execution_count": 16,
   "id": "13eb96e1-ac1c-4dc1-9127-f311549ef261",
   "metadata": {},
   "outputs": [],
   "source": [
    "# syndrome_history_Z, final_logical_z_outcome = Z_transfer_meas_to_detection(hz, lz, num_cycles, results_no_leakage_no_meas_error_z, num_databits)"
   ]
  },
  {
   "cell_type": "code",
   "execution_count": 17,
   "id": "a15c258a-8d49-43bd-b8e8-d1f476b70d42",
   "metadata": {},
   "outputs": [],
   "source": [
    "channel_probsZ = Set_decoder_para_18_4_4[f\"channel_probsZ_{num_cycles}\"]\n",
    "HZ = Set_decoder_para_18_4_4[f\"HZ_{num_cycles}\"]  ;\n",
    "HdecZ = Set_decoder_para_18_4_4[f\"HdecZ_{num_cycles}\"] ;\n",
    "\n",
    "bpdZ=bposd_decoder(\n",
    "    HdecZ, \n",
    "    channel_probs=channel_probsZ, \n",
    "    max_iter=my_max_iter, \n",
    "    bp_method=my_bp_method,\n",
    "    ms_scaling_factor=my_ms_scaling_factor, \n",
    "    osd_method=\"osd_cs\", \n",
    "    osd_order=my_osd_order \n",
    "    )"
   ]
  },
  {
   "cell_type": "code",
   "execution_count": 20,
   "id": "e53a3a6a-d634-4b76-a6c2-3610d5d1a33a",
   "metadata": {},
   "outputs": [
    {
     "name": "stdout",
     "output_type": "stream",
     "text": [
      "no error correction for logical Z basis:\n",
      "Logical error over 3 cycles (four logical qubits): 0.7639802631578947\n",
      "Logical error over 3 cycles (single logical qubit): [0.40131579 0.42948191 0.33696546 0.35217928]\n",
      "\n",
      "\n",
      "error correction for logical Z basis:\n",
      "Logical error over 3 cycles (four logical qubits): 0.4498355263157895\n",
      "Logical error over 3 cycles (single logical qubit): [0.23458059 0.22985197 0.25185033 0.2526727 ]\n"
     ]
    }
   ],
   "source": [
    "# correct errors for logical Z (Z checks)\n",
    "Z_no_correction_good_trials, Z_no_correction_good_list, Z_good_trials, Z_good_list =     \\\n",
    "            error_decoding(num_trials_z, k, bpdZ, HZ, syndrome_history_Z, final_logical_z_outcome )\n",
    "\n",
    "print(\"no error correction for logical Z basis:\")\n",
    "print(f'Logical error over {num_cycles+1} cycles (four logical qubits):', 1-Z_no_correction_good_trials/num_trials_z)\n",
    "print(f'Logical error over {num_cycles+1} cycles (single logical qubit):', 1-Z_no_correction_good_list/num_trials_z)\n",
    "print(\"\\n\")\n",
    "print(\"error correction for logical Z basis:\")\n",
    "print(f'Logical error over {num_cycles+1} cycles (four logical qubits):', 1-Z_good_trials/num_trials_z)\n",
    "print(f'Logical error over {num_cycles+1} cycles (single logical qubit):', 1-Z_good_list/num_trials_z)"
   ]
  },
  {
   "cell_type": "code",
   "execution_count": null,
   "id": "ea39c00a-fb10-4f71-b29e-238dc73295a7",
   "metadata": {},
   "outputs": [],
   "source": []
  },
  {
   "cell_type": "code",
   "execution_count": 18,
   "id": "3f1d0dea-2d7d-41ea-9cf6-780f456f80e2",
   "metadata": {},
   "outputs": [
    {
     "name": "stdout",
     "output_type": "stream",
     "text": [
      "Pauli+ simulation\n",
      "-------------------------\n",
      "The mean probability of error detection in cycle 1 is: 0.12617481203007516\n",
      "The mean probability of error detection in cycle 2 is: 0.3068315319548872\n",
      "The mean probability of error detection in cycle 3 is: 0.28177866541353386\n"
     ]
    }
   ],
   "source": [
    "labels_z = ['Z0', 'Z1', 'Z2', 'Z5', 'Z6', 'Z7', 'Z8']\n",
    "\n",
    "num_zcheck = len(labels_z) ;\n",
    "mean_detect_prob_z = np.mean(syndrome_history_Z, axis=0)\n",
    "\n",
    "mean_detect_prob_cycle_z = [ np.mean(mean_detect_prob_z[num_zcheck*cycle:num_zcheck*(cycle+1)]) for cycle in range(num_cycles+1) ]\n",
    "\n",
    "print(\"Pauli+ simulation\")\n",
    "print(\"-------------------------\")\n",
    "for cycle in range(num_cycles+1) :\n",
    "    print( f'The mean probability of error detection in cycle {cycle+1} is:', mean_detect_prob_cycle_z[cycle] )"
   ]
  },
  {
   "cell_type": "code",
   "execution_count": 19,
   "id": "a407d6aa-2aa9-4f5c-806a-5f2f20fa41a1",
   "metadata": {},
   "outputs": [
    {
     "data": {
      "text/plain": [
       "0.23826166979949873"
      ]
     },
     "execution_count": 19,
     "metadata": {},
     "output_type": "execute_result"
    }
   ],
   "source": [
    "np.mean(mean_detect_prob_cycle_z)"
   ]
  },
  {
   "cell_type": "code",
   "execution_count": null,
   "id": "e07a2324-c028-4bc7-ae19-88fc16a750e5",
   "metadata": {},
   "outputs": [],
   "source": [
    "# Accumulated logical error over cycles\n",
    "\n",
    "''' Pauli:      [0.2154, 0.3788, 0.517,  0.623, 0.698,  0.762  ] '''\n",
    "\n",
    "''' Pauli+:     [0.22,   0.401,  0.543,  0.659, 0.733,  0.798  ] '''\n",
    "\n",
    "''' Experiment: [0.2138, 0.456,  0.648,  0.767, 0.84,   0.879  ]'''"
   ]
  },
  {
   "cell_type": "code",
   "execution_count": null,
   "id": "18b29205-4cfa-49ee-96f0-ffea21834e9a",
   "metadata": {},
   "outputs": [],
   "source": [
    "1/2 - 1/2 * np.exp(-0.92/41.8)"
   ]
  },
  {
   "cell_type": "code",
   "execution_count": null,
   "id": "7e3d4f3f-dea2-4960-9c85-2c91ff63680f",
   "metadata": {},
   "outputs": [],
   "source": [
    "1/2 - 1/2 * np.exp(-0.92/39.7)"
   ]
  },
  {
   "cell_type": "code",
   "execution_count": null,
   "id": "fcccb969-dc52-4cd7-b9dd-b8dbda8f9652",
   "metadata": {},
   "outputs": [],
   "source": []
  },
  {
   "cell_type": "markdown",
   "id": "74282a6a-8fed-491d-af4c-0034aacbcd82",
   "metadata": {},
   "source": [
    "## X basis simulation"
   ]
  },
  {
   "cell_type": "code",
   "execution_count": null,
   "id": "00936a6c-cf99-407f-ad58-95bc23fa77d5",
   "metadata": {},
   "outputs": [],
   "source": []
  },
  {
   "cell_type": "code",
   "execution_count": null,
   "id": "87c42c29-f81f-471a-978f-a4c9fb4cb7e1",
   "metadata": {},
   "outputs": [],
   "source": [
    "num_cycles = 2 ;\n",
    "basis_type = \"X\" ;\n",
    "\n",
    "initial_pre = stim.Circuit()\n",
    "initial_pre.append(\"R\", Xcheck + data_L + data_R + Zcheck)\n",
    "initial_pre.append(\"X_ERROR\", Xcheck + data_L + data_R + Zcheck, error_rate_init)  \n",
    "if basis_type == \"X\":\n",
    "    initial_pre.append(\"H\", data_L + data_R ) ;\n",
    "#----------------------------------------------------------------------------------------------------------------------\n",
    "SM_circuit = get_SM_circuit(error_rate_sq_com, error_rate_cz_com, error_rate_idle_com, error_crosstalk, remove_X_list, remove_Z_list, lin_order, \\\n",
    "                            data_qubits, Xchecks, Zchecks, nbs, sX, sZ)\n",
    "#----------------------------------------------------------------------------------------------------------------------\n",
    "circuit_DD = stim.Circuit()\n",
    "circuit_DD.append(\"SQRT_X_DAG\", data_L + data_R)\n",
    "circuit_DD.append(\"SQRT_X\", data_L + data_R)\n",
    "circuit_DD.append(\"DEPOLARIZE1\", data_L + data_R, error_rate_RO_to_Data )\n",
    "#----------------------------------------------------------------------------------------------------------------------\n",
    "final = stim.Circuit()\n",
    "if basis_type == \"X\":\n",
    "    final.append(\"H\", data_L + data_R ) ;\n",
    "final.append(\"M\", data_L + data_R )\n",
    "#----------------------------------------------------------------------------------------------------------------------\n",
    "Exp_circuit_logical_X = initial_pre + (SM_circuit + circuit_DD) * (num_cycles-1) + SM_circuit + final"
   ]
  },
  {
   "cell_type": "code",
   "execution_count": null,
   "id": "935424fb-0831-444d-84b5-e561dfa680b5",
   "metadata": {},
   "outputs": [],
   "source": [
    "# bind GPCs for the simulator\n",
    "simulator = leaky.Simulator(num_qubits)\n",
    "\n",
    "for targets in range(num_qubits):\n",
    "    simulator.bind_leaky_channel(leaky.Instruction(\"Y\", [targets]), channel_sq)\n",
    "    simulator.bind_leaky_channel(leaky.Instruction(\"X\", [targets]), channel_sq)\n",
    "    simulator.bind_leaky_channel(leaky.Instruction(\"Z\", [targets]), channel_sq)   \n",
    "    simulator.bind_leaky_channel(leaky.Instruction(\"SQRT_Y\", [targets]), channel_sq)\n",
    "\n",
    "    #  qubit errors for DD\n",
    "    simulator.bind_leaky_channel(leaky.Instruction(\"SQRT_X\", [targets]), channel_DD)\n",
    "    \n",
    "    # qubit errors for CZ\n",
    "    simulator.bind_leaky_channel(leaky.Instruction(\"S\", [targets]), channel_tq)\n",
    "\n",
    "     # qubit errors for iding\n",
    "    simulator.bind_leaky_channel(leaky.Instruction(\"I\", [targets]), channel_idle)\n",
    "#----------------------------------------------------------------------------------------------------------------------\n",
    "# CZ leakage\n",
    "for target1, target2 in permutations(range(num_qubits), 2):\n",
    "    simulator.bind_leaky_channel( leaky.Instruction(\"CZ\", [target1, target2]), channel_cz )\n",
    "\n",
    "len( simulator.bound_leaky_channels )"
   ]
  },
  {
   "cell_type": "code",
   "execution_count": null,
   "id": "5a5bfcdb-f863-4b5b-8fa4-8e459a7da17c",
   "metadata": {},
   "outputs": [],
   "source": []
  },
  {
   "cell_type": "code",
   "execution_count": null,
   "id": "a47b1a53-e4e1-42aa-9ead-29d117e51c64",
   "metadata": {},
   "outputs": [],
   "source": [
    "num_Exp_samples_X = 25000 ;"
   ]
  },
  {
   "cell_type": "code",
   "execution_count": null,
   "id": "4e44855a-9142-429b-867f-b2e867802d85",
   "metadata": {},
   "outputs": [],
   "source": [
    "results_no_meas_error_x = simulator.sample_batch(Exp_circuit_logical_X, shots = num_Exp_samples_X )\n",
    "index_no_leakage_x = np.all( (results_no_meas_error_x == 0) | (results_no_meas_error_x == 1), axis=1)\n",
    "np.sum(index_no_leakage_x)\n",
    "#----------------------------------------------------------------------------------------------------------------------\n",
    "# consider three-state readout errors\n",
    "results_x = apply_transition_2d(num_databits, results_no_meas_error_x, check_three_meas_error, data_three_meas_error)\n",
    "instance_no_leakage_x = np.all( (results_x == 0) | (results_x == 1), axis=1)\n",
    "# rejecting instances with leakage detected\n",
    "results_no_leakage_x = results_x[instance_no_leakage_x] ;\n",
    "num_trials_x = results_no_leakage_x.shape[0]"
   ]
  },
  {
   "cell_type": "code",
   "execution_count": null,
   "id": "3c0244ae-98fd-4cb4-9e1a-1c6a3a8f3f8d",
   "metadata": {},
   "outputs": [],
   "source": [
    "retain_data_fraction = num_trials_x/num_Exp_samples_X\n",
    "print(f\"{retain_data_fraction*100}%\")"
   ]
  },
  {
   "cell_type": "code",
   "execution_count": null,
   "id": "7ba51532-3e6f-4bf7-ab0a-92e95381de26",
   "metadata": {},
   "outputs": [],
   "source": [
    "syndrome_history_X, final_logical_x_outcome = X_transfer_meas_to_detection(hx, lx, num_cycles, results_no_leakage_x, num_databits)"
   ]
  },
  {
   "cell_type": "code",
   "execution_count": null,
   "id": "344754d0-9fc1-48be-9788-98e7f3bc5138",
   "metadata": {},
   "outputs": [],
   "source": []
  },
  {
   "cell_type": "code",
   "execution_count": null,
   "id": "69c16fcf-f1f6-4eb1-a473-8cf65c04d41b",
   "metadata": {},
   "outputs": [],
   "source": [
    "channel_probsX = Set_decoder_para_18_4_4[f\"channel_probsX_{num_cycles}\"]\n",
    "HX = Set_decoder_para_18_4_4[f\"HX_{num_cycles}\"]  ;\n",
    "HdecX = Set_decoder_para_18_4_4[f\"HdecX_{num_cycles}\"] ;\n",
    "\n",
    "bpdX=bposd_decoder(\n",
    "    HdecX, \n",
    "    channel_probs=channel_probsX, \n",
    "    max_iter=my_max_iter, \n",
    "    bp_method=my_bp_method,\n",
    "    ms_scaling_factor=my_ms_scaling_factor, \n",
    "    osd_method=my_osd_method, \n",
    "    osd_order=my_osd_order )"
   ]
  },
  {
   "cell_type": "code",
   "execution_count": null,
   "id": "8746fe23-7305-483d-8414-de8c337fa879",
   "metadata": {},
   "outputs": [],
   "source": [
    "# correct errors for logical X (X checks)\n",
    "X_no_correction_good_trials, X_no_correction_good_list, X_good_trials, X_good_list =     \\\n",
    "            error_decoding(num_trials_x, k, bpdX, HX, syndrome_history_X, final_logical_x_outcome )\n",
    "\n",
    "print(\"no error correction for logical X basis:\")\n",
    "print(f'Logical error over {num_cycles+1} cycles (four logical qubits):', 1-X_no_correction_good_trials/num_trials_x)\n",
    "print(f'Logical error over {num_cycles+1} cycles (single logical qubit):', 1-X_no_correction_good_list/num_trials_x)\n",
    "print(\"\\n\")\n",
    "print(\"error correction for logical X basis:\")\n",
    "print(f'Logical error over {num_cycles+1} cycles (four logical qubits):', 1-X_good_trials/num_trials_x)\n",
    "print(f'Logical error over {num_cycles+1} cycles (single logical qubit):', 1-X_good_list/num_trials_x)"
   ]
  },
  {
   "cell_type": "code",
   "execution_count": null,
   "id": "cda21284-a007-4513-a838-e7432fd75d63",
   "metadata": {},
   "outputs": [],
   "source": []
  },
  {
   "cell_type": "code",
   "execution_count": null,
   "id": "0f40a22e-75f5-4ac7-9613-5c7ca655121b",
   "metadata": {},
   "outputs": [],
   "source": [
    "labels_x = ['X0', 'X1', 'X3', 'X4', 'X5', 'X6', 'X7']\n",
    "\n",
    "num_xcheck = len(labels_x) ;\n",
    "mean_detect_prob_x = np.mean(syndrome_history_X, axis=0)\n",
    "\n",
    "mean_detect_prob_cycle_x = [ np.mean(mean_detect_prob_x[num_xcheck*cycle:num_xcheck*(cycle+1)]) for cycle in range(num_cycles+1) ]\n",
    "\n",
    "print(\"Pauli+ simulation\")\n",
    "print(\"-------------------------\")\n",
    "for cycle in range(num_cycles+1) :\n",
    "    print( f'The mean probability of error detection in cycle {cycle+1} is:', mean_detect_prob_cycle_x[cycle] )"
   ]
  },
  {
   "cell_type": "code",
   "execution_count": null,
   "id": "956e69ef-ae83-44df-9f49-1ab8cd98fb0a",
   "metadata": {},
   "outputs": [],
   "source": []
  },
  {
   "cell_type": "code",
   "execution_count": null,
   "id": "211765ef-d473-4bfc-a37c-e62ca3940849",
   "metadata": {},
   "outputs": [],
   "source": []
  },
  {
   "cell_type": "code",
   "execution_count": null,
   "id": "b56e43d8-269e-4cad-9e28-2429a5f8ff29",
   "metadata": {},
   "outputs": [],
   "source": [
    "# Accumulated logical error over cycles\n",
    "\n",
    "''' Pauli:      [0.205, 0.394, 0.544, 0.649, 0.73, 0.79   ] '''\n",
    "\n",
    "''' Pauli+:     [                                         ] '''\n",
    "\n",
    "''' Experiment: [0.22, 0.436, 0.627, 0.735, 0.825, 0.867  ]'''"
   ]
  },
  {
   "cell_type": "code",
   "execution_count": null,
   "id": "411003d4-0940-4b5d-8c6b-d9fdf871d6b0",
   "metadata": {},
   "outputs": [],
   "source": []
  },
  {
   "cell_type": "code",
   "execution_count": null,
   "id": "24587f9b-0c50-4bcc-954e-908e2e8d8f37",
   "metadata": {},
   "outputs": [],
   "source": [
    "# %run PauliPlus_simulation.py"
   ]
  },
  {
   "cell_type": "code",
   "execution_count": null,
   "id": "27aca1fc-f6f1-4ef1-bfe2-1ac30184736d",
   "metadata": {},
   "outputs": [],
   "source": []
  },
  {
   "cell_type": "code",
   "execution_count": null,
   "id": "e650e67a-bbbf-42dc-b89f-437088aa5195",
   "metadata": {},
   "outputs": [],
   "source": []
  }
 ],
 "metadata": {
  "kernelspec": {
   "display_name": "QEC",
   "language": "python",
   "name": "qec"
  },
  "language_info": {
   "codemirror_mode": {
    "name": "ipython",
    "version": 3
   },
   "file_extension": ".py",
   "mimetype": "text/x-python",
   "name": "python",
   "nbconvert_exporter": "python",
   "pygments_lexer": "ipython3",
   "version": "3.11.9"
  }
 },
 "nbformat": 4,
 "nbformat_minor": 5
}
