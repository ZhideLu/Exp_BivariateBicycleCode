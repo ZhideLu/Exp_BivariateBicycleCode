{
 "cells": [
  {
   "cell_type": "code",
   "execution_count": 194,
   "id": "9a7ee99e-ecf5-40ef-81af-ad94d59caefb",
   "metadata": {},
   "outputs": [],
   "source": [
    "from typing import List, Sequence, Tuple\n",
    "import itertools\n",
    "import functools\n",
    "import numpy as np"
   ]
  },
  {
   "cell_type": "code",
   "execution_count": 195,
   "id": "bdb015c6-14f4-423a-8bf5-d4f886ebdf9a",
   "metadata": {},
   "outputs": [],
   "source": [
    "import leaky\n",
    "from leaky import LeakyPauliChannel\n",
    "import stim"
   ]
  },
  {
   "cell_type": "code",
   "execution_count": 196,
   "id": "8b383649-087c-4228-860f-a381673d6054",
   "metadata": {},
   "outputs": [],
   "source": [
    "import leaky"
   ]
  },
  {
   "cell_type": "code",
   "execution_count": 197,
   "id": "7754be72-063c-47c7-b3df-6180958da1ed",
   "metadata": {},
   "outputs": [],
   "source": [
    "from qutip import *\n",
    "from qutip import to_choi"
   ]
  },
  {
   "cell_type": "markdown",
   "id": "eeec89c9-5c23-4750-b262-5cdb25e6be1c",
   "metadata": {},
   "source": [
    "## Functions"
   ]
  },
  {
   "cell_type": "code",
   "execution_count": 19,
   "id": "727f57a4-9349-4356-a0d9-e50c0fbe5e20",
   "metadata": {},
   "outputs": [],
   "source": [
    "LeakageStatus = Tuple[int, ...]\n",
    "ProjectStatus = Tuple[Tuple[int], ...]\n",
    "\n",
    "PAULIS = np.array(\n",
    "    [\n",
    "        np.array([[1, 0], [0, 1]], dtype=complex),\n",
    "        np.array([[0, 1], [1, 0]], dtype=complex),\n",
    "        np.array([[0, -1j], [1j, 0]], dtype=complex),\n",
    "        np.array([[1, 0], [0, -1]], dtype=complex),\n",
    "    ]\n",
    ")\n",
    "TWO_QUBITS_PAULIS = np.array(\n",
    "    [np.kron(p1, p2) for p1, p2 in itertools.product(PAULIS, repeat=2)]\n",
    ")"
   ]
  },
  {
   "cell_type": "code",
   "execution_count": null,
   "id": "770e0889-c7f9-408a-b1b0-ee847be03f25",
   "metadata": {},
   "outputs": [],
   "source": []
  },
  {
   "cell_type": "code",
   "execution_count": 20,
   "id": "d8fccb42-c737-4b55-8821-b57dbd532a4b",
   "metadata": {},
   "outputs": [],
   "source": [
    "def kraus_to_leaky_pauli_channel(\n",
    "    kraus_operators: Sequence[np.ndarray],\n",
    "    num_qubits: int,\n",
    "    num_level: int,\n",
    "    safety_check: bool = True,\n",
    ") -> LeakyPauliChannel:\n",
    "\n",
    "    if num_qubits not in [1, 2]:\n",
    "        raise ValueError(\"Only 1 or 2 qubits operators are supported.\")\n",
    "    channel = LeakyPauliChannel(is_single_qubit_channel=num_qubits == 1)\n",
    "    \n",
    "    all_status = list(itertools.product(range(num_level - 1), repeat=num_qubits))\n",
    "    \n",
    "    for kraus in kraus_operators:\n",
    "        for initial_status, final_status in itertools.product(all_status, repeat=2):\n",
    "            num_u = sum(\n",
    "                s0 == 0 and s1 > 0 for s0, s1 in zip(initial_status, final_status)\n",
    "            )\n",
    "            q_in_r = [\n",
    "                i\n",
    "                for i, (s0, s1) in enumerate(zip(initial_status, final_status))\n",
    "                if s0 == 0 and s1 == 0\n",
    "            ]\n",
    "            num_r = len(q_in_r)\n",
    "\n",
    "            prefactor: float = 1.0 / 2**num_u\n",
    "            projectors = _scatter_status(initial_status, final_status)\n",
    "            \n",
    "            for initial_projector, final_projector in projectors:\n",
    "                projected_kraus = _project_kraus_with_initial_final(\n",
    "                    kraus, num_qubits, num_level, initial_projector, final_projector)\n",
    "                probability: float\n",
    "                pauli_channel: List[Tuple[int, float]] = []\n",
    "                \n",
    "                if num_r == 0:\n",
    "                    assert projected_kraus.shape == (1, 1)\n",
    "                    probability = (\n",
    "                        prefactor * np.abs(projected_kraus).astype(float) ** 2\n",
    "                    ).item()\n",
    "                    pauli_channel.append((0, probability))\n",
    "                else:\n",
    "                    dim = 2**num_r\n",
    "                    assert projected_kraus.shape == (dim, dim)\n",
    "                    for i, paulis in enumerate(itertools.product(PAULIS, repeat=num_r)):\n",
    "                        probability = (\n",
    "                            prefactor\n",
    "                            * np.abs(\n",
    "                                np.trace(\n",
    "                                    projected_kraus @ functools.reduce(np.kron, paulis)\n",
    "                                )\n",
    "                                / dim\n",
    "                            )\n",
    "                            ** 2\n",
    "                        )\n",
    "                        idx = sum(\n",
    "                            [\n",
    "                                ((i >> (2 * (num_r - j - 1))) & 0b11)\n",
    "                                << (2 * (num_qubits - q - 1))\n",
    "                                for j, q in enumerate(q_in_r)\n",
    "                            ] )\n",
    "                        pauli_channel.append((idx, probability))\n",
    "\n",
    "                    probability = sum([p for _, p in pauli_channel])\n",
    "                if probability < 1e-9:\n",
    "                    continue\n",
    "                for idx, p in pauli_channel:\n",
    "                    if p < 1e-9:\n",
    "                        continue\n",
    "                    channel.add_transition(\n",
    "                        leakage_status_tuple_to_int(initial_status),\n",
    "                        leakage_status_tuple_to_int(final_status),\n",
    "                        idx,\n",
    "                        p,\n",
    "                    )\n",
    "    if safety_check:\n",
    "        channel.safety_check()\n",
    "    return channel"
   ]
  },
  {
   "cell_type": "code",
   "execution_count": null,
   "id": "0ebebbb9-9f71-429b-8e5c-f340c0472c87",
   "metadata": {},
   "outputs": [],
   "source": []
  },
  {
   "cell_type": "code",
   "execution_count": 21,
   "id": "318dfc10-6e47-4b6a-ad60-7896b128b5e7",
   "metadata": {},
   "outputs": [],
   "source": [
    "# 输出 LeakageStatus 的整数表示\n",
    "def leakage_status_tuple_to_int(status: LeakageStatus) -> int:\n",
    "    \"\"\"Convert a leakage status tuple to an integer representation.\n",
    "\n",
    "    Args:\n",
    "        status: A tuple of leakage status. Currently, only support up to two\n",
    "            qubits.\n",
    "\n",
    "    Returns:\n",
    "        An integer representation of the leakage status.\n",
    "    \"\"\"\n",
    "    return sum([s << (4 * (len(status) - i - 1)) for i, s in enumerate(status)])\n",
    "\n",
    "def _l2p(leakage_status: LeakageStatus) -> ProjectStatus:\n",
    "    return tuple((0, 1) if s == 0 else (s + 1,) for s in leakage_status)\n",
    "\n",
    "#输出 ProjectStatus 的整数表示\n",
    "def _get_projector_slice(\n",
    "    num_level: int,\n",
    "    project_status: ProjectStatus,\n",
    ") -> List[int]:\n",
    "    \"\"\"Get slice into the matrix for the subspace projection defined by project_status.\"\"\"\n",
    "    num_qubits = len(project_status)\n",
    "    status = project_status[0]\n",
    "    if num_qubits == 1:\n",
    "        return list(status)\n",
    "    tail_slice = _get_projector_slice(num_level, project_status[1:])\n",
    "    return [x + s * num_level ** (num_qubits - 1) for s in status for x in tail_slice]\n",
    "\n",
    "#提取 kraus operator 的子空间部分\n",
    "def _project_kraus_with_initial_final(\n",
    "    kraus: np.ndarray,\n",
    "    num_qubits: int,\n",
    "    num_level: int,\n",
    "    initial_project_status: ProjectStatus,\n",
    "    final_project_status: ProjectStatus,\n",
    ") -> np.ndarray:\n",
    "    assert kraus.shape[0] == num_level**num_qubits\n",
    "    initial_slice = _get_projector_slice(num_level, initial_project_status)\n",
    "    final_slice = _get_projector_slice(num_level, final_project_status)\n",
    "    return kraus[final_slice, :][:, initial_slice]"
   ]
  },
  {
   "cell_type": "code",
   "execution_count": null,
   "id": "f9f323dc-497f-4186-92db-920387ccda51",
   "metadata": {},
   "outputs": [],
   "source": []
  },
  {
   "cell_type": "code",
   "execution_count": 22,
   "id": "c73b5666-cce9-4039-b075-479c4971fd04",
   "metadata": {},
   "outputs": [],
   "source": [
    "# _get_projector_slice( 4, ((0,1), (3,)) )"
   ]
  },
  {
   "cell_type": "code",
   "execution_count": 23,
   "id": "9118e88f-b5ce-4b3b-bd34-35700faa3d7a",
   "metadata": {},
   "outputs": [],
   "source": [
    "# 输入初始和最终的 LeakageStatus，输出的是 ProjectStatus，将 U 和 D 的 basis states (0和1) 分开考虑。\n",
    "def _scatter_status(\n",
    "    initial: LeakageStatus, final: LeakageStatus\n",
    ") -> List[Tuple[ProjectStatus, ProjectStatus]]:\n",
    "    initial_project_status = _l2p(initial)\n",
    "    final_project_status = _l2p(final)\n",
    "\n",
    "    up_indices = [\n",
    "        i\n",
    "        for i, (start, end) in enumerate(zip(initial, final))\n",
    "        if start == 0 and end > 0\n",
    "    ]\n",
    "    down_indices = [\n",
    "        i\n",
    "        for i, (start, end) in enumerate(zip(initial, final))\n",
    "        if start > 0 and end == 0\n",
    "    ]\n",
    "\n",
    "    initial_combinations = list(\n",
    "        itertools.product(\n",
    "            *[\n",
    "                [status] if index not in up_indices else [(0,), (1,)]\n",
    "                for index, status in enumerate(initial_project_status)\n",
    "            ]\n",
    "        )\n",
    "    )\n",
    "    \n",
    "    final_combinations = list(\n",
    "        itertools.product(\n",
    "            *[\n",
    "                [status] if index not in down_indices else [(0,), (1,)]\n",
    "                for index, status in enumerate(final_project_status)\n",
    "            ]\n",
    "        )\n",
    "    )\n",
    "    \n",
    "    return list(itertools.product(initial_combinations, final_combinations))"
   ]
  },
  {
   "cell_type": "code",
   "execution_count": 24,
   "id": "468cd153-5b3a-43ac-921d-c4bb5cec3ca5",
   "metadata": {},
   "outputs": [],
   "source": [
    "# _scatter_status([0,2], [1,2])"
   ]
  },
  {
   "cell_type": "code",
   "execution_count": null,
   "id": "151f0ffd-53dd-4d25-9d42-58adfd150156",
   "metadata": {},
   "outputs": [],
   "source": []
  },
  {
   "cell_type": "markdown",
   "id": "1478787b-118d-49a0-9185-91507a8c0c64",
   "metadata": {},
   "source": [
    "## Utils_test"
   ]
  },
  {
   "cell_type": "code",
   "execution_count": null,
   "id": "b0fc29ef-2625-49ce-aa6e-e05d82615839",
   "metadata": {},
   "outputs": [],
   "source": [
    "import pytest"
   ]
  },
  {
   "cell_type": "code",
   "execution_count": null,
   "id": "4f7aaf93-5282-4a4b-b21e-f9e1cc3f0420",
   "metadata": {},
   "outputs": [],
   "source": [
    "from leaky.utils import (\n",
    "    _get_projector_slice,\n",
    "    decompose_kraus_operators_to_leaky_pauli_channel,\n",
    "    leakage_status_tuple_to_int,\n",
    "    PAULIS,\n",
    "    TWO_QUBITS_PAULIS,\n",
    ")"
   ]
  },
  {
   "cell_type": "code",
   "execution_count": null,
   "id": "0f7e1d6d-2037-423c-b8bd-fdc3a87a8ea7",
   "metadata": {},
   "outputs": [],
   "source": [
    "def test_get_projector_slice():\n",
    "    assert _get_projector_slice(2, ((0,),)) == [0]\n",
    "    assert _get_projector_slice(2, ((0, 1),)) == [0, 1]\n",
    "    assert _get_projector_slice(3, ((2,),)) == [2]\n",
    "    assert _get_projector_slice(3, ((0, 1), (2,))) == [2, 5]\n",
    "    assert _get_projector_slice(3, ((2,), (2,))) == [8]\n",
    "    assert _get_projector_slice(4, ((0, 1), (0, 1))) == [0, 1, 4, 5]\n",
    "    assert _get_projector_slice(4, ((0, 1), (2,))) == [2, 6]\n",
    "\n",
    "def test_leakage_status_tuple_to_int():\n",
    "    assert leakage_status_tuple_to_int((0,)) == 0\n",
    "    assert leakage_status_tuple_to_int((1,)) == 1\n",
    "    assert leakage_status_tuple_to_int((2,)) == 2\n",
    "    assert leakage_status_tuple_to_int((0, 1)) == 0x01\n",
    "    assert leakage_status_tuple_to_int((1, 0)) == 0x10\n",
    "    assert leakage_status_tuple_to_int((1, 1)) == 0x11\n",
    "    assert leakage_status_tuple_to_int((2, 1)) == 0x21"
   ]
  },
  {
   "cell_type": "code",
   "execution_count": null,
   "id": "959fe80b-da46-4625-ac2a-9a3bee0f3ebf",
   "metadata": {
    "scrolled": true
   },
   "outputs": [],
   "source": [
    "# test_single_qubit_depolarize_decompose()"
   ]
  },
  {
   "cell_type": "code",
   "execution_count": null,
   "id": "a1547ae4-d77c-403a-84dc-fcf2c7282804",
   "metadata": {},
   "outputs": [],
   "source": [
    "P = 1e-2\n",
    "RNG = np.random.default_rng()\n",
    "\n",
    "def test_single_qubit_depolarize_decompose():\n",
    "    channel_probs_list = []\n",
    "    for _ in range(10):\n",
    "        probs = RNG.random(4)\n",
    "        probs /= sum(probs)\n",
    "        channel_probs_list.append(probs)\n",
    "    for channel_probs in channel_probs_list:\n",
    "        depolarize_channel = [\n",
    "            np.sqrt(p) * pauli for p, pauli in zip(channel_probs, PAULIS)\n",
    "        ]\n",
    "        channel = decompose_kraus_operators_to_leaky_pauli_channel(\n",
    "            depolarize_channel, 1, 2 )\n",
    "        for i, p in enumerate(channel_probs):\n",
    "            assert channel.get_prob_from_to(0, 0, i) == pytest.approx(p)\n",
    "        print(channel)"
   ]
  },
  {
   "cell_type": "code",
   "execution_count": null,
   "id": "6163e467-814b-4564-b2f1-4e82b7463ff2",
   "metadata": {},
   "outputs": [],
   "source": [
    "def test_phase_damping_channel_decompose():\n",
    "    k = 0.2\n",
    "    kraus_operators = [\n",
    "        np.array(\n",
    "            [\n",
    "                [1, 0],\n",
    "                [0, np.sqrt(1 - k)],\n",
    "            ],\n",
    "            dtype=complex,\n",
    "        ),\n",
    "        np.array(\n",
    "            [\n",
    "                [0, 0],\n",
    "                [0, np.sqrt(k)],\n",
    "            ],\n",
    "            dtype=complex,\n",
    "        ),\n",
    "    ]\n",
    "    channel = decompose_kraus_operators_to_leaky_pauli_channel(kraus_operators, 1, 2)\n",
    "    channel.get_prob_from_to(0, 0, 0) == pytest.approx((1 + np.sqrt(1 - k)) / 2)\n",
    "    channel.get_prob_from_to(0, 0, 3) == pytest.approx((1 - np.sqrt(1 - k)) / 2)\n",
    "    # print(channel)"
   ]
  },
  {
   "cell_type": "code",
   "execution_count": null,
   "id": "e92ea2c0-9287-4b8c-b07e-ecb1cc1bfac9",
   "metadata": {},
   "outputs": [],
   "source": [
    "# test_phase_damping_channel_decompose()"
   ]
  },
  {
   "cell_type": "code",
   "execution_count": null,
   "id": "09b55a8b-416a-4173-b729-a78ee7113c2b",
   "metadata": {},
   "outputs": [],
   "source": []
  },
  {
   "cell_type": "code",
   "execution_count": null,
   "id": "29b5dd02-9b57-48a0-8382-29ea23bdc985",
   "metadata": {},
   "outputs": [],
   "source": [
    "def test_two_qubit_depolarize_decompose():\n",
    "    channel_probs_list = []\n",
    "    for _ in range(10):\n",
    "        probs = RNG.random(16)\n",
    "        probs /= sum(probs)\n",
    "        channel_probs_list.append(probs)\n",
    "    for channel_probs in channel_probs_list:\n",
    "        depolarize_channel = [\n",
    "            np.sqrt(p) * pauli for p, pauli in zip(channel_probs, TWO_QUBITS_PAULIS)\n",
    "        ]\n",
    "        channel = decompose_kraus_operators_to_leaky_pauli_channel(\n",
    "            depolarize_channel, 2, 2\n",
    "        )\n",
    "\n",
    "        for i, p in enumerate(channel_probs):\n",
    "            assert channel.get_prob_from_to(0x00, 0x00, i) == pytest.approx(p)"
   ]
  },
  {
   "cell_type": "code",
   "execution_count": null,
   "id": "35eb2ac9-2596-4710-9594-3bfa6b7932cd",
   "metadata": {},
   "outputs": [],
   "source": []
  },
  {
   "cell_type": "code",
   "execution_count": null,
   "id": "87919fb3-2095-4db8-816e-6ddedda59968",
   "metadata": {},
   "outputs": [],
   "source": [
    "THETA = np.pi / 6\n",
    "U = np.array(\n",
    "    [\n",
    "        [1, 0, 0, 0],\n",
    "        [0, np.cos(THETA), np.sin(THETA), 0],\n",
    "        [0, -np.sin(THETA), np.cos(THETA), 0],\n",
    "        [0, 0, 0, 1],\n",
    "    ],\n",
    "    dtype=complex,\n",
    ")"
   ]
  },
  {
   "cell_type": "code",
   "execution_count": null,
   "id": "e2165bf1-f824-4a09-91a5-a615809a15fe",
   "metadata": {},
   "outputs": [],
   "source": [
    "def test_single_qubit_4level_unitary_decompose():\n",
    "    channel = decompose_kraus_operators_to_leaky_pauli_channel([U], 1, 4)\n",
    "    equality_check = {\n",
    "        ((0,), (0,), 0): np.cos(THETA / 2) ** 4,\n",
    "        ((0,), (0,), 3): np.sin(THETA / 2) ** 4,\n",
    "        ((0,), (1,), 0): np.sin(THETA) ** 2 / 2,\n",
    "        ((1,), (0,), 0): np.sin(THETA) ** 2,\n",
    "        ((1,), (1,), 0): np.cos(THETA) ** 2,\n",
    "        ((2,), (2,), 0): 1,\n",
    "    }\n",
    "    for initial, final in itertools.product(range(3), repeat=2):\n",
    "        for pauli_idx in [0, 1, 2, 3]:\n",
    "            expected_prob = equality_check.get(((initial,), (final,), pauli_idx), 0)\n",
    "            computed_prob = channel.get_prob_from_to(initial, final, pauli_idx)\n",
    "            assert computed_prob == pytest.approx(expected_prob)"
   ]
  },
  {
   "cell_type": "code",
   "execution_count": null,
   "id": "a521fb40-d2d5-4b6b-b79c-ac5c1b9b31aa",
   "metadata": {},
   "outputs": [],
   "source": []
  },
  {
   "cell_type": "code",
   "execution_count": null,
   "id": "7ed30ffa-76b2-4423-94d8-c4dbab569c1a",
   "metadata": {},
   "outputs": [],
   "source": [
    "def test_two_qubit_4level_unitary_decompose():\n",
    "    channel = decompose_kraus_operators_to_leaky_pauli_channel([np.kron(U, U)], 2, 4)\n",
    "    equality_check = {\n",
    "        (0x00, 0x00, 0): np.cos(THETA / 2) ** 8,\n",
    "        (0x00, 0x00, 15): np.sin(THETA / 2) ** 8,\n",
    "        (0x00, 0x00, 10): 0,\n",
    "        (0x00, 0x11, 0): np.sin(THETA) ** 4 / 4,\n",
    "        (0x00, 0x01, 0): np.cos(THETA / 2) ** 4 * np.sin(THETA) ** 2 / 2,\n",
    "        (0x00, 0x01, 12): np.sin(THETA / 2) ** 4 * np.sin(THETA) ** 2 / 2,\n",
    "        (0x01, 0x01, 0): np.cos(THETA / 2) ** 4 * np.cos(THETA) ** 2,\n",
    "        (0x00, 0x20, 0): 0,\n",
    "        (0x02, 0x12, 0): np.sin(THETA) ** 2 / 2,\n",
    "        (0x11, 0x11, 0): np.cos(THETA) ** 4,\n",
    "        (0x12, 0x12, 0): np.cos(THETA) ** 2,\n",
    "        (0x20, 0x20, 0): np.cos(THETA / 2) ** 4,\n",
    "        (0x21, 0x21, 0): np.cos(THETA) ** 2,\n",
    "        (0x22, 0x22, 0): 1,\n",
    "    }\n",
    "    for check, p in equality_check.items():\n",
    "        assert channel.get_prob_from_to(*check) == pytest.approx(p)"
   ]
  },
  {
   "cell_type": "code",
   "execution_count": null,
   "id": "f5db321b-b3bc-4cf1-b8f5-4cdee39061d9",
   "metadata": {},
   "outputs": [],
   "source": []
  },
  {
   "cell_type": "markdown",
   "id": "128de9e4-cad0-4caf-abb8-9fae96eb92a6",
   "metadata": {},
   "source": [
    "## Leaky_pybind_test"
   ]
  },
  {
   "cell_type": "code",
   "execution_count": null,
   "id": "a4dc4ee8-e460-4bd7-be24-6cd85e94e7d0",
   "metadata": {},
   "outputs": [],
   "source": [
    "def test_leaky_pauli_channel():\n",
    "    channel = leaky.LeakyPauliChannel(is_single_qubit_channel=True)\n",
    "    channel.add_transition(0, 1, 0, 1.0)\n",
    "    channel.safety_check()\n",
    "    assert channel.num_transitions == 1\n",
    "    with pytest.raises(\n",
    "        RuntimeError,\n",
    "        match=\"The sum of probabilities for each initial status should be 1, but get \",\n",
    "    ):\n",
    "        channel.add_transition(1, 2, 0, 0.5)\n",
    "        channel.safety_check()\n",
    "    with pytest.raises(\n",
    "        RuntimeError,\n",
    "        match=\"The attached pauli of transitions for the qubits in D/U/L should be I\",\n",
    "    ):\n",
    "        channel.add_transition(1, 1, 1, 0.5)\n",
    "        channel.safety_check()"
   ]
  },
  {
   "cell_type": "code",
   "execution_count": null,
   "id": "9b218ff4-1973-4280-97da-de268242658f",
   "metadata": {},
   "outputs": [],
   "source": [
    "# test_leaky_pauli_channel()"
   ]
  },
  {
   "cell_type": "code",
   "execution_count": null,
   "id": "e710e154-454f-41da-a3d7-1f77e3549117",
   "metadata": {},
   "outputs": [],
   "source": [
    "def test_simulator_noiseless_bell_states():\n",
    "    s = leaky.Simulator(4)\n",
    "    s.do(leaky.Instruction(\"R\", [0, 1, 2, 3]))\n",
    "    s.do(leaky.Instruction(\"H\", [0, 2]))\n",
    "    s.do(leaky.Instruction(\"CNOT\", [0, 1, 2, 3]))\n",
    "    s.do(leaky.Instruction(\"M\", [0, 1, 2, 3]))\n",
    "    record = s.current_measurement_record()\n",
    "    assert record[0] ^ record[1] == 0\n",
    "    assert record[2] ^ record[3] == 0"
   ]
  },
  {
   "cell_type": "code",
   "execution_count": null,
   "id": "047aacc0-5bc8-4a47-ad63-24475a5c2844",
   "metadata": {},
   "outputs": [],
   "source": [
    "def test_simulator_do_noiseless_bell_circuit():\n",
    "    circuit = stim.Circuit(\n",
    "        \"\"\"R 0 1 2 3\n",
    "        H 0 2\n",
    "        CNOT 0 1 2 3\n",
    "        M 0 1 2 3\"\"\"    )\n",
    "    s = leaky.Simulator(4)\n",
    "    s.do_circuit(circuit)\n",
    "    record = s.current_measurement_record()\n",
    "    assert record[0] ^ record[1] == 0\n",
    "    assert record[2] ^ record[3] == 0"
   ]
  },
  {
   "cell_type": "code",
   "execution_count": null,
   "id": "158d7ea6-c87d-4075-8a0c-23ac5abdd74c",
   "metadata": {},
   "outputs": [],
   "source": []
  },
  {
   "cell_type": "code",
   "execution_count": null,
   "id": "70c52d78-85bf-4c33-ba04-9b0e34bcd9d5",
   "metadata": {},
   "outputs": [],
   "source": [
    "def test_simulator_do_leaky_channel():\n",
    "    s = leaky.Simulator(4)\n",
    "    channel_2q = leaky.LeakyPauliChannel(is_single_qubit_channel=False)\n",
    "    channel_2q.add_transition(0x00, 0x10, 1, 1.0)\n",
    "    s.do(leaky.Instruction(\"CZ\", [0, 1, 2, 3]))\n",
    "    s.apply_2q_leaky_pauli_channel([0, 1, 2, 3], channel_2q)\n",
    "    s.do(leaky.Instruction(\"M\", [0, 1, 2, 3]))\n",
    "    assert s.current_measurement_record().tolist() == [2, 1, 2, 1]\n",
    "\n",
    "    channel_1q = leaky.LeakyPauliChannel(is_single_qubit_channel=True)\n",
    "    channel_1q.add_transition(1, 0, 0, 1.0)\n",
    "    s.do(leaky.Instruction(\"H\", [0, 2]))\n",
    "    s.apply_1q_leaky_pauli_channel([0, 2], channel_1q)\n",
    "    s.do(leaky.Instruction(\"M\", [0, 1, 2, 3]))\n",
    "    assert s.current_measurement_record().tolist()[-4:][0] in [0, 1]\n",
    "    assert s.current_measurement_record().tolist()[-4:][2] in [0, 1]\n",
    "\n",
    "    s.clear()\n",
    "    assert s.current_measurement_record().size == 0"
   ]
  },
  {
   "cell_type": "code",
   "execution_count": null,
   "id": "a3801840-d852-4cb4-91e1-d627ad02828a",
   "metadata": {},
   "outputs": [],
   "source": []
  },
  {
   "cell_type": "code",
   "execution_count": null,
   "id": "f93b176e-a347-4b07-84fc-871e000e625f",
   "metadata": {},
   "outputs": [],
   "source": [
    "def test_simulator_bind_leaky_channel():\n",
    "    s = leaky.Simulator(4)\n",
    "    channel_1q_1 = leaky.LeakyPauliChannel(is_single_qubit_channel=True)\n",
    "    channel_1q_1.add_transition(1, 0, 0, 1.0)\n",
    "    channel_1q_2 = leaky.LeakyPauliChannel(is_single_qubit_channel=True)\n",
    "    channel_1q_2.add_transition(1, 2, 0, 1.0)\n",
    "    channel_2q = leaky.LeakyPauliChannel(is_single_qubit_channel=False)\n",
    "    channel_2q.add_transition(0x00, 0x10, 1, 1.0)\n",
    "    s.bind_leaky_channel(leaky.Instruction(\"H\", [0]), channel_1q_1)\n",
    "    s.bind_leaky_channel(leaky.Instruction(\"H\", [2]), channel_1q_2)\n",
    "    s.bind_leaky_channel(leaky.Instruction(\"CNOT\", [0, 1]), channel_2q)\n",
    "    s.bind_leaky_channel(leaky.Instruction(\"CNOT\", [2, 3]), channel_2q)\n",
    "    \n",
    "    s.do_circuit(stim.Circuit(\"X 0 2\\nCNOT 0 1 2 3\\nM 0 1 2 3\"))\n",
    "    \n",
    "    assert len(s.bound_leaky_channels) == 4\n",
    "    assert s.current_measurement_record().tolist() == [2, 0, 2, 0]\n",
    "    s.do(leaky.Instruction(\"H\", [0, 2]))\n",
    "    s.do(leaky.Instruction(\"M\", [0, 1, 2, 3]))\n",
    "    assert s.current_measurement_record().tolist()[-4] in [0, 1]\n",
    "    assert s.current_measurement_record().tolist()[-3:] == [0, 3, 0]\n",
    "\n",
    "    s.clear(clear_bound_channels=True)\n",
    "    assert len(s.bound_leaky_channels) == 0\n",
    "    s.do_circuit(stim.Circuit(\"X 0 2\\nCNOT 0 1 2 3\\nM 0 1 2 3\"))\n",
    "    assert s.current_measurement_record().tolist() == [1, 1, 1, 1]"
   ]
  },
  {
   "cell_type": "code",
   "execution_count": null,
   "id": "4acae483-19ba-4860-8efb-edbadf326f99",
   "metadata": {},
   "outputs": [],
   "source": []
  },
  {
   "cell_type": "markdown",
   "id": "15d09314-fb64-43ae-ac73-3a9c2d180f67",
   "metadata": {},
   "source": [
    "## Test"
   ]
  },
  {
   "cell_type": "code",
   "execution_count": 239,
   "id": "aad35877-eb9b-4bd9-8088-bc8d355302c6",
   "metadata": {},
   "outputs": [],
   "source": [
    "channel_1q = leaky.LeakyPauliChannel(is_single_qubit_channel=True)\n",
    "channel_1q.add_transition(0, 1, 0, 1)\n",
    "\n",
    "channel_1q_2 = leaky.LeakyPauliChannel(is_single_qubit_channel=True)\n",
    "channel_1q_2.add_transition(0, 2, 0, 1.0)\n",
    "\n",
    "channel_2q = leaky.LeakyPauliChannel(is_single_qubit_channel=False)\n",
    "channel_2q.add_transition(0x00, 0x01, 0, 1.0)"
   ]
  },
  {
   "cell_type": "code",
   "execution_count": 240,
   "id": "e5d32e40-0c38-4a8e-986f-bbff03e2b812",
   "metadata": {},
   "outputs": [
    {
     "data": {
      "text/plain": [
       "[2, 0, 0, 0]"
      ]
     },
     "execution_count": 240,
     "metadata": {},
     "output_type": "execute_result"
    }
   ],
   "source": [
    "s = leaky.Simulator(4)\n",
    "\n",
    "s.bind_leaky_channel(leaky.Instruction(\"H\", [0]), channel_1q)\n",
    "# s.bind_leaky_channel(leaky.Instruction(\"H\", [1]), channel_1q)\n",
    "# s.bind_leaky_channel(leaky.Instruction(\"I\", [1]), channel_1q_2)\n",
    "# s.bind_leaky_channel(leaky.Instruction(\"II\", [0,1]), channel_2q)\n",
    "\n",
    "# s.do(leaky.Instruction(\"ISWAP\", [0, 1]))\n",
    "# s.do(leaky.Instruction(\"CX\", [0,1]))\n",
    "# s.apply_1q_leaky_pauli_channel([0], channel_1q)\n",
    "\n",
    "# s.apply_2q_leaky_pauli_channel([0, 1], channel_2q)\n",
    "\n",
    "# s.do(leaky.Instruction(\"M\", [0, 1, 2, 3]))\n",
    "\n",
    "s.do_circuit(stim.Circuit(\"H 0 1 \\n H 0 1\\nM 0 1 2 3\") )\n",
    "\n",
    "s.current_measurement_record().tolist()"
   ]
  },
  {
   "cell_type": "code",
   "execution_count": null,
   "id": "8d365cb9-e14d-4e6d-8d25-76465a0a4e0a",
   "metadata": {},
   "outputs": [],
   "source": []
  },
  {
   "cell_type": "code",
   "execution_count": null,
   "id": "e5a17693-305c-4f24-9efd-5f872288d492",
   "metadata": {},
   "outputs": [],
   "source": []
  },
  {
   "cell_type": "code",
   "execution_count": null,
   "id": "96c27450-37f7-4612-a535-7c1a5d3026b6",
   "metadata": {},
   "outputs": [],
   "source": [
    "# simulator.clear(clear_bound_channels=True)\n",
    "simulator = leaky.Simulator(num_qubits)\n",
    "\n",
    "simulator.bind_leaky_channel(leaky.Instruction(\"H\", [0,1]), channel_1q_1)\n",
    "\n",
    "# simulator.do_circuit( circuit )\n",
    "# print(simulator.current_measurement_record().tolist())\n",
    "# simulator.sample_batch(circuit, shots=10)\n",
    "# simulator.bound_leaky_channels"
   ]
  },
  {
   "cell_type": "code",
   "execution_count": null,
   "id": "1dcd2f16-8e94-4efa-8da5-df685e5791f2",
   "metadata": {},
   "outputs": [],
   "source": []
  },
  {
   "cell_type": "code",
   "execution_count": null,
   "id": "0143691f-3d6b-453e-bb0c-f1eb4ff97fea",
   "metadata": {},
   "outputs": [],
   "source": [
    "# circuit.diagram('timeline-svg')"
   ]
  },
  {
   "cell_type": "code",
   "execution_count": 241,
   "id": "e7fa6f92-055a-45e3-957f-039b5454457d",
   "metadata": {},
   "outputs": [
    {
     "name": "stdout",
     "output_type": "stream",
     "text": [
      "[0, 1]\n"
     ]
    }
   ],
   "source": [
    "circuit = stim.Circuit()\n",
    "\n",
    "circuit.append(\"DEPOLARIZE2\", [0,1], 1)\n",
    "circuit.append(\"M\", [0,1])\n",
    "\n",
    "s = leaky.Simulator(2)\n",
    "# s.apply_1q_leaky_pauli_channel([0], channel_1q)\n",
    "\n",
    "s.do_circuit( circuit )\n",
    "print(s.current_measurement_record().tolist())"
   ]
  },
  {
   "cell_type": "code",
   "execution_count": null,
   "id": "56e4184e-9322-4528-b0d9-6c0b0a4dcec2",
   "metadata": {},
   "outputs": [],
   "source": []
  },
  {
   "cell_type": "code",
   "execution_count": null,
   "id": "fbdd3907-24a3-4c7b-bfc9-36f5e30eaa3b",
   "metadata": {},
   "outputs": [],
   "source": []
  }
 ],
 "metadata": {
  "kernelspec": {
   "display_name": "QEC",
   "language": "python",
   "name": "qec"
  },
  "language_info": {
   "codemirror_mode": {
    "name": "ipython",
    "version": 3
   },
   "file_extension": ".py",
   "mimetype": "text/x-python",
   "name": "python",
   "nbconvert_exporter": "python",
   "pygments_lexer": "ipython3",
   "version": "3.11.9"
  }
 },
 "nbformat": 4,
 "nbformat_minor": 5
}
