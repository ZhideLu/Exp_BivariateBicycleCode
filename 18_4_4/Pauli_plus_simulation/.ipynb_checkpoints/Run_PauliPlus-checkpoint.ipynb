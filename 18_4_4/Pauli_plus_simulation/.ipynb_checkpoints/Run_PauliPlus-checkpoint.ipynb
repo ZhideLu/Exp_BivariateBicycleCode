{
 "cells": [
  {
   "cell_type": "code",
   "execution_count": 62,
   "id": "36523053-73fc-4061-80a9-e3be7e0ad1ff",
   "metadata": {},
   "outputs": [],
   "source": [
    "import multiprocessing \n",
    "import subprocess\n",
    "import sys\n",
    "import os\n",
    "import itertools\n",
    "\n",
    "from scipy.io import savemat\n",
    "from scipy.io import loadmat"
   ]
  },
  {
   "cell_type": "code",
   "execution_count": 6,
   "id": "95a110bf-f1c2-4890-8446-87d15ebb068c",
   "metadata": {},
   "outputs": [],
   "source": [
    "import numpy as np"
   ]
  },
  {
   "cell_type": "code",
   "execution_count": 14,
   "id": "6a184970-07b3-41a1-8c7f-ec6cbdb2b0f3",
   "metadata": {},
   "outputs": [],
   "source": [
    "max_num_cycles = 6 ;"
   ]
  },
  {
   "cell_type": "code",
   "execution_count": 46,
   "id": "6faf2fdf-57b0-4f6d-aaf0-8d66d5fd1693",
   "metadata": {},
   "outputs": [
    {
     "data": {
      "text/plain": [
       "192"
      ]
     },
     "execution_count": 46,
     "metadata": {},
     "output_type": "execute_result"
    }
   ],
   "source": [
    "mp.cpu_count()"
   ]
  },
  {
   "cell_type": "markdown",
   "id": "99b78176-34f9-45a4-b70c-3fbd33ebe3ca",
   "metadata": {},
   "source": [
    "## Pauli+ simulation"
   ]
  },
  {
   "cell_type": "code",
   "execution_count": 73,
   "id": "d7b1932e-e29f-43b5-817a-c4577d7c39af",
   "metadata": {},
   "outputs": [],
   "source": [
    "# set_num_sim_samples = [80000, 150000, 250000, 450000, 800000, 1200000]\n",
    "set_basis_type = [\"Z\", \"X\"];\n",
    "set_num_cycles = range(1, max_num_cycles+1)\n",
    "set_num_sim_samples = [1000, 1800, 2500, 5000, 9000, 15000]\n",
    "set_error_rate_RO_to_Data = [0.04, 0.03]\n",
    "\n",
    "args = [(basis, cycle, sample, error_rate_RO_to_Data) for basis, error_rate_RO_to_Data in zip(set_basis_type, set_error_rate_RO_to_Data)\n",
    "        for cycle, sample in zip(set_num_cycles, set_num_sim_samples)]"
   ]
  },
  {
   "cell_type": "code",
   "execution_count": null,
   "id": "0c942788-5290-475b-b070-23a6ffcf6ca6",
   "metadata": {},
   "outputs": [],
   "source": []
  },
  {
   "cell_type": "code",
   "execution_count": 75,
   "id": "aa1e8a41-838b-49ea-9264-bd9f5cf46cc3",
   "metadata": {},
   "outputs": [],
   "source": [
    "script = \"PauliPlus_simulation.py\"\n",
    "\n",
    "def run_PauliPlus_sim(basis_type, num_cycles, num_sim_samples, error_rate_RO_to_Data):\n",
    "    subprocess.run([sys.executable, script, str(basis_type), str(num_cycles), str(num_sim_samples), str(error_rate_RO_to_Data) ])\n",
    "\n",
    "with multiprocessing.Pool(processes = 50) as pool:\n",
    "    pool.starmap(run_PauliPlus_sim, args)"
   ]
  },
  {
   "cell_type": "code",
   "execution_count": null,
   "id": "53056355-56b3-4936-9abb-76b0f81f7d2d",
   "metadata": {},
   "outputs": [],
   "source": []
  },
  {
   "cell_type": "markdown",
   "id": "cc864426-e110-4c59-847d-d7d7c3c6b1cc",
   "metadata": {},
   "source": [
    "## Error decoding"
   ]
  },
  {
   "cell_type": "code",
   "execution_count": 76,
   "id": "0cf02a9c-f170-48ed-b3ee-efaed66c7c44",
   "metadata": {},
   "outputs": [],
   "source": [
    "args2 = list(itertools.product(set_basis_type, set_num_cycles)) ;"
   ]
  },
  {
   "cell_type": "code",
   "execution_count": 77,
   "id": "902c535c-1a2e-43e3-bdef-be66e5b30427",
   "metadata": {
    "scrolled": true
   },
   "outputs": [
    {
     "name": "stdout",
     "output_type": "stream",
     "text": [
      "error correction for logical Z basis:\n",
      "Logical error over 2 cycles (four logical qubits): 0.20235294117647062\n",
      "Logical error over 2 cycles (single logical qubit): [0.10588235 0.11764706 0.09647059 0.11294118]\n",
      "error correction for logical X basis:\n",
      "Logical error over 2 cycles (four logical qubits): 0.16389548693586697\n",
      "Logical error over 2 cycles (single logical qubit): [0.09263658 0.08551069 0.09263658 0.07125891]\n",
      "error correction for logical Z basis:\n",
      "Logical error over 3 cycles (four logical qubits): 0.4224137931034483\n",
      "Logical error over 3 cycles (single logical qubit): [0.22198276 0.2262931  0.24137931 0.22413793]\n",
      "error correction for logical X basis:\n",
      "Logical error over 3 cycles (four logical qubits): 0.40318906605922555\n",
      "Logical error over 3 cycles (single logical qubit): [0.23462415 0.23462415 0.21867882 0.20501139]\n",
      "error correction for logical Z basis:\n",
      "Logical error over 4 cycles (four logical qubits): 0.6575757575757576\n",
      "Logical error over 4 cycles (single logical qubit): [0.30909091 0.33939394 0.35757576 0.37575758]\n",
      "error correction for logical X basis:\n",
      "Logical error over 4 cycles (four logical qubits): 0.6260869565217391\n",
      "Logical error over 4 cycles (single logical qubit): [0.35362319 0.34202899 0.31594203 0.35652174]\n",
      "error correction for logical X basis:\n",
      "Logical error over 5 cycles (four logical qubits): 0.7605263157894737\n",
      "Logical error over 5 cycles (single logical qubit): [0.4        0.43157895 0.38157895 0.39736842]\n",
      "error correction for logical Z basis:\n",
      "Logical error over 5 cycles (four logical qubits): 0.7300884955752213\n",
      "Logical error over 5 cycles (single logical qubit): [0.38495575 0.3960177  0.38938053 0.39380531]\n",
      "error correction for logical X basis:\n",
      "Logical error over 6 cycles (four logical qubits): 0.8057395143487859\n",
      "Logical error over 6 cycles (single logical qubit): [0.42604857 0.41280353 0.42163355 0.4415011 ]\n",
      "error correction for logical Z basis:\n",
      "Logical error over 6 cycles (four logical qubits): 0.8458049886621315\n",
      "Logical error over 6 cycles (single logical qubit): [0.42176871 0.40816327 0.45804989 0.47619048]\n",
      "error correction for logical X basis:\n",
      "Logical error over 7 cycles (four logical qubits): 0.8374384236453202\n",
      "Logical error over 7 cycles (single logical qubit): [0.43596059 0.48522167 0.42857143 0.44581281]\n",
      "error correction for logical Z basis:\n",
      "Logical error over 7 cycles (four logical qubits): 0.8519362186788155\n",
      "Logical error over 7 cycles (single logical qubit): [0.49202733 0.46013667 0.4715262  0.45102506]\n"
     ]
    }
   ],
   "source": [
    "script2 = \"Error_correction.py\"\n",
    "\n",
    "def run_error_decoding(basis_type, num_cycles):\n",
    "    subprocess.run([sys.executable, script2, str(basis_type), str(num_cycles) ])\n",
    "\n",
    "with multiprocessing.Pool(processes = 50) as pool:\n",
    "    pool.starmap(run_error_decoding, args2)"
   ]
  },
  {
   "cell_type": "code",
   "execution_count": null,
   "id": "1682e4b5-52e3-47f8-a025-3da0013c40ea",
   "metadata": {},
   "outputs": [],
   "source": []
  },
  {
   "cell_type": "markdown",
   "id": "1bfa7001-77f1-4f14-abdf-300c90519ce8",
   "metadata": {},
   "source": [
    "## Load the results"
   ]
  },
  {
   "cell_type": "code",
   "execution_count": null,
   "id": "c276c126-8196-4980-ab89-237fcbb49a15",
   "metadata": {},
   "outputs": [],
   "source": []
  },
  {
   "cell_type": "code",
   "execution_count": null,
   "id": "e16f43ff-cfea-4b20-bd0b-bf605539b61a",
   "metadata": {},
   "outputs": [],
   "source": []
  },
  {
   "cell_type": "code",
   "execution_count": null,
   "id": "fe858ddd-f941-43a0-9053-4cb67805480a",
   "metadata": {},
   "outputs": [],
   "source": []
  },
  {
   "cell_type": "code",
   "execution_count": null,
   "id": "5a25c52a-f11d-4084-86d0-c327b153a142",
   "metadata": {},
   "outputs": [],
   "source": []
  }
 ],
 "metadata": {
  "kernelspec": {
   "display_name": "QEC",
   "language": "python",
   "name": "qec"
  },
  "language_info": {
   "codemirror_mode": {
    "name": "ipython",
    "version": 3
   },
   "file_extension": ".py",
   "mimetype": "text/x-python",
   "name": "python",
   "nbconvert_exporter": "python",
   "pygments_lexer": "ipython3",
   "version": "3.11.9"
  }
 },
 "nbformat": 4,
 "nbformat_minor": 5
}
