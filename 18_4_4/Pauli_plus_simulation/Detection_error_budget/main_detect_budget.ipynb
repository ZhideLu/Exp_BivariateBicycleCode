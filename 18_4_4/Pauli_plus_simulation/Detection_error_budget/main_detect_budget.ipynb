{
 "cells": [
  {
   "cell_type": "code",
   "execution_count": 3,
   "id": "eaadcd78-d163-4fa8-a28b-a946c1c65821",
   "metadata": {},
   "outputs": [],
   "source": [
    "import multiprocessing as mp\n",
    "import subprocess\n",
    "import sys\n",
    "import os\n",
    "import itertools\n",
    "from scipy.io import savemat\n",
    "from scipy.io import loadmat\n",
    "import numpy as np"
   ]
  },
  {
   "cell_type": "code",
   "execution_count": 4,
   "id": "358c9fb8-0b52-461e-ba3c-685f168b0426",
   "metadata": {},
   "outputs": [],
   "source": [
    "mp.cpu_count()\n",
    "num_cycles = 6"
   ]
  },
  {
   "cell_type": "code",
   "execution_count": null,
   "id": "cf697ef6-1282-4dfd-be2a-d48badbf1068",
   "metadata": {},
   "outputs": [],
   "source": []
  },
  {
   "cell_type": "code",
   "execution_count": 28,
   "id": "7339a757-0612-4d90-82d9-39060f7b9f55",
   "metadata": {},
   "outputs": [],
   "source": [
    "set_basis_type = [\"Z\", \"X\"];\n",
    "set_budget_component = [\"None\", \"CZ\", \"crosstalk\", \"leakage\", \"SQ\", \"DD\", \"idle\", \"initial_readout\", \"Excess\"] ;\n",
    "\n",
    "args = [(basis, budget_component) for basis in set_basis_type  for budget_component in set_budget_component]"
   ]
  },
  {
   "cell_type": "code",
   "execution_count": 26,
   "id": "cc876ef3-2788-45e2-9b4e-81ee065e0101",
   "metadata": {
    "scrolled": true
   },
   "outputs": [],
   "source": [
    "script = \"Budget_sim.py\"\n",
    "\n",
    "def run_Budget_sim(basis_type, budget_component):\n",
    "    subprocess.run([sys.executable, script, str(basis_type), str(budget_component)])\n",
    "\n",
    "with mp.Pool(processes = 100) as pool:\n",
    "    pool.starmap(run_Budget_sim, args)"
   ]
  },
  {
   "cell_type": "code",
   "execution_count": null,
   "id": "a196024f-adcc-4bcf-b8ce-ceeeb506a8f4",
   "metadata": {},
   "outputs": [],
   "source": []
  },
  {
   "cell_type": "markdown",
   "id": "01f943a4-409d-444c-af60-37d75e2533fa",
   "metadata": {},
   "source": [
    "## Load the data"
   ]
  },
  {
   "cell_type": "code",
   "execution_count": 29,
   "id": "c2a3341f-420e-4cb9-8f4b-2081b574d1fa",
   "metadata": {},
   "outputs": [],
   "source": [
    "labels_z = ['Z0', 'Z1', 'Z2', 'Z5', 'Z6', 'Z7', 'Z8']\n",
    "num_zcheck = len(labels_z) ;"
   ]
  },
  {
   "cell_type": "code",
   "execution_count": 35,
   "id": "f2dfb95a-f756-4df7-9b12-34b39c9659f2",
   "metadata": {},
   "outputs": [],
   "source": [
    "fname0 = './Numerical_data/' + 'Logical_Z_' + 'budget_' + str(\"None\") + '.mat'\n",
    "data = loadmat(fname0)\n",
    "syndrome_history_Z_0 = data[\"syndrome_history_Z\"] \n",
    "mean_detect_prob_z_0 = np.mean(syndrome_history_Z_0, axis=0)\n",
    "\n",
    "set_individual_contribution_Z = {};\n",
    "set_ave_contr_Z = [];\n",
    "for budget_component in [\"CZ\", \"crosstalk\", \"leakage\", \"SQ\", \"DD\", \"idle\", \"initial_readout\", \"Excess\"] :\n",
    "    \n",
    "    fname1 = './Numerical_data/' + 'Logical_Z_' + 'budget_' + str(budget_component) + '.mat'\n",
    "    data1 = loadmat(fname1)\n",
    "\n",
    "    syndrome_history_Z = data1[\"syndrome_history_Z\"] \n",
    "    mean_detect_prob_z = np.mean(syndrome_history_Z, axis=0)\n",
    "    set_individual_contribution_Z[budget_component] = mean_detect_prob_z_0 - mean_detect_prob_z\n",
    "    set_ave_contr_Z.append( np.mean( mean_detect_prob_z_0 - mean_detect_prob_z ) )\n",
    "\n",
    "# for key, item in set_individual_contribution_Z.items():\n",
    "#     print( np.mean(item) )\n",
    "set_ave_contr_Z = set_ave_contr_Z/sum(set_ave_contr_Z)"
   ]
  },
  {
   "cell_type": "code",
   "execution_count": 36,
   "id": "33d72e20-3cd8-4b3c-87eb-7b9db3d2404c",
   "metadata": {},
   "outputs": [
    {
     "data": {
      "text/plain": [
       "array([0.22574119, 0.09513579, 0.00110364, 0.06356763, 0.08953087,\n",
       "       0.06756195, 0.20501519, 0.25234375])"
      ]
     },
     "execution_count": 36,
     "metadata": {},
     "output_type": "execute_result"
    }
   ],
   "source": [
    "set_ave_contr_Z"
   ]
  },
  {
   "cell_type": "code",
   "execution_count": null,
   "id": "6ba59495-6e89-40a5-ac2f-d16a53eaffda",
   "metadata": {
    "scrolled": true
   },
   "outputs": [],
   "source": []
  },
  {
   "cell_type": "code",
   "execution_count": null,
   "id": "abe3bf43-dfee-4bf9-882d-1adbb4f48655",
   "metadata": {},
   "outputs": [],
   "source": []
  },
  {
   "cell_type": "code",
   "execution_count": null,
   "id": "b36dcbf7-5661-4f0c-980c-282936b02ff5",
   "metadata": {},
   "outputs": [],
   "source": []
  },
  {
   "cell_type": "code",
   "execution_count": null,
   "id": "2cc2413b-12fc-48ad-9526-be5a784e3eb1",
   "metadata": {},
   "outputs": [],
   "source": []
  },
  {
   "cell_type": "code",
   "execution_count": 32,
   "id": "af685cd8-abd2-431c-a799-3e6aec3e7acf",
   "metadata": {},
   "outputs": [],
   "source": [
    "labels_x = ['X0', 'X1', 'X3', 'X4', 'X5', 'X6', 'X7']\n",
    "num_xcheck = len(labels_x) ;"
   ]
  },
  {
   "cell_type": "code",
   "execution_count": 37,
   "id": "15fa9587-88bb-49c9-814b-ff8d37d5d2b3",
   "metadata": {},
   "outputs": [],
   "source": [
    "fnameX = './Numerical_data/' + 'Logical_X_' + 'budget_' + str(\"None\") + '.mat'\n",
    "data = loadmat(fnameX)\n",
    "syndrome_history_X_0 = data[\"syndrome_history_X\"] \n",
    "mean_detect_prob_x_0 = np.mean(syndrome_history_X_0, axis=0)\n",
    "\n",
    "set_individual_contribution_X = {};\n",
    "set_ave_contr_X = [];\n",
    "for budget_component in [\"CZ\", \"crosstalk\", \"leakage\", \"SQ\", \"DD\", \"idle\", \"initial_readout\", \"Excess\"]  :\n",
    "    \n",
    "    fname1 = './Numerical_data/' + 'Logical_X_' + 'budget_' + str(budget_component) + '.mat'\n",
    "    data1 = loadmat(fname1)\n",
    "    syndrome_history_X = data1[\"syndrome_history_X\"] \n",
    "    mean_detect_prob_x = np.mean(syndrome_history_X, axis=0)\n",
    "    set_individual_contribution_X[budget_component] = mean_detect_prob_x_0 - mean_detect_prob_x\n",
    "    set_ave_contr_X.append( np.mean( mean_detect_prob_x_0 - mean_detect_prob_x ) )\n",
    "\n",
    "# for key, item in set_individual_contribution_X.items():\n",
    "#     print( np.mean(item) )\n",
    "set_ave_contr_X = set_ave_contr_X/sum(set_ave_contr_X)"
   ]
  },
  {
   "cell_type": "code",
   "execution_count": 38,
   "id": "df513540-28f0-453d-ab8f-b3e991eecbb4",
   "metadata": {},
   "outputs": [],
   "source": [
    "set_ave_contr = (set_ave_contr_X + set_ave_contr_Z)/2"
   ]
  },
  {
   "cell_type": "code",
   "execution_count": 39,
   "id": "f134b9b6-3cdf-41ec-ad44-7530336a5d2c",
   "metadata": {},
   "outputs": [
    {
     "data": {
      "text/plain": [
       "array([0.22862259, 0.09902861, 0.00841558, 0.05658252, 0.12092783,\n",
       "       0.06385015, 0.20804183, 0.21453089])"
      ]
     },
     "execution_count": 39,
     "metadata": {},
     "output_type": "execute_result"
    }
   ],
   "source": [
    "set_ave_contr"
   ]
  },
  {
   "cell_type": "code",
   "execution_count": null,
   "id": "b7b12127-d506-457c-ad96-ed7966899130",
   "metadata": {},
   "outputs": [],
   "source": []
  },
  {
   "cell_type": "code",
   "execution_count": 42,
   "id": "f70f8245-9aba-4c79-87d4-4dc7cc92b9b5",
   "metadata": {},
   "outputs": [
    {
     "data": {
      "image/png": "[encoded data removed]",
      "text/plain": [
       "<Figure size 300x600 with 1 Axes>"
      ]
     },
     "metadata": {},
     "output_type": "display_data"
    }
   ],
   "source": [
    "import matplotlib.pyplot as plt\n",
    "from matplotlib import font_manager \n",
    "font_manager.fontManager.addfont('Arial.ttf')\n",
    "plt.rcParams[\"font.family\"] = \"Arial\"\n",
    "# plt.rcParams.update({'font.size': 13})\n",
    "\n",
    "segments = [\n",
    "    (\"CZ\",               set_ave_contr[0], \"#fffec5\"),  \n",
    "    (\"CZ stray int.\",    set_ave_contr[1], \"#7f7f7f\"),  \n",
    "    (\"Leakage\",          set_ave_contr[2], \"#cc4e63\"),  # red\n",
    "    (\"1Q\",               set_ave_contr[3], \"#f2c22e\"), \n",
    "    (\"DD\",               set_ave_contr[4], \"#4a86e8\"), \n",
    "    (\"Idle\",             set_ave_contr[5], \"#b565f2\"),  \n",
    "    (\"SPAM\",             set_ave_contr[6], \"#aff26c\"),  # green\n",
    "    (\"Excess\",           set_ave_contr[7], \"#d1800f\"),    \n",
    "]\n",
    "assert abs(sum(h for _, h, _ in segments) - 1.0) < 1e-9, \"segments must sum to 1\"\n",
    "\n",
    "fig, ax = plt.subplots(figsize=(3.0, 6))\n",
    "\n",
    "# 单根柱子的 x 位置与宽度\n",
    "x = 0\n",
    "width = 0.9\n",
    "\n",
    "# 依次堆叠\n",
    "bottom = 0.0\n",
    "for label, height, color in segments:\n",
    "    ax.bar(x, height, width, bottom = bottom, color = color, edgecolor = \"none\")\n",
    "    # 居中写字：段比较窄时可以自动调小字号\n",
    "    y_text = bottom + height/2\n",
    "    fontsize = 12 if height >= 0.14 else 12\n",
    "    ax.text(x, y_text, label, ha=\"center\", va=\"center\", color=\"black\", fontsize=fontsize)\n",
    "    bottom += height\n",
    "\n",
    "\n",
    "ax.set_xlim(-0.6, 0.6)\n",
    "ax.set_ylim(0, 1.0)\n",
    "ax.set_xticks([])\n",
    "\n",
    "# y 轴刻度 0–1\n",
    "ax.set_yticks([i/5 for i in range(6)])  # 0,0.2,...,1.0\n",
    "ax.set_ylabel(\"Detection error budget\", fontsize = 14, rotation = 90, labelpad = 14)\n",
    "\n",
    "for spine in [\"top\", \"right\"]:\n",
    "    ax.spines[spine].set_visible(False)\n",
    "\n",
    "# 给柱子画一个外框更像论文图\n",
    "# ax.bar(x, 1.0, width, fill=False, edgecolor=\"black\", linewidth=1.5)\n",
    "\n",
    "plt.tight_layout()\n",
    "plt.show()\n",
    "fig.savefig('Detection error budget.pdf', format='pdf', facecolor='None')"
   ]
  },
  {
   "cell_type": "code",
   "execution_count": null,
   "id": "47d240ad-59d0-4c8b-85b8-524d995dc454",
   "metadata": {},
   "outputs": [],
   "source": []
  }
 ],
 "metadata": {
  "kernelspec": {
   "display_name": "QEC",
   "language": "python",
   "name": "qec"
  },
  "language_info": {
   "codemirror_mode": {
    "name": "ipython",
    "version": 3
   },
   "file_extension": ".py",
   "mimetype": "text/x-python",
   "name": "python",
   "nbconvert_exporter": "python",
   "pygments_lexer": "ipython3",
   "version": "3.11.9"
  }
 },
 "nbformat": 4,
 "nbformat_minor": 5
}
