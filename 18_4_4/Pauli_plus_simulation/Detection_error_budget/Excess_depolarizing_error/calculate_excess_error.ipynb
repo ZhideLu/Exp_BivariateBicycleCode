{
 "cells": [
  {
   "cell_type": "code",
   "execution_count": 192,
   "id": "383c7858-e5fe-4856-acfa-c49166438699",
   "metadata": {},
   "outputs": [],
   "source": [
    "import multiprocessing as mp\n",
    "import subprocess\n",
    "import sys\n",
    "import os\n",
    "import itertools\n",
    "from scipy.io import savemat\n",
    "from scipy.io import loadmat\n",
    "import numpy as np\n",
    "\n",
    "import pickle\n",
    "import matplotlib.pyplot as plt \n",
    "from matplotlib.ticker import MaxNLocator\n",
    "import matplotlib.pyplot as plt\n",
    "import matplotlib as mpl\n",
    "import matplotlib.ticker as ticker\n",
    "from matplotlib import font_manager \n",
    "font_manager.fontManager.addfont('Arial.ttf')"
   ]
  },
  {
   "cell_type": "code",
   "execution_count": 193,
   "id": "9630bbb1-6a87-45bd-953b-ef290b6f43e9",
   "metadata": {},
   "outputs": [],
   "source": [
    "mp.cpu_count()\n",
    "num_cycles = 6"
   ]
  },
  {
   "cell_type": "code",
   "execution_count": null,
   "id": "2cd80956-c74d-430f-a1c7-3f9ab9c0dd0a",
   "metadata": {},
   "outputs": [],
   "source": []
  },
  {
   "cell_type": "code",
   "execution_count": 194,
   "id": "6f1f8d32-f48d-424f-8cd5-6b60da72b3b9",
   "metadata": {},
   "outputs": [],
   "source": [
    "set_basis_type = [\"Z\", \"X\"];\n",
    "set_budget_component = [\"None\"] ;\n",
    "set_error_rate_excess = [0.005, 0.02, 0.035, 0.050, 0.065, 0.08] ;\n",
    "\n",
    "args = [(basis, budget_component, error_rate_excess) for basis in set_basis_type  \\\n",
    "                for budget_component in set_budget_component  for error_rate_excess in set_error_rate_excess] ;"
   ]
  },
  {
   "cell_type": "code",
   "execution_count": 195,
   "id": "2f2ea05f-bde0-4445-8147-ed60b14ad66e",
   "metadata": {},
   "outputs": [],
   "source": [
    "script = \"simulation.py\"\n",
    "\n",
    "def run_Budget_sim(basis_type, budget_component, error_rate_excess):\n",
    "    subprocess.run([sys.executable, script, str(basis_type), str(budget_component), str(error_rate_excess) ])\n",
    "\n",
    "with mp.Pool(processes = 120) as pool:\n",
    "    pool.starmap(run_Budget_sim, args)"
   ]
  },
  {
   "cell_type": "code",
   "execution_count": 196,
   "id": "d5852bc4-6081-48ed-920b-eac5598edfaf",
   "metadata": {},
   "outputs": [],
   "source": [
    "mean_exp_detect_z = 0.319 ;\n",
    "mean_exp_detect_x = 0.318 ;"
   ]
  },
  {
   "cell_type": "code",
   "execution_count": 208,
   "id": "bf2865b3-171f-411d-9ddd-0438b3b01856",
   "metadata": {},
   "outputs": [],
   "source": [
    "set_detect_diff = [] ;\n",
    "list_syndrome_history_Z = [] ;\n",
    "list_syndrome_history_X = [] ;\n",
    "\n",
    "for error_rate_excess in set_error_rate_excess:\n",
    "\n",
    "    fnamez = './Numerical_data/' + 'Logical_Z_' + 'budget_' + \"None\" + '_excess_' + str(error_rate_excess) + '.mat'\n",
    "    dataz = loadmat(fnamez)\n",
    "    syndrome_history_Z = dataz[\"syndrome_history_Z\"] \n",
    "    list_syndrome_history_Z.append(syndrome_history_Z)\n",
    "    mean_sim_detect_z = np.mean( np.mean(syndrome_history_Z, axis=0) )\n",
    "\n",
    "    fnamex = './Numerical_data/' + 'Logical_X_' + 'budget_' + \"None\" + '_excess_' + str(error_rate_excess) + '.mat'\n",
    "    datax = loadmat(fnamex)\n",
    "    syndrome_history_X = datax[\"syndrome_history_X\"] \n",
    "    list_syndrome_history_X.append(syndrome_history_X)\n",
    "    mean_sim_detect_x = np.mean( np.mean(syndrome_history_X, axis=0) )\n",
    "\n",
    "    set_detect_diff.append( (mean_exp_detect_x + mean_exp_detect_z - mean_sim_detect_x - mean_sim_detect_z)/2 )    "
   ]
  },
  {
   "cell_type": "code",
   "execution_count": 215,
   "id": "82541215-8394-427c-969a-aa6f39715bd0",
   "metadata": {},
   "outputs": [
    {
     "data": {
      "text/plain": [
       "[0.05899072362395738,\n",
       " 0.039485113179618836,\n",
       " 0.024203111546838962,\n",
       " 0.009829946112999838,\n",
       " -0.0014570168693091579,\n",
       " -0.012327558555048607]"
      ]
     },
     "execution_count": 215,
     "metadata": {},
     "output_type": "execute_result"
    }
   ],
   "source": [
    "set_detect_diff"
   ]
  },
  {
   "cell_type": "code",
   "execution_count": 216,
   "id": "85b62886-c368-4576-abd5-37f4bf0020ca",
   "metadata": {},
   "outputs": [
    {
     "data": {
      "text/plain": [
       "0.30059750135795765"
      ]
     },
     "execution_count": 216,
     "metadata": {},
     "output_type": "execute_result"
    }
   ],
   "source": [
    "np.mean( np.mean(list_syndrome_history_X[2], axis=0) )"
   ]
  },
  {
   "cell_type": "code",
   "execution_count": null,
   "id": "8d6dba81-d505-4255-a210-5bf2bedf519e",
   "metadata": {},
   "outputs": [],
   "source": []
  },
  {
   "cell_type": "code",
   "execution_count": null,
   "id": "9d085f4a-0b07-4abe-be92-2b6727f2b088",
   "metadata": {},
   "outputs": [],
   "source": []
  },
  {
   "cell_type": "code",
   "execution_count": null,
   "id": "52a5a189-ae2f-45a1-b84c-3a1e6bb0717c",
   "metadata": {},
   "outputs": [],
   "source": []
  },
  {
   "cell_type": "code",
   "execution_count": null,
   "id": "b622e342-6b84-4b2c-a0ef-b387fae3711a",
   "metadata": {},
   "outputs": [],
   "source": []
  },
  {
   "cell_type": "code",
   "execution_count": null,
   "id": "bd99a4f2-3d89-496a-95c4-15cfa481cea8",
   "metadata": {},
   "outputs": [],
   "source": []
  },
  {
   "cell_type": "code",
   "execution_count": null,
   "id": "a06a4a33-b7c0-4469-afb2-e378e4122ba3",
   "metadata": {},
   "outputs": [],
   "source": []
  },
  {
   "cell_type": "code",
   "execution_count": 212,
   "id": "feb9d174-95fe-4e9f-8f25-44ad79280dcf",
   "metadata": {},
   "outputs": [
    {
     "data": {
      "image/png": "[encoded data removed]",
      "text/plain": [
       "<Figure size 600x400 with 1 Axes>"
      ]
     },
     "metadata": {},
     "output_type": "display_data"
    }
   ],
   "source": [
    "color_list = [\"maroon\", \"teal\", \"dimGray\", \"#FF8C00\", \"#BC8F8F\", \"#7FFFAA\"]\n",
    "\n",
    "plt.rcParams[\"font.family\"] = \"Arial\"\n",
    "plt.rcParams['figure.figsize'] = 6, 4\n",
    "plt.rcParams.update({'font.size': 13})\n",
    "fontsize = 13 ;\n",
    "\n",
    "fig, ax = plt.subplots(1, 1)\n",
    "ax11 = ax\n",
    "\n",
    "spine_width = 1.5 ;\n",
    "\n",
    "ax11.spines['top'].set_linewidth(spine_width)    \n",
    "ax11.spines['bottom'].set_linewidth(spine_width) \n",
    "ax11.spines['left'].set_linewidth(spine_width)   \n",
    "ax11.spines['right'].set_linewidth(spine_width)  \n",
    "\n",
    "ax11.set_xlim(-0.002, 0.082)\n",
    "\n",
    "ax11.xaxis.set_major_locator(ticker.MultipleLocator(0.01))  \n",
    "\n",
    "ax11.yaxis.set_major_locator(ticker.MultipleLocator(0.05))  \n",
    "\n",
    "ax11.set_ylim(-0.03, 0.15)\n",
    "\n",
    "ax11.plot( set_error_rate_excess, set_detect_diff, color = (0/255,202/255,145/255), linestyle = \"-\", linewidth = 2, \n",
    "        marker = 's', markersize = 8 )\n",
    "\n",
    "\n",
    "# ax11.legend(frameon=True, loc=(0.6, 0.02), labelspacing=0.4, fontsize=f'{fontsize}')\n",
    "ax11.set_xlabel(r'Excess error rates, $\\bar{p}_{\\text{D}}$', labelpad = 2) \n",
    "ax11.set_ylabel('Difference ', labelpad = 3) \n",
    "\n",
    "plt.subplots_adjust(left = 0.1, bottom = 0.12, top = 0.98, right = 0.99, hspace = 0.0, wspace = 0.1) \n",
    "plt.show()\n",
    "# fig.savefig('Experimental_Figures/detection_prob_18_4_4.pdf', format='pdf', facecolor='None')"
   ]
  },
  {
   "cell_type": "code",
   "execution_count": null,
   "id": "a3a718cc-aaf5-4988-b092-1e1e739b4b16",
   "metadata": {},
   "outputs": [],
   "source": []
  }
 ],
 "metadata": {
  "kernelspec": {
   "display_name": "QEC",
   "language": "python",
   "name": "qec"
  },
  "language_info": {
   "codemirror_mode": {
    "name": "ipython",
    "version": 3
   },
   "file_extension": ".py",
   "mimetype": "text/x-python",
   "name": "python",
   "nbconvert_exporter": "python",
   "pygments_lexer": "ipython3",
   "version": "3.11.9"
  }
 },
 "nbformat": 4,
 "nbformat_minor": 5
}
