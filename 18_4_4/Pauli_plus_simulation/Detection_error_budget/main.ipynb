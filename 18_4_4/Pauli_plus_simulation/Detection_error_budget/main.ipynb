{
 "cells": [
  {
   "cell_type": "code",
   "execution_count": 1,
   "id": "eaadcd78-d163-4fa8-a28b-a946c1c65821",
   "metadata": {},
   "outputs": [],
   "source": [
    "import multiprocessing as mp\n",
    "import subprocess\n",
    "import sys\n",
    "import os\n",
    "import itertools\n",
    "from scipy.io import savemat\n",
    "from scipy.io import loadmat\n",
    "import numpy as np"
   ]
  },
  {
   "cell_type": "code",
   "execution_count": 2,
   "id": "358c9fb8-0b52-461e-ba3c-685f168b0426",
   "metadata": {},
   "outputs": [],
   "source": [
    "mp.cpu_count()\n",
    "num_cycles = 6"
   ]
  },
  {
   "cell_type": "code",
   "execution_count": null,
   "id": "cf697ef6-1282-4dfd-be2a-d48badbf1068",
   "metadata": {},
   "outputs": [],
   "source": []
  },
  {
   "cell_type": "code",
   "execution_count": 64,
   "id": "7339a757-0612-4d90-82d9-39060f7b9f55",
   "metadata": {},
   "outputs": [],
   "source": [
    "set_basis_type = [\"Z\", \"X\"];\n",
    "set_error_rate_RO_to_Data = [0.04, 0.03]\n",
    "set_budget_component = [\"None\", \"CZ\", \"crosstalk\", \"SQ\", \"DD\", \"idle\", \"RO_Data\", \"initial_readout\"] ;\n",
    "\n",
    "args = [(basis, error_rate_RO_to_Data, budget_component) for basis, error_rate_RO_to_Data in zip(set_basis_type, set_error_rate_RO_to_Data)\n",
    "        for budget_component in set_budget_component]"
   ]
  },
  {
   "cell_type": "code",
   "execution_count": 65,
   "id": "cc876ef3-2788-45e2-9b4e-81ee065e0101",
   "metadata": {
    "scrolled": true
   },
   "outputs": [],
   "source": [
    "script = \"Budget_sim.py\"\n",
    "\n",
    "def run_Budget_sim(basis_type, error_rate_RO_to_Data, budget_component):\n",
    "    subprocess.run([sys.executable, script, str(basis_type), str(error_rate_RO_to_Data), str(budget_component)])\n",
    "\n",
    "with mp.Pool(processes = 50) as pool:\n",
    "    pool.starmap(run_Budget_sim, args)"
   ]
  },
  {
   "cell_type": "code",
   "execution_count": null,
   "id": "a196024f-adcc-4bcf-b8ce-ceeeb506a8f4",
   "metadata": {},
   "outputs": [],
   "source": []
  },
  {
   "cell_type": "markdown",
   "id": "01f943a4-409d-444c-af60-37d75e2533fa",
   "metadata": {},
   "source": [
    "## Load the data"
   ]
  },
  {
   "cell_type": "code",
   "execution_count": 66,
   "id": "c2a3341f-420e-4cb9-8f4b-2081b574d1fa",
   "metadata": {},
   "outputs": [],
   "source": [
    "labels_z = ['Z0', 'Z1', 'Z2', 'Z5', 'Z6', 'Z7', 'Z8']\n",
    "num_zcheck = len(labels_z) ;"
   ]
  },
  {
   "cell_type": "code",
   "execution_count": 90,
   "id": "f2dfb95a-f756-4df7-9b12-34b39c9659f2",
   "metadata": {},
   "outputs": [],
   "source": [
    "fname0 = './Numerical_data/' + 'Logical_Z_' + 'budget_' + str(\"None\") + '.mat'\n",
    "data = loadmat(fname0)\n",
    "syndrome_history_Z_0 = data[\"syndrome_history_Z\"] \n",
    "mean_detect_prob_z_0 = np.mean(syndrome_history_Z_0, axis=0)\n",
    "\n",
    "set_individual_contribution_Z = {};\n",
    "set_ave_contr_Z = [];\n",
    "for budget_component in [\"CZ\", \"crosstalk\", \"SQ\", \"DD\", \"idle\", \"RO_Data\", \"initial_readout\"] :\n",
    "    \n",
    "    fname1 = './Numerical_data/' + 'Logical_Z_' + 'budget_' + str(budget_component) + '.mat'\n",
    "    data1 = loadmat(fname1)\n",
    "    # print(data1[\"retain_data_fraction\"][0][0])\n",
    "    syndrome_history_Z = data1[\"syndrome_history_Z\"] \n",
    "    mean_detect_prob_z = np.mean(syndrome_history_Z, axis=0)\n",
    "    set_individual_contribution_Z[budget_component] = mean_detect_prob_z_0 - mean_detect_prob_z\n",
    "    set_ave_contr_Z.append( np.mean( mean_detect_prob_z_0 - mean_detect_prob_z ) )\n",
    "\n",
    "# for key, item in set_individual_contribution_Z.items():\n",
    "#     print( np.mean(item) )\n",
    "set_ave_contr_Z = set_ave_contr_Z/sum(set_ave_contr_Z)"
   ]
  },
  {
   "cell_type": "code",
   "execution_count": 93,
   "id": "33d72e20-3cd8-4b3c-87eb-7b9db3d2404c",
   "metadata": {},
   "outputs": [
    {
     "data": {
      "text/plain": [
       "array([0.24341992, 0.09030479, 0.0626108 , 0.08730291, 0.05589408,\n",
       "       0.24405136, 0.21641614])"
      ]
     },
     "execution_count": 93,
     "metadata": {},
     "output_type": "execute_result"
    }
   ],
   "source": [
    "set_ave_contr_Z"
   ]
  },
  {
   "cell_type": "code",
   "execution_count": null,
   "id": "6ba59495-6e89-40a5-ac2f-d16a53eaffda",
   "metadata": {},
   "outputs": [],
   "source": []
  },
  {
   "cell_type": "code",
   "execution_count": null,
   "id": "abe3bf43-dfee-4bf9-882d-1adbb4f48655",
   "metadata": {},
   "outputs": [],
   "source": []
  },
  {
   "cell_type": "code",
   "execution_count": null,
   "id": "b36dcbf7-5661-4f0c-980c-282936b02ff5",
   "metadata": {},
   "outputs": [],
   "source": []
  },
  {
   "cell_type": "code",
   "execution_count": null,
   "id": "2cc2413b-12fc-48ad-9526-be5a784e3eb1",
   "metadata": {},
   "outputs": [],
   "source": []
  },
  {
   "cell_type": "code",
   "execution_count": 60,
   "id": "af685cd8-abd2-431c-a799-3e6aec3e7acf",
   "metadata": {},
   "outputs": [],
   "source": [
    "labels_x = ['X0', 'X1', 'X3', 'X4', 'X5', 'X6', 'X7']\n",
    "num_xcheck = len(labels_x) ;"
   ]
  },
  {
   "cell_type": "code",
   "execution_count": 91,
   "id": "15fa9587-88bb-49c9-814b-ff8d37d5d2b3",
   "metadata": {},
   "outputs": [],
   "source": [
    "fnameX = './Numerical_data/' + 'Logical_X_' + 'budget_' + str(\"None\") + '.mat'\n",
    "data = loadmat(fnameX)\n",
    "syndrome_history_X_0 = data[\"syndrome_history_X\"] \n",
    "mean_detect_prob_x_0 = np.mean(syndrome_history_X_0, axis=0)\n",
    "\n",
    "set_individual_contribution_X = {};\n",
    "set_ave_contr_X = [];\n",
    "for budget_component in [\"CZ\", \"crosstalk\", \"SQ\", \"DD\", \"idle\", \"RO_Data\", \"initial_readout\"] :\n",
    "    \n",
    "    fname1 = './Numerical_data/' + 'Logical_X_' + 'budget_' + str(budget_component) + '.mat'\n",
    "    data1 = loadmat(fname1)\n",
    "    syndrome_history_X = data1[\"syndrome_history_X\"] \n",
    "    mean_detect_prob_x = np.mean(syndrome_history_X, axis=0)\n",
    "    set_individual_contribution_X[budget_component] = mean_detect_prob_x_0 - mean_detect_prob_x\n",
    "    set_ave_contr_X.append( np.mean( mean_detect_prob_x_0 - mean_detect_prob_x ) )\n",
    "\n",
    "# for key, item in set_individual_contribution_X.items():\n",
    "#     print( np.mean(item) )\n",
    "set_ave_contr_X = set_ave_contr_X/sum(set_ave_contr_X)"
   ]
  },
  {
   "cell_type": "code",
   "execution_count": 92,
   "id": "df513540-28f0-453d-ab8f-b3e991eecbb4",
   "metadata": {},
   "outputs": [
    {
     "data": {
      "text/plain": [
       "array([0.23517367, 0.1033731 , 0.05742371, 0.15410898, 0.06267703,\n",
       "       0.1747052 , 0.21253831])"
      ]
     },
     "execution_count": 92,
     "metadata": {},
     "output_type": "execute_result"
    }
   ],
   "source": [
    "set_ave_contr_X "
   ]
  },
  {
   "cell_type": "code",
   "execution_count": null,
   "id": "b7b12127-d506-457c-ad96-ed7966899130",
   "metadata": {},
   "outputs": [],
   "source": []
  },
  {
   "cell_type": "code",
   "execution_count": null,
   "id": "f70f8245-9aba-4c79-87d4-4dc7cc92b9b5",
   "metadata": {},
   "outputs": [],
   "source": []
  },
  {
   "cell_type": "code",
   "execution_count": null,
   "id": "47d240ad-59d0-4c8b-85b8-524d995dc454",
   "metadata": {},
   "outputs": [],
   "source": []
  }
 ],
 "metadata": {
  "kernelspec": {
   "display_name": "QEC",
   "language": "python",
   "name": "qec"
  },
  "language_info": {
   "codemirror_mode": {
    "name": "ipython",
    "version": 3
   },
   "file_extension": ".py",
   "mimetype": "text/x-python",
   "name": "python",
   "nbconvert_exporter": "python",
   "pygments_lexer": "ipython3",
   "version": "3.11.9"
  }
 },
 "nbformat": 4,
 "nbformat_minor": 5
}
