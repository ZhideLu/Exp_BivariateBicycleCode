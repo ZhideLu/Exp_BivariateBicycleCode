{
 "cells": [
  {
   "cell_type": "code",
   "execution_count": 1,
   "id": "a484df0d-d2c7-47de-ade9-20a7955d1419",
   "metadata": {},
   "outputs": [],
   "source": [
    "import multiprocessing as mp\n",
    "import subprocess\n",
    "import sys\n",
    "import os\n",
    "import itertools\n",
    "from scipy.io import savemat\n",
    "from scipy.io import loadmat\n",
    "import numpy as np"
   ]
  },
  {
   "cell_type": "code",
   "execution_count": null,
   "id": "8d5d863f-32b5-40d9-95da-b4da6f878a49",
   "metadata": {},
   "outputs": [],
   "source": []
  },
  {
   "cell_type": "markdown",
   "id": "9ca8d79b-f02e-4d22-8bae-0ec813131f43",
   "metadata": {},
   "source": [
    "##  Pauli+ simulation"
   ]
  },
  {
   "cell_type": "code",
   "execution_count": 2,
   "id": "27725468-1a7b-4ef1-a66a-98270a8730a9",
   "metadata": {},
   "outputs": [],
   "source": [
    "mp.cpu_count()\n",
    "n2 = 9 ; k = 4 ;\n",
    "max_num_cycles = 6"
   ]
  },
  {
   "cell_type": "code",
   "execution_count": 3,
   "id": "5863c9fe-75ab-4ce1-9fad-73ca807b2fbc",
   "metadata": {},
   "outputs": [],
   "source": [
    "set_basis_type = [\"Z\", \"X\"];\n",
    "set_budget_component = [\"CZ\", \"crosstalk\", \"leakage\", \"SQ\", \"DD\", \"idle\", \"readout\", \"Excess\"] ;\n",
    "\n",
    "set_num_cycles = range(1, max_num_cycles+1)\n",
    "\n",
    "args = [(basis, budget_component, num_cycles) for basis in set_basis_type for budget_component in set_budget_component \n",
    "               for num_cycles in set_num_cycles ]"
   ]
  },
  {
   "cell_type": "code",
   "execution_count": null,
   "id": "481d8964-0178-479b-9ec6-8a5257fbcf17",
   "metadata": {
    "scrolled": true
   },
   "outputs": [],
   "source": []
  },
  {
   "cell_type": "code",
   "execution_count": null,
   "id": "e75fabfb-c610-4c2f-b926-698c7b9c5477",
   "metadata": {},
   "outputs": [],
   "source": [
    "script = \"Budget_PauliPlus_sim.py\"\n",
    "\n",
    "def run_Budget_PauliPlus_sim(basis_type, budget_component, num_cycles):\n",
    "    subprocess.run([sys.executable, script, str(basis_type), str(budget_component), str(num_cycles) ])\n",
    "\n",
    "with mp.Pool(processes = 130) as pool:\n",
    "    pool.starmap(run_Budget_PauliPlus_sim, args)"
   ]
  },
  {
   "cell_type": "code",
   "execution_count": null,
   "id": "16f274d9-84c3-4b36-acb4-27e75c5e68cb",
   "metadata": {},
   "outputs": [],
   "source": []
  },
  {
   "cell_type": "markdown",
   "id": "c3845de0-a2e6-41cd-abee-ff9d8f18727c",
   "metadata": {},
   "source": [
    "## Error decoding"
   ]
  },
  {
   "cell_type": "code",
   "execution_count": null,
   "id": "3fe3e992-ae9f-4023-b71a-843dffe2916f",
   "metadata": {
    "scrolled": true
   },
   "outputs": [],
   "source": [
    "script2 = \"Error_decoding.py\"\n",
    "\n",
    "def run_error_decoding(basis_type, budget_component, num_cycles):\n",
    "    subprocess.run([sys.executable, script2, str(basis_type), str(budget_component), str(num_cycles) ])\n",
    "\n",
    "with mp.Pool(processes = 130) as pool:\n",
    "    pool.starmap(run_error_decoding, args)"
   ]
  },
  {
   "cell_type": "code",
   "execution_count": null,
   "id": "de987bac-11f7-47f8-a51a-5a600f0cd431",
   "metadata": {},
   "outputs": [],
   "source": []
  },
  {
   "cell_type": "code",
   "execution_count": null,
   "id": "e8cb98b8-927d-4e12-aff0-1f7ccd78b8ad",
   "metadata": {},
   "outputs": [],
   "source": []
  },
  {
   "cell_type": "markdown",
   "id": "9e0b92e6-e8e6-440c-ab70-6b23e08e9a4d",
   "metadata": {},
   "source": [
    "## Load the results"
   ]
  },
  {
   "cell_type": "code",
   "execution_count": 4,
   "id": "bc77f233-ff46-41e3-aed2-082aae14800b",
   "metadata": {},
   "outputs": [],
   "source": [
    "from scipy.optimize import curve_fit\n",
    "from matplotlib import font_manager \n",
    "font_manager.fontManager.addfont('Arial.ttf')"
   ]
  },
  {
   "cell_type": "code",
   "execution_count": 5,
   "id": "f20e4396-07fb-46a4-a64b-817cc9b907b2",
   "metadata": {
    "scrolled": true
   },
   "outputs": [],
   "source": [
    "sim_Z_logic_error = {};\n",
    "sim_Z_logic_error_perbit = {};\n",
    "sim_X_logic_error = {};\n",
    "sim_X_logic_error_perbit = {} ;\n",
    "\n",
    "for budget_component in set_budget_component:\n",
    "    for num_cycles in range(1, max_num_cycles+1):\n",
    "        fname = './Numerical_results/' + 'Logical_Z_' + 'cycle_' + str(num_cycles) + 'budget_' + budget_component + '.mat'\n",
    "        data = loadmat(fname)\n",
    "        sim_Z_logic_error.setdefault(budget_component, []).append( data['logical_error_probability'][0][0]  )\n",
    "        sim_Z_logic_error_perbit.setdefault(budget_component, []).append(data['logical_error_probability_per_qubit'][0])\n",
    "\n",
    "    for num_cycles in range(1, max_num_cycles+1):\n",
    "        fname = './Numerical_results/' + 'Logical_X_' + 'cycle_' + str(num_cycles) + 'budget_' + budget_component + '.mat'\n",
    "        data = loadmat(fname)\n",
    "        sim_X_logic_error.setdefault(budget_component, []).append( data['logical_error_probability'][0][0] )\n",
    "        sim_X_logic_error_perbit.setdefault(budget_component, []).append(data['logical_error_probability_per_qubit'][0])\n",
    "\n",
    "for num_cycles in range(1, max_num_cycles+1):\n",
    "    fname = '../Numerical_results/' + 'Logical_Z_' + 'num_cycles_' + str(num_cycles) + '.mat'\n",
    "    data = loadmat(fname)\n",
    "    sim_Z_logic_error.setdefault(\"None\", []).append( data['logical_error_probability'][0][0]  )\n",
    "    sim_Z_logic_error_perbit.setdefault(\"None\", []).append(data['logical_error_probability_per_qubit'][0])\n",
    "\n",
    "    fname2 = '../Numerical_results/' + 'Logical_X_' + 'num_cycles_' + str(num_cycles) + '.mat'\n",
    "    data2 = loadmat(fname2)\n",
    "    sim_X_logic_error.setdefault(\"None\", []).append( data2['logical_error_probability'][0][0]  )\n",
    "    sim_X_logic_error_perbit.setdefault(\"None\", []).append(data2['logical_error_probability_per_qubit'][0])"
   ]
  },
  {
   "cell_type": "code",
   "execution_count": 6,
   "id": "9d5b9d97-2e1c-4219-bb86-f28475f5bc52",
   "metadata": {},
   "outputs": [],
   "source": [
    "# sim_Z_logic_error"
   ]
  },
  {
   "cell_type": "code",
   "execution_count": 7,
   "id": "6bd4b69c-849d-4260-8f79-b9298c9018f0",
   "metadata": {},
   "outputs": [],
   "source": [
    "set_sim_num_z = {} ; set_sim_num_x = {} ;\n",
    "\n",
    "for budget_component in set_budget_component:\n",
    "    for num_cycles in range(1, max_num_cycles+1):\n",
    "        fname = './Numerical_data/' + 'Logical_Z_' + 'cycle_' + str(num_cycles) + 'budget_' + budget_component + '.mat'\n",
    "        data = loadmat(fname)\n",
    "        set_sim_num_z.setdefault(budget_component, []).append(data[\"retained_num_samples\"][0][0])\n",
    "\n",
    "    for num_cycles in range(1, max_num_cycles+1):\n",
    "        fname = './Numerical_data/' + 'Logical_X_' + 'cycle_' + str(num_cycles) + 'budget_' + budget_component + '.mat'\n",
    "        data = loadmat(fname)\n",
    "        set_sim_num_x.setdefault(budget_component, []).append(data[\"retained_num_samples\"][0][0])\n",
    "\n",
    "for num_cycles in range(1, max_num_cycles+1):\n",
    "    fname = '../Numerical_data/' + 'Logical_Z_' + 'num_cycles_' + str(num_cycles) + '.mat'\n",
    "    data = loadmat(fname)\n",
    "    set_sim_num_z.setdefault(\"None\", []).append(data[\"retained_num_samples\"][0][0])\n",
    "\n",
    "    fname2 = '../Numerical_data/' + 'Logical_X_' + 'num_cycles_' + str(num_cycles) + '.mat'\n",
    "    data2 = loadmat(fname2)\n",
    "    set_sim_num_x.setdefault(\"None\", []).append(data2[\"retained_num_samples\"][0][0])"
   ]
  },
  {
   "cell_type": "code",
   "execution_count": null,
   "id": "1e314fd7-9b94-4c23-b73d-806ca49a2c6b",
   "metadata": {},
   "outputs": [],
   "source": []
  },
  {
   "cell_type": "code",
   "execution_count": null,
   "id": "c6b6a5bf-0471-40ff-9945-fb636b4a6026",
   "metadata": {},
   "outputs": [],
   "source": []
  },
  {
   "cell_type": "code",
   "execution_count": 8,
   "id": "103eaaea-b10e-4d21-8c2c-a90091af84bf",
   "metadata": {
    "scrolled": true
   },
   "outputs": [],
   "source": [
    "# set_sim_num_z"
   ]
  },
  {
   "cell_type": "markdown",
   "id": "ea777705-9fc4-4548-8807-ff9899addbd2",
   "metadata": {},
   "source": [
    "## Logical Z state"
   ]
  },
  {
   "cell_type": "code",
   "execution_count": 9,
   "id": "3ddb0504-75b6-45f2-ae9b-3d8eab057381",
   "metadata": {},
   "outputs": [],
   "source": [
    "def k_to_one(p, k):\n",
    "    return 1-(1-p)**(1/k)\n",
    "    \n",
    "cycle_t = np.arange(1, max_num_cycles+1) ;\n",
    "cycle_interpo = np.linspace(1, max_num_cycles+1, 100) ;"
   ]
  },
  {
   "cell_type": "code",
   "execution_count": 10,
   "id": "10f2b729-23ef-4104-a5be-45393d75d3d3",
   "metadata": {},
   "outputs": [
    {
     "data": {
      "text/plain": [
       "['CZ', 'crosstalk', 'leakage', 'SQ', 'DD', 'idle', 'readout', 'Excess']"
      ]
     },
     "execution_count": 10,
     "metadata": {},
     "output_type": "execute_result"
    }
   ],
   "source": [
    "set_budget_component"
   ]
  },
  {
   "cell_type": "code",
   "execution_count": null,
   "id": "8187d90f-70a4-4c8d-81de-5dc37ce03ef5",
   "metadata": {},
   "outputs": [],
   "source": []
  },
  {
   "cell_type": "code",
   "execution_count": 11,
   "id": "cb1712c8-c842-498c-9a1d-099a621be02e",
   "metadata": {},
   "outputs": [
    {
     "name": "stdout",
     "output_type": "stream",
     "text": [
      "logical error per logical qubit per cycle: 0.08235705625359924\n",
      "logical error per logical qubit per cycle: 0.05547482674323767\n",
      "logical error per logical qubit per cycle: 0.07247247927978007\n",
      "logical error per logical qubit per cycle: 0.08163310007612168\n",
      "logical error per logical qubit per cycle: 0.07571578893936914\n",
      "logical error per logical qubit per cycle: 0.06894966521147061\n",
      "logical error per logical qubit per cycle: 0.07606631615380322\n",
      "logical error per logical qubit per cycle: 0.0750886888639275\n",
      "logical error per logical qubit per cycle: 0.05659725020853135\n"
     ]
    }
   ],
   "source": [
    "set_logical_error_Z_perbit_percycle = {} ;\n",
    "\n",
    "for bc in [\"None\"] + set_budget_component  :\n",
    "    temp_logical = sim_Z_logic_error[bc]\n",
    "    temp_num     = set_sim_num_z[bc]\n",
    "    \n",
    "    eta = 1\n",
    "    sim_Z_logic_fid = 1 - eta * np.array( temp_logical )\n",
    "    log_sim_Z_logic_fid = np.log(sim_Z_logic_fid)\n",
    "    \n",
    "    sigma_sim_Z_logic_error = [ np.sqrt(item*(1-item)/sim_num) for item, sim_num in zip(temp_logical, temp_num)];\n",
    "    \n",
    "    coeff, cov = np.polyfit(cycle_t, log_sim_Z_logic_fid, deg=1, cov=True)\n",
    "    \n",
    "    log_A, log_B = coeff  # [Slope, intercept]\n",
    "    \n",
    "    sigma_log_A = np.sqrt(cov[0,0]) ;\n",
    "    sim_sigma_pL_z = np.exp(log_A) * sigma_log_A ;  #\n",
    "    \n",
    "    A = np.exp(log_A)\n",
    "    B = np.exp(log_B)\n",
    "    \n",
    "    sim_Z_logic_error_percycle = (1 - A)/eta\n",
    "    # print(f\"Logical error rate for four logical qubits per cycle = {sim_Z_logic_error_percycle} ± {sim_sigma_pL_z}\")\n",
    "    \n",
    "    # The fit line\n",
    "    pred_sim_Z_logic_error = (1 - B * A**(cycle_interpo))/eta\n",
    "    \n",
    "    sim_Z_logic_error_perbit_percycle = k_to_one(sim_Z_logic_error_percycle, k)\n",
    "    \n",
    "    sim_sigma_pL_z_perbit = sim_sigma_pL_z / (k * (1 - sim_Z_logic_error_percycle )**(1-1/k)    )\n",
    "    \n",
    "    print(\"logical error per logical qubit per cycle:\",  sim_Z_logic_error_perbit_percycle )\n",
    "    # print(\"The error bar is:\",  sim_sigma_pL_z_perbit)\n",
    "    set_logical_error_Z_perbit_percycle.setdefault(bc, []).append(sim_Z_logic_error_perbit_percycle)"
   ]
  },
  {
   "cell_type": "code",
   "execution_count": 12,
   "id": "b0213a25-c53e-4c63-9af2-72d26612ba5d",
   "metadata": {},
   "outputs": [],
   "source": [
    "reduced_logical_error_component_Z = {key: set_logical_error_Z_perbit_percycle[\"None\"][0] - value[0] \n",
    "                                            for key, value in set_logical_error_Z_perbit_percycle.items() }"
   ]
  },
  {
   "cell_type": "code",
   "execution_count": 13,
   "id": "071c7bba-d97d-442b-ae6c-4809efdc78a5",
   "metadata": {},
   "outputs": [
    {
     "name": "stdout",
     "output_type": "stream",
     "text": [
      "logical error per logical qubit per cycle: 0.08235705625359924\n"
     ]
    }
   ],
   "source": [
    "print(\"logical error per logical qubit per cycle:\", set_logical_error_Z_perbit_percycle[\"None\"][0] )"
   ]
  },
  {
   "cell_type": "code",
   "execution_count": 14,
   "id": "33f828d4-ecdc-4f81-9c2c-539ef8b21248",
   "metadata": {},
   "outputs": [
    {
     "data": {
      "text/plain": [
       "{'None': 0.0,\n",
       " 'CZ': 0.026882229510361566,\n",
       " 'crosstalk': 0.00988457697381917,\n",
       " 'leakage': 0.0007239561774775582,\n",
       " 'SQ': 0.006641267314230093,\n",
       " 'DD': 0.013407391042128625,\n",
       " 'idle': 0.006290740099796022,\n",
       " 'readout': 0.007268367389671737,\n",
       " 'Excess': 0.02575980604506789}"
      ]
     },
     "execution_count": 14,
     "metadata": {},
     "output_type": "execute_result"
    }
   ],
   "source": [
    "reduced_logical_error_component_Z"
   ]
  },
  {
   "cell_type": "code",
   "execution_count": 15,
   "id": "34890fb8-60db-47c9-a05e-00b0c15044e1",
   "metadata": {},
   "outputs": [],
   "source": [
    "temp_sum = sum(reduced_logical_error_component_Z.values())\n",
    "Z_component_contribution = {key:value/temp_sum for key, value in reduced_logical_error_component_Z.items()}"
   ]
  },
  {
   "cell_type": "code",
   "execution_count": 16,
   "id": "195dd466-0081-4bbf-b03b-d9a3c644bd5d",
   "metadata": {},
   "outputs": [
    {
     "data": {
      "text/plain": [
       "{'None': 0.0,\n",
       " 'CZ': 0.2775417276638802,\n",
       " 'crosstalk': 0.10205189898713436,\n",
       " 'leakage': 0.007474381846662453,\n",
       " 'SQ': 0.06856681301521579,\n",
       " 'DD': 0.13842268818750073,\n",
       " 'idle': 0.06494784500329023,\n",
       " 'readout': 0.07504121791117646,\n",
       " 'Excess': 0.2659534273851398}"
      ]
     },
     "execution_count": 16,
     "metadata": {},
     "output_type": "execute_result"
    }
   ],
   "source": [
    "Z_component_contribution"
   ]
  },
  {
   "cell_type": "markdown",
   "id": "c1a86e2a-20de-4781-8f65-aac649d5c0f2",
   "metadata": {
    "jp-MarkdownHeadingCollapsed": true
   },
   "source": [
    "## test"
   ]
  },
  {
   "cell_type": "code",
   "execution_count": null,
   "id": "c0a3aa05-4d93-4ee8-9e68-ab3b46f75025",
   "metadata": {},
   "outputs": [],
   "source": [
    "# sim_Z_logic_error[\"initial_readout\"]"
   ]
  },
  {
   "cell_type": "code",
   "execution_count": null,
   "id": "f772d4bf-e0ee-4d92-b5c2-6f7f4dcc5753",
   "metadata": {},
   "outputs": [],
   "source": [
    "bc = \"DD\"\n",
    "temp_logical = sim_Z_logic_error[bc][:]\n",
    "temp_num     = set_sim_num_z[bc][:]\n",
    "\n",
    "eta = 1\n",
    "sim_Z_logic_fid = 1 - eta * np.array( temp_logical )\n",
    "log_sim_Z_logic_fid = np.log(sim_Z_logic_fid)\n",
    "\n",
    "sigma_sim_Z_logic_error = [ np.sqrt(item*(1-item)/sim_num) for item, sim_num in zip(temp_logical, temp_num)];\n",
    "\n",
    "coeff, cov = np.polyfit(cycle_t, log_sim_Z_logic_fid, deg=1, cov=True)\n",
    "\n",
    "log_A, log_B = coeff  # [Slope, intercept]\n",
    "\n",
    "sigma_log_A = np.sqrt(cov[0,0]) ;\n",
    "sim_sigma_pL_z = np.exp(log_A) * sigma_log_A ;  #\n",
    "\n",
    "A = np.exp(log_A)\n",
    "B = np.exp(log_B)\n",
    "\n",
    "sim_Z_logic_error_percycle = (1 - A)/eta\n",
    "print(f\"Logical error rate for four logical qubits per cycle = {sim_Z_logic_error_percycle} ± {sim_sigma_pL_z}\")\n",
    "\n",
    "# The fit line\n",
    "pred_sim_Z_logic_error = (1 - B * A**(cycle_interpo))/eta\n",
    "\n",
    "sim_Z_logic_error_perbit_percycle = k_to_one(sim_Z_logic_error_percycle, k)\n",
    "\n",
    "sim_sigma_pL_z_perbit = sim_sigma_pL_z / (k * (1 - sim_Z_logic_error_percycle )**(1-1/k)    )\n",
    "\n",
    "print(\"logical error per logical qubit per cycle:\", \n",
    "      sim_Z_logic_error_perbit_percycle )"
   ]
  },
  {
   "cell_type": "code",
   "execution_count": null,
   "id": "8281e827-49bd-4156-ba31-4513eb7a7415",
   "metadata": {},
   "outputs": [],
   "source": [
    "temp_logical = sim_X_logic_error[bc]\n",
    "temp_num     = set_sim_num_x[bc]\n",
    "\n",
    "eta = 1\n",
    "sim_X_logic_fid = 1 - eta * np.array( temp_logical )\n",
    "log_sim_X_logic_fid = np.log(sim_X_logic_fid)\n",
    "\n",
    "sigma_sim_X_logic_error = [ np.sqrt(item*(1-item)/sim_num) for item, sim_num in zip(temp_logical, temp_num)];\n",
    "\n",
    "coeff, cov = np.polyfit(cycle_t, log_sim_X_logic_fid, deg=1, cov=True)\n",
    "\n",
    "log_A, log_B = coeff  # [Slope, intercept]\n",
    "\n",
    "sigma_log_A = np.sqrt(cov[0,0]) ;\n",
    "sim_sigma_pL_x = np.exp(log_A) * sigma_log_A ;  #\n",
    "\n",
    "A = np.exp(log_A)\n",
    "B = np.exp(log_B)\n",
    "\n",
    "sim_X_logic_error_percycle = (1 - A)/eta\n",
    "print(f\"Logical error rate for four logical qubits per cycle = {sim_X_logic_error_percycle} ± {sim_sigma_pL_x}\")\n",
    "\n",
    "# The fit line\n",
    "pred_sim_X_logic_error = (1 - B * A**(cycle_interpo))/eta\n",
    "\n",
    "sim_X_logic_error_perbit_percycle = k_to_one(sim_X_logic_error_percycle, k)\n",
    "\n",
    "# sim_sigma_pL_x_perbit = sim_sigma_pL_x / (k * (1 - sim_X_logic_error_percycle )**(1-1/k)    )\n",
    "\n",
    "print(\"logical error per logical qubit per cycle:\", \n",
    "      sim_X_logic_error_perbit_percycle )"
   ]
  },
  {
   "cell_type": "code",
   "execution_count": null,
   "id": "dfd91fcd-4099-420c-9856-5e7bc2f229ba",
   "metadata": {},
   "outputs": [],
   "source": []
  },
  {
   "cell_type": "code",
   "execution_count": null,
   "id": "daf116f3-77db-48c0-9197-446d0d5a3e8b",
   "metadata": {},
   "outputs": [],
   "source": []
  },
  {
   "cell_type": "markdown",
   "id": "ab3121ce-f4a2-46cc-95c9-1d0a0ad8cdc4",
   "metadata": {},
   "source": [
    "## Logical X state"
   ]
  },
  {
   "cell_type": "code",
   "execution_count": 17,
   "id": "aac61a2d-0f0f-4c61-a5c4-f3aabe1507d5",
   "metadata": {},
   "outputs": [
    {
     "name": "stdout",
     "output_type": "stream",
     "text": [
      "logical error per logical qubit per cycle: 0.0918221327088824\n",
      "logical error per logical qubit per cycle: 0.06684671408366216\n",
      "logical error per logical qubit per cycle: 0.08324465988477459\n",
      "logical error per logical qubit per cycle: 0.0915552499895228\n",
      "logical error per logical qubit per cycle: 0.08499900384149106\n",
      "logical error per logical qubit per cycle: 0.06911125794267703\n",
      "logical error per logical qubit per cycle: 0.08609177092357512\n",
      "logical error per logical qubit per cycle: 0.08641790066216859\n",
      "logical error per logical qubit per cycle: 0.06847089627172553\n"
     ]
    }
   ],
   "source": [
    "set_logical_error_X_perbit_percycle = {} ;\n",
    "\n",
    "for bc in [\"None\"] + set_budget_component :\n",
    "    temp_logical = sim_X_logic_error[bc]\n",
    "    temp_num     = set_sim_num_x[bc]\n",
    "    \n",
    "    eta = 1\n",
    "    sim_X_logic_fid = 1 - eta * np.array( temp_logical )\n",
    "    log_sim_X_logic_fid = np.log(sim_X_logic_fid)\n",
    "    \n",
    "    sigma_sim_X_logic_error = [ np.sqrt(item*(1-item)/sim_num) for item, sim_num in zip(temp_logical, temp_num)];\n",
    "    \n",
    "    coeff, cov = np.polyfit(cycle_t, log_sim_X_logic_fid, deg=1, cov=True)\n",
    "    \n",
    "    log_A, log_B = coeff  # [Slope, intercept]\n",
    "    \n",
    "    sigma_log_A = np.sqrt(cov[0,0]) ;\n",
    "    sim_sigma_pL_x = np.exp(log_A) * sigma_log_A ;  #\n",
    "    \n",
    "    A = np.exp(log_A)\n",
    "    B = np.exp(log_B)\n",
    "    \n",
    "    sim_X_logic_error_percycle = (1 - A)/eta\n",
    "    # print(f\"Logical error rate for four logical qubits per cycle = {sim_Z_logic_error_percycle} ± {sim_sigma_pL_z}\")\n",
    "    \n",
    "    # The fit line\n",
    "    pred_sim_X_logic_error = (1 - B * A**(cycle_interpo))/eta\n",
    "    \n",
    "    sim_X_logic_error_perbit_percycle = k_to_one(sim_X_logic_error_percycle, k)\n",
    "    \n",
    "    sim_sigma_pL_x_perbit = sim_sigma_pL_x / (k * (1 - sim_X_logic_error_percycle )**(1-1/k)    )\n",
    "    \n",
    "    print(\"logical error per logical qubit per cycle:\", \n",
    "          sim_X_logic_error_perbit_percycle )\n",
    "    # print(\"The error bar is:\",  sim_sigma_pL_x_perbit)\n",
    "    set_logical_error_X_perbit_percycle.setdefault(bc, []).append(sim_X_logic_error_perbit_percycle)"
   ]
  },
  {
   "cell_type": "code",
   "execution_count": 18,
   "id": "0a2e0abf-15d8-4161-888d-a02fccf91e59",
   "metadata": {},
   "outputs": [],
   "source": [
    "reduced_logical_error_component_X = {key: set_logical_error_X_perbit_percycle[\"None\"][0] - value[0] \n",
    "                                            for key, value in set_logical_error_X_perbit_percycle.items() }"
   ]
  },
  {
   "cell_type": "code",
   "execution_count": 19,
   "id": "0c014d6f-ad00-46f8-b874-090e59d50606",
   "metadata": {},
   "outputs": [
    {
     "name": "stdout",
     "output_type": "stream",
     "text": [
      "logical error per logical qubit per cycle: 0.0918221327088824\n"
     ]
    }
   ],
   "source": [
    "print(\"logical error per logical qubit per cycle:\", set_logical_error_X_perbit_percycle[\"None\"][0] )"
   ]
  },
  {
   "cell_type": "code",
   "execution_count": 20,
   "id": "ef623b83-7b7f-4d40-930a-352954972b2b",
   "metadata": {},
   "outputs": [
    {
     "data": {
      "text/plain": [
       "{'None': 0.0,\n",
       " 'CZ': 0.024975418625220236,\n",
       " 'crosstalk': 0.008577472824107812,\n",
       " 'leakage': 0.00026688271935959573,\n",
       " 'SQ': 0.006823128867391337,\n",
       " 'DD': 0.02271087476620537,\n",
       " 'idle': 0.005730361785307281,\n",
       " 'readout': 0.005404232046713808,\n",
       " 'Excess': 0.023351236437156864}"
      ]
     },
     "execution_count": 20,
     "metadata": {},
     "output_type": "execute_result"
    }
   ],
   "source": [
    "reduced_logical_error_component_X"
   ]
  },
  {
   "cell_type": "code",
   "execution_count": 21,
   "id": "3be3e2f1-ddcf-4d21-b528-ffc23ddc3c04",
   "metadata": {},
   "outputs": [],
   "source": [
    "temp_sum = sum(reduced_logical_error_component_X.values())\n",
    "X_component_contribution = {key:value/temp_sum for key, value in reduced_logical_error_component_X.items()}"
   ]
  },
  {
   "cell_type": "code",
   "execution_count": 22,
   "id": "2b597829-7c86-40b3-a0ff-a53363a92618",
   "metadata": {},
   "outputs": [
    {
     "data": {
      "text/plain": [
       "{'None': 0.0,\n",
       " 'CZ': 0.25526899706076217,\n",
       " 'crosstalk': 0.08766871610772198,\n",
       " 'leakage': 0.002727757445273737,\n",
       " 'SQ': 0.06973790065070279,\n",
       " 'DD': 0.23212352557276483,\n",
       " 'idle': 0.05856893642830018,\n",
       " 'readout': 0.05523562648336186,\n",
       " 'Excess': 0.23866854025111242}"
      ]
     },
     "execution_count": 22,
     "metadata": {},
     "output_type": "execute_result"
    }
   ],
   "source": [
    "X_component_contribution"
   ]
  },
  {
   "cell_type": "code",
   "execution_count": 23,
   "id": "c1dc59cb-9526-4c56-85d1-77fd570a23e0",
   "metadata": {},
   "outputs": [],
   "source": [
    "ave_component_contribution = {key: (Z_component_contribution[key] + X_component_contribution[key]) / 2\n",
    "                              for key in Z_component_contribution}"
   ]
  },
  {
   "cell_type": "code",
   "execution_count": 24,
   "id": "a1683938-aa00-4a5d-8141-29a5463d9fe9",
   "metadata": {},
   "outputs": [
    {
     "data": {
      "text/plain": [
       "{'None': 0.0,\n",
       " 'CZ': 0.26640536236232115,\n",
       " 'crosstalk': 0.09486030754742816,\n",
       " 'leakage': 0.005101069645968095,\n",
       " 'SQ': 0.06915235683295928,\n",
       " 'DD': 0.18527310688013277,\n",
       " 'idle': 0.06175839071579521,\n",
       " 'readout': 0.06513842219726916,\n",
       " 'Excess': 0.2523109838181261}"
      ]
     },
     "execution_count": 24,
     "metadata": {},
     "output_type": "execute_result"
    }
   ],
   "source": [
    "ave_component_contribution"
   ]
  },
  {
   "cell_type": "code",
   "execution_count": null,
   "id": "b60cc5c9-3e00-4d56-bf3d-82a6c8f675df",
   "metadata": {},
   "outputs": [],
   "source": []
  },
  {
   "cell_type": "code",
   "execution_count": 27,
   "id": "570254f0-16f4-4b04-a6c7-eba0ab36a9e4",
   "metadata": {},
   "outputs": [
    {
     "data": {
      "image/png": "[encoded data removed]",
      "text/plain": [
       "<Figure size 200x450 with 1 Axes>"
      ]
     },
     "metadata": {},
     "output_type": "display_data"
    }
   ],
   "source": [
    "import matplotlib.pyplot as plt\n",
    "from matplotlib import font_manager \n",
    "font_manager.fontManager.addfont('Arial.ttf')\n",
    "plt.rcParams[\"font.family\"] = \"Arial\"\n",
    "from matplotlib.ticker import MaxNLocator\n",
    "import matplotlib.ticker as ticker\n",
    "plt.rcParams.update({'font.size': 13})\n",
    "\n",
    "segments = [\n",
    "    (\"CZ\",               ave_component_contribution[\"CZ\"], \"#fffec5\"),  \n",
    "    (\"CZ stray int.\",    ave_component_contribution[\"crosstalk\"], \"#7f7f7f\"),  # gray\n",
    "    (\"Leakage\",          ave_component_contribution[\"leakage\"], \"#cc4e63\"),  # red\n",
    "    (\"1Q\",               ave_component_contribution[\"SQ\"], \"#f2c22e\"),  # yellow\n",
    "    (\"DD\",               ave_component_contribution[\"DD\"], \"#4a86e8\"),  # bule\n",
    "    (\"Idle\",             ave_component_contribution[\"idle\"], \"#b565f2\"),  # purple\n",
    "    (\"Readout\",             ave_component_contribution[\"readout\"], \"#aff26c\"),  # green\n",
    "    (\"Excess\",           ave_component_contribution[\"Excess\"], \"#d1800f\"), \n",
    "]\n",
    "assert abs(sum(h for _, h, _ in segments) - 1.0) < 1e-9, \"segments must sum to 1\"\n",
    "\n",
    "fig, ax = plt.subplots(figsize=(2, 4.5))\n",
    "\n",
    "# 单根柱子的 x 位置与宽度\n",
    "x = 0.0\n",
    "width = 0.8\n",
    "\n",
    "# 依次堆叠\n",
    "bottom = 0.0\n",
    "for label, height, color in segments:\n",
    "    ax.bar(x, height, width, bottom = bottom, color = color, edgecolor = \"none\")\n",
    "    # 居中写字：段比较窄时可以自动调小字号\n",
    "    y_text = bottom + height/2\n",
    "    fontsize = 12 if height >= 0.14 else 12\n",
    "    ax.text(x, y_text, label, ha=\"center\", va=\"center\", color=\"black\", fontsize = fontsize)\n",
    "    bottom += height\n",
    "\n",
    "\n",
    "ax.set_xlim(-0.45, 0.45)\n",
    "ax.set_ylim(0, 1.0)\n",
    "ax.set_xticks([])\n",
    "\n",
    "# y 轴刻度 0–1\n",
    "ax.set_yticks([i/5 for i in range(6)])  # 0,0.2,...,1.0\n",
    "ax.set_ylabel(\"Logical error budget\", fontsize = 13.5, rotation = 90, labelpad = 3)\n",
    "\n",
    "for spine in [\"top\", \"right\"]:\n",
    "    ax.spines[spine].set_visible(False)\n",
    "\n",
    "# ax.bar(x, 1.0, width, fill=False, edgecolor=\"black\", linewidth=1.5)\n",
    "\n",
    "plt.subplots_adjust(left = 0.28, bottom = 0.02, top = 0.97, right = 0.99,  hspace = 0.0, wspace = 0.1) \n",
    "plt.show()\n",
    "fig.savefig('Logical error budget.pdf', format='pdf', facecolor='None')"
   ]
  },
  {
   "cell_type": "code",
   "execution_count": null,
   "id": "78399f11-0ca2-4d57-bee2-1c0d0922c0d0",
   "metadata": {},
   "outputs": [],
   "source": []
  },
  {
   "cell_type": "code",
   "execution_count": null,
   "id": "5a84308c-6d83-4430-bba4-68d96a8f76f7",
   "metadata": {},
   "outputs": [],
   "source": []
  },
  {
   "cell_type": "code",
   "execution_count": null,
   "id": "0de1c43d-d7d3-453f-bcfa-be78598d5700",
   "metadata": {},
   "outputs": [],
   "source": []
  },
  {
   "cell_type": "code",
   "execution_count": null,
   "id": "dbfb8734-653a-4e5d-a62c-b691e49304c2",
   "metadata": {},
   "outputs": [],
   "source": []
  },
  {
   "cell_type": "code",
   "execution_count": null,
   "id": "4be93096-6e9a-49cb-bc1b-c7026776e64b",
   "metadata": {},
   "outputs": [],
   "source": []
  },
  {
   "cell_type": "code",
   "execution_count": null,
   "id": "99475c23-c3c7-4437-b836-68c90ef3f936",
   "metadata": {},
   "outputs": [],
   "source": []
  },
  {
   "cell_type": "code",
   "execution_count": null,
   "id": "486559b9-a0d0-4f8f-ac21-d4f6c998409d",
   "metadata": {},
   "outputs": [],
   "source": [
    "color_list = [\"maroon\", \"teal\", \"dimGray\", \"#FF8C00\", \"#BC8F8F\", \"#7FFFAA\"]\n",
    "\n",
    "marker_list = [ \"o\", \"s\", \"d\", \"<\", \"p\", \"H\" ]\n",
    "\n",
    "plt.rcParams[\"font.family\"] = \"Arial\"\n",
    "plt.rcParams.update({'font.size': 13})\n",
    "fontsize = 13 ;\n",
    "\n",
    "fig, (ax11, ax21) = plt.subplots( 1, 2,              \n",
    "    figsize=(10, 5)   \n",
    ")\n",
    "\n",
    "spine_width = 1.5 ;\n",
    "\n",
    "ax11.spines['top'].set_linewidth(spine_width)    \n",
    "ax11.spines['bottom'].set_linewidth(spine_width) \n",
    "ax11.spines['left'].set_linewidth(spine_width)   \n",
    "ax11.spines['right'].set_linewidth(spine_width)  \n",
    "ax21.spines['top'].set_linewidth(spine_width)    \n",
    "ax21.spines['bottom'].set_linewidth(spine_width) \n",
    "ax21.spines['left'].set_linewidth(spine_width)   \n",
    "ax21.spines['right'].set_linewidth(spine_width)  \n",
    "\n",
    "ax11.set_xlim(0, 7.2)\n",
    "ax11.xaxis.set_major_locator(ticker.MultipleLocator(1))  \n",
    "\n",
    "ax11.set_ylim(0, 1)\n",
    "#----------------------------------------------------------------------\n",
    "ax11.plot( cycle_t, sim_Z_logic_error[\"DD\"], color = 'green', linestyle = \"\", linewidth=1, \n",
    "        marker = 'h', markerfacecolor='none', markeredgewidth=2.8, markersize = 9, label = 'Sim. Four' )\n",
    "\n",
    "ax11.plot( cycle_interpo, pred_sim_Z_logic_error, color = 'black', linestyle = \"dashed\", linewidth=1.8)\n",
    "#----------------------------------------------------------------------------------------------\n",
    "\n",
    "handles, labels = ax11.get_legend_handles_labels()\n",
    "\n",
    "ax11.text(4.5, 0.15, \"Logical Z basis\", fontsize=f'{fontsize}', color='black', ha='center', va='bottom')\n",
    "\n",
    "ax11.set_xlabel(r'QEC cycle, $t$', labelpad = 3) \n",
    "ax11.set_ylabel(r'Logical error probability, $P_L(t)$', labelpad = 3) \n",
    "\n",
    "\n",
    "#---------------------------------------------------------------------------\n",
    "ax21.set_xlim(0, 7.2)\n",
    "ax21.xaxis.set_major_locator(ticker.MultipleLocator(1))\n",
    "ax21.yaxis.set_tick_params(labelleft=False)\n",
    "ax21.set_ylim(0, 1)\n",
    "\n",
    "##---------------------------------------------------------------------------\n",
    "ax21.plot( cycle_t, sim_X_logic_error[\"DD\"], color = 'green', linestyle = \"\", linewidth=1, \n",
    "        marker = 'h', markerfacecolor='none', markeredgewidth=2.8, markersize = 9, label = 'Sim. Four' )\n",
    "\n",
    "ax21.plot( cycle_interpo, pred_sim_X_logic_error, color = 'black', linestyle = \"dashed\", linewidth=1.8)\n",
    "##---------------------------------------------------------------------------\n",
    "\n",
    "ax21.text(4.5, 0.15, \"Logical X basis\", fontsize=f'{fontsize}', color='black', ha='center', va='bottom')\n",
    "\n",
    "ax21.set_xlabel(r'QEC cycle, $t$', labelpad = 3) \n",
    "\n",
    "plt.subplots_adjust(left = 0.07, bottom = 0.12, top = 0.83, right = 0.99,  hspace = 0.0, wspace = 0.1) \n",
    "plt.show()"
   ]
  },
  {
   "cell_type": "code",
   "execution_count": null,
   "id": "27939f76-6c70-4bff-b0e8-d0f4051f573d",
   "metadata": {},
   "outputs": [],
   "source": []
  },
  {
   "cell_type": "code",
   "execution_count": null,
   "id": "819ca67e-6fb0-4978-8137-a734eea13d1c",
   "metadata": {},
   "outputs": [],
   "source": []
  },
  {
   "cell_type": "code",
   "execution_count": null,
   "id": "65e1abba-f59b-446e-8278-cb8afe417bf2",
   "metadata": {},
   "outputs": [],
   "source": []
  },
  {
   "cell_type": "code",
   "execution_count": null,
   "id": "bd7f8d3f-bfb7-4389-aae7-d86b9b724524",
   "metadata": {},
   "outputs": [],
   "source": []
  },
  {
   "cell_type": "code",
   "execution_count": null,
   "id": "567cdedb-997f-419f-9757-b84fc6f45283",
   "metadata": {},
   "outputs": [],
   "source": []
  },
  {
   "cell_type": "code",
   "execution_count": null,
   "id": "dae16239-9fdd-4152-b2cb-8aa4eb64b477",
   "metadata": {},
   "outputs": [],
   "source": []
  },
  {
   "cell_type": "code",
   "execution_count": null,
   "id": "208ebb95-950e-41ec-8890-2eaec6a6ac23",
   "metadata": {},
   "outputs": [],
   "source": []
  }
 ],
 "metadata": {
  "kernelspec": {
   "display_name": "QEC",
   "language": "python",
   "name": "qec"
  },
  "language_info": {
   "codemirror_mode": {
    "name": "ipython",
    "version": 3
   },
   "file_extension": ".py",
   "mimetype": "text/x-python",
   "name": "python",
   "nbconvert_exporter": "python",
   "pygments_lexer": "ipython3",
   "version": "3.11.9"
  }
 },
 "nbformat": 4,
 "nbformat_minor": 5
}
