{
 "cells": [
  {
   "cell_type": "code",
   "execution_count": 40,
   "id": "36523053-73fc-4061-80a9-e3be7e0ad1ff",
   "metadata": {},
   "outputs": [],
   "source": [
    "import multiprocessing as mp\n",
    "import subprocess\n",
    "import sys\n",
    "import os\n",
    "import itertools\n",
    "\n",
    "from scipy.io import savemat\n",
    "from scipy.io import loadmat"
   ]
  },
  {
   "cell_type": "code",
   "execution_count": 41,
   "id": "95a110bf-f1c2-4890-8446-87d15ebb068c",
   "metadata": {},
   "outputs": [],
   "source": [
    "import numpy as np"
   ]
  },
  {
   "cell_type": "code",
   "execution_count": 47,
   "id": "6a184970-07b3-41a1-8c7f-ec6cbdb2b0f3",
   "metadata": {},
   "outputs": [],
   "source": [
    "mp.cpu_count()\n",
    "max_num_cycles = 6 ;"
   ]
  },
  {
   "cell_type": "code",
   "execution_count": null,
   "id": "6faf2fdf-57b0-4f6d-aaf0-8d66d5fd1693",
   "metadata": {},
   "outputs": [],
   "source": []
  },
  {
   "cell_type": "markdown",
   "id": "99b78176-34f9-45a4-b70c-3fbd33ebe3ca",
   "metadata": {},
   "source": [
    "## Pauli+ simulation"
   ]
  },
  {
   "cell_type": "code",
   "execution_count": 48,
   "id": "d7b1932e-e29f-43b5-817a-c4577d7c39af",
   "metadata": {},
   "outputs": [],
   "source": [
    "set_basis_type = [\"Z\", \"X\"];\n",
    "set_num_cycles = range(6, max_num_cycles+1)\n",
    "\n",
    "set_error_rate_RO_to_Data = [0.02, 0.025, 0.03, 0.035] ;\n",
    "set_error_crosstalk_plus =  [0.0005, 0.001, 0.0015, 0.002, 0.0025 ] ;\n",
    "\n",
    "args = [(basis, cycle, error_rate_RO_to_Data, error_crosstalk_plus) for basis in set_basis_type for cycle in set_num_cycles \\\n",
    "        for error_rate_RO_to_Data in set_error_rate_RO_to_Data for error_crosstalk_plus in set_error_crosstalk_plus   ]"
   ]
  },
  {
   "cell_type": "code",
   "execution_count": null,
   "id": "0c942788-5290-475b-b070-23a6ffcf6ca6",
   "metadata": {},
   "outputs": [],
   "source": []
  },
  {
   "cell_type": "code",
   "execution_count": 49,
   "id": "aa1e8a41-838b-49ea-9264-bd9f5cf46cc3",
   "metadata": {},
   "outputs": [],
   "source": [
    "script = \"PauliPlus_simulation.py\"\n",
    "\n",
    "def run_PauliPlus_sim(basis_type, num_cycles, error_rate_RO_to_Data, error_crosstalk_plus):\n",
    "    subprocess.run([sys.executable, script, str(basis_type), str(num_cycles), str(error_rate_RO_to_Data), str(error_crosstalk_plus)  ])\n",
    "\n",
    "with mp.Pool(processes = 120) as pool:\n",
    "    pool.starmap(run_PauliPlus_sim, args)"
   ]
  },
  {
   "cell_type": "code",
   "execution_count": null,
   "id": "53056355-56b3-4936-9abb-76b0f81f7d2d",
   "metadata": {},
   "outputs": [],
   "source": []
  },
  {
   "cell_type": "markdown",
   "id": "cc864426-e110-4c59-847d-d7d7c3c6b1cc",
   "metadata": {},
   "source": [
    "## Error decoding"
   ]
  },
  {
   "cell_type": "code",
   "execution_count": 19,
   "id": "0cf02a9c-f170-48ed-b3ee-efaed66c7c44",
   "metadata": {},
   "outputs": [],
   "source": [
    "args2 = list(itertools.product(set_basis_type, set_num_cycles)) ;"
   ]
  },
  {
   "cell_type": "code",
   "execution_count": 39,
   "id": "902c535c-1a2e-43e3-bdef-be66e5b30427",
   "metadata": {
    "scrolled": true
   },
   "outputs": [],
   "source": [
    "# script2 = \"Error_correction.py\"\n",
    "\n",
    "# def run_error_decoding(basis_type, num_cycles):\n",
    "#     subprocess.run([sys.executable, script2, str(basis_type), str(num_cycles) ])\n",
    "\n",
    "# with mp.Pool(processes = 120) as pool:\n",
    "#     pool.starmap(run_error_decoding, args2)"
   ]
  },
  {
   "cell_type": "code",
   "execution_count": null,
   "id": "1682e4b5-52e3-47f8-a025-3da0013c40ea",
   "metadata": {},
   "outputs": [],
   "source": []
  },
  {
   "cell_type": "code",
   "execution_count": null,
   "id": "c276c126-8196-4980-ab89-237fcbb49a15",
   "metadata": {},
   "outputs": [],
   "source": []
  },
  {
   "cell_type": "code",
   "execution_count": null,
   "id": "e16f43ff-cfea-4b20-bd0b-bf605539b61a",
   "metadata": {},
   "outputs": [],
   "source": []
  },
  {
   "cell_type": "code",
   "execution_count": null,
   "id": "500f29e4-066e-410a-8830-b996d5389052",
   "metadata": {},
   "outputs": [],
   "source": []
  },
  {
   "cell_type": "code",
   "execution_count": null,
   "id": "fe858ddd-f941-43a0-9053-4cb67805480a",
   "metadata": {},
   "outputs": [],
   "source": []
  },
  {
   "cell_type": "code",
   "execution_count": null,
   "id": "ec33e6bf-08e5-4111-825b-b78f27c45c07",
   "metadata": {},
   "outputs": [],
   "source": []
  },
  {
   "cell_type": "code",
   "execution_count": null,
   "id": "5a25c52a-f11d-4084-86d0-c327b153a142",
   "metadata": {},
   "outputs": [],
   "source": []
  }
 ],
 "metadata": {
  "kernelspec": {
   "display_name": "QEC",
   "language": "python",
   "name": "qec"
  },
  "language_info": {
   "codemirror_mode": {
    "name": "ipython",
    "version": 3
   },
   "file_extension": ".py",
   "mimetype": "text/x-python",
   "name": "python",
   "nbconvert_exporter": "python",
   "pygments_lexer": "ipython3",
   "version": "3.11.9"
  }
 },
 "nbformat": 4,
 "nbformat_minor": 5
}
