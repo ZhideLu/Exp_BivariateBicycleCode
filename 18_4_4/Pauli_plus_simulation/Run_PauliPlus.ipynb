{
 "cells": [
  {
   "cell_type": "code",
   "execution_count": 33,
   "id": "36523053-73fc-4061-80a9-e3be7e0ad1ff",
   "metadata": {},
   "outputs": [
    {
     "name": "stdout",
     "output_type": "stream",
     "text": [
      "The history saving thread hit an unexpected error (OperationalError('attempt to write a readonly database')).History will not be written to the database.\n"
     ]
    }
   ],
   "source": [
    "import multiprocessing as mp\n",
    "import subprocess\n",
    "import sys\n",
    "import os\n",
    "import itertools\n",
    "\n",
    "from scipy.io import savemat\n",
    "from scipy.io import loadmat"
   ]
  },
  {
   "cell_type": "code",
   "execution_count": 34,
   "id": "95a110bf-f1c2-4890-8446-87d15ebb068c",
   "metadata": {},
   "outputs": [],
   "source": [
    "import numpy as np"
   ]
  },
  {
   "cell_type": "code",
   "execution_count": 35,
   "id": "6a184970-07b3-41a1-8c7f-ec6cbdb2b0f3",
   "metadata": {},
   "outputs": [],
   "source": [
    "mp.cpu_count()\n",
    "max_num_cycles = 6 ;"
   ]
  },
  {
   "cell_type": "code",
   "execution_count": null,
   "id": "6faf2fdf-57b0-4f6d-aaf0-8d66d5fd1693",
   "metadata": {},
   "outputs": [],
   "source": []
  },
  {
   "cell_type": "markdown",
   "id": "99b78176-34f9-45a4-b70c-3fbd33ebe3ca",
   "metadata": {},
   "source": [
    "## Pauli+ simulation"
   ]
  },
  {
   "cell_type": "code",
   "execution_count": 36,
   "id": "d7b1932e-e29f-43b5-817a-c4577d7c39af",
   "metadata": {},
   "outputs": [],
   "source": [
    "set_basis_type = [\"Z\", \"X\"];\n",
    "set_num_cycles = range(1, max_num_cycles+1)\n",
    "\n",
    "args = [(basis, cycle) for basis in set_basis_type for cycle in set_num_cycles  ]"
   ]
  },
  {
   "cell_type": "code",
   "execution_count": null,
   "id": "0c942788-5290-475b-b070-23a6ffcf6ca6",
   "metadata": {},
   "outputs": [],
   "source": []
  },
  {
   "cell_type": "code",
   "execution_count": 37,
   "id": "aa1e8a41-838b-49ea-9264-bd9f5cf46cc3",
   "metadata": {},
   "outputs": [],
   "source": [
    "script = \"PauliPlus_simulation.py\"\n",
    "\n",
    "def run_PauliPlus_sim(basis_type, num_cycles):\n",
    "    subprocess.run([sys.executable, script, str(basis_type), str(num_cycles)])\n",
    "\n",
    "with mp.Pool(processes = 140) as pool:\n",
    "    pool.starmap(run_PauliPlus_sim, args)"
   ]
  },
  {
   "cell_type": "code",
   "execution_count": null,
   "id": "53056355-56b3-4936-9abb-76b0f81f7d2d",
   "metadata": {},
   "outputs": [],
   "source": []
  },
  {
   "cell_type": "markdown",
   "id": "cc864426-e110-4c59-847d-d7d7c3c6b1cc",
   "metadata": {},
   "source": [
    "## Error decoding"
   ]
  },
  {
   "cell_type": "code",
   "execution_count": 38,
   "id": "0cf02a9c-f170-48ed-b3ee-efaed66c7c44",
   "metadata": {},
   "outputs": [],
   "source": [
    "args2 = list(itertools.product(set_basis_type, set_num_cycles)) ;"
   ]
  },
  {
   "cell_type": "code",
   "execution_count": 39,
   "id": "902c535c-1a2e-43e3-bdef-be66e5b30427",
   "metadata": {
    "scrolled": true
   },
   "outputs": [
    {
     "name": "stdout",
     "output_type": "stream",
     "text": [
      "error correction for logical Z basis:\n",
      "Logical error over 2 cycles (four logical qubits): 0.19580336866010595\n",
      "Logical error over 2 cycles (single logical qubit): [0.10285768 0.10205337 0.11220193 0.10576741]\n",
      "error correction for logical X basis:\n",
      "Logical error over 2 cycles (four logical qubits): 0.18959435626102294\n",
      "Logical error over 2 cycles (single logical qubit): [0.10829877 0.10868011 0.09897993 0.0953811 ]\n",
      "error correction for logical Z basis:\n",
      "Logical error over 3 cycles (four logical qubits): 0.43617732234350637\n",
      "Logical error over 3 cycles (single logical qubit): [0.23321205 0.22546472 0.24593451 0.23739511]\n",
      "error correction for logical X basis:\n",
      "Logical error over 3 cycles (four logical qubits): 0.4653182777019481\n",
      "Logical error over 3 cycles (single logical qubit): [0.26164537 0.26194317 0.24680481 0.2402035 ]\n",
      "error correction for logical Z basis:\n",
      "Logical error over 4 cycles (four logical qubits): 0.6097526029229152\n",
      "Logical error over 4 cycles (single logical qubit): [0.3231684  0.3198252  0.33916802 0.33283981]\n",
      "error correction for logical X basis:\n",
      "Logical error over 4 cycles (four logical qubits): 0.6495752932498988\n",
      "Logical error over 4 cycles (single logical qubit): [0.36167884 0.35349402 0.34616574 0.33983678]\n",
      "error correction for logical Z basis:\n",
      "Logical error over 5 cycles (four logical qubits): 0.7304320740444088\n",
      "Logical error over 5 cycles (single logical qubit): [0.39095804 0.38203622 0.39905665 0.39720999]\n",
      "error correction for logical X basis:\n",
      "Logical error over 5 cycles (four logical qubits): 0.7688793750275853\n",
      "Logical error over 5 cycles (single logical qubit): [0.425939   0.41920819 0.40691618 0.40122258]\n",
      "error correction for logical Z basis:\n",
      "Logical error over 6 cycles (four logical qubits): 0.8040787267758308\n",
      "Logical error over 6 cycles (single logical qubit): [0.43180305 0.42461475 0.4355924  0.42874859]\n",
      "error correction for logical X basis:\n",
      "Logical error over 6 cycles (four logical qubits): 0.8377703826955075\n",
      "Logical error over 6 cycles (single logical qubit): [0.45165465 0.45530597 0.44331207 0.43912923]\n",
      "error correction for logical Z basis:\n",
      "Logical error over 7 cycles (four logical qubits): 0.8528373497663599\n",
      "Logical error over 7 cycles (single logical qubit): [0.45666946 0.45464934 0.45907727 0.46368886]\n",
      "error correction for logical X basis:\n",
      "Logical error over 7 cycles (four logical qubits): 0.8785441713511961\n",
      "Logical error over 7 cycles (single logical qubit): [0.47384186 0.47367773 0.4699643  0.46200402]\n"
     ]
    }
   ],
   "source": [
    "script2 = \"Error_correction.py\"\n",
    "\n",
    "def run_error_decoding(basis_type, num_cycles):\n",
    "    subprocess.run([sys.executable, script2, str(basis_type), str(num_cycles) ])\n",
    "\n",
    "with mp.Pool(processes = 120) as pool:\n",
    "    pool.starmap(run_error_decoding, args2)"
   ]
  },
  {
   "cell_type": "code",
   "execution_count": null,
   "id": "1682e4b5-52e3-47f8-a025-3da0013c40ea",
   "metadata": {},
   "outputs": [],
   "source": []
  },
  {
   "cell_type": "code",
   "execution_count": null,
   "id": "c276c126-8196-4980-ab89-237fcbb49a15",
   "metadata": {},
   "outputs": [],
   "source": []
  },
  {
   "cell_type": "code",
   "execution_count": null,
   "id": "e16f43ff-cfea-4b20-bd0b-bf605539b61a",
   "metadata": {},
   "outputs": [],
   "source": []
  },
  {
   "cell_type": "code",
   "execution_count": null,
   "id": "500f29e4-066e-410a-8830-b996d5389052",
   "metadata": {},
   "outputs": [],
   "source": []
  },
  {
   "cell_type": "code",
   "execution_count": null,
   "id": "fe858ddd-f941-43a0-9053-4cb67805480a",
   "metadata": {},
   "outputs": [],
   "source": []
  },
  {
   "cell_type": "code",
   "execution_count": null,
   "id": "ec33e6bf-08e5-4111-825b-b78f27c45c07",
   "metadata": {},
   "outputs": [],
   "source": []
  },
  {
   "cell_type": "code",
   "execution_count": null,
   "id": "5a25c52a-f11d-4084-86d0-c327b153a142",
   "metadata": {},
   "outputs": [],
   "source": []
  }
 ],
 "metadata": {
  "kernelspec": {
   "display_name": "QEC",
   "language": "python",
   "name": "qec"
  },
  "language_info": {
   "codemirror_mode": {
    "name": "ipython",
    "version": 3
   },
   "file_extension": ".py",
   "mimetype": "text/x-python",
   "name": "python",
   "nbconvert_exporter": "python",
   "pygments_lexer": "ipython3",
   "version": "3.11.9"
  }
 },
 "nbformat": 4,
 "nbformat_minor": 5
}
