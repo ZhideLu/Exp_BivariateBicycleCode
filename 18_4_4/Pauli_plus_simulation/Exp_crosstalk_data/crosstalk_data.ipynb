{
 "cells": [
  {
   "cell_type": "code",
   "execution_count": 22,
   "id": "b37a80ba-bd7d-4617-b66e-b38b97300470",
   "metadata": {},
   "outputs": [],
   "source": [
    "import numpy as np\n",
    "from itertools import product\n",
    "import pickle\n",
    "from tools_for_pauli_plus import *\n",
    "sys.path.append(os.path.abspath(\"../../\"))\n",
    "from functions_BB_code import distance_test, rank2, get_connection_Tanner, get_layout\n",
    "num_level2 = 3 ;"
   ]
  },
  {
   "cell_type": "code",
   "execution_count": null,
   "id": "8af25088-3c14-49d2-878e-7f6f60e0c152",
   "metadata": {},
   "outputs": [],
   "source": []
  },
  {
   "cell_type": "markdown",
   "id": "abdec025-00ce-42d1-8fe6-8ed3cd5f2f2a",
   "metadata": {},
   "source": [
    "## Package"
   ]
  },
  {
   "cell_type": "code",
   "execution_count": 23,
   "id": "9b168b4e-d36d-4fce-8d1b-d64dedf9c008",
   "metadata": {},
   "outputs": [],
   "source": [
    "# def f_locate(q, p): return [p.index('q_' + x) for x in q]\n",
    "def f_locate(a, b):\n",
    "    return [b.index(x) for x in a]\n",
    "    \n",
    "def average_GPC(num_qubits: int, GPC_list):\n",
    "    channel = LeakyPauliChannel(is_single_qubit_channel=num_qubits == 1)\n",
    "    for i in [0,1,16,17]:\n",
    "        for j in [0,1,16,17]:\n",
    "            for k in range(4**num_qubits):\n",
    "                temp = np.mean([qq.get_prob_from_to(i, j, k) for qq in GPC_list])\n",
    "                channel.add_transition(i, j, k, temp)\n",
    "    return channel\n",
    "\n",
    "def merge_GPC(num_qubits: int, GPC_list):\n",
    "    len_ = len(GPC_list) ;\n",
    "    channel = LeakyPauliChannel(is_single_qubit_channel=num_qubits == 1)\n",
    "    for i in [0,1,16,17]:\n",
    "        temp2 = np.sum([qq.get_prob_from_to(i, i, 0) for qq in GPC_list])\n",
    "        # print(temp2-len_+1)\n",
    "        channel.add_transition(i, i, 0, temp2-len_+1)\n",
    "        \n",
    "        for m in range(1, 4**num_qubits):\n",
    "            temp = np.sum([qq.get_prob_from_to(i, i, m) for qq in GPC_list])\n",
    "            channel.add_transition(i, i, m, temp)\n",
    "    \n",
    "        for j in [x for x in [0, 1, 16, 17] if x != i]:\n",
    "            for k in range(4**num_qubits):\n",
    "                temp = np.sum([qq.get_prob_from_to(i, j, k) for qq in GPC_list])\n",
    "                channel.add_transition(i, j, k, temp)\n",
    "    return channel\n",
    "\n",
    "import re\n",
    "mapping = {'R': 'data_right', 'L': 'data_left', 'X': 'Xcheck', 'Z': 'Zcheck'}\n",
    "\n",
    "def convert_key(old_key):\n",
    "    new_key = []\n",
    "    for item in old_key:\n",
    "        match = re.match(r'q_([A-Z])(\\d+)', item)\n",
    "        if match:\n",
    "            letter, num = match.groups()\n",
    "            new_key.append((mapping[letter], int(num)))\n",
    "        else:\n",
    "            new_key.append(item)\n",
    "    return tuple(new_key)\n",
    "\n",
    "def convert_key2(old_key):\n",
    "    new_key = []\n",
    "    for item in old_key:\n",
    "        match = re.match(r'([A-Z])(\\d+)', item)\n",
    "        if match:\n",
    "            letter, num = match.groups()\n",
    "            new_key.append((mapping[letter], int(num)))\n",
    "        else:\n",
    "            new_key.append(item)\n",
    "    return tuple(new_key)\n",
    "    \n",
    "def convert_item(item):\n",
    "\n",
    "    match = re.match(r'c_([A-Z]\\d+)_([A-Z]\\d+)', item)\n",
    "    if not match:\n",
    "        return item \n",
    "    \n",
    "    part1, part2 = match.groups()\n",
    "    \n",
    "    letter1, num1 = part1[0], int(part1[1:])\n",
    "    part1_new = (mapping[letter1], num1)\n",
    "    \n",
    "    letter2, num2 = part2[0], int(part2[1:])\n",
    "    part2_new = (mapping[letter2], num2)\n",
    "    \n",
    "    return (part1_new, part2_new)\n",
    "\n",
    "def find_key_by_value(d, value, type_):\n",
    "    if type_ == \"CZ\" :\n",
    "        for k, v in d.items():\n",
    "            if value in v:\n",
    "                return k\n",
    "            if (value[1], value[0]) in v:\n",
    "                return k\n",
    " \n",
    "    if type_ == \"SQ\" :\n",
    "        for k, v in d.items():\n",
    "            if value == v:\n",
    "                return k\n",
    "            if (value[1], value[0]) == v:\n",
    "                return k\n",
    "    return None          "
   ]
  },
  {
   "cell_type": "code",
   "execution_count": 24,
   "id": "5b78c968-ea91-42af-9e5a-5366e96d541c",
   "metadata": {},
   "outputs": [],
   "source": [
    "# CZ layers\n",
    "# [[18, 4, 4]]\n",
    "ell,m = 3, 3 ; a1,a2,a3 = 1, 0, 2 ; b1,b2,b3 = 1, 0, 2\n",
    "n = 2*m*ell;  n2 = m*ell ; remove_X_list = [2,8] ;  remove_Z_list = [3,4] ;\n",
    "sX = ['idle', 'idle', 1, 4, 3, 5, 0, 2] ; sZ = ['idle', 3, 5, 0, 1, 2, 4, 'idle'] ;\n",
    "lin_order, data_qubits, Xchecks, Zchecks, nbs = get_connection_Tanner(remove_X_list, remove_Z_list, n2)\n",
    "\n",
    "CZ_layers = {} ;\n",
    "t = 1\n",
    "for target in Zchecks:\n",
    "    direction = sZ[t] ; control = nbs[(target,direction)]\n",
    "    CZ_layers.setdefault(t, []).append((control,target))\n",
    "##----------------------------------------------------------------------------------------------------------------------\n",
    "t = 2\n",
    "for control in Xchecks:\n",
    "    direction = sX[t] ; target = nbs[(control,direction)]\n",
    "    CZ_layers.setdefault(t, []).append((control,target))\n",
    "for target in Zchecks:\n",
    "    direction = sZ[t] ; control = nbs[(target,direction)] ;\n",
    "    CZ_layers.setdefault(t, []).append((control,target))\n",
    "##----------------------------------------------------------------------------------------------------------------------\n",
    "# round 3-5: \n",
    "for t in range(3,6):\n",
    "    for control in Xchecks:\n",
    "        direction = sX[t] ; target = nbs[(control,direction)]\n",
    "        CZ_layers.setdefault(t, []).append((control,target))\n",
    "    for target in Zchecks:\n",
    "        direction = sZ[t] ; control = nbs[(target,direction)] ;\n",
    "        CZ_layers.setdefault(t, []).append((control,target))\n",
    "##----------------------------------------------------------------------------------------------------------------------\n",
    "t = 6\n",
    "for control in Xchecks:\n",
    "    direction = sX[t] ;target = nbs[(control,direction)]\n",
    "    CZ_layers.setdefault(t, []).append((control,target))\n",
    "for target in Zchecks:\n",
    "    direction = sZ[t] ; control = nbs[(target,direction)] ;\n",
    "    CZ_layers.setdefault(t, []).append((control,target))\n",
    "##----------------------------------------------------------------------------------------------------------------------\n",
    "# round 7: \n",
    "t = 7\n",
    "for control in Xchecks:\n",
    "    direction = sX[t] ; target = nbs[(control,direction)]\n",
    "    CZ_layers.setdefault(t, []).append((control,target))\n",
    "# CZ_layers = {val: key for key, values in CZ_layers.items() for val in values }"
   ]
  },
  {
   "cell_type": "markdown",
   "id": "2fc22b3a-fb81-444f-bd25-8fca22858403",
   "metadata": {},
   "source": [
    "## Crosstalk between CZ"
   ]
  },
  {
   "cell_type": "code",
   "execution_count": 27,
   "id": "8d79c47e-c6e7-41c0-9945-a0507b116d39",
   "metadata": {},
   "outputs": [],
   "source": [
    "from crosstalk_pair import crosstalk_pair\n",
    "crosstalk_pair = { tuple(convert_item(x) for x in k): [convert_key2(t) for t in v]  for k, v in crosstalk_pair.items() }"
   ]
  },
  {
   "cell_type": "code",
   "execution_count": 28,
   "id": "f0aca155-6496-407f-bfa3-720e46c8e784",
   "metadata": {},
   "outputs": [],
   "source": [
    "with open('Exp_data/crosstalk_result_UI.pkl', 'rb') as f:\n",
    "    crosstalk_result = pickle.load(f)\n",
    "crosstalk_result = {  tuple(convert_item(x) for x in k): v for k, v in crosstalk_result.items() }\n",
    "crosstalk_result = {  k: {'U_I': v['U_I'], 'order': [convert_key([p])[0] for p in v['order'] ] } for k, v in crosstalk_result.items() }"
   ]
  },
  {
   "cell_type": "code",
   "execution_count": null,
   "id": "6a9db94b-ca56-4144-a17e-890634e973e8",
   "metadata": {
    "scrolled": true
   },
   "outputs": [],
   "source": []
  },
  {
   "cell_type": "code",
   "execution_count": null,
   "id": "635acbae-e8cf-491e-8a98-7ce8a95a79de",
   "metadata": {},
   "outputs": [],
   "source": [
    "# key = ( (('data_right', 0), ('Zcheck', 0)), (('data_right', 2), ('Zcheck',2)) )\n",
    "# crosstalk_result[key]['order']"
   ]
  },
  {
   "cell_type": "code",
   "execution_count": null,
   "id": "eabce315-1394-447f-944d-4803432d3d3a",
   "metadata": {},
   "outputs": [],
   "source": []
  },
  {
   "cell_type": "code",
   "execution_count": 6,
   "id": "90b3b73e-0e9e-4f6d-ac3b-5e912317da31",
   "metadata": {},
   "outputs": [],
   "source": [
    "set_crosstalk_gpc = {} ;\n",
    "\n",
    "basis_states = list(product([0,1,2], repeat = 4))\n",
    "state_to_index = {state: idx for idx, state in enumerate(basis_states)}\n",
    "\n",
    "for key, value in crosstalk_result.items():\n",
    "    arr = crosstalk_result[key]['U_I']\n",
    "    \n",
    "    for pair in crosstalk_pair[key]:\n",
    "        a = f_locate( pair, crosstalk_result[key][\"order\"] )\n",
    "        s1 = a[0] ; s2 = a[1] ; \n",
    "        \n",
    "        positions = sorted({0, 1, 2, 3} - {s1, s2})\n",
    "        state = [0, 0, 0, 0]\n",
    "\n",
    "        channel_list = [] ;\n",
    "        for temp in list(product([0,1], repeat = 2)) :\n",
    "            state[positions[0]] = temp[0] ;  state[positions[1]] = temp[1] \n",
    "            indices = []\n",
    "            \n",
    "            for temp2 in list(product([0,1,2], repeat = 2)) :\n",
    "                state[s1] = temp2[0] ; state[s2] = temp2[1] ;\n",
    "                indices.append(state_to_index[tuple(state)])\n",
    "            \n",
    "            sub = arr[np.ix_(indices, indices)]\n",
    "            channel_list.append( kraus_to_leaky_pauli_channel([sub], 2, 3) )\n",
    "            # print(kraus_to_leaky_pauli_channel([sub], 2, 3).get_prob_from_to(0, 0, 0) )\n",
    "        if s1 < s2 :\n",
    "            index = (crosstalk_result[key][\"order\"][s1],crosstalk_result[key][\"order\"][s2])\n",
    "            set_crosstalk_gpc.setdefault(index, []).append(average_GPC(2, channel_list))\n",
    "        else:\n",
    "            index = (crosstalk_result[key][\"order\"][s2],crosstalk_result[key][\"order\"][s1])\n",
    "            set_crosstalk_gpc.setdefault(index, []).append(average_GPC(2, channel_list))\n",
    "\n",
    "set_crosstalk_gpc = {key: merge_GPC(2, lpc) for key, lpc in set_crosstalk_gpc.items()}"
   ]
  },
  {
   "cell_type": "code",
   "execution_count": null,
   "id": "7e7e91ec-c708-47af-9f8f-9cbef0d9c63c",
   "metadata": {},
   "outputs": [],
   "source": []
  },
  {
   "cell_type": "code",
   "execution_count": 7,
   "id": "65f4411e-6d8e-4e01-b527-1a2e48b05a4d",
   "metadata": {},
   "outputs": [
    {
     "data": {
      "text/plain": [
       "array([2.75600071e-06, 3.84177599e-06, 4.02513477e-06, 5.09307948e-06,\n",
       "       5.18116519e-06, 5.78390621e-06, 6.41857736e-06, 1.14371229e-05,\n",
       "       1.29890464e-05, 1.48266437e-05, 1.76206258e-05, 1.99004315e-05,\n",
       "       2.02156692e-05, 2.27067104e-05, 2.73179190e-05, 3.07588479e-05,\n",
       "       3.47536577e-05, 3.95582935e-05, 4.08053942e-05, 4.55359844e-05,\n",
       "       4.89082780e-05, 5.62985606e-05, 5.64810930e-05, 6.90675204e-05,\n",
       "       9.03155178e-05, 1.07741195e-04, 1.07822340e-04, 1.29419388e-04,\n",
       "       1.41678278e-04, 1.46841914e-04, 1.50084156e-04, 1.51698357e-04,\n",
       "       1.67001017e-04, 1.77013795e-04, 1.94685453e-04, 1.99742782e-04,\n",
       "       2.06860031e-04, 2.07541027e-04, 2.15506249e-04, 2.16875483e-04,\n",
       "       2.45599636e-04, 2.66599928e-04, 2.86367135e-04, 2.97017887e-04,\n",
       "       3.10739351e-04, 3.24063577e-04, 3.29507870e-04, 3.81574930e-04,\n",
       "       3.85348355e-04, 4.32044734e-04, 4.47983343e-04, 7.37524878e-04,\n",
       "       1.07987908e-03, 1.21204051e-03, 1.34733783e-03, 1.35246825e-03,\n",
       "       6.10326085e-03])"
      ]
     },
     "execution_count": 7,
     "metadata": {},
     "output_type": "execute_result"
    }
   ],
   "source": [
    "set_error_crosstalk = []\n",
    "for key, gpc in set_crosstalk_gpc.items():\n",
    "    set_error_crosstalk.append(1 - gpc.get_prob_from_to(0, 0, 0))\n",
    "np.sort( set_error_crosstalk ) "
   ]
  },
  {
   "cell_type": "code",
   "execution_count": 8,
   "id": "748fde13-0bbc-468e-a9c8-c35c061edcc4",
   "metadata": {},
   "outputs": [
    {
     "data": {
      "text/plain": [
       "0.00032899064158219745"
      ]
     },
     "execution_count": 8,
     "metadata": {},
     "output_type": "execute_result"
    }
   ],
   "source": [
    "np.mean(set_error_crosstalk)"
   ]
  },
  {
   "cell_type": "code",
   "execution_count": 9,
   "id": "fd4f1be0-a8bc-49c9-b6a4-a9afc03963a7",
   "metadata": {
    "scrolled": true
   },
   "outputs": [],
   "source": [
    "order_crosstalk_gpc = {}\n",
    "for key, value in set_crosstalk_gpc.items():\n",
    "    temp = find_key_by_value(crosstalk_pair, key, \"CZ\")\n",
    "    order_crosstalk_gpc.setdefault(find_key_by_value(CZ_layers ,temp[0], \"CZ\"), []).append( key )"
   ]
  },
  {
   "cell_type": "code",
   "execution_count": null,
   "id": "bab85fd4-beae-495f-b657-886427e733f2",
   "metadata": {
    "scrolled": true
   },
   "outputs": [],
   "source": [
    "# order_crosstalk_gpc"
   ]
  },
  {
   "cell_type": "code",
   "execution_count": null,
   "id": "3061cc73-5cff-4249-9d6c-a7dd7ed1dcc1",
   "metadata": {},
   "outputs": [],
   "source": []
  },
  {
   "cell_type": "code",
   "execution_count": null,
   "id": "35520ee6-3ed6-413a-b74f-a18f350544d3",
   "metadata": {},
   "outputs": [],
   "source": [
    "# set_crosstalk_gpc \n",
    "# crosstalk_pair\n",
    "# crosstalk_result"
   ]
  },
  {
   "cell_type": "code",
   "execution_count": null,
   "id": "fa2f55c9-eaae-4008-a165-ac872fcfcfaa",
   "metadata": {
    "scrolled": true
   },
   "outputs": [],
   "source": []
  },
  {
   "cell_type": "code",
   "execution_count": null,
   "id": "54a67633-136b-44c4-886b-89137e6abca3",
   "metadata": {},
   "outputs": [],
   "source": [
    "# real_part[np.abs(real_part) < 1e-6] = 0\n",
    "# imag_part[np.abs(imag_part) < 1e-6] = 0\n",
    "# (cleaned_arr @ cleaned_arr.conj().T).diagonal()"
   ]
  },
  {
   "cell_type": "code",
   "execution_count": null,
   "id": "71145a87-b272-4fc3-a71a-ba1e9a16ae06",
   "metadata": {
    "scrolled": true
   },
   "outputs": [],
   "source": []
  },
  {
   "cell_type": "code",
   "execution_count": null,
   "id": "6f62f8d7-8004-47de-90c9-452c902eb0e8",
   "metadata": {
    "scrolled": true
   },
   "outputs": [],
   "source": [
    "# tt = LeakyPauliChannel(is_single_qubit_channel=False)\n",
    "# tt.add_transition(0, 0, 0, 0.7)\n",
    "# np.sort(cross_avg.ravel())[:-9]"
   ]
  },
  {
   "cell_type": "code",
   "execution_count": null,
   "id": "df876201-b34f-48b5-9d77-556ceecb1b17",
   "metadata": {
    "scrolled": true
   },
   "outputs": [],
   "source": []
  },
  {
   "cell_type": "markdown",
   "id": "9331c04d-e519-418b-b7d2-9e23895f8232",
   "metadata": {},
   "source": [
    "## Crosstalk between CZ and SQ"
   ]
  },
  {
   "cell_type": "code",
   "execution_count": 29,
   "id": "8f6d1f91-dc20-41d5-846a-f7f09409ae31",
   "metadata": {},
   "outputs": [],
   "source": [
    "from crosstalk_pair_SQ import crosstalk_pair_SQ\n",
    "crosstalk_pair_SQ = { tuple(convert_item(x) for x in k): convert_key2(v)  for k, v in crosstalk_pair_SQ.items() }\n",
    "with open('Exp_data/crosstalk_result_UI_SQ.pkl', 'rb') as f:\n",
    "    crosstalk_result_SQ = pickle.load(f)\n",
    "crosstalk_result_SQ = {  tuple(convert_item(x) for x in k): v for k, v in crosstalk_result_SQ.items() }\n",
    "crosstalk_result_SQ = {  k: {'U_I': v['U_I'], 'order': \\\n",
    "                             [convert_key([p])[0] for p in v['order'] ] } for k, v in crosstalk_result_SQ.items() }"
   ]
  },
  {
   "cell_type": "code",
   "execution_count": null,
   "id": "4885e6e4-019b-4dcd-8d3e-c089f889236d",
   "metadata": {},
   "outputs": [],
   "source": [
    "# crosstalk_result_SQ[((('Zcheck', 5), ('data_right', 2)), 'q_X5')]['order']"
   ]
  },
  {
   "cell_type": "code",
   "execution_count": null,
   "id": "83a57a6a-5536-49b5-9abb-c8ea5eca378e",
   "metadata": {
    "scrolled": true
   },
   "outputs": [],
   "source": []
  },
  {
   "cell_type": "code",
   "execution_count": 30,
   "id": "0f4b833b-8114-4e00-b0f7-f90fd1dbcf7b",
   "metadata": {},
   "outputs": [],
   "source": [
    "set_crosstalk_gpc_SQ = {} ;\n",
    "\n",
    "basis_states = list(product([0,1,2], repeat = 3))\n",
    "state_to_index = {state: idx for idx, state in enumerate(basis_states)}\n",
    "\n",
    "for key, value in crosstalk_result_SQ.items():\n",
    "    arr = crosstalk_result_SQ[key]['U_I']\n",
    "    \n",
    "    pair = crosstalk_pair_SQ[key] ;\n",
    "    a = f_locate( pair, crosstalk_result_SQ[key][\"order\"] )\n",
    "    s1 = a[0] ; s2 = a[1] ; \n",
    "    \n",
    "    positions = sorted({0, 1, 2} - {s1, s2})\n",
    "    state = [0, 0, 0]\n",
    "\n",
    "    channel_list = [] ;\n",
    "    for temp in [0, 1] :\n",
    "        state[positions[0]] = temp ; \n",
    "        indices = []\n",
    "        \n",
    "        for temp2 in list(product([0,1,2], repeat = 2)) :\n",
    "            state[s1] = temp2[0] ; state[s2] = temp2[1] ;\n",
    "            indices.append(state_to_index[tuple(state)])\n",
    "        \n",
    "        sub = arr[np.ix_(indices, indices)]\n",
    "        channel_list.append( kraus_to_leaky_pauli_channel([sub], 2, 3) )\n",
    "        # print(kraus_to_leaky_pauli_channel([sub], 2, 3).get_prob_from_to(0, 0, 0) )\n",
    "    if s1 < s2 :\n",
    "        index = (crosstalk_result_SQ[key][\"order\"][s1], crosstalk_result_SQ[key][\"order\"][s2])\n",
    "        set_crosstalk_gpc_SQ.setdefault(index, []).append(average_GPC(2, channel_list))\n",
    "    else:\n",
    "        index = (crosstalk_result_SQ[key][\"order\"][s2], crosstalk_result_SQ[key][\"order\"][s1])\n",
    "        set_crosstalk_gpc_SQ.setdefault(index, []).append(average_GPC(2, channel_list))\n",
    "\n",
    "set_crosstalk_gpc_SQ = {key: merge_GPC(2, lpc) for key, lpc in set_crosstalk_gpc_SQ.items()}"
   ]
  },
  {
   "cell_type": "code",
   "execution_count": null,
   "id": "0b90f510-994f-4cf7-9c6e-8ddd3c694198",
   "metadata": {},
   "outputs": [],
   "source": [
    "# len(set_crosstalk_gpc_SQ.keys())\n",
    "# set_crosstalk_gpc_SQ.keys()"
   ]
  },
  {
   "cell_type": "code",
   "execution_count": 12,
   "id": "072cda35-7356-4e74-8b7f-e56d8df9d398",
   "metadata": {
    "scrolled": true
   },
   "outputs": [
    {
     "data": {
      "text/plain": [
       "{(('data_right', 2),\n",
       "  ('Xcheck',\n",
       "   5)): LeakyPauliChannel(is_single_qubit_channel=false, with 0 transitions attached),\n",
       " (('Xcheck', 3),\n",
       "  ('data_left',\n",
       "   5)): LeakyPauliChannel(is_single_qubit_channel=false, with 0 transitions attached),\n",
       " (('Zcheck', 5),\n",
       "  ('data_right',\n",
       "   3)): LeakyPauliChannel(is_single_qubit_channel=false, with 0 transitions attached),\n",
       " (('Xcheck', 5),\n",
       "  ('data_right',\n",
       "   3)): LeakyPauliChannel(is_single_qubit_channel=false, with 0 transitions attached),\n",
       " (('Zcheck', 1),\n",
       "  ('data_left',\n",
       "   4)): LeakyPauliChannel(is_single_qubit_channel=false, with 0 transitions attached),\n",
       " (('Zcheck', 0),\n",
       "  ('data_left',\n",
       "   3)): LeakyPauliChannel(is_single_qubit_channel=false, with 0 transitions attached),\n",
       " (('Zcheck', 2),\n",
       "  ('data_right',\n",
       "   0)): LeakyPauliChannel(is_single_qubit_channel=false, with 0 transitions attached),\n",
       " (('Zcheck', 2),\n",
       "  ('data_left',\n",
       "   5)): LeakyPauliChannel(is_single_qubit_channel=false, with 0 transitions attached),\n",
       " (('data_left', 4),\n",
       "  ('Zcheck',\n",
       "   1)): LeakyPauliChannel(is_single_qubit_channel=false, with 0 transitions attached),\n",
       " (('Xcheck', 1),\n",
       "  ('data_right',\n",
       "   2)): LeakyPauliChannel(is_single_qubit_channel=false, with 0 transitions attached),\n",
       " (('Xcheck', 6),\n",
       "  ('data_left',\n",
       "   8)): LeakyPauliChannel(is_single_qubit_channel=false, with 0 transitions attached),\n",
       " (('Xcheck', 4),\n",
       "  ('data_left',\n",
       "   7)): LeakyPauliChannel(is_single_qubit_channel=false, with 0 transitions attached),\n",
       " (('Xcheck', 5),\n",
       "  ('data_right',\n",
       "   2)): LeakyPauliChannel(is_single_qubit_channel=false, with 0 transitions attached),\n",
       " (('Xcheck', 3),\n",
       "  ('data_right',\n",
       "   0)): LeakyPauliChannel(is_single_qubit_channel=false, with 0 transitions attached),\n",
       " (('Zcheck', 5),\n",
       "  ('data_right',\n",
       "   2)): LeakyPauliChannel(is_single_qubit_channel=false, with 0 transitions attached),\n",
       " (('Zcheck', 0),\n",
       "  ('data_left',\n",
       "   0)): LeakyPauliChannel(is_single_qubit_channel=false, with 0 transitions attached),\n",
       " (('Xcheck', 3),\n",
       "  ('data_right',\n",
       "   4)): LeakyPauliChannel(is_single_qubit_channel=false, with 0 transitions attached),\n",
       " (('Zcheck', 0),\n",
       "  ('data_left',\n",
       "   2)): LeakyPauliChannel(is_single_qubit_channel=false, with 0 transitions attached),\n",
       " (('data_left', 8),\n",
       "  ('Zcheck',\n",
       "   6)): LeakyPauliChannel(is_single_qubit_channel=false, with 0 transitions attached),\n",
       " (('Xcheck', 0),\n",
       "  ('data_left',\n",
       "   2)): LeakyPauliChannel(is_single_qubit_channel=false, with 0 transitions attached),\n",
       " (('Xcheck', 3),\n",
       "  ('data_left',\n",
       "   3)): LeakyPauliChannel(is_single_qubit_channel=false, with 0 transitions attached),\n",
       " (('Xcheck', 7),\n",
       "  ('data_right',\n",
       "   4)): LeakyPauliChannel(is_single_qubit_channel=false, with 0 transitions attached),\n",
       " (('Zcheck', 8),\n",
       "  ('data_right',\n",
       "   5)): LeakyPauliChannel(is_single_qubit_channel=false, with 0 transitions attached),\n",
       " (('Zcheck', 8),\n",
       "  ('data_left',\n",
       "   2)): LeakyPauliChannel(is_single_qubit_channel=false, with 0 transitions attached),\n",
       " (('data_right', 8),\n",
       "  ('Xcheck',\n",
       "   7)): LeakyPauliChannel(is_single_qubit_channel=false, with 0 transitions attached),\n",
       " (('Xcheck', 4),\n",
       "  ('data_right',\n",
       "   5)): LeakyPauliChannel(is_single_qubit_channel=false, with 0 transitions attached),\n",
       " (('Zcheck', 7),\n",
       "  ('data_right',\n",
       "   4)): LeakyPauliChannel(is_single_qubit_channel=false, with 0 transitions attached),\n",
       " (('Xcheck', 4),\n",
       "  ('data_right',\n",
       "   1)): LeakyPauliChannel(is_single_qubit_channel=false, with 0 transitions attached),\n",
       " (('Zcheck', 0),\n",
       "  ('data_right',\n",
       "   6)): LeakyPauliChannel(is_single_qubit_channel=false, with 0 transitions attached),\n",
       " (('Xcheck', 7),\n",
       "  ('data_left',\n",
       "   1)): LeakyPauliChannel(is_single_qubit_channel=false, with 0 transitions attached)}"
      ]
     },
     "execution_count": 12,
     "metadata": {},
     "output_type": "execute_result"
    }
   ],
   "source": [
    "set_crosstalk_gpc_SQ"
   ]
  },
  {
   "cell_type": "code",
   "execution_count": 13,
   "id": "e118c5d1-7869-4e19-9c65-2b182929a486",
   "metadata": {
    "scrolled": true
   },
   "outputs": [],
   "source": [
    "order_crosstalk_gpc_SQ = {}\n",
    "for key, value in set_crosstalk_gpc_SQ.items():\n",
    "    temp = find_key_by_value(crosstalk_pair_SQ, key, \"SQ\")\n",
    "    order_crosstalk_gpc_SQ.setdefault(find_key_by_value(CZ_layers ,temp[0], \"CZ\"), []).append( key )"
   ]
  },
  {
   "cell_type": "code",
   "execution_count": 14,
   "id": "75659c35-94ee-47c6-8ebf-e46b815c8e51",
   "metadata": {
    "scrolled": true
   },
   "outputs": [],
   "source": [
    "# order_crosstalk_gpc_SQ"
   ]
  },
  {
   "cell_type": "code",
   "execution_count": 15,
   "id": "06b082ec-f489-4d39-9485-a3763a16ebef",
   "metadata": {},
   "outputs": [
    {
     "data": {
      "text/plain": [
       "array([1.25380589e-06, 3.03417589e-06, 3.20818123e-06, 3.76957220e-06,\n",
       "       4.18838925e-06, 8.25495169e-06, 9.94368009e-06, 1.17548657e-05,\n",
       "       1.26386953e-05, 1.44148508e-05, 1.54248089e-05, 1.87137001e-05,\n",
       "       2.34199640e-05, 2.47300180e-05, 2.63636478e-05, 3.27073236e-05,\n",
       "       4.28747166e-05, 7.27768173e-05, 9.38482245e-05, 9.63522260e-05,\n",
       "       1.55228074e-04, 1.78131467e-04, 2.12430168e-04, 2.83736150e-04,\n",
       "       3.04400762e-04, 3.39443875e-04, 3.89609593e-04, 5.00881696e-04,\n",
       "       6.02047088e-04, 7.09062323e-04])"
      ]
     },
     "execution_count": 15,
     "metadata": {},
     "output_type": "execute_result"
    }
   ],
   "source": [
    "set_error_crosstalk_SQ = []\n",
    "for key, gpc in set_crosstalk_gpc_SQ.items():\n",
    "    set_error_crosstalk_SQ.append(1 - gpc.get_prob_from_to(0, 0, 0))\n",
    "np.sort(set_error_crosstalk_SQ) "
   ]
  },
  {
   "cell_type": "code",
   "execution_count": 31,
   "id": "e7296a09-da13-423e-a48b-b21a0c2c3b94",
   "metadata": {},
   "outputs": [
    {
     "data": {
      "text/plain": [
       "0.00013982146029978642"
      ]
     },
     "execution_count": 31,
     "metadata": {},
     "output_type": "execute_result"
    }
   ],
   "source": [
    "np.mean(set_error_crosstalk_SQ)"
   ]
  },
  {
   "cell_type": "code",
   "execution_count": null,
   "id": "d60a664e-b491-411d-b93e-0f9d7127a01e",
   "metadata": {},
   "outputs": [],
   "source": []
  },
  {
   "cell_type": "code",
   "execution_count": null,
   "id": "5fddceb2-be5d-4b6f-badc-f295e9880ce8",
   "metadata": {},
   "outputs": [],
   "source": []
  }
 ],
 "metadata": {
  "kernelspec": {
   "display_name": "QEC",
   "language": "python",
   "name": "qec"
  },
  "language_info": {
   "codemirror_mode": {
    "name": "ipython",
    "version": 3
   },
   "file_extension": ".py",
   "mimetype": "text/x-python",
   "name": "python",
   "nbconvert_exporter": "python",
   "pygments_lexer": "ipython3",
   "version": "3.11.9"
  }
 },
 "nbformat": 4,
 "nbformat_minor": 5
}
