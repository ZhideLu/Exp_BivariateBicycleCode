{
 "cells": [
  {
   "cell_type": "code",
   "execution_count": 1,
   "id": "97121df1-363e-489f-a02c-e69a05733e68",
   "metadata": {},
   "outputs": [],
   "source": [
    "import numpy as np\n",
    "from tabulate import tabulate\n",
    "import os\n",
    "import sys\n",
    "from scipy.io import savemat\n",
    "from scipy.io import loadmat\n",
    "from scipy.optimize import curve_fit"
   ]
  },
  {
   "cell_type": "code",
   "execution_count": 2,
   "id": "c0c3f1ad-88e3-4718-87f8-79df72196b1f",
   "metadata": {},
   "outputs": [],
   "source": [
    "import pickle\n",
    "import matplotlib.pyplot as plt \n",
    "from matplotlib.ticker import MaxNLocator\n",
    "import matplotlib.pyplot as plt\n",
    "import matplotlib as mpl\n",
    "import matplotlib.ticker as ticker"
   ]
  },
  {
   "cell_type": "code",
   "execution_count": 3,
   "id": "f6a24007-8ba6-487a-b635-3a586db668b5",
   "metadata": {},
   "outputs": [],
   "source": [
    "n2 = 9 ;\n",
    "k = 6 ;\n",
    "remove_X_list = [2, 5, 8] ;  remove_Z_list = [3, 4, 5] ;"
   ]
  },
  {
   "cell_type": "code",
   "execution_count": 4,
   "id": "c53c2131-4662-4919-a035-5b33088acfdc",
   "metadata": {},
   "outputs": [],
   "source": [
    "max_num_cycles = 6;"
   ]
  },
  {
   "cell_type": "markdown",
   "id": "fe415b77-97bf-41b8-8bee-2b618c06c69f",
   "metadata": {},
   "source": [
    "### Run numerical simulation to obtain data "
   ]
  },
  {
   "cell_type": "code",
   "execution_count": 5,
   "id": "633a06b5-6b24-4337-bc17-6f54fb01894f",
   "metadata": {
    "scrolled": true
   },
   "outputs": [],
   "source": [
    "import subprocess\n",
    "script = \"Classical_simulation_18_6_3.py\"\n",
    "cycles = range(1, max_num_cycles+1)\n",
    "\n",
    "processes = []\n",
    "for cycle in cycles:\n",
    "    p = subprocess.Popen([sys.executable, script, str(cycle)])\n",
    "    processes.append(p)\n",
    "\n",
    "# 等待所有进程完成\n",
    "for p in processes:\n",
    "    p.wait()"
   ]
  },
  {
   "cell_type": "markdown",
   "id": "cecef892-40b0-411d-be5e-e4c9dbbef9b4",
   "metadata": {},
   "source": [
    "### Perform error correction on numerical data"
   ]
  },
  {
   "cell_type": "code",
   "execution_count": 6,
   "id": "463eecb7-b399-45cb-8a1f-5c1f19c8ff06",
   "metadata": {
    "scrolled": true
   },
   "outputs": [
    {
     "name": "stdout",
     "output_type": "stream",
     "text": [
      "no error correction for logical Z basis:\n",
      "Logical error over 2 cycles (six logical qubits): 0.5615\n",
      "Logical error over 2 cycles (single logical qubit): [0.264975 0.257575 0.24515  0.3069   0.318275 0.176375]\n",
      "\n",
      "\n",
      "error correction for logical Z basis:\n",
      "Logical error over 2 cycles (six logical qubits): 0.25512500000000005\n",
      "Logical error over 2 cycles (single logical qubit): [0.12865  0.089475 0.13065  0.115375 0.145775 0.1096  ]\n",
      "no error correction for logical X basis:\n",
      "Logical error over 2 cycles (six logical qubits): 0.539275\n",
      "Logical error over 2 cycles (single logical qubit): [0.2448   0.244325 0.2388   0.16145  0.1678   0.15995 ]\n",
      "\n",
      "\n",
      "error correction for logical X basis:\n",
      "Logical error over 2 cycles (six logical qubits): 0.24282499999999996\n",
      "Logical error over 2 cycles (single logical qubit): [0.134425 0.138325 0.109775 0.0798   0.083725 0.105125]\n",
      "no error correction for logical Z basis:\n",
      "Logical error over 3 cycles (six logical qubits): 0.7465999999999999\n",
      "Logical error over 3 cycles (single logical qubit): [0.360075 0.3525   0.329675 0.400025 0.4104   0.26835 ]\n",
      "\n",
      "\n",
      "error correction for logical Z basis:\n",
      "Logical error over 3 cycles (six logical qubits): 0.44820000000000004\n",
      "Logical error over 3 cycles (single logical qubit): [0.219625 0.16205  0.227025 0.20785  0.250475 0.205575]\n",
      "no error correction for logical X basis:\n",
      "Logical error over 3 cycles (six logical qubits): 0.7296750000000001\n",
      "Logical error over 3 cycles (single logical qubit): [0.34525  0.343125 0.340025 0.24515  0.252725 0.2388  ]\n",
      "\n",
      "\n",
      "error correction for logical X basis:\n",
      "Logical error over 3 cycles (six logical qubits): 0.462375\n",
      "Logical error over 3 cycles (single logical qubit): [0.25415  0.253975 0.213325 0.16285  0.167075 0.21125 ]\n",
      "no error correction for logical Z basis:\n",
      "Logical error over 4 cycles (six logical qubits): 0.841475\n",
      "Logical error over 4 cycles (single logical qubit): [0.41725  0.411075 0.3884   0.44855  0.45165  0.3282  ]\n",
      "\n",
      "\n",
      "error correction for logical Z basis:\n",
      "Logical error over 4 cycles (six logical qubits): 0.591675\n",
      "Logical error over 4 cycles (single logical qubit): [0.291875 0.219525 0.3034   0.278725 0.31935  0.27625 ]\n",
      "no error correction for logical X basis:\n",
      "Logical error over 4 cycles (six logical qubits): 0.83445\n",
      "Logical error over 4 cycles (single logical qubit): [0.403825 0.403575 0.398975 0.31035  0.316425 0.305025]\n",
      "\n",
      "\n",
      "error correction for logical X basis:\n",
      "Logical error over 4 cycles (six logical qubits): 0.625075\n",
      "Logical error over 4 cycles (single logical qubit): [0.33575  0.3345   0.29155  0.231575 0.234925 0.289675]\n",
      "no error correction for logical Z basis:\n",
      "Logical error over 5 cycles (six logical qubits): 0.898875\n",
      "Logical error over 5 cycles (single logical qubit): [0.4507   0.441175 0.4241   0.4671   0.47885  0.375   ]\n",
      "\n",
      "\n",
      "error correction for logical Z basis:\n",
      "Logical error over 5 cycles (six logical qubits): 0.695325\n",
      "Logical error over 5 cycles (single logical qubit): [0.340875 0.272275 0.3531   0.330725 0.376625 0.329175]\n",
      "no error correction for logical X basis:\n",
      "Logical error over 5 cycles (six logical qubits): 0.892525\n",
      "Logical error over 5 cycles (single logical qubit): [0.4426  0.44105 0.43475 0.35665 0.3624  0.34805]\n",
      "\n",
      "\n",
      "error correction for logical X basis:\n",
      "Logical error over 5 cycles (six logical qubits): 0.72695\n",
      "Logical error over 5 cycles (single logical qubit): [0.385925 0.386325 0.345675 0.2794   0.287125 0.34425 ]\n",
      "no error correction for logical Z basis:\n",
      "Logical error over 7 cycles (six logical qubits): 0.9543\n",
      "Logical error over 7 cycles (single logical qubit): [0.48265  0.477725 0.467525 0.4939   0.4964   0.4318  ]\n",
      "\n",
      "\n",
      "error correction for logical Z basis:\n",
      "Logical error over 7 cycles (six logical qubits): 0.834625\n",
      "Logical error over 7 cycles (single logical qubit): [0.41225  0.347775 0.427675 0.40465  0.435425 0.407875]\n",
      "no error correction for logical X basis:\n",
      "Logical error over 7 cycles (six logical qubits): 0.9495750000000001\n",
      "Logical error over 7 cycles (single logical qubit): [0.481075 0.47525  0.474725 0.42025  0.42275  0.414375]\n",
      "\n",
      "\n",
      "error correction for logical X basis:\n",
      "Logical error over 7 cycles (six logical qubits): 0.854875\n",
      "Logical error over 7 cycles (single logical qubit): [0.44565  0.446075 0.419325 0.3634   0.36605  0.41695 ]\n"
     ]
    }
   ],
   "source": [
    "import subprocess\n",
    "script = \"Error_correction_classical_simulation_18_6_3.py\"\n",
    "cycles = range(1, max_num_cycles+1)\n",
    "\n",
    "processes = []\n",
    "for cycle in cycles:\n",
    "    p = subprocess.Popen([sys.executable, script, str(cycle)])\n",
    "    processes.append(p)\n",
    "\n",
    "# 等待所有进程完成\n",
    "for p in processes:\n",
    "    p.wait()"
   ]
  },
  {
   "cell_type": "code",
   "execution_count": null,
   "id": "6e50692a-7793-444d-b962-6106b05c8fdb",
   "metadata": {},
   "outputs": [],
   "source": []
  },
  {
   "cell_type": "code",
   "execution_count": null,
   "id": "46eda875-b471-49ef-9f0e-a499764f3a98",
   "metadata": {},
   "outputs": [],
   "source": []
  },
  {
   "cell_type": "code",
   "execution_count": null,
   "id": "37e8dd23-4b62-4c6f-90b8-86b10a0ba7dd",
   "metadata": {},
   "outputs": [],
   "source": []
  },
  {
   "cell_type": "code",
   "execution_count": null,
   "id": "ada44d29-224c-4919-a5a7-261b9519c3b1",
   "metadata": {},
   "outputs": [],
   "source": [
    "set_syndrome_history_X = {}\n",
    "for cycle in range(1, max_num_cycles+1):\n",
    "    fname = './Numerical_results/' + 'Logical_X_' + 'num_cycles_' + str(cycle) + '.mat'\n",
    "    data = loadmat(fname)\n",
    "    set_syndrome_history_X[f\"cycle_{cycle}\"] = data['syndrome_history_X']"
   ]
  },
  {
   "cell_type": "code",
   "execution_count": null,
   "id": "ff6425dc-b6a0-42a1-b27f-885970080c9d",
   "metadata": {},
   "outputs": [],
   "source": [
    "set_syndrome_history_Z = {}\n",
    "for cycle in range(1, max_num_cycles+1):\n",
    "    fname = './Numerical_results/' + 'Logical_Z_' + 'num_cycles_' + str(cycle) + '.mat'\n",
    "    data = loadmat(fname)\n",
    "    set_syndrome_history_Z[f\"cycle_{cycle}\"] = data['syndrome_history_Z']"
   ]
  },
  {
   "cell_type": "code",
   "execution_count": null,
   "id": "e3662ffb-48d1-4e07-9741-244412bc851c",
   "metadata": {},
   "outputs": [],
   "source": []
  },
  {
   "cell_type": "code",
   "execution_count": null,
   "id": "09fc8d34-df3d-462b-80c9-affa31ebf976",
   "metadata": {},
   "outputs": [],
   "source": [
    "X_logical_error_probability = [];\n",
    "X_logical_error_probability_perqubit = [] ;\n",
    "for cycle in range(1, max_num_cycles+1):\n",
    "    fname = './Numerical_results/' + 'Logical_X_' + 'num_cycles_' + str(cycle) + '.mat'\n",
    "    data = loadmat(fname)\n",
    "    X_logical_error_probability.append( data['logical_error_probability'][0][0] )\n",
    "    X_logical_error_probability_perqubit.append(data['logical_error_probability_per_qubit'][0])"
   ]
  },
  {
   "cell_type": "code",
   "execution_count": null,
   "id": "4937a885-5ef2-4abf-abf2-42d4829503d9",
   "metadata": {},
   "outputs": [],
   "source": [
    "Z_logical_error_probability = [];\n",
    "Z_logical_error_probability_perqubit = [] ;\n",
    "for cycle in range(1, max_num_cycles+1):\n",
    "    fname = './Numerical_results/' + 'Logical_Z_' + 'num_cycles_' + str(cycle) + '.mat'\n",
    "    data = loadmat(fname)\n",
    "    Z_logical_error_probability.append( data['logical_error_probability'][0][0]  )\n",
    "    Z_logical_error_probability_perqubit.append(data['logical_error_probability_per_qubit'][0])"
   ]
  },
  {
   "cell_type": "code",
   "execution_count": null,
   "id": "19f91a13-17c9-4a0d-be6f-16d5028139f6",
   "metadata": {},
   "outputs": [],
   "source": []
  },
  {
   "cell_type": "markdown",
   "id": "7e496481-efab-4257-8dc3-93e8e27bab81",
   "metadata": {},
   "source": [
    "## Error detection probability"
   ]
  },
  {
   "cell_type": "code",
   "execution_count": null,
   "id": "9e0a5059-9bed-45c8-bb6f-ef21f1dce0a5",
   "metadata": {},
   "outputs": [],
   "source": [
    "# logical Z state¶\n",
    "labels_z = ['Z0', 'Z1', 'Z2', 'Z6', 'Z7', 'Z8']\n",
    "\n",
    "num_zcheck = len(labels_z) ;\n",
    "\n",
    "mean_detect_prob_z = np.mean(set_syndrome_history_Z[f\"cycle_{max_num_cycles}\"], axis=0)\n",
    "\n",
    "mean_detect_prob_cycle_z = [ np.mean(mean_detect_prob_z[num_zcheck*cycle:num_zcheck*(cycle+1)]) for cycle in range(max_num_cycles+1) ]\n",
    "\n",
    "for cycle in range(max_num_cycles+1) :\n",
    "    print( f'The mean probability of error detection in cycle {cycle+1} is:', mean_detect_prob_cycle_z[cycle] )\n",
    "\n",
    "per_z_detect_prob = [ [ mean_detect_prob_z[i + cycle*num_zcheck ] for cycle in range(max_num_cycles+1) ] for i in range(num_zcheck) ]"
   ]
  },
  {
   "cell_type": "code",
   "execution_count": null,
   "id": "22838a1c-f9e7-48fa-b717-aa3932e05433",
   "metadata": {},
   "outputs": [],
   "source": [
    "# logical X state¶\n",
    "labels_x =  ['X0', 'X1', 'X3', 'X4', 'X6', 'X7']\n",
    "\n",
    "num_xcheck = len(labels_x) ;\n",
    "\n",
    "mean_detect_prob_x = np.mean(set_syndrome_history_X[f\"cycle_{max_num_cycles}\"], axis=0)\n",
    "\n",
    "mean_detect_prob_cycle_x = [ np.mean(mean_detect_prob_x[num_xcheck*cycle:num_xcheck*(cycle+1)]) for cycle in range(max_num_cycles+1) ]\n",
    "\n",
    "for cycle in range(max_num_cycles+1) :\n",
    "    print( f'The mean probability of error detection in cycle {cycle+1} is:', mean_detect_prob_cycle_x[cycle] )\n",
    "\n",
    "per_x_detect_prob = [ [ mean_detect_prob_x[i + cycle*num_xcheck ] for cycle in range(max_num_cycles+1) ] for i in range(num_xcheck) ]"
   ]
  },
  {
   "cell_type": "code",
   "execution_count": null,
   "id": "eeb6f59e-d787-47c8-a51b-616244483ae4",
   "metadata": {},
   "outputs": [],
   "source": [
    "plt.rcParams[\"font.family\"] = \"DejaVu Sans\"\n",
    "plt.rcParams['figure.figsize'] = 3, 2\n",
    "plt.rcParams.update({'font.size': 6})\n",
    "\n",
    "fig, ax = plt.subplots( dpi = 800)\n",
    "\n",
    "ax.plot( range(1, max_num_cycles+2), mean_detect_prob_cycle_x, color = 'purple', linestyle = \"-\", linewidth=1, \n",
    "        marker = 's', markersize = 2, label = \"X basis\" )\n",
    "\n",
    "for i in range( num_xcheck ):\n",
    "    ax.plot( range(1, max_num_cycles+2), per_x_detect_prob[i], color = 'purple', linestyle = \"--\", linewidth=0.3, \n",
    "        marker = '.', markersize = 1)\n",
    "\n",
    "ax.plot( range(1, max_num_cycles+2), mean_detect_prob_cycle_z, color = 'green', linestyle = \"-\", linewidth=1, \n",
    "        marker = 's', markersize = 2, label = \"Z basis\" )\n",
    "\n",
    "for i in range( num_zcheck ):\n",
    "    ax.plot( range(1, max_num_cycles+2), per_z_detect_prob[i], color = 'green', linestyle = \"--\", linewidth=0.3, \n",
    "        marker = '.', markersize = 1)\n",
    "\n",
    "ax.legend(frameon=True, loc=(0.7, 0.2), labelspacing=0.4, fontsize='6')\n",
    "ax.set_xlabel(r'Quantum error correction cycle, $t$', labelpad = 2) \n",
    "ax.set_ylabel(f'Error detection probability', labelpad = 3) \n",
    "ax.set_ylim(0.1,0.4) \n",
    "\n",
    "plt.subplots_adjust(left = 0.14, bottom = 0.15, top = 0.98, right = 0.98) \n",
    "plt.show()\n",
    "fig.savefig('Simulation_Figures/Detection_prob_18_6_3_simulation.pdf', format='pdf', facecolor='None')"
   ]
  },
  {
   "cell_type": "code",
   "execution_count": null,
   "id": "b46afcee-36c7-4421-9a8e-7ff1c80a52d1",
   "metadata": {},
   "outputs": [],
   "source": []
  },
  {
   "cell_type": "markdown",
   "id": "9edb7612-a246-4a6e-aee3-b310f3af9c1f",
   "metadata": {},
   "source": [
    "## Logical-state preservation and error per cycle"
   ]
  },
  {
   "cell_type": "code",
   "execution_count": null,
   "id": "da0573e9-8f52-4855-85d8-2c3f8022872d",
   "metadata": {},
   "outputs": [],
   "source": [
    "def k_to_one(p, k):\n",
    "    return 1-(1-p)**(1/k)\n",
    "\n",
    "def physical_p_per_cycle(cycle_time, T):\n",
    "    return (1-np.exp(-cycle_time/T))/2\n",
    "\n",
    "T1 = 41.83 #us\n",
    "T2 = 20 #us\n",
    "cycle_time = 1.895 #us"
   ]
  },
  {
   "cell_type": "code",
   "execution_count": null,
   "id": "cad22802-b85b-4379-b33b-c875b602747b",
   "metadata": {},
   "outputs": [],
   "source": []
  },
  {
   "cell_type": "markdown",
   "id": "38acfed6-c4a6-43db-883f-f0a7dfff743d",
   "metadata": {},
   "source": [
    "## logical Z state"
   ]
  },
  {
   "cell_type": "markdown",
   "id": "3d0ca705-e66f-4397-b875-b914339630b2",
   "metadata": {},
   "source": [
    "Define the logical fidelity for four distance-$4$ logical qubits : $F(t) = 1- P_L(t)$, then we have $F(t+1) = (1 - p_L) \\cdot F(t)$, where $p_L$ is the logical error per cycle.\n",
    "\n",
    "We fit $F(t) = B \\cdot A^{t}$, where $A = 1 - p_L$."
   ]
  },
  {
   "cell_type": "code",
   "execution_count": null,
   "id": "04fa17d7-4055-45c6-a12a-970c9106c4ea",
   "metadata": {},
   "outputs": [],
   "source": [
    "# Z_logical_error_probability"
   ]
  },
  {
   "cell_type": "code",
   "execution_count": null,
   "id": "70a8f75e-231a-4159-95d9-304fb038b1fd",
   "metadata": {},
   "outputs": [],
   "source": [
    "cycle_t_logical = np.arange(1, max_num_cycles+1) ;\n",
    "Z_logical_Fidelity = 1 - np.array( Z_logical_error_probability[0:] )\n",
    "log_Z_logical_Fidelity = np.log(Z_logical_Fidelity)\n",
    "\n",
    "coefficients = np.polyfit(cycle_t_logical, log_Z_logical_Fidelity, 1)\n",
    "log_A, log_B = coefficients  # [斜率, 截距]\n",
    "\n",
    "# 转换回原始参数\n",
    "A = np.exp(log_A)\n",
    "B = np.exp(log_B)\n",
    "\n",
    "Logical_error_six_qubits_per_cycle_Z = 1 - A\n",
    "print(f\"Logical error rate for six logical qubits per cycle = {Logical_error_six_qubits_per_cycle_Z}\")"
   ]
  },
  {
   "cell_type": "code",
   "execution_count": null,
   "id": "e83e6f0f-a436-4a44-bec8-c24f8faba6cb",
   "metadata": {},
   "outputs": [],
   "source": [
    "# The fit line\n",
    "cycle_interpo = np.linspace(1, max_num_cycles+1, 100) ;\n",
    "pred_Z_logical_error_probability = (1 - B * A**(cycle_interpo))"
   ]
  },
  {
   "cell_type": "code",
   "execution_count": null,
   "id": "eb2c9d7a-0b9e-4751-8c8d-c4419336749f",
   "metadata": {},
   "outputs": [],
   "source": []
  },
  {
   "cell_type": "markdown",
   "id": "1675d4a1-8473-4632-9537-02a7c004d27b",
   "metadata": {},
   "source": [
    "## logical X state"
   ]
  },
  {
   "cell_type": "code",
   "execution_count": null,
   "id": "85b827ec-fd88-4d81-8dbe-c6f30b8780d2",
   "metadata": {},
   "outputs": [],
   "source": [
    "cycle_t_logical = np.arange(1, max_num_cycles+1) ;\n",
    "X_logical_Fidelity = 1 - np.array( X_logical_error_probability[0:] )\n",
    "log_X_logical_Fidelity = np.log(X_logical_Fidelity)\n",
    "\n",
    "coefficients = np.polyfit(cycle_t_logical, log_X_logical_Fidelity, 1)\n",
    "log_A2, log_B2 = coefficients  # [斜率, 截距]\n",
    "\n",
    "# 转换回原始参数\n",
    "A2 = np.exp(log_A2)\n",
    "B2 = np.exp(log_B2)\n",
    "\n",
    "Logical_error_six_qubits_per_cycle_X = 1 - A2\n",
    "print(f\"Logical error rate for six logical qubits per cycle = {Logical_error_six_qubits_per_cycle_X}\")"
   ]
  },
  {
   "cell_type": "code",
   "execution_count": null,
   "id": "f7078319-bd74-4b67-a600-70685d5eb451",
   "metadata": {},
   "outputs": [],
   "source": [
    "# The fit line\n",
    "cycle_interpo = np.linspace(1, max_num_cycles+1, 100) ;\n",
    "pred_X_logical_error_probability = (1 - B2 * A2**(cycle_interpo))"
   ]
  },
  {
   "cell_type": "code",
   "execution_count": null,
   "id": "50e9af65-2c45-4b2a-95ad-e8dbc5739349",
   "metadata": {},
   "outputs": [],
   "source": []
  },
  {
   "cell_type": "code",
   "execution_count": null,
   "id": "f433d3de-9011-4fc3-b7c9-67480d7010ae",
   "metadata": {},
   "outputs": [],
   "source": []
  }
 ],
 "metadata": {
  "kernelspec": {
   "display_name": "QEC",
   "language": "python",
   "name": "qec"
  },
  "language_info": {
   "codemirror_mode": {
    "name": "ipython",
    "version": 3
   },
   "file_extension": ".py",
   "mimetype": "text/x-python",
   "name": "python",
   "nbconvert_exporter": "python",
   "pygments_lexer": "ipython3",
   "version": "3.11.9"
  }
 },
 "nbformat": 4,
 "nbformat_minor": 5
}
