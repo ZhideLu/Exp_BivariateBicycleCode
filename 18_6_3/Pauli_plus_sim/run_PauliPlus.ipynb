{
 "cells": [
  {
   "cell_type": "code",
   "execution_count": 21,
   "id": "a01c6fe4-657e-41ed-90f9-b504173adc45",
   "metadata": {},
   "outputs": [],
   "source": [
    "import multiprocessing as mp\n",
    "import subprocess\n",
    "import sys\n",
    "import os\n",
    "import itertools\n",
    "\n",
    "from scipy.io import savemat\n",
    "from scipy.io import loadmat"
   ]
  },
  {
   "cell_type": "code",
   "execution_count": 22,
   "id": "a43e5e7a-5d45-48c8-97c8-f5414b001230",
   "metadata": {},
   "outputs": [],
   "source": [
    "import numpy as np"
   ]
  },
  {
   "cell_type": "code",
   "execution_count": 23,
   "id": "b0584bd5-e59a-44b8-a9d1-9ff8ca92e792",
   "metadata": {},
   "outputs": [],
   "source": [
    "mp.cpu_count()\n",
    "max_num_cycles = 6 ;"
   ]
  },
  {
   "cell_type": "markdown",
   "id": "29d6a49c-2eeb-4eac-8a63-62f4e8e9f544",
   "metadata": {},
   "source": [
    "## Pauli+ simulation"
   ]
  },
  {
   "cell_type": "code",
   "execution_count": 24,
   "id": "e7756af3-de66-45c9-ae9b-d498ad378791",
   "metadata": {},
   "outputs": [],
   "source": [
    "set_basis_type = [\"Z\", \"X\"];\n",
    "set_num_cycles = range(1, max_num_cycles+1)\n",
    "\n",
    "args = [(basis, cycle) for basis in set_basis_type for cycle in set_num_cycles]"
   ]
  },
  {
   "cell_type": "code",
   "execution_count": null,
   "id": "c5d31740-67a3-42de-863f-4f1250645f38",
   "metadata": {},
   "outputs": [],
   "source": [
    "script = \"PauliPlus_simulation.py\"\n",
    "\n",
    "def run_PauliPlus_sim(basis_type, num_cycles):\n",
    "    subprocess.run([sys.executable, script, str(basis_type), str(num_cycles) ])\n",
    "\n",
    "with mp.Pool(processes = 130) as pool:\n",
    "    pool.starmap(run_PauliPlus_sim, args)"
   ]
  },
  {
   "cell_type": "code",
   "execution_count": null,
   "id": "7cd6540b-8c4e-4cd6-9f75-5bdfc2e81f42",
   "metadata": {},
   "outputs": [],
   "source": []
  },
  {
   "cell_type": "markdown",
   "id": "ef6e4c73-64bf-470f-849a-63b4fe22d71f",
   "metadata": {},
   "source": [
    "## Error decoding"
   ]
  },
  {
   "cell_type": "code",
   "execution_count": null,
   "id": "5b48c940-6eac-4eb2-bb0e-3af4932591ec",
   "metadata": {},
   "outputs": [],
   "source": [
    "args2 = list(itertools.product(set_basis_type, set_num_cycles)) ;"
   ]
  },
  {
   "cell_type": "code",
   "execution_count": 27,
   "id": "fb3733c2-b46d-42fa-94b0-e342da6d88e2",
   "metadata": {
    "scrolled": true
   },
   "outputs": [
    {
     "name": "stdout",
     "output_type": "stream",
     "text": [
      "error correction for logical Z basis:\n",
      "Logical error over 3 cycles (four logical qubits): 0.5125670349550946\n",
      "Logical error over 3 cycles (single logical qubit): [0.24716246 0.17822145 0.26107557 0.23462773 0.28080377 0.23256014]\n",
      "error correction for logical X basis:\n",
      "Logical error over 3 cycles (four logical qubits): 0.5497809336757818\n",
      "Logical error over 3 cycles (single logical qubit): [0.30075756 0.29745538 0.25847668 0.21097274 0.20743315 0.25219606]\n",
      "error correction for logical Z basis:\n",
      "Logical error over 4 cycles (four logical qubits): 0.691674899308458\n",
      "Logical error over 4 cycles (single logical qubit): [0.33427692 0.25900524 0.35373129 0.32677255 0.37090584 0.32038909]\n",
      "error correction for logical X basis:\n",
      "Logical error over 4 cycles (four logical qubits): 0.7374389426300163\n",
      "Logical error over 4 cycles (single logical qubit): [0.39676276 0.39124605 0.35381668 0.3075759  0.2966191  0.34881716]\n",
      "error correction for logical Z basis:\n",
      "Logical error over 5 cycles (four logical qubits): 0.8027614070821577\n",
      "Logical error over 5 cycles (single logical qubit): [0.39163898 0.32115131 0.41195719 0.3847772  0.42274237 0.38487737]\n",
      "error correction for logical X basis:\n",
      "Logical error over 5 cycles (four logical qubits): 0.844948515146993\n",
      "Logical error over 5 cycles (single logical qubit): [0.44830788 0.43767929 0.41444892 0.37195112 0.36465536 0.41000514]\n",
      "error correction for logical Z basis:\n",
      "Logical error over 6 cycles (four logical qubits): 0.8757347170838738\n",
      "Logical error over 6 cycles (single logical qubit): [0.43503259 0.36851968 0.44662791 0.42313298 0.45711815 0.42425407]\n",
      "error correction for logical X basis:\n",
      "Logical error over 6 cycles (four logical qubits): 0.9076450039440429\n",
      "Logical error over 6 cycles (single logical qubit): [0.47338174 0.46942159 0.45018432 0.41879296 0.40765305 0.44477535]\n",
      "error correction for logical X basis:\n",
      "Logical error over 7 cycles (four logical qubits): 0.941407184832611\n",
      "Logical error over 7 cycles (single logical qubit): [0.48588029 0.48447098 0.46767889 0.44301593 0.43840243 0.4659106 ]\n"
     ]
    }
   ],
   "source": [
    "script2 = \"Error_correction.py\"\n",
    "\n",
    "def run_error_decoding(basis_type, num_cycles):\n",
    "    subprocess.run([sys.executable, script2, str(basis_type), str(num_cycles) ])\n",
    "\n",
    "with mp.Pool(processes = 120) as pool:\n",
    "    pool.starmap(run_error_decoding, args2)"
   ]
  },
  {
   "cell_type": "code",
   "execution_count": null,
   "id": "d6e1e812-9ef4-4f50-a85e-e5b6e7faee58",
   "metadata": {},
   "outputs": [],
   "source": []
  },
  {
   "cell_type": "code",
   "execution_count": null,
   "id": "d9a099f7-55cd-426c-a5de-d3862229b1f2",
   "metadata": {},
   "outputs": [],
   "source": []
  },
  {
   "cell_type": "code",
   "execution_count": null,
   "id": "035b8336-b2a7-4e5e-87ee-101ea711a77a",
   "metadata": {},
   "outputs": [],
   "source": []
  },
  {
   "cell_type": "code",
   "execution_count": null,
   "id": "f424ec2f-ce78-468e-a8b3-fece463d365c",
   "metadata": {},
   "outputs": [],
   "source": []
  },
  {
   "cell_type": "code",
   "execution_count": null,
   "id": "1f15bb88-2167-4cc6-80fc-fb7f6f67c329",
   "metadata": {},
   "outputs": [],
   "source": []
  },
  {
   "cell_type": "code",
   "execution_count": null,
   "id": "2756be9d-77bd-4001-8526-c91cf69a6049",
   "metadata": {},
   "outputs": [],
   "source": []
  },
  {
   "cell_type": "code",
   "execution_count": null,
   "id": "b0d06a15-e864-41b3-8113-b36a390e0bfc",
   "metadata": {},
   "outputs": [],
   "source": []
  },
  {
   "cell_type": "code",
   "execution_count": null,
   "id": "5a249b84-ca01-4873-ae81-a581dcc5e454",
   "metadata": {},
   "outputs": [],
   "source": []
  }
 ],
 "metadata": {
  "kernelspec": {
   "display_name": "QEC",
   "language": "python",
   "name": "qec"
  },
  "language_info": {
   "codemirror_mode": {
    "name": "ipython",
    "version": 3
   },
   "file_extension": ".py",
   "mimetype": "text/x-python",
   "name": "python",
   "nbconvert_exporter": "python",
   "pygments_lexer": "ipython3",
   "version": "3.11.9"
  }
 },
 "nbformat": 4,
 "nbformat_minor": 5
}
