{
 "cells": [
  {
   "cell_type": "code",
   "execution_count": 1,
   "id": "95ec08e8-b74e-4ad0-8a9a-382ed4099c35",
   "metadata": {},
   "outputs": [],
   "source": [
    "from tools_for_pauli_plus import *"
   ]
  },
  {
   "cell_type": "code",
   "execution_count": null,
   "id": "9269bcd2-9dfb-44f6-ab19-9dfaecfd9072",
   "metadata": {},
   "outputs": [],
   "source": []
  },
  {
   "cell_type": "code",
   "execution_count": 2,
   "id": "7eaad6b8-ea9a-4e13-a21b-4fdfdd49a8c3",
   "metadata": {},
   "outputs": [],
   "source": [
    "error_rate_idle = 0.0035\n",
    "error_rate_sq = 0.0008 ;\n",
    "error_rate_cz = 0.0073  ;\n",
    "error_rate_RO_to_Data = 0.035 ;\n",
    "error_crosstalk = 0.0025 ;\n",
    "\n",
    "from functions_BB_code import error_decoding\n",
    "from ldpc import bposd_decoder, mod2\n",
    "import pickle\n",
    "\n",
    "with open('../Set_decoder_para_18_6_3.pkl', 'rb') as f:\n",
    "    Set_decoder_para_18_6_3 = pickle.load(f)\n",
    "## import the decoder\n",
    "my_bp_method = \"ms\"\n",
    "my_max_iter = 2000\n",
    "my_osd_method = \"osd_cs\"\n",
    "my_osd_order = 7\n",
    "my_ms_scaling_factor = 0"
   ]
  },
  {
   "cell_type": "code",
   "execution_count": 3,
   "id": "5e48e060-ffa4-4c36-ae6b-6ef0cd09614a",
   "metadata": {},
   "outputs": [],
   "source": [
    "# U_leakage for CZ\n",
    "data = loadmat(\"../../18_4_4/Pauli_plus_simulation/Exp_crosstalk_data/leak_matrix.mat\"); leak_transit = data[\"leak_matrix\"]\n",
    "\n",
    "channel_cz = generate_channel_cz(leak_transit)  # CZ leakage, with higher-frequency qubit put in the front\n",
    "\n",
    "channel_sq = generate_channel_t(0.03, with_coherence=\"yes\", with_heating=\"yes\")       # 30ns single-qubit gate\n",
    "channel_tq = generate_channel_t(0.105, with_coherence=\"yes\", with_heating=\"yes\")      # 105ns two-qubit gate\n",
    "channel_DD = generate_channel_t(0.92, with_coherence=\"yes\", with_heating=\"yes\")       # 920ns DD\n",
    "channel_idle = generate_channel_t(0.105, with_coherence=\"yes\", with_heating=\"yes\")    # 105ns idle\n",
    "\n",
    "# # Depolarized error for compensation\n",
    "error_rate_sq_com = error_rate_sq - (1 - channel_sq.get_prob_from_to(0, 0, 0))\n",
    "error_rate_cz_com = error_rate_cz - (2 - 2 * channel_tq.get_prob_from_to(0, 0, 0) + 1 - channel_cz.get_prob_from_to(0, 0, 0) ) \n",
    "error_rate_idle_com = error_rate_idle - (1 - channel_idle.get_prob_from_to(0, 0, 0))"
   ]
  },
  {
   "cell_type": "code",
   "execution_count": null,
   "id": "f6d5d9df-004c-4b98-9f93-b696dcfcae56",
   "metadata": {},
   "outputs": [],
   "source": []
  },
  {
   "cell_type": "markdown",
   "id": "7553ce1d-6794-4e36-aec3-faa168d738cc",
   "metadata": {},
   "source": [
    "## Circuit for qLDPC code [[18,6,3]]"
   ]
  },
  {
   "cell_type": "code",
   "execution_count": 4,
   "id": "85701fe0-cd35-48d4-a3af-4c4f9f784502",
   "metadata": {},
   "outputs": [],
   "source": [
    "# circuit represented with Stim\n",
    "# qLDPC code [[18,6,3]]\n",
    "ell,m = 3, 3 ; a1,a2,a3 = 1, 0, 2 ; b1,b2,b3 = 1, 0, 2\n",
    "\n",
    "# code length\n",
    "n = 2*m*ell;  n2 = m*ell ; remove_X_list = [2,5,8] ;  remove_Z_list = [3,4,5] ;\n",
    "\n",
    "I_ell = np.identity(ell,dtype=int) ; I_m = np.identity(m,dtype=int); I = np.identity(ell*m,dtype=int)\n",
    "x = {} ;  y = {}\n",
    "\n",
    "for i in range(ell):\n",
    "\tx[i] = np.kron(np.roll(I_ell,i,axis=1),I_m)\n",
    "for i in range(m):\n",
    "\ty[i] = np.kron(I_ell,np.roll(I_m,i,axis=1))\n",
    "\n",
    "A = (x[a1%ell] + y[a2%m] + y[a3%m]) % 2;  B = (y[b1%m] + x[b2%ell] + x[b3%ell]) % 2\n",
    "A1 = x[a1%ell]; A2 = y[a2%m]; A3 = y[a3%m] ; B1 = y[b1%m]; B2 = x[b2%ell]; B3 = x[b3%ell]\n",
    "AT = np.transpose(A) ; BT = np.transpose(B) ;\n",
    "\n",
    "# Testing CSS code\n",
    "hx = np.hstack((A,B));  hz = np.hstack((BT,AT))\n",
    "hx = np.delete(hx, remove_X_list, axis=0) ; hz = np.delete(hz, remove_Z_list, axis=0)\n",
    "\n",
    "# number of logical qubits\n",
    "k = n - rank2(hx) - rank2(hz)\n",
    "qcode=css_code(hx=hx, hz=hz)\n",
    "    \n",
    "# Check matrix and logical operators for the BB code [[18,6,3]] \n",
    "hz = Set_decoder_para_18_6_3[\"hz\"] ;\n",
    "lz = Set_decoder_para_18_6_3[\"lz\"] ;\n",
    "hx = Set_decoder_para_18_6_3[\"hx\"] ;\n",
    "lx = Set_decoder_para_18_6_3[\"lx\"] ;\n",
    "\n",
    "sX = ['idle', 'idle', 1, 4, 3, 5, 0, 2] ; sZ = ['idle', 3, 5, 0, 1, 2, 4, 'idle'] ;\n",
    "# Connections of edges in the Tanner graph\n",
    "lin_order, data_qubits, Xchecks, Zchecks, nbs = get_connection_Tanner(remove_X_list, remove_Z_list, n2)\n",
    "\n",
    "Xcheck = np.arange(n2 - len(remove_X_list) ).tolist()\n",
    "data_L = np.arange(n2 - len(remove_X_list), 2 * n2 - len(remove_X_list)).tolist()\n",
    "data_R = np.arange(2 * n2 - len(remove_X_list), 3 * n2 - len(remove_X_list)).tolist()\n",
    "Zcheck = np.arange(3 * n2 - len(remove_X_list), 4 * n2 - len(remove_X_list) - len(remove_Z_list) ).tolist()\n",
    "\n",
    "num_qubits = 4 * n2 - len(remove_X_list) - len(remove_Z_list) # 30 physical qubits\n",
    "num_check_Z = n2 - len(remove_Z_list) ; num_check_X = n2 - len(remove_X_list) ; num_databits = len(data_L + data_R) ;\n",
    "num_checks = num_qubits - num_databits ;"
   ]
  },
  {
   "cell_type": "code",
   "execution_count": null,
   "id": "d0ae0b7d-0c3e-4ab8-894a-eee9286f826d",
   "metadata": {},
   "outputs": [],
   "source": []
  },
  {
   "cell_type": "code",
   "execution_count": 5,
   "id": "233f1110-684c-4d86-b918-0a09105c8c8c",
   "metadata": {},
   "outputs": [],
   "source": [
    "num_cycles = 4 ;\n",
    "basis_type = \"Z\" ;"
   ]
  },
  {
   "cell_type": "code",
   "execution_count": 6,
   "id": "cb6f0817-babf-4327-a976-e751f49c2207",
   "metadata": {},
   "outputs": [],
   "source": [
    "initial_pre = stim.Circuit()\n",
    "initial_pre.append(\"R\", Xcheck + data_L + data_R + Zcheck)\n",
    "\n",
    "if basis_type == \"X\":\n",
    "    initial_pre.append(\"H\", data_L + data_R ) ;\n",
    "#----------------------------------------------------------------------------------------------------------------------\n",
    "SM_circuit = get_SM_circuit(error_rate_sq_com, error_rate_cz_com, error_rate_idle_com, error_crosstalk, remove_X_list, remove_Z_list, \\\n",
    "                            lin_order, data_qubits, Xchecks, Zchecks, nbs, sX, sZ)\n",
    "#----------------------------------------------------------------------------------------------------------------------\n",
    "circuit_DD = stim.Circuit()\n",
    "circuit_DD.append(\"SQRT_X_DAG\", data_L + data_R)\n",
    "circuit_DD.append(\"SQRT_X\", data_L + data_R)\n",
    "circuit_DD.append(\"DEPOLARIZE1\", data_L + data_R, error_rate_RO_to_Data)\n",
    "#----------------------------------------------------------------------------------------------------------------------\n",
    "final = stim.Circuit()\n",
    "if basis_type == \"X\":\n",
    "    final.append(\"H\", data_L + data_R ) ;\n",
    "final.append(\"M\", data_L + data_R )\n",
    "#----------------------------------------------------------------------------------------------------------------------\n",
    "Exp_circuit_logical_Z = initial_pre + (SM_circuit + circuit_DD) * (num_cycles-1) + SM_circuit + final"
   ]
  },
  {
   "cell_type": "code",
   "execution_count": null,
   "id": "6da4e40f-8ae9-43e2-950b-212921a73793",
   "metadata": {},
   "outputs": [],
   "source": []
  },
  {
   "cell_type": "code",
   "execution_count": 7,
   "id": "7b42dc31-c840-4d63-abe8-0e646ec36786",
   "metadata": {},
   "outputs": [
    {
     "data": {
      "text/plain": [
       "1020"
      ]
     },
     "execution_count": 7,
     "metadata": {},
     "output_type": "execute_result"
    }
   ],
   "source": [
    "# bind GPCs for the simulator\n",
    "simulator = leaky.Simulator(num_qubits)\n",
    "\n",
    "for targets in range(num_qubits):\n",
    "    simulator.bind_leaky_channel(leaky.Instruction(\"Y\", [targets]), channel_sq)\n",
    "    simulator.bind_leaky_channel(leaky.Instruction(\"X\", [targets]), channel_sq)\n",
    "\n",
    "    #  qubit errors for DD\n",
    "    simulator.bind_leaky_channel(leaky.Instruction(\"SQRT_X\", [targets]), channel_DD)\n",
    "    \n",
    "    # qubit errors for CZ\n",
    "    simulator.bind_leaky_channel(leaky.Instruction(\"S\", [targets]), channel_tq)\n",
    "\n",
    "     # qubit errors for iding\n",
    "    simulator.bind_leaky_channel(leaky.Instruction(\"I\", [targets]), channel_idle)\n",
    "#----------------------------------------------------------------------------------------------------------------------\n",
    "# CZ leakage\n",
    "for target1, target2 in permutations(range(num_qubits), 2):\n",
    "    simulator.bind_leaky_channel( leaky.Instruction(\"CZ\", [target1, target2]), channel_cz )\n",
    "\n",
    "len( simulator.bound_leaky_channels )"
   ]
  },
  {
   "cell_type": "code",
   "execution_count": null,
   "id": "fa6f484c-a370-46b4-bfb4-e96ced219da5",
   "metadata": {},
   "outputs": [],
   "source": []
  },
  {
   "cell_type": "markdown",
   "id": "e46a7431-664a-4938-9316-055a2052be7d",
   "metadata": {},
   "source": [
    "## Z basis simulation"
   ]
  },
  {
   "cell_type": "code",
   "execution_count": 8,
   "id": "bff5d027-9a05-4e63-94ca-4e7926569d86",
   "metadata": {},
   "outputs": [],
   "source": [
    "num_Exp_samples_Z = 12000 ;"
   ]
  },
  {
   "cell_type": "code",
   "execution_count": 9,
   "id": "abc7f6e9-f8e0-4e60-af7d-c6c33ab18c05",
   "metadata": {},
   "outputs": [],
   "source": [
    "results_no_meas_error_z = simulator.sample_batch(Exp_circuit_logical_Z, shots = num_Exp_samples_Z )\n",
    "\n",
    "# consider three-state readout errors\n",
    "results_z = apply_transition_2d(num_databits, results_no_meas_error_z, check_three_meas_error, data_three_meas_error)\n",
    "\n",
    "instance_no_leakage_z = np.all( (results_z == 0) | (results_z == 1), axis=1)\n",
    "\n",
    "# rejecting instances with leakage detected\n",
    "results_no_leakage_z = results_z[instance_no_leakage_z] ;\n",
    "num_trials_z = results_no_leakage_z.shape[0]"
   ]
  },
  {
   "cell_type": "code",
   "execution_count": 10,
   "id": "3e8d0b71-15ba-446c-895f-ea5a228fe72c",
   "metadata": {},
   "outputs": [
    {
     "name": "stdout",
     "output_type": "stream",
     "text": [
      "12.058333333333334%\n"
     ]
    }
   ],
   "source": [
    "retain_data_fraction = num_trials_z/num_Exp_samples_Z\n",
    "print(f\"{retain_data_fraction*100}%\")"
   ]
  },
  {
   "cell_type": "code",
   "execution_count": null,
   "id": "2f8fda86-f163-431c-a88b-0ee2cb4b5195",
   "metadata": {},
   "outputs": [],
   "source": []
  },
  {
   "cell_type": "code",
   "execution_count": 11,
   "id": "10bf8e47-7d0d-4d42-8cd1-65dd5f716982",
   "metadata": {},
   "outputs": [],
   "source": [
    "syndrome_history_Z, final_logical_z_outcome = Z_transfer_meas_to_detection(hz, lz, num_cycles, results_no_leakage_z, num_databits)"
   ]
  },
  {
   "cell_type": "code",
   "execution_count": 12,
   "id": "f0200489-6a02-40f1-b42c-b7917668c3ec",
   "metadata": {},
   "outputs": [],
   "source": [
    "channel_probsZ = Set_decoder_para_18_6_3[f\"channel_probsZ_{num_cycles}\"]\n",
    "HZ = Set_decoder_para_18_6_3[f\"HZ_{num_cycles}\"]  ;\n",
    "HdecZ = Set_decoder_para_18_6_3[f\"HdecZ_{num_cycles}\"] ;\n",
    "\n",
    "bpdZ=bposd_decoder(\n",
    "    HdecZ, \n",
    "    channel_probs=channel_probsZ, \n",
    "    max_iter=my_max_iter, \n",
    "    bp_method=my_bp_method,\n",
    "    ms_scaling_factor=my_ms_scaling_factor, \n",
    "    osd_method=\"osd_cs\", \n",
    "    osd_order=my_osd_order \n",
    "    )"
   ]
  },
  {
   "cell_type": "code",
   "execution_count": null,
   "id": "aa56b215-62e2-45cb-96d1-0f0e5bc17479",
   "metadata": {},
   "outputs": [],
   "source": []
  },
  {
   "cell_type": "code",
   "execution_count": 13,
   "id": "c890324f-e222-4ae8-b0b4-c2a6d086c59e",
   "metadata": {},
   "outputs": [
    {
     "name": "stdout",
     "output_type": "stream",
     "text": [
      "Pauli+ simulation\n",
      "-------------------------\n",
      "The mean probability of error detection in cycle 1 is: 0.10884588804422944\n",
      "The mean probability of error detection in cycle 2 is: 0.2983183598249251\n",
      "The mean probability of error detection in cycle 3 is: 0.3120248790601244\n",
      "The mean probability of error detection in cycle 4 is: 0.3276894724717807\n",
      "The mean probability of error detection in cycle 5 is: 0.2706749596867081\n"
     ]
    }
   ],
   "source": [
    "labels_z = ['Z0', 'Z1', 'Z2', 'Z6', 'Z7', 'Z8']\n",
    "\n",
    "num_zcheck = len(labels_z) ;\n",
    "mean_detect_prob_z = np.mean(syndrome_history_Z, axis=0)\n",
    "\n",
    "mean_detect_prob_cycle_z = [ np.mean(mean_detect_prob_z[num_zcheck*cycle:num_zcheck*(cycle+1)]) for cycle in range(num_cycles+1) ]\n",
    "\n",
    "print(\"Pauli+ simulation\")\n",
    "print(\"-------------------------\")\n",
    "for cycle in range(num_cycles+1) :\n",
    "    print( f'The mean probability of error detection in cycle {cycle+1} is:', mean_detect_prob_cycle_z[cycle] )"
   ]
  },
  {
   "cell_type": "code",
   "execution_count": null,
   "id": "d13ffb2c-3819-4e4a-9db7-498783be9b7d",
   "metadata": {},
   "outputs": [],
   "source": [
    "# correct errors for logical Z (Z checks)\n",
    "Z_no_correction_good_trials, Z_no_correction_good_list, Z_good_trials, Z_good_list =     \\\n",
    "            error_decoding(num_trials_z, k, bpdZ, HZ, syndrome_history_Z, final_logical_z_outcome )\n",
    "\n",
    "print(\"no error correction for logical Z basis:\")\n",
    "print(f'Logical error over {num_cycles+1} cycles (four logical qubits):', 1-Z_no_correction_good_trials/num_trials_z)\n",
    "print(f'Logical error over {num_cycles+1} cycles (single logical qubit):', 1-Z_no_correction_good_list/num_trials_z)\n",
    "print(\"\\n\")\n",
    "print(\"error correction for logical Z basis:\")\n",
    "print(f'Logical error over {num_cycles+1} cycles (four logical qubits):', 1-Z_good_trials/num_trials_z)\n",
    "print(f'Logical error over {num_cycles+1} cycles (single logical qubit):', 1-Z_good_list/num_trials_z)"
   ]
  },
  {
   "cell_type": "code",
   "execution_count": null,
   "id": "d7e4de44-e918-41c1-adf7-e95c93cb2273",
   "metadata": {},
   "outputs": [],
   "source": []
  },
  {
   "cell_type": "markdown",
   "id": "270cc2fb-e324-4a89-b78a-036f06338161",
   "metadata": {},
   "source": [
    "## X basis simulation¶"
   ]
  },
  {
   "cell_type": "code",
   "execution_count": 14,
   "id": "a828af1a-9d4f-4e64-aaf7-8a2e96f2b15f",
   "metadata": {},
   "outputs": [],
   "source": [
    "num_cycles = 4 ;\n",
    "basis_type = \"X\" ;\n",
    "\n",
    "initial_pre = stim.Circuit()\n",
    "initial_pre.append(\"R\", Xcheck + data_L + data_R + Zcheck)\n",
    "\n",
    "if basis_type == \"X\":\n",
    "    initial_pre.append(\"H\", data_L + data_R ) ;\n",
    "#----------------------------------------------------------------------------------------------------------------------\n",
    "SM_circuit = get_SM_circuit(error_rate_sq_com, error_rate_cz_com, error_rate_idle_com, error_crosstalk, remove_X_list, remove_Z_list, lin_order, \\\n",
    "                            data_qubits, Xchecks, Zchecks, nbs, sX, sZ)\n",
    "#----------------------------------------------------------------------------------------------------------------------\n",
    "circuit_DD = stim.Circuit()\n",
    "circuit_DD.append(\"SQRT_X_DAG\", data_L + data_R)\n",
    "circuit_DD.append(\"SQRT_X\", data_L + data_R)\n",
    "circuit_DD.append(\"DEPOLARIZE1\", data_L + data_R, error_rate_RO_to_Data )\n",
    "#----------------------------------------------------------------------------------------------------------------------\n",
    "final = stim.Circuit()\n",
    "if basis_type == \"X\":\n",
    "    final.append(\"H\", data_L + data_R ) ;\n",
    "final.append(\"M\", data_L + data_R )\n",
    "#----------------------------------------------------------------------------------------------------------------------\n",
    "Exp_circuit_logical_X = initial_pre + (SM_circuit + circuit_DD) * (num_cycles-1) + SM_circuit + final"
   ]
  },
  {
   "cell_type": "code",
   "execution_count": 15,
   "id": "8bf6ff7f-07b3-4c83-ada6-a2da70f7b2e8",
   "metadata": {},
   "outputs": [
    {
     "data": {
      "text/plain": [
       "1020"
      ]
     },
     "execution_count": 15,
     "metadata": {},
     "output_type": "execute_result"
    }
   ],
   "source": [
    "# bind GPCs for the simulator\n",
    "simulator = leaky.Simulator(num_qubits)\n",
    "\n",
    "for targets in range(num_qubits):\n",
    "    simulator.bind_leaky_channel(leaky.Instruction(\"Y\", [targets]), channel_sq)\n",
    "    simulator.bind_leaky_channel(leaky.Instruction(\"X\", [targets]), channel_sq)\n",
    "\n",
    "    #  qubit errors for DD\n",
    "    simulator.bind_leaky_channel(leaky.Instruction(\"SQRT_X\", [targets]), channel_DD)\n",
    "    \n",
    "    # qubit errors for CZ\n",
    "    simulator.bind_leaky_channel(leaky.Instruction(\"S\", [targets]), channel_tq)\n",
    "\n",
    "     # qubit errors for iding\n",
    "    simulator.bind_leaky_channel(leaky.Instruction(\"I\", [targets]), channel_idle)\n",
    "#----------------------------------------------------------------------------------------------------------------------\n",
    "# CZ leakage\n",
    "for target1, target2 in permutations(range(num_qubits), 2):\n",
    "    simulator.bind_leaky_channel( leaky.Instruction(\"CZ\", [target1, target2]), channel_cz )\n",
    "\n",
    "len( simulator.bound_leaky_channels )"
   ]
  },
  {
   "cell_type": "code",
   "execution_count": 16,
   "id": "10dd2fbd-1ba3-49c2-98d2-c23599e12a5c",
   "metadata": {},
   "outputs": [],
   "source": [
    "num_Exp_samples_X = 8000 ;"
   ]
  },
  {
   "cell_type": "code",
   "execution_count": 17,
   "id": "aac181a6-e776-400a-ba82-2cc3c076ecde",
   "metadata": {},
   "outputs": [],
   "source": [
    "results_no_meas_error_x = simulator.sample_batch(Exp_circuit_logical_X, shots = num_Exp_samples_X )\n",
    "\n",
    "# consider three-state readout errors\n",
    "results_x = apply_transition_2d(num_databits, results_no_meas_error_x, check_three_meas_error, data_three_meas_error)\n",
    "instance_no_leakage_x = np.all( (results_x == 0) | (results_x == 1), axis=1)\n",
    "# rejecting instances with leakage detected\n",
    "results_no_leakage_x = results_x[instance_no_leakage_x] ;\n",
    "num_trials_x = results_no_leakage_x.shape[0]"
   ]
  },
  {
   "cell_type": "code",
   "execution_count": 18,
   "id": "ad3fc9ad-a7cd-4fa1-9dd5-1202e3e31baf",
   "metadata": {},
   "outputs": [
    {
     "name": "stdout",
     "output_type": "stream",
     "text": [
      "11.375%\n"
     ]
    }
   ],
   "source": [
    "retain_data_fraction = num_trials_x/num_Exp_samples_X\n",
    "print(f\"{retain_data_fraction*100}%\")"
   ]
  },
  {
   "cell_type": "code",
   "execution_count": 19,
   "id": "43c0d0cb-672c-45e2-a01a-dbc3d64e8b16",
   "metadata": {},
   "outputs": [],
   "source": [
    "syndrome_history_X, final_logical_x_outcome = X_transfer_meas_to_detection(hx, lx, num_cycles, results_no_leakage_x, num_databits)"
   ]
  },
  {
   "cell_type": "code",
   "execution_count": null,
   "id": "caaaa4dd-2adc-4817-8f84-5a43959d1d1a",
   "metadata": {},
   "outputs": [],
   "source": []
  },
  {
   "cell_type": "code",
   "execution_count": 20,
   "id": "1b758499-9d52-4d51-83dc-0b391f61622c",
   "metadata": {},
   "outputs": [],
   "source": [
    "channel_probsX = Set_decoder_para_18_6_3[f\"channel_probsX_{num_cycles}\"]\n",
    "HX = Set_decoder_para_18_6_3[f\"HX_{num_cycles}\"]  ;\n",
    "HdecX = Set_decoder_para_18_6_3[f\"HdecX_{num_cycles}\"] ;\n",
    "\n",
    "bpdX=bposd_decoder(\n",
    "    HdecX, \n",
    "    channel_probs=channel_probsX, \n",
    "    max_iter=my_max_iter, \n",
    "    bp_method=my_bp_method,\n",
    "    ms_scaling_factor=my_ms_scaling_factor, \n",
    "    osd_method=my_osd_method, \n",
    "    osd_order=my_osd_order )"
   ]
  },
  {
   "cell_type": "code",
   "execution_count": 21,
   "id": "00621841-2d48-41e3-8e04-a101f47d7f29",
   "metadata": {},
   "outputs": [
    {
     "name": "stdout",
     "output_type": "stream",
     "text": [
      "Pauli+ simulation\n",
      "-------------------------\n",
      "The mean probability of error detection in cycle 1 is: 0.13937728937728935\n",
      "The mean probability of error detection in cycle 2 is: 0.3139194139194139\n",
      "The mean probability of error detection in cycle 3 is: 0.32893772893772893\n",
      "The mean probability of error detection in cycle 4 is: 0.34560439560439565\n",
      "The mean probability of error detection in cycle 5 is: 0.2705128205128205\n"
     ]
    }
   ],
   "source": [
    "labels_x = ['X0', 'X1', 'X3', 'X4', 'X6', 'X7']\n",
    "\n",
    "num_xcheck = len(labels_x) ;\n",
    "mean_detect_prob_x = np.mean(syndrome_history_X, axis=0)\n",
    "\n",
    "mean_detect_prob_cycle_x = [ np.mean(mean_detect_prob_x[num_xcheck*cycle:num_xcheck*(cycle+1)]) for cycle in range(num_cycles+1) ]\n",
    "\n",
    "print(\"Pauli+ simulation\")\n",
    "print(\"-------------------------\")\n",
    "for cycle in range(num_cycles+1) :\n",
    "    print( f'The mean probability of error detection in cycle {cycle+1} is:', mean_detect_prob_cycle_x[cycle] )"
   ]
  },
  {
   "cell_type": "code",
   "execution_count": 22,
   "id": "091c08f9-3dea-4243-9952-000de00af5a1",
   "metadata": {},
   "outputs": [
    {
     "name": "stdout",
     "output_type": "stream",
     "text": [
      "no error correction for logical X basis:\n",
      "Logical error over 5 cycles (four logical qubits): 0.9439560439560439\n",
      "Logical error over 5 cycles (single logical qubit): [0.49230769 0.47032967 0.47032967 0.41868132 0.40659341 0.40879121]\n",
      "\n",
      "\n",
      "error correction for logical X basis:\n",
      "Logical error over 5 cycles (four logical qubits): 0.8285714285714285\n",
      "Logical error over 5 cycles (single logical qubit): [0.44505495 0.44835165 0.3967033  0.36373626 0.36923077 0.38681319]\n"
     ]
    }
   ],
   "source": [
    "# correct errors for logical X (X checks)\n",
    "X_no_correction_good_trials, X_no_correction_good_list, X_good_trials, X_good_list =     \\\n",
    "            error_decoding(num_trials_x, k, bpdX, HX, syndrome_history_X, final_logical_x_outcome )\n",
    "\n",
    "print(\"no error correction for logical X basis:\")\n",
    "print(f'Logical error over {num_cycles+1} cycles (four logical qubits):', 1-X_no_correction_good_trials/num_trials_x)\n",
    "print(f'Logical error over {num_cycles+1} cycles (single logical qubit):', 1-X_no_correction_good_list/num_trials_x)\n",
    "print(\"\\n\")\n",
    "print(\"error correction for logical X basis:\")\n",
    "print(f'Logical error over {num_cycles+1} cycles (four logical qubits):', 1-X_good_trials/num_trials_x)\n",
    "print(f'Logical error over {num_cycles+1} cycles (single logical qubit):', 1-X_good_list/num_trials_x)"
   ]
  },
  {
   "cell_type": "code",
   "execution_count": null,
   "id": "dd94f159-c0d4-4659-9a89-c025d5404b08",
   "metadata": {},
   "outputs": [],
   "source": []
  },
  {
   "cell_type": "code",
   "execution_count": null,
   "id": "0a515b18-f67c-43ca-b53e-ce00e90c3387",
   "metadata": {},
   "outputs": [],
   "source": []
  },
  {
   "cell_type": "code",
   "execution_count": null,
   "id": "47a26128-0877-46d8-bac4-9861ef0c54bf",
   "metadata": {},
   "outputs": [],
   "source": []
  }
 ],
 "metadata": {
  "kernelspec": {
   "display_name": "QEC",
   "language": "python",
   "name": "qec"
  },
  "language_info": {
   "codemirror_mode": {
    "name": "ipython",
    "version": 3
   },
   "file_extension": ".py",
   "mimetype": "text/x-python",
   "name": "python",
   "nbconvert_exporter": "python",
   "pygments_lexer": "ipython3",
   "version": "3.11.9"
  }
 },
 "nbformat": 4,
 "nbformat_minor": 5
}
