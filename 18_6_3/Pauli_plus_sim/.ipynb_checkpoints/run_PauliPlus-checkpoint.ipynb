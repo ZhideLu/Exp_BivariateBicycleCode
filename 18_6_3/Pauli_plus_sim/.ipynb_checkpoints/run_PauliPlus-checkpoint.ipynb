{
 "cells": [
  {
   "cell_type": "code",
   "execution_count": 21,
   "id": "a01c6fe4-657e-41ed-90f9-b504173adc45",
   "metadata": {},
   "outputs": [],
   "source": [
    "import multiprocessing as mp\n",
    "import subprocess\n",
    "import sys\n",
    "import os\n",
    "import itertools\n",
    "\n",
    "from scipy.io import savemat\n",
    "from scipy.io import loadmat"
   ]
  },
  {
   "cell_type": "code",
   "execution_count": 22,
   "id": "a43e5e7a-5d45-48c8-97c8-f5414b001230",
   "metadata": {},
   "outputs": [],
   "source": [
    "import numpy as np"
   ]
  },
  {
   "cell_type": "code",
   "execution_count": 23,
   "id": "b0584bd5-e59a-44b8-a9d1-9ff8ca92e792",
   "metadata": {},
   "outputs": [],
   "source": [
    "mp.cpu_count()\n",
    "max_num_cycles = 6 ;"
   ]
  },
  {
   "cell_type": "markdown",
   "id": "29d6a49c-2eeb-4eac-8a63-62f4e8e9f544",
   "metadata": {},
   "source": [
    "## Pauli+ simulation"
   ]
  },
  {
   "cell_type": "code",
   "execution_count": 24,
   "id": "e7756af3-de66-45c9-ae9b-d498ad378791",
   "metadata": {},
   "outputs": [],
   "source": [
    "set_basis_type = [\"Z\", \"X\"];\n",
    "set_num_cycles = range(1, max_num_cycles+1)\n",
    "\n",
    "args = [(basis, cycle) for basis in set_basis_type for cycle in set_num_cycles]"
   ]
  },
  {
   "cell_type": "code",
   "execution_count": null,
   "id": "c5d31740-67a3-42de-863f-4f1250645f38",
   "metadata": {},
   "outputs": [],
   "source": [
    "script = \"PauliPlus_simulation.py\"\n",
    "\n",
    "def run_PauliPlus_sim(basis_type, num_cycles):\n",
    "    subprocess.run([sys.executable, script, str(basis_type), str(num_cycles) ])\n",
    "\n",
    "with mp.Pool(processes = 130) as pool:\n",
    "    pool.starmap(run_PauliPlus_sim, args)"
   ]
  },
  {
   "cell_type": "code",
   "execution_count": null,
   "id": "7cd6540b-8c4e-4cd6-9f75-5bdfc2e81f42",
   "metadata": {},
   "outputs": [],
   "source": []
  },
  {
   "cell_type": "markdown",
   "id": "ef6e4c73-64bf-470f-849a-63b4fe22d71f",
   "metadata": {},
   "source": [
    "## Error decoding"
   ]
  },
  {
   "cell_type": "code",
   "execution_count": null,
   "id": "5b48c940-6eac-4eb2-bb0e-3af4932591ec",
   "metadata": {},
   "outputs": [],
   "source": [
    "args2 = list(itertools.product(set_basis_type, set_num_cycles)) ;"
   ]
  },
  {
   "cell_type": "code",
   "execution_count": null,
   "id": "fb3733c2-b46d-42fa-94b0-e342da6d88e2",
   "metadata": {},
   "outputs": [],
   "source": [
    "script2 = \"Error_correction.py\"\n",
    "\n",
    "def run_error_decoding(basis_type, num_cycles):\n",
    "    subprocess.run([sys.executable, script2, str(basis_type), str(num_cycles) ])\n",
    "\n",
    "with mp.Pool(processes = 120) as pool:\n",
    "    pool.starmap(run_error_decoding, args2)"
   ]
  },
  {
   "cell_type": "code",
   "execution_count": null,
   "id": "d6e1e812-9ef4-4f50-a85e-e5b6e7faee58",
   "metadata": {},
   "outputs": [],
   "source": []
  },
  {
   "cell_type": "code",
   "execution_count": null,
   "id": "d9a099f7-55cd-426c-a5de-d3862229b1f2",
   "metadata": {},
   "outputs": [],
   "source": []
  },
  {
   "cell_type": "code",
   "execution_count": null,
   "id": "035b8336-b2a7-4e5e-87ee-101ea711a77a",
   "metadata": {},
   "outputs": [],
   "source": []
  },
  {
   "cell_type": "code",
   "execution_count": null,
   "id": "f424ec2f-ce78-468e-a8b3-fece463d365c",
   "metadata": {},
   "outputs": [],
   "source": []
  },
  {
   "cell_type": "code",
   "execution_count": null,
   "id": "1f15bb88-2167-4cc6-80fc-fb7f6f67c329",
   "metadata": {},
   "outputs": [],
   "source": []
  },
  {
   "cell_type": "code",
   "execution_count": null,
   "id": "2756be9d-77bd-4001-8526-c91cf69a6049",
   "metadata": {},
   "outputs": [],
   "source": []
  },
  {
   "cell_type": "code",
   "execution_count": null,
   "id": "b0d06a15-e864-41b3-8113-b36a390e0bfc",
   "metadata": {},
   "outputs": [],
   "source": []
  },
  {
   "cell_type": "code",
   "execution_count": null,
   "id": "5a249b84-ca01-4873-ae81-a581dcc5e454",
   "metadata": {},
   "outputs": [],
   "source": []
  }
 ],
 "metadata": {
  "kernelspec": {
   "display_name": "QEC",
   "language": "python",
   "name": "qec"
  },
  "language_info": {
   "codemirror_mode": {
    "name": "ipython",
    "version": 3
   },
   "file_extension": ".py",
   "mimetype": "text/x-python",
   "name": "python",
   "nbconvert_exporter": "python",
   "pygments_lexer": "ipython3",
   "version": "3.11.9"
  }
 },
 "nbformat": 4,
 "nbformat_minor": 5
}
