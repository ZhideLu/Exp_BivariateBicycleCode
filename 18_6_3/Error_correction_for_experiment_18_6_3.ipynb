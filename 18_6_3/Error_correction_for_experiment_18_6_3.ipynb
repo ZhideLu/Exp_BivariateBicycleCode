{
 "cells": [
  {
   "cell_type": "markdown",
   "id": "885334ae-6ad0-4cba-94b1-78aa18ac43a6",
   "metadata": {},
   "source": [
    "# In this note,\n",
    "1. no reset\n",
    "2. use CZ gates"
   ]
  },
  {
   "cell_type": "markdown",
   "id": "acdd7f9a-d946-44ee-a0d3-9aa561c5f989",
   "metadata": {},
   "source": [
    "## import the decoder"
   ]
  },
  {
   "cell_type": "code",
   "execution_count": 1,
   "id": "2b646300-d396-414d-ba2e-d880e05892db",
   "metadata": {},
   "outputs": [],
   "source": [
    "import numpy as np\n",
    "from mip import Model, xsum, minimize, BINARY\n",
    "from mip import OptimizationStatus\n",
    "from bposd.css import css_code\n",
    "from ldpc import bposd_decoder\n",
    "import itertools\n",
    "from ldpc import bposd_decoder \n",
    "from scipy.sparse import coo_matrix, hstack \n",
    "from ldpc import mod2\n",
    "from tabulate import tabulate\n",
    "import pickle\n",
    "import matplotlib.pyplot as plt"
   ]
  },
  {
   "cell_type": "code",
   "execution_count": 131,
   "id": "2a3abfc5-1962-404f-89cb-a5a1f7a8dfc0",
   "metadata": {},
   "outputs": [],
   "source": [
    "num_cycles = 4 ;\n",
    "\n",
    "num_L = 9 ; num_R = 9 ;\n",
    "index_Z_check = [0,1,2,6,7,8] ;\n",
    "index_X_check = [0,1,3,4,6,7] ;"
   ]
  },
  {
   "cell_type": "code",
   "execution_count": 132,
   "id": "5f86b47c-c937-4923-8edb-2f9406d8ef92",
   "metadata": {},
   "outputs": [],
   "source": [
    "with open('Set_decoder_para_18_6_3.pkl', 'rb') as f:\n",
    "    Set_decoder_para_18_6_3 = pickle.load(f)"
   ]
  },
  {
   "cell_type": "code",
   "execution_count": 133,
   "id": "586736a1-1157-4db1-8203-aa0e6aae75d3",
   "metadata": {},
   "outputs": [],
   "source": [
    "k = 6 ; n2 = 9 ;\n",
    "\n",
    "channel_probsX = Set_decoder_para_18_6_3[f\"channel_probsX_{num_cycles}\"]\n",
    "HX = Set_decoder_para_18_6_3[f\"HX_{num_cycles}\"]  ;\n",
    "HdecX = Set_decoder_para_18_6_3[f\"HdecX_{num_cycles}\"] ;\n",
    "\n",
    "channel_probsZ = Set_decoder_para_18_6_3[f\"channel_probsZ_{num_cycles}\"]\n",
    "HZ = Set_decoder_para_18_6_3[f\"HZ_{num_cycles}\"]  ;\n",
    "HdecZ = Set_decoder_para_18_6_3[f\"HdecZ_{num_cycles}\"] ;"
   ]
  },
  {
   "cell_type": "code",
   "execution_count": 134,
   "id": "247e5b6b-d9d2-4c94-9678-2c89789077f4",
   "metadata": {},
   "outputs": [],
   "source": [
    "# Setup BP-OSD decoder parameters\n",
    "my_bp_method = \"ms\"\n",
    "my_max_iter = 10000\n",
    "my_osd_method = \"osd_cs\"\n",
    "my_osd_order = 7\n",
    "my_ms_scaling_factor = 0\n",
    "\n",
    "bpdX=bposd_decoder(\n",
    "    HdecX, #the parity check matrix\n",
    "    channel_probs=channel_probsX, #assign error_rate to each qubit. This will override \"error_rate\" input variable\n",
    "    max_iter=my_max_iter, #the maximum number of iterations for BP)\n",
    "    bp_method=my_bp_method,\n",
    "    ms_scaling_factor=my_ms_scaling_factor, #min sum scaling factor. If set to zero the variable scaling factor method is used\n",
    "    osd_method=my_osd_method, #the OSD method. Choose from:  1) \"osd_e\", \"osd_cs\", \"osd0\"\n",
    "    osd_order=my_osd_order #the osd search depth\n",
    "    )\n",
    "\n",
    "bpdZ=bposd_decoder(\n",
    "    HdecZ, #the parity check matrix\n",
    "    channel_probs=channel_probsZ, #assign error_rate to each qubit. This will override \"error_rate\" input variable\n",
    "    max_iter=my_max_iter, #the maximum number of iterations for BP)\n",
    "    bp_method=my_bp_method,\n",
    "    ms_scaling_factor=my_ms_scaling_factor, #min sum scaling factor. If set to zero the variable scaling factor method is used\n",
    "    osd_method=\"osd_cs\", #the OSD method. Choose from:  1) \"osd_e\", \"osd_cs\", \"osd0\"\n",
    "    osd_order=my_osd_order #the osd search depth\n",
    "    )"
   ]
  },
  {
   "cell_type": "code",
   "execution_count": null,
   "id": "315c1e91-a45e-4d9e-8183-c199bb40453d",
   "metadata": {},
   "outputs": [],
   "source": []
  },
  {
   "cell_type": "markdown",
   "id": "9b2bf9ad-2424-4b1a-bd6b-676f636881f6",
   "metadata": {},
   "source": [
    "## Logical Z data"
   ]
  },
  {
   "cell_type": "markdown",
   "id": "c631edc4-e97b-470d-abcf-ce28c6caaa9e",
   "metadata": {},
   "source": [
    "### data processing"
   ]
  },
  {
   "cell_type": "code",
   "execution_count": 135,
   "id": "584f8ded-586a-4663-8075-6c79055ca5f9",
   "metadata": {},
   "outputs": [
    {
     "data": {
      "text/plain": [
       "dict_keys(['cycle_num', 'random_initial_state', 'states', 'final_cycle_states'])"
      ]
     },
     "execution_count": 135,
     "metadata": {},
     "output_type": "execute_result"
    }
   ],
   "source": [
    "with open (f'Experimental_data/remove_leakage_ldpc_test_result_logical_Z_cycle_num={num_cycles}','rb') as f:\n",
    "    data_z = pickle.load(f)\n",
    "data_z.keys()"
   ]
  },
  {
   "cell_type": "code",
   "execution_count": 136,
   "id": "6bff2036-def7-43ed-9ec1-cf64fc54fbf6",
   "metadata": {},
   "outputs": [],
   "source": [
    "# Z check matrix for the BB code [[18,4,4]] \n",
    "hz = Set_decoder_para_18_6_3[\"hz\"] ;\n",
    "lz = Set_decoder_para_18_6_3[\"lz\"] ;"
   ]
  },
  {
   "cell_type": "code",
   "execution_count": 137,
   "id": "7d62cbb6-8ce1-46a5-b4e9-191110dfb52d",
   "metadata": {},
   "outputs": [],
   "source": [
    "# data_z['random_initial_state']"
   ]
  },
  {
   "cell_type": "code",
   "execution_count": 138,
   "id": "f4b1a2ef-6a04-48d4-b118-b49ff6d41e4a",
   "metadata": {},
   "outputs": [],
   "source": [
    "# data qubit的初态 共有 M 个初态\n",
    "random_initial_state_z = data_z['random_initial_state']\n",
    "\n",
    "num_initial_z = random_initial_state_z.shape[0]\n",
    "# print(random_initial_state_z[0])\n",
    "\n",
    "# 按照L0...L8,R0...R8的顺序排列\n",
    "for iter in range( num_initial_z ) :\n",
    "    random_initial_state_z[iter] = dict(sorted(random_initial_state_z[iter].items(), key=lambda x: (x[0][2:])))\n",
    "\n",
    "#将 dict 转化为 list\n",
    "list_initial_z = [] ;\n",
    "for iter in range( num_initial_z  ) :\n",
    "    list_initial_z.append( list(random_initial_state_z[iter].values()) )"
   ]
  },
  {
   "cell_type": "code",
   "execution_count": null,
   "id": "61dd0512-62d5-4d4e-a99f-52f49528c9af",
   "metadata": {},
   "outputs": [],
   "source": []
  },
  {
   "cell_type": "code",
   "execution_count": 142,
   "id": "c990c487-e52e-475b-b347-45bb48ce6753",
   "metadata": {},
   "outputs": [],
   "source": [
    "# record the Z parity check outcomes and the logical Z outcomes\n",
    "dict_cycle_z_parity = {} ;\n",
    "dict_cycle_z_devents = {}\n",
    "for i in range(1, num_cycles+1):\n",
    "    dict_cycle_z_parity[f'cycle_{i}'] = [] ;\n",
    "    dict_cycle_z_devents[f'cycle_{i}'] = [] ;\n",
    "\n",
    "dict_cycle_z_parity['final'] = [] ;\n",
    "dict_cycle_z_devents['final'] = [] ;\n",
    "\n",
    "final_logical_z_outcome = [] ;\n",
    "\n",
    "for s in range(num_initial_z):\n",
    "\n",
    "    #第 s 个初始态\n",
    "    initial_z_parity = hz @ np.array(list_initial_z[s]).T % 2\n",
    "\n",
    "    num_trials_z = len(data_z['states']['cycle_1'][f'q_Z{1}'][s]) ; \n",
    "    \n",
    "    initial_logical_z_outcome = (lz @ list_initial_z[s] ) % 2\n",
    "\n",
    "    for p in range(num_trials_z):\n",
    "    \n",
    "        dict_cycle_z_parity['cycle_1'].append( np.array( [data_z['states']['cycle_1'][f'q_Z{i}'][s][p] for i in index_Z_check  ] )  )\n",
    "    \n",
    "        for cycle in range(2, 1+num_cycles):\n",
    "            current = np.array([data_z['states'][f'cycle_{cycle}'][f'q_Z{i}'][s][p] for i in index_Z_check  ]) ;\n",
    "            former = np.array([data_z['states'][f'cycle_{cycle-1}'][f'q_Z{i}'][s][p] for i in index_Z_check  ]) ;    \n",
    "            dict_cycle_z_parity[f'cycle_{cycle}'].append( (  current + former ) %2  )\n",
    "        \n",
    "        final_state_z = [ data_z['final_cycle_states'][f'q_L{i}'][s][p]  for i in range(num_L) ] + \\\n",
    "                     [ data_z['final_cycle_states'][f'q_R{i}'][s][p]  for i in range(num_R) ]  ;\n",
    "    \n",
    "        dict_cycle_z_parity['final'].append( hz @ np.array(final_state_z).T % 2 ) ;   \n",
    "    \n",
    "        final_logical_z_outcome.append(   (lz @ final_state_z - initial_logical_z_outcome) % 2   )\n",
    "\n",
    "        # record the deventions, a error devent occur if the current parity is different from the former one\n",
    "##---------------------------------------------------------------------------------------------------------------------         \n",
    "        dict_cycle_z_devents['cycle_1'].append( (dict_cycle_z_parity['cycle_1'][-1]  + initial_z_parity) %2  )\n",
    "        \n",
    "        for cycle in range(2, num_cycles+1):\n",
    "\n",
    "            dict_cycle_z_devents[f'cycle_{cycle}'].append( (dict_cycle_z_parity[f'cycle_{cycle}'][-1] + \\\n",
    "                                                            dict_cycle_z_parity[f'cycle_{cycle-1}'][-1]) %2 ) ;\n",
    "\n",
    "        dict_cycle_z_devents['final'].append( (dict_cycle_z_parity['final'][-1] + dict_cycle_z_parity[f'cycle_{num_cycles}'][-1]) %2  )"
   ]
  },
  {
   "cell_type": "code",
   "execution_count": 143,
   "id": "41bae9a3-8b41-4961-a581-83c0f9a4aa0d",
   "metadata": {},
   "outputs": [],
   "source": [
    "syndrome_history_Z = [np.hstack((arr)) for arr in zip(*dict_cycle_z_devents.values())] ;\n",
    "# final_logical_z_outcome\n",
    "num_detect_z = len(syndrome_history_Z[0]) ;\n",
    "num_instance_z = len(syndrome_history_Z)"
   ]
  },
  {
   "cell_type": "code",
   "execution_count": null,
   "id": "80f36a62-695f-4abd-9308-29c3d2b33b98",
   "metadata": {},
   "outputs": [],
   "source": []
  },
  {
   "cell_type": "code",
   "execution_count": null,
   "id": "332f8afd-c99d-494a-9873-8f8a4c7e21e7",
   "metadata": {},
   "outputs": [],
   "source": []
  },
  {
   "cell_type": "markdown",
   "id": "29a525e2-80c9-4ce1-b3aa-43ea8e8e9fec",
   "metadata": {},
   "source": [
    "### error detections"
   ]
  },
  {
   "cell_type": "code",
   "execution_count": null,
   "id": "b55cb127-7737-44e5-945f-622381e61f0e",
   "metadata": {},
   "outputs": [],
   "source": [
    "labels_z = ['Z0', 'Z1', 'Z2', 'Z6', 'Z7', 'Z8']\n",
    "# plt.bar(labels_z, np.sum(dict_cycle_z_devents['cycle_2'], axis=0)/num_trials)"
   ]
  },
  {
   "cell_type": "code",
   "execution_count": null,
   "id": "7b93a4a3-e76d-4d99-aa80-b28586a5f71a",
   "metadata": {},
   "outputs": [],
   "source": [
    "z_list_detect_prob = [np.mean(np.mean(dict_cycle_z_devents[f'cycle_{cycle}'], axis=0)) for cycle in range(1, num_cycles+1)]\n",
    "z_list_detect_prob += [np.mean(np.mean(dict_cycle_z_devents['final'], axis=0)) ]\n",
    "\n",
    "for cycle, prob in  zip(range(1, num_cycles+2), z_list_detect_prob):\n",
    "    print( f'The mean probability of error detection in cycle {cycle} is:', prob )"
   ]
  },
  {
   "cell_type": "code",
   "execution_count": null,
   "id": "d55d327d-5d69-4e64-ab8a-6ea15068f765",
   "metadata": {},
   "outputs": [],
   "source": []
  },
  {
   "cell_type": "code",
   "execution_count": null,
   "id": "cd767350-4708-4c04-ba6d-d1dc5d7db2cb",
   "metadata": {},
   "outputs": [],
   "source": [
    "plt.plot(range(1, num_cycles+2), z_list_detect_prob)"
   ]
  },
  {
   "cell_type": "markdown",
   "id": "2f6bb21b-7ab0-4381-a363-8eaccd1a3f8c",
   "metadata": {
    "jp-MarkdownHeadingCollapsed": true
   },
   "source": [
    "### Correlation matrix $p_{ij}$ for error detection events"
   ]
  },
  {
   "cell_type": "code",
   "execution_count": null,
   "id": "7c2bfa85-05b3-4760-85b9-935d6bc70cf8",
   "metadata": {},
   "outputs": [],
   "source": [
    "def p_ij(x_i, x_j, x_ij):\n",
    "\treturn (1 / 2) - (1 / 2) * np.sqrt(  1 - ( 4 * ( x_ij - x_i * x_j)) / (1 - 2 * x_i - 2 * x_j + 4 * x_ij )  )"
   ]
  },
  {
   "cell_type": "code",
   "execution_count": null,
   "id": "39e56e6b-21fe-4779-8400-60593726db5f",
   "metadata": {},
   "outputs": [],
   "source": [
    "Z_Set_averages = {\n",
    "    f\"z({s1},{s2})\": np.mean([np.prod([syndrome_history_Z[trial][s1], syndrome_history_Z[trial][s2]]) for trial in range(num_trials_z)])\n",
    "    for s1 in range(num_detect_z-1)\n",
    "    for s2 in range(s1, num_detect_z)  }\n",
    "\n",
    "Z_Set_averages.update({\n",
    "    f\"z({s3})\": np.mean([syndrome_history_Z[trial][s3] for trial in range(num_trials_z)])\n",
    "    for s3 in range(num_detect_z)   })"
   ]
  },
  {
   "cell_type": "code",
   "execution_count": null,
   "id": "615f8d15-35a1-4362-b49f-53d75a67f81c",
   "metadata": {},
   "outputs": [],
   "source": [
    "Z_Correlation_matrix = np.zeros( (num_detect_z, num_detect_z) ) ;\n",
    "\n",
    "for i in range(num_detect_z-1):\n",
    "    for j in range(i+1, num_detect_z):\n",
    "        Z_Correlation_matrix[i,j] = p_ij(Z_Set_averages[f\"z({i})\"], Z_Set_averages[f\"z({j})\"], Z_Set_averages[f\"z({i},{j})\"])\n",
    "        Z_Correlation_matrix[j,i] = Z_Correlation_matrix[i,j] ;"
   ]
  },
  {
   "cell_type": "code",
   "execution_count": null,
   "id": "1f9a83b3-2de9-4925-8edf-56cab3c0bd2d",
   "metadata": {},
   "outputs": [],
   "source": [
    "plt.figure(figsize=(8, 6))\n",
    "cax = plt.imshow(Z_Correlation_matrix, cmap='YlOrRd', interpolation='nearest')\n",
    "plt.colorbar(cax)\n",
    "plt.gca().invert_yaxis() \n",
    "plt.title('Correlation matrix $p_{ij}$', fontsize=16)\n",
    "plt.xlabel('Z Check index i', fontsize=12)\n",
    "plt.ylabel('Z Check index j', fontsize=12)"
   ]
  },
  {
   "cell_type": "code",
   "execution_count": null,
   "id": "11623b03-2b95-4f1d-af53-e7d3475afe08",
   "metadata": {},
   "outputs": [],
   "source": []
  },
  {
   "cell_type": "markdown",
   "id": "32fba059-1ac7-434b-bac9-ac6261ae1509",
   "metadata": {},
   "source": [
    "### error decoding"
   ]
  },
  {
   "cell_type": "code",
   "execution_count": null,
   "id": "a3ed3169-426c-4ed0-98ff-5cead163d1b2",
   "metadata": {},
   "outputs": [],
   "source": [
    "# correct errors for logical Z (Z checks)\n",
    "Z_no_correction_good_trials, Z_no_correction_good_list, Z_good_trials, Z_good_list =     \\\n",
    "            error_decoding(num_instance_z, k, bpdZ, HZ, syndrome_history_Z, final_logical_z_outcome )"
   ]
  },
  {
   "cell_type": "code",
   "execution_count": null,
   "id": "97f9cd5e-6b29-4957-9682-fbad2796e5a7",
   "metadata": {},
   "outputs": [],
   "source": []
  },
  {
   "cell_type": "code",
   "execution_count": null,
   "id": "e82615c7-3bf7-45bb-9f45-fb90d1ea3ead",
   "metadata": {},
   "outputs": [],
   "source": [
    "print(\"no error correction for logical Z basis:\")\n",
    "print(f'Logical error over {num_cycles+1} cycles (six logical qubits):', 1-Z_no_correction_good_trials/num_instance_z)\n",
    "print(f'Logical error over {num_cycles+1} cycles (single logical qubit):', 1-Z_no_correction_good_list/num_instance_z)\n",
    "print(\"\\n\")\n",
    "print(\"error correction for logical Z basis:\")\n",
    "print(f'Logical error over {num_cycles+1} cycles (six logical qubits):', 1-Z_good_trials/num_instance_z)\n",
    "print(f'Logical error over {num_cycles+1} cycles (single logical qubit):', 1-Z_good_list/num_instance_z)"
   ]
  },
  {
   "cell_type": "code",
   "execution_count": null,
   "id": "69c8d57a-98cb-4a05-b75c-d22436c9e1ed",
   "metadata": {},
   "outputs": [],
   "source": [
    "# print( \"Estimated logical error (Z) per cycle:\", 1 - (Z_good_trials/num_trials_z) ** (1/(num_cycles+1)) )"
   ]
  },
  {
   "cell_type": "code",
   "execution_count": null,
   "id": "90b74fb1-9a45-43d9-8260-ef6adabc51c7",
   "metadata": {},
   "outputs": [],
   "source": []
  },
  {
   "cell_type": "markdown",
   "id": "ec92a0c4-fc76-4b86-bf2b-a37c4dcaa9d9",
   "metadata": {},
   "source": [
    "## Logical X data"
   ]
  },
  {
   "cell_type": "markdown",
   "id": "1040f97b-9eaf-467f-8cb2-e3fa4b56bcba",
   "metadata": {},
   "source": [
    "### data processing"
   ]
  },
  {
   "cell_type": "code",
   "execution_count": null,
   "id": "7e3dc2c6-c47a-485e-a8c3-04aaa2c3c228",
   "metadata": {},
   "outputs": [],
   "source": [
    "with open (f'Experimental_data/remove_leakage_ldpc_test_result_logical_X_cycle_num={num_cycles}','rb') as f:\n",
    "    data_x = pickle.load(f)\n",
    "data_x.keys()\n",
    "\n",
    "# X check matrix for the BB code [[18,4,4]] \n",
    "hx = Set_decoder_para_18_6_3[\"hx\"] ;\n",
    "lx = Set_decoder_para_18_6_3[\"lx\"] ;\n",
    "\n",
    "# data qubit的初态\n",
    "random_initial_state_x = data_x['random_initial_state']\n",
    "num_initial_x = random_initial_state_x.shape[0]\n",
    "# print(random_initial_state_x[0])\n",
    "\n",
    "# 按照L0...L8,R0...R8的顺序排列\n",
    "for iter in range( num_initial_x ) :\n",
    "    random_initial_state_x[iter] = dict(sorted(random_initial_state_x[iter].items(), key=lambda x: (x[0][2:])))\n",
    "\n",
    "#将 dict 转化为 list\n",
    "list_initial_x = [] ;\n",
    "for iter in range( num_initial_x  ) :\n",
    "    list_initial_x.append( list(random_initial_state_x[iter].values()) )"
   ]
  },
  {
   "cell_type": "code",
   "execution_count": null,
   "id": "23bfae25-b849-4405-94b5-91cc4c08df10",
   "metadata": {},
   "outputs": [],
   "source": []
  },
  {
   "cell_type": "code",
   "execution_count": null,
   "id": "5153e2fb-242a-476a-a3d2-ae95b6e26bb7",
   "metadata": {},
   "outputs": [],
   "source": [
    "# record the X parity check outcomes and the logical Z outcomes\n",
    "dict_cycle_x_parity = {} ;\n",
    "dict_cycle_x_devents = {}\n",
    "for i in range(1, num_cycles+1):\n",
    "    dict_cycle_x_parity[f'cycle_{i}'] = [] ;\n",
    "    dict_cycle_x_devents[f'cycle_{i}'] = [] ;\n",
    "\n",
    "dict_cycle_x_parity['final'] = [] ;\n",
    "dict_cycle_x_devents['final'] = [] ;\n",
    "\n",
    "final_logical_x_outcome = [] ;\n",
    "\n",
    "for s in range(num_initial_x):\n",
    "\n",
    "    #第 s 个初始态\n",
    "    initial_x_parity = hx @ np.array(list_initial_x[s]).T % 2\n",
    "\n",
    "    num_trials_x = len(data_x['states']['cycle_1'][f'q_X{1}'][s]) ; \n",
    "    \n",
    "    initial_logical_x_outcome = (lx @ list_initial_x[s] ) % 2\n",
    "\n",
    "    for p in range(num_trials_x):\n",
    "    \n",
    "        dict_cycle_x_parity['cycle_1'].append( np.array( [data_x['states']['cycle_1'][f'q_X{i}'][s][p] for i in index_X_check  ] )  )\n",
    "    \n",
    "        for cycle in range(2, 1+num_cycles):\n",
    "            current = np.array([data_x['states'][f'cycle_{cycle}'][f'q_X{i}'][s][p] for i in index_X_check  ]) ;\n",
    "            former = np.array([data_x['states'][f'cycle_{cycle-1}'][f'q_X{i}'][s][p] for i in index_X_check  ]) ;    \n",
    "            dict_cycle_x_parity[f'cycle_{cycle}'].append( (  current + former ) %2  )\n",
    "        \n",
    "        final_state_x = [ data_x['final_cycle_states'][f'q_L{i}'][s][p]  for i in range(num_L) ] + \\\n",
    "                     [ data_x['final_cycle_states'][f'q_R{i}'][s][p]  for i in range(num_R) ]  ;\n",
    "    \n",
    "        dict_cycle_x_parity['final'].append( hx @ np.array(final_state_x).T % 2 ) ;   \n",
    "    \n",
    "        final_logical_x_outcome.append(   (lx @ final_state_x - initial_logical_x_outcome) % 2   )\n",
    "\n",
    "        # record the deventions, a error devent occur if the current parity is different from the former one\n",
    "##---------------------------------------------------------------------------------------------------------------------         \n",
    "        dict_cycle_x_devents['cycle_1'].append( (dict_cycle_x_parity['cycle_1'][-1]  + initial_x_parity) %2  )\n",
    "        \n",
    "        for cycle in range(2, num_cycles+1):\n",
    "\n",
    "            dict_cycle_x_devents[f'cycle_{cycle}'].append( (dict_cycle_x_parity[f'cycle_{cycle}'][-1] + \\\n",
    "                                                            dict_cycle_x_parity[f'cycle_{cycle-1}'][-1]) %2 ) ;\n",
    "\n",
    "        dict_cycle_x_devents['final'].append( (dict_cycle_x_parity['final'][-1] + dict_cycle_x_parity[f'cycle_{num_cycles}'][-1]) %2  )"
   ]
  },
  {
   "cell_type": "code",
   "execution_count": null,
   "id": "bcc66ef0-4290-457e-b9ab-4435d77ded73",
   "metadata": {},
   "outputs": [],
   "source": [
    "syndrome_history_X = [np.hstack((arr)) for arr in zip(*dict_cycle_x_devents.values())] ;\n",
    "# final_logical_x_outcome\n",
    "num_detect_x = len(syndrome_history_X[0]) ;\n",
    "num_instance_x = len(syndrome_history_X)"
   ]
  },
  {
   "cell_type": "markdown",
   "id": "7d73549d-5741-4c44-9b83-62d0875af766",
   "metadata": {
    "jp-MarkdownHeadingCollapsed": true
   },
   "source": [
    "### error detections"
   ]
  },
  {
   "cell_type": "code",
   "execution_count": null,
   "id": "922cf7e9-3d23-4bd4-b237-fafc1e867cb3",
   "metadata": {},
   "outputs": [],
   "source": [
    "labels_x = ['X0', 'X1', 'X3', 'X4', 'X6', 'X7']\n",
    "\n",
    "x_list_detect_prob = [np.mean(np.mean(dict_cycle_x_devents[f'cycle_{cycle}'], axis=0)) for cycle in range(1, num_cycles+1)]\n",
    "x_list_detect_prob += [np.mean(np.mean(dict_cycle_x_devents['final'], axis=0)) ]\n",
    "\n",
    "for cycle, prob in  zip(range(1, num_cycles+2), x_list_detect_prob):\n",
    "    print( f'The mean probability of error detection in cycle {cycle} is:', prob )\n",
    "\n",
    "plt.plot(range(1, num_cycles+2), x_list_detect_prob)"
   ]
  },
  {
   "cell_type": "code",
   "execution_count": null,
   "id": "e98477b1-69a7-4dd7-8083-9ddf92b15174",
   "metadata": {},
   "outputs": [],
   "source": []
  },
  {
   "cell_type": "markdown",
   "id": "765f36d7-8519-4b19-8a6f-01ea5d25551a",
   "metadata": {},
   "source": [
    "### Correlation matrix $p_{ij}$ for error detection events"
   ]
  },
  {
   "cell_type": "code",
   "execution_count": null,
   "id": "f5140e9e-29e1-4378-875a-260892372abc",
   "metadata": {},
   "outputs": [],
   "source": [
    "X_Set_averages = {\n",
    "    f\"x({s1},{s2})\": np.mean([np.prod([syndrome_history_X[trial][s1], syndrome_history_X[trial][s2]]) for trial in range(num_trials_x)])\n",
    "    for s1 in range(num_detect_x-1)\n",
    "    for s2 in range(s1, num_detect_x)  }\n",
    "\n",
    "X_Set_averages.update({\n",
    "    f\"x({s3})\": np.mean([syndrome_history_X[trial][s3] for trial in range(num_trials_x)])\n",
    "    for s3 in range(num_detect_x)   })"
   ]
  },
  {
   "cell_type": "code",
   "execution_count": null,
   "id": "a81e2c76-e9f2-4b34-b545-bc5340cd1745",
   "metadata": {},
   "outputs": [],
   "source": [
    "X_Correlation_matrix = np.zeros( (num_detect_x, num_detect_x) ) ;\n",
    "\n",
    "for i in range(num_detect_x-1):\n",
    "    for j in range(i+1, num_detect_x):\n",
    "        X_Correlation_matrix[i,j] = p_ij(X_Set_averages[f\"x({i})\"], X_Set_averages[f\"x({j})\"], X_Set_averages[f\"x({i},{j})\"])\n",
    "        X_Correlation_matrix[j,i] = X_Correlation_matrix[i,j] ;"
   ]
  },
  {
   "cell_type": "code",
   "execution_count": null,
   "id": "f54a12ec-cd69-4006-992b-7600be92cc01",
   "metadata": {},
   "outputs": [],
   "source": [
    "# i = 6; j = 11"
   ]
  },
  {
   "cell_type": "code",
   "execution_count": null,
   "id": "88e56713-8b00-4436-ae15-0fffd5557d79",
   "metadata": {},
   "outputs": [],
   "source": [
    "plt.figure(figsize=(8, 6))\n",
    "cax = plt.imshow(X_Correlation_matrix, cmap='YlOrRd', interpolation='nearest')\n",
    "plt.colorbar(cax)\n",
    "plt.gca().invert_yaxis() \n",
    "plt.title('Correlation matrix $p_{ij}$', fontsize=16)\n",
    "plt.xlabel('X Check index i', fontsize=12)\n",
    "plt.ylabel('X Check index j', fontsize=12)"
   ]
  },
  {
   "cell_type": "code",
   "execution_count": null,
   "id": "3190bc81-2263-43bb-b945-912ec3ece8af",
   "metadata": {},
   "outputs": [],
   "source": [
    "# print(tabulate(X_Correlation_matrix))"
   ]
  },
  {
   "cell_type": "markdown",
   "id": "1a26d411-b6ef-4291-80db-985c4e7da237",
   "metadata": {},
   "source": [
    "## error decoding"
   ]
  },
  {
   "cell_type": "code",
   "execution_count": null,
   "id": "e92cc27c-c066-48df-ba7a-8768aec601f1",
   "metadata": {},
   "outputs": [],
   "source": [
    "# correct errors for logical X (X checks)\n",
    "X_no_correction_good_trials, X_no_correction_good_list, X_good_trials, X_good_list =     \\\n",
    "            error_decoding(num_instance_x, k, bpdX, HX, syndrome_history_X, final_logical_x_outcome )"
   ]
  },
  {
   "cell_type": "code",
   "execution_count": null,
   "id": "16309c4e-16f7-4478-8de8-969f2adb92cd",
   "metadata": {},
   "outputs": [],
   "source": [
    "print(\"no error correction for logical X basis:\")\n",
    "print(f'Logical error over {num_cycles+1} cycles (six logical qubits):', 1-X_no_correction_good_trials/num_instance_x)\n",
    "print(f'Logical error over {num_cycles+1} cycles (single logical qubit):', 1-X_no_correction_good_list/num_instance_x)\n",
    "print(\"\\n\")\n",
    "print(\"error correction for logical X basis:\")\n",
    "print(f'Logical error over {num_cycles+1} cycles (six logical qubits):', 1-X_good_trials/num_instance_x)\n",
    "print(f'Logical error over {num_cycles+1} cycles (single logical qubit):', 1-X_good_list/num_instance_x)"
   ]
  },
  {
   "cell_type": "code",
   "execution_count": null,
   "id": "e38bd91f-f001-4b54-923f-c73f3b18103a",
   "metadata": {},
   "outputs": [],
   "source": []
  },
  {
   "cell_type": "code",
   "execution_count": null,
   "id": "2e29ee6a-41ec-4e56-bd4c-74c261121a00",
   "metadata": {},
   "outputs": [],
   "source": []
  },
  {
   "cell_type": "code",
   "execution_count": null,
   "id": "8db0a4fd-2e4a-4e49-9a21-4e49c6378b26",
   "metadata": {},
   "outputs": [],
   "source": []
  },
  {
   "cell_type": "code",
   "execution_count": null,
   "id": "50ba30d4-90f4-4d1c-8cdb-7956edaa73f0",
   "metadata": {},
   "outputs": [],
   "source": []
  },
  {
   "cell_type": "code",
   "execution_count": null,
   "id": "1415dd85-15e3-46b5-acd5-a866904f34d9",
   "metadata": {},
   "outputs": [],
   "source": []
  }
 ],
 "metadata": {
  "kernelspec": {
   "display_name": "QEC",
   "language": "python",
   "name": "qec"
  },
  "language_info": {
   "codemirror_mode": {
    "name": "ipython",
    "version": 3
   },
   "file_extension": ".py",
   "mimetype": "text/x-python",
   "name": "python",
   "nbconvert_exporter": "python",
   "pygments_lexer": "ipython3",
   "version": "3.11.9"
  }
 },
 "nbformat": 4,
 "nbformat_minor": 5
}
