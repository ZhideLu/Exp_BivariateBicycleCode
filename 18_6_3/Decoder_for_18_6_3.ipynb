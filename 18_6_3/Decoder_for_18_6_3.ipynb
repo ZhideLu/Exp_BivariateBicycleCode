{
 "cells": [
  {
   "cell_type": "markdown",
   "id": "b1095ab9-d8aa-41cc-9282-bc5ef884fcfd",
   "metadata": {},
   "source": [
    "quantum LDPCcode [[18,6,3]]"
   ]
  },
  {
   "cell_type": "code",
   "execution_count": 1,
   "id": "2b646300-d396-414d-ba2e-d880e05892db",
   "metadata": {},
   "outputs": [],
   "source": [
    "import numpy as np\n",
    "from mip import Model, xsum, minimize, BINARY\n",
    "from mip import OptimizationStatus\n",
    "from bposd.css import css_code\n",
    "from ldpc import bposd_decoder\n",
    "import pickle\n",
    "import itertools\n",
    "from ldpc import bposd_decoder \n",
    "from scipy.sparse import coo_matrix, hstack \n",
    "from ldpc import mod2\n",
    "from tabulate import tabulate\n",
    "import matplotlib.pyplot as plt"
   ]
  },
  {
   "cell_type": "code",
   "execution_count": 2,
   "id": "5f86b47c-c937-4923-8edb-2f9406d8ef92",
   "metadata": {},
   "outputs": [],
   "source": [
    "import sys\n",
    "import os\n",
    "sys.path.append(os.path.abspath(\"..\")) \n",
    "\n",
    "from functions_BB_code import ell, m, n, n2, A, B, AT, BT, num_end \n",
    "from functions_BB_code import distance_test, rank2, get_connection_Tanner, get_layout\n",
    "from functions_BB_code import get_SM_circuit_parallel, get_SM_circuit_separate\n",
    "from functions_BB_code import simulate_circuit_Lx, simulate_circuit_Lz\n",
    "from functions_BB_code import get_Set_noisy_circuits_logical_X, get_Set_noisy_circuits_logical_Z\n",
    "from functions_BB_code import decoding_X_matrix, decoding_Z_matrix\n",
    "from functions_BB_code import simulate_syndrome_Lx, simulate_syndrome_Lz \n",
    "from functions_BB_code import generate_noisy_circuit\n",
    "from functions_BB_code import error_decoding"
   ]
  },
  {
   "cell_type": "markdown",
   "id": "6b5d578e-3bd2-4a88-937c-e4377c3edcb0",
   "metadata": {},
   "source": [
    "## Code construction"
   ]
  },
  {
   "cell_type": "code",
   "execution_count": 3,
   "id": "5d3f23a0-802e-430d-9261-703dc5fa2538",
   "metadata": {},
   "outputs": [
    {
     "name": "stdout",
     "output_type": "stream",
     "text": [
      "Testing CSS code...\n",
      "<Unnamed CSS code>, (3,6)-[[18,6,nan]]\n",
      " -Block dimensions: Pass\n",
      " -PCMs commute hz@hx.T==0: Pass\n",
      " -PCMs commute hx@hz.T==0: Pass\n",
      " -lx \\in ker{hz} AND lz \\in ker{hx}: Pass\n",
      " -lx and lz anticommute: Pass\n",
      " -<Unnamed CSS code> is a valid CSS code w/ params (3,6)-[[18,6,nan]]\n"
     ]
    },
    {
     "data": {
      "text/plain": [
       "True"
      ]
     },
     "execution_count": 3,
     "metadata": {},
     "output_type": "execute_result"
    }
   ],
   "source": [
    "# [[18, 6, 3]]\n",
    "ell,m = 3, 3\n",
    "a1,a2,a3 = 1, 0, 2\n",
    "b1,b2,b3 = 1, 0, 2\n",
    "\n",
    "# code length\n",
    "n = 2*m*ell;  n2 = m*ell\n",
    "\n",
    "I_ell = np.identity(ell,dtype=int) ; I_m = np.identity(m,dtype=int); I = np.identity(ell*m,dtype=int)\n",
    "x = {} ;  y = {}\n",
    "\n",
    "for i in range(ell):\n",
    "\tx[i] = np.kron(np.roll(I_ell,i,axis=1),I_m)\n",
    "for i in range(m):\n",
    "\ty[i] = np.kron(I_ell,np.roll(I_m,i,axis=1))\n",
    "\n",
    "A = (x[a1%ell] + y[a2%m] + y[a3%m]) % 2\n",
    "B = (y[b1%m] + x[b2%ell] + x[b3%ell]) % 2\n",
    "\n",
    "A1 = x[a1%ell]; A2 = y[a2%m]; A3 = y[a3%m]\n",
    "B1 = y[b1%m]; B2 = x[b2%ell]; B3 = x[b3%ell]\n",
    "\n",
    "AT = np.transpose(A) ; BT = np.transpose(B)\n",
    "\n",
    "# Testing CSS code\n",
    "hx = np.hstack((A,B));  hz = np.hstack((BT,AT))\n",
    "\n",
    "remove_X_list = [2, 5, 8] ;  remove_Z_list = [3, 4, 5] ;\n",
    "\n",
    "hx = np.delete(hx, remove_X_list, axis=0) ; hz = np.delete(hz, remove_Z_list, axis=0)\n",
    "\n",
    "# number of logical qubits\n",
    "k = n - rank2(hx) - rank2(hz)\n",
    "\n",
    "qcode=css_code(hx=hx, hz=hz)\n",
    "# qcode.compute_code_distance()   # this will take some time!\n",
    "print('Testing CSS code...')\n",
    "qcode.test()"
   ]
  },
  {
   "cell_type": "code",
   "execution_count": null,
   "id": "674ce523-9557-4eb9-bae3-4a5859ff57b2",
   "metadata": {},
   "outputs": [],
   "source": []
  },
  {
   "cell_type": "code",
   "execution_count": 4,
   "id": "0febf3fe-4956-4ec4-b24c-03708d959842",
   "metadata": {},
   "outputs": [
    {
     "data": {
      "text/plain": [
       "array([[1, 0, 0, 0, 0, 0],\n",
       "       [0, 1, 0, 0, 0, 0],\n",
       "       [0, 0, 1, 0, 0, 0],\n",
       "       [0, 0, 0, 1, 0, 0],\n",
       "       [0, 0, 0, 0, 1, 0],\n",
       "       [0, 0, 0, 0, 0, 1]])"
      ]
     },
     "execution_count": 4,
     "metadata": {},
     "output_type": "execute_result"
    }
   ],
   "source": [
    "# logical operator\n",
    "# we choose a set of basis such that each logical X anticommute with its corresponding logical Z.\n",
    "lz = qcode.lz ;  lx = qcode.lx\n",
    "\n",
    "lz_copy = lz.copy()\n",
    "\n",
    "lz_copy[0] = lz[2] ;\n",
    "lz_copy[1] = (  lz[2] + lz[3] + lz[4] ) %2 ;\n",
    "lz_copy[2] = (  lz[2] + lz[3] + lz[5] ) %2 ;\n",
    "lz_copy[3] = ( lz[0] + lz[2] + lz[3] + lz[4] + lz[5] ) %2 ;\n",
    "lz_copy[4] = ( lz[1] + lz[2] + lz[5] ) %2 ;\n",
    "lz_copy[5] = lz[4] ;\n",
    "\n",
    "lz = lz_copy ;\n",
    "(lz@lx.T) %2"
   ]
  },
  {
   "cell_type": "code",
   "execution_count": null,
   "id": "b4b641c9-6fd2-4ac8-a918-b0693ed6758c",
   "metadata": {},
   "outputs": [],
   "source": []
  },
  {
   "cell_type": "code",
   "execution_count": null,
   "id": "ee1226d7-d608-4e79-931a-251b34e06e0c",
   "metadata": {},
   "outputs": [],
   "source": []
  },
  {
   "cell_type": "code",
   "execution_count": null,
   "id": "126de5db-75b0-4a38-9fd9-6d7d0c49c9ff",
   "metadata": {},
   "outputs": [],
   "source": [
    "# binary_vectors = list(itertools.product([0, 1], repeat=6)) ;\n",
    "# for item in binary_vectors :\n",
    "#     if all(  (( item @ lz) @ lx.T)%2 == np.array([0, 0, 0, 1, 0, 0]) ) :\n",
    "#         print(item)"
   ]
  },
  {
   "cell_type": "code",
   "execution_count": null,
   "id": "98dd8554-2dc9-44ec-80e8-88ba025f88a8",
   "metadata": {},
   "outputs": [],
   "source": [
    "# binary_vectors = list(itertools.product([0, 1], repeat = 6)) \n",
    "\n",
    "# # for s in range(6):\n",
    "# for item in binary_vectors :\n",
    "#     result = (item @ hz + lz[0]) %2 \n",
    "#     if sum(result) < 4 :\n",
    "#         print(result)"
   ]
  },
  {
   "cell_type": "code",
   "execution_count": 5,
   "id": "4527a69a-c92b-4637-99a7-66eb72ceff40",
   "metadata": {},
   "outputs": [
    {
     "name": "stdout",
     "output_type": "stream",
     "text": [
      "Computing code distance...\n",
      "Code parameters: n,k,d= 18 6 3\n"
     ]
    }
   ],
   "source": [
    "# Distance_test\n",
    "print('Computing code distance...')\n",
    "d = n\n",
    "for i in range(k):\n",
    "\tw = distance_test(hz,lz[i,:])\n",
    "\t# print('Logical qubit=',i,'Distance=',w)\n",
    "\td = min(d,w)\n",
    "    \n",
    "for i in range(k):\n",
    "\tw = distance_test(hx,lx[i,:])\n",
    "\t# print('Logical qubit=',i,'Distance=',w)\n",
    "\td = min(d,w)\n",
    "print('Code parameters: n,k,d=',n,k,d)"
   ]
  },
  {
   "cell_type": "code",
   "execution_count": null,
   "id": "7485238c-9aa8-4cdc-b99d-7e713d4a9523",
   "metadata": {},
   "outputs": [],
   "source": []
  },
  {
   "cell_type": "code",
   "execution_count": 6,
   "id": "0773e24e-5f86-4cf9-992c-3d931c65f5bd",
   "metadata": {},
   "outputs": [],
   "source": [
    "# the order of two-qubit gates\n",
    "sX = ['idle', 'idle', 1, 4, 3, 5, 0, 2] ; sZ = ['idle', 3, 5, 0, 1, 2, 4, 'idle'] ;\n",
    "\n",
    "# Connections of edges in the Tanner graph\n",
    "lin_order, data_qubits, Xchecks, Zchecks, nbs = get_connection_Tanner(remove_X_list, remove_Z_list, n2)"
   ]
  },
  {
   "cell_type": "code",
   "execution_count": null,
   "id": "46b43aed-ec4f-42e4-87af-70a2505e7107",
   "metadata": {},
   "outputs": [],
   "source": []
  },
  {
   "cell_type": "code",
   "execution_count": 7,
   "id": "2408179f-a2fd-434b-bd5e-8dcb08a65873",
   "metadata": {},
   "outputs": [],
   "source": [
    "SM_cycle = get_SM_circuit_parallel(remove_X_list, remove_Z_list, lin_order, data_qubits, Xchecks, Zchecks, nbs, sX, sZ ) ;"
   ]
  },
  {
   "cell_type": "code",
   "execution_count": 8,
   "id": "13a8c30a-0d7f-426e-8194-bd2bdd2ac954",
   "metadata": {},
   "outputs": [],
   "source": [
    "cycle_append = []\n",
    "for q in data_qubits:\n",
    "    cycle_append.append(('final',q))"
   ]
  },
  {
   "cell_type": "code",
   "execution_count": null,
   "id": "24e3568c-273e-4671-906d-7bafdab83497",
   "metadata": {},
   "outputs": [],
   "source": []
  },
  {
   "cell_type": "markdown",
   "id": "43020675-288f-4ba4-bf37-55fc9ded86ee",
   "metadata": {},
   "source": [
    "## Prior probability"
   ]
  },
  {
   "cell_type": "code",
   "execution_count": 9,
   "id": "cafdf868-5811-43d6-ad4a-d2253e20181e",
   "metadata": {},
   "outputs": [],
   "source": [
    "# # depolarizing noise model \n",
    "from component_error_rates import *\n",
    "\n",
    "# Setup BP-OSD decoder parameters\n",
    "my_bp_method = \"ms\"\n",
    "my_max_iter = 10000\n",
    "my_osd_method = \"osd_cs\"\n",
    "my_osd_order = 7\n",
    "my_ms_scaling_factor = 0"
   ]
  },
  {
   "cell_type": "code",
   "execution_count": null,
   "id": "f9ce2f4d-eb8e-4f81-9fbc-53b816a91c11",
   "metadata": {},
   "outputs": [],
   "source": []
  },
  {
   "cell_type": "markdown",
   "id": "9a038c29-8724-4dac-9fab-cada6920719b",
   "metadata": {},
   "source": [
    "## Decoder"
   ]
  },
  {
   "cell_type": "code",
   "execution_count": 12,
   "id": "d589ae0f-2998-40fb-b725-4cad2d3df6ab",
   "metadata": {},
   "outputs": [],
   "source": [
    "Set_decoder_para_18_6_3 = {} ;"
   ]
  },
  {
   "cell_type": "code",
   "execution_count": 13,
   "id": "52e7e07e-b09f-45c3-9e81-847338827746",
   "metadata": {},
   "outputs": [],
   "source": [
    "max_num_cycles = 6;"
   ]
  },
  {
   "cell_type": "code",
   "execution_count": 14,
   "id": "f8c45dc6-eae4-47c6-8f7f-f609fc3548b8",
   "metadata": {
    "scrolled": true
   },
   "outputs": [
    {
     "name": "stdout",
     "output_type": "stream",
     "text": [
      "Number of noisy circuits for the logical X state = 1506\n",
      "Number of noisy circuits for the logical Z state = 1506\n",
      "Number of distinct syndrome histories for logical X = 79\n",
      "Number of distinct syndrome histories for logical Z = 79\n",
      "Number of noisy circuits for the logical X state = 3012\n",
      "Number of noisy circuits for the logical Z state = 3012\n",
      "Number of distinct syndrome histories for logical X = 145\n",
      "Number of distinct syndrome histories for logical Z = 145\n",
      "Number of noisy circuits for the logical X state = 4518\n",
      "Number of noisy circuits for the logical Z state = 4518\n",
      "Number of distinct syndrome histories for logical X = 211\n",
      "Number of distinct syndrome histories for logical Z = 211\n",
      "Number of noisy circuits for the logical X state = 6024\n",
      "Number of noisy circuits for the logical Z state = 6024\n",
      "Number of distinct syndrome histories for logical X = 277\n",
      "Number of distinct syndrome histories for logical Z = 277\n",
      "Number of noisy circuits for the logical X state = 7530\n",
      "Number of noisy circuits for the logical Z state = 7530\n",
      "Number of distinct syndrome histories for logical X = 343\n",
      "Number of distinct syndrome histories for logical Z = 343\n",
      "Number of noisy circuits for the logical X state = 9036\n",
      "Number of noisy circuits for the logical Z state = 9036\n",
      "Number of distinct syndrome histories for logical X = 409\n",
      "Number of distinct syndrome histories for logical Z = 409\n"
     ]
    }
   ],
   "source": [
    "for num_cycles in range(1, max_num_cycles + 1):\n",
    "\n",
    "    # full syndrome measurement circuit\n",
    "    cycle_repeated = (num_cycles-1) * SM_cycle[2*n2-len(remove_X_list)-len(remove_Z_list):] + \\\n",
    "                SM_cycle[2*n2-len(remove_X_list)-len(remove_Z_list) : -2*n2] + cycle_append  ;\n",
    "    \n",
    "    # Generating noisy circuits with a singe faulty operation\n",
    "    X_circuits, X_Prob = get_Set_noisy_circuits_logical_X(cycle_repeated, error_rate_init, error_rate_idle, error_rate_H, error_rate_cz, \\\n",
    "                                                          error_rate_meas, error_final, error_DD_phaseflip, error_DD_bitflip)\n",
    "    num_errX=len(X_circuits)\n",
    "    print('Number of noisy circuits for the logical X state =',num_errX)\n",
    "    \n",
    "    \n",
    "    Z_circuits, Z_Prob = get_Set_noisy_circuits_logical_Z(cycle_repeated, error_rate_init, error_rate_idle, error_rate_H, error_rate_cz, \\\n",
    "                                                          error_rate_meas, error_final, error_DD_phaseflip, error_DD_bitflip)\n",
    "    num_errZ=len(Z_circuits)\n",
    "    print('Number of noisy circuits for the logical Z state =',num_errZ)    \n",
    "    \n",
    "    channel_probsX, HX, HdecX, HXdict = decoding_X_matrix(X_circuits, X_Prob, num_cycles, SM_cycle, lin_order, n, k, data_qubits, \\\n",
    "                                                          Xchecks, lx, remove_X_list, remove_Z_list) ;\n",
    "    \n",
    "    channel_probsZ, HZ, HdecZ, HZdict = decoding_Z_matrix(Z_circuits, Z_Prob, num_cycles, SM_cycle, lin_order, n, k, data_qubits, \\\n",
    "                                                          Zchecks, lz, remove_X_list, remove_Z_list) ;\n",
    "    \n",
    "    Set_decoder_para_18_6_3[f\"channel_probsX_{num_cycles}\"] = channel_probsX ;\n",
    "    Set_decoder_para_18_6_3[f\"HX_{num_cycles}\"] = HX ;\n",
    "    Set_decoder_para_18_6_3[f\"HdecX_{num_cycles}\"] = HdecX ;\n",
    "\n",
    "    Set_decoder_para_18_6_3[f\"channel_probsZ_{num_cycles}\"] = channel_probsZ ;\n",
    "    Set_decoder_para_18_6_3[f\"HZ_{num_cycles}\"] = HZ ;\n",
    "    Set_decoder_para_18_6_3[f\"HdecZ_{num_cycles}\"] = HdecZ ;  "
   ]
  },
  {
   "cell_type": "code",
   "execution_count": 15,
   "id": "1d7e2026-bfa2-49c3-979f-fa069917fa8e",
   "metadata": {
    "scrolled": true
   },
   "outputs": [],
   "source": [
    "Set_decoder_para_18_6_3[\"hx\"] = hx ;\n",
    "Set_decoder_para_18_6_3[\"hz\"] = hz ;\n",
    "Set_decoder_para_18_6_3[\"lx\"] = lx ;\n",
    "Set_decoder_para_18_6_3[\"lz\"] = lz ;"
   ]
  },
  {
   "cell_type": "code",
   "execution_count": 17,
   "id": "10ff1b4a-168b-46fa-a697-578fb112f82b",
   "metadata": {},
   "outputs": [],
   "source": [
    "with open('Set_decoder_para_18_6_3.pkl', 'wb') as f:\n",
    "    pickle.dump(Set_decoder_para_18_6_3, f)"
   ]
  },
  {
   "cell_type": "code",
   "execution_count": null,
   "id": "c9d0bc5b-bfe5-46e3-aa17-a4d36bba14c0",
   "metadata": {},
   "outputs": [],
   "source": []
  },
  {
   "cell_type": "markdown",
   "id": "c207ab79-b7fe-4c98-965f-258890a01c7a",
   "metadata": {},
   "source": [
    "## classical simulation"
   ]
  },
  {
   "cell_type": "code",
   "execution_count": null,
   "id": "fc4f1e85-8a72-4ab4-a43d-77da873e10f7",
   "metadata": {},
   "outputs": [],
   "source": [
    "num_cycles = 3;"
   ]
  },
  {
   "cell_type": "code",
   "execution_count": null,
   "id": "57487bfc-c99f-4a97-9fc4-4facfe6d5a68",
   "metadata": {},
   "outputs": [],
   "source": [
    "channel_probsX = Set_decoder_para_18_6_3[f\"channel_probsX_{num_cycles}\"]\n",
    "HX = Set_decoder_para_18_6_3[f\"HX_{num_cycles}\"]  ;\n",
    "HdecX = Set_decoder_para_18_6_3[f\"HdecX_{num_cycles}\"] ;\n",
    "\n",
    "channel_probsZ = Set_decoder_para_18_6_3[f\"channel_probsZ_{num_cycles}\"]\n",
    "HZ = Set_decoder_para_18_6_3[f\"HZ_{num_cycles}\"]  ;\n",
    "HdecZ = Set_decoder_para_18_6_3[f\"HdecZ_{num_cycles}\"] ;"
   ]
  },
  {
   "cell_type": "code",
   "execution_count": null,
   "id": "1f50a9a7-f23a-4b4b-a650-03bb0928442b",
   "metadata": {},
   "outputs": [],
   "source": [
    "bpdX=bposd_decoder(\n",
    "    HdecX, #the parity check matrix\n",
    "    channel_probs=channel_probsX, #assign error_rate to each qubit. This will override \"error_rate\" input variable\n",
    "    max_iter=my_max_iter, #the maximum number of iterations for BP)\n",
    "    bp_method=my_bp_method,\n",
    "    ms_scaling_factor=my_ms_scaling_factor, #min sum scaling factor. If set to zero the variable scaling factor method is used\n",
    "    osd_method=my_osd_method, #the OSD method. Choose from:  1) \"osd_e\", \"osd_cs\", \"osd0\"\n",
    "    osd_order=my_osd_order #the osd search depth\n",
    "    )\n",
    "\n",
    "bpdZ=bposd_decoder(\n",
    "    HdecZ, #the parity check matrix\n",
    "    channel_probs=channel_probsZ, #assign error_rate to each qubit. This will override \"error_rate\" input variable\n",
    "    max_iter=my_max_iter, #the maximum number of iterations for BP)\n",
    "    bp_method=my_bp_method,\n",
    "    ms_scaling_factor=my_ms_scaling_factor, #min sum scaling factor. If set to zero the variable scaling factor method is used\n",
    "    osd_method=\"osd_cs\", #the OSD method. Choose from:  1) \"osd_e\", \"osd_cs\", \"osd0\"\n",
    "    osd_order=my_osd_order #the osd search depth\n",
    "    )"
   ]
  },
  {
   "cell_type": "markdown",
   "id": "57745bec-1273-4b7c-a2ce-0f09f315d262",
   "metadata": {},
   "source": [
    "### Logical X"
   ]
  },
  {
   "cell_type": "markdown",
   "id": "3a149022-fa7c-470b-96c2-adbd096fd961",
   "metadata": {},
   "source": [
    "#### classical simulation"
   ]
  },
  {
   "cell_type": "code",
   "execution_count": null,
   "id": "2e684c1e-28bb-4146-b5e8-7936e0302bbe",
   "metadata": {},
   "outputs": [],
   "source": [
    "num_trials_x = 50 ;\n",
    "syndrome_history_X, final_logical_x_outcome = simulate_syndrome_Lx(num_trials_x, num_cycles, SM_cycle, cycle_append, error_rate_init, \\\n",
    "                error_rate_idle, error_rate_H, error_rate_cz, error_rate_meas, error_final, error_DD_phaseflip, error_DD_bitflip, lx, \\\n",
    "                                                              lin_order, data_qubits, Xchecks, remove_X_list, remove_Z_list)"
   ]
  },
  {
   "cell_type": "code",
   "execution_count": null,
   "id": "70b9c222-42e9-4e65-8aa2-d8a206e25fc1",
   "metadata": {},
   "outputs": [],
   "source": []
  },
  {
   "cell_type": "code",
   "execution_count": null,
   "id": "738e6f6f-ded6-4982-9b52-5c9d1565200a",
   "metadata": {},
   "outputs": [],
   "source": [
    "assert( len(syndrome_history_X[0]) == (num_cycles+1) * (n2 - len(remove_X_list) ) )\n",
    "num_detect_x = len(syndrome_history_X[0]) ;"
   ]
  },
  {
   "cell_type": "markdown",
   "id": "c7aae70a-9ef6-42ab-b2bc-63ea1cb8cf1b",
   "metadata": {},
   "source": [
    "#### Error detections"
   ]
  },
  {
   "cell_type": "code",
   "execution_count": null,
   "id": "51c2aba4-7880-426a-beab-f24b7682860e",
   "metadata": {},
   "outputs": [],
   "source": [
    "labels_x = ['X0', 'X1', 'X3', 'X4', 'X5', 'X6', 'X7']\n",
    "num_xcheck = len(labels_x) ;\n",
    "\n",
    "mean_detect_prob_x = np.mean(syndrome_history_X, axis=0) ;\n",
    "mean_detect_prob_cycle_x = [ np.mean(mean_detect_prob_x[num_xcheck*cycle:num_xcheck*(cycle+1)]) for cycle in range(num_cycles+1) ]\n",
    "\n",
    "for cycle in range(num_cycles+1) :\n",
    "    print( f'The mean probability of error detection in cycle {cycle+1} is:', mean_detect_prob_cycle_x[cycle] )\n",
    "\n",
    "plt.plot(range(1, num_cycles+2), mean_detect_prob_cycle_x)"
   ]
  },
  {
   "cell_type": "code",
   "execution_count": null,
   "id": "d59e1894-b4d7-4fd5-b8b4-36de6108b013",
   "metadata": {},
   "outputs": [],
   "source": []
  },
  {
   "cell_type": "markdown",
   "id": "a489ca6c-abce-4941-8e00-83654c077553",
   "metadata": {},
   "source": [
    "#### Correlation matrix $p_{ij}$ for error detection events"
   ]
  },
  {
   "cell_type": "code",
   "execution_count": null,
   "id": "2d8c6d4c-b4fe-49d8-a56c-24c722e22ef0",
   "metadata": {},
   "outputs": [],
   "source": [
    "def p_ij(x_i, x_j, x_ij):\n",
    "\treturn (1 / 2) - (1 / 2) * np.sqrt(  1 - ( 4 * ( x_ij - x_i * x_j)) / (1 - 2 * x_i - 2 * x_j + 4 * x_ij )  )"
   ]
  },
  {
   "cell_type": "code",
   "execution_count": null,
   "id": "7d0922c5-c15c-48c6-af30-1e28da8f7fcf",
   "metadata": {},
   "outputs": [],
   "source": [
    "X_Set_averages = {\n",
    "    f\"x({s1},{s2})\": np.mean([np.prod([syndrome_history_X[trial][s1], syndrome_history_X[trial][s2]]) for trial in range(num_trials_x)])\n",
    "    for s1 in range(num_detect_x-1)\n",
    "    for s2 in range(s1, num_detect_x)  }\n",
    "\n",
    "X_Set_averages.update({\n",
    "    f\"x({s3})\": np.mean([syndrome_history_X[trial][s3] for trial in range(num_trials_x)])\n",
    "    for s3 in range(num_detect_x)   })"
   ]
  },
  {
   "cell_type": "code",
   "execution_count": null,
   "id": "02a35a58-4b9a-4740-ad22-9eb0b4cecd3c",
   "metadata": {},
   "outputs": [],
   "source": []
  },
  {
   "cell_type": "code",
   "execution_count": null,
   "id": "a25dc6aa-0790-412c-b0d5-4cfdf31e1bba",
   "metadata": {},
   "outputs": [],
   "source": [
    "X_Correlation_matrix = np.zeros( (num_detect_x, num_detect_x) ) ;\n",
    "\n",
    "for i in range(num_detect_x-1):\n",
    "    for j in range(i+1, num_detect_x):\n",
    "        X_Correlation_matrix[i,j] = p_ij(X_Set_averages[f\"x({i})\"], X_Set_averages[f\"x({j})\"], X_Set_averages[f\"x({i},{j})\"])\n",
    "        X_Correlation_matrix[j,i] = X_Correlation_matrix[i,j] ;"
   ]
  },
  {
   "cell_type": "code",
   "execution_count": null,
   "id": "b8425414-2e59-4e49-9c55-878138163fe5",
   "metadata": {},
   "outputs": [],
   "source": [
    "# print(tabulate(Correlation_matrix))"
   ]
  },
  {
   "cell_type": "code",
   "execution_count": null,
   "id": "efaf3865-7c54-4c66-adc9-85fbf56c77bc",
   "metadata": {},
   "outputs": [],
   "source": [
    "plt.figure(figsize=(8, 6))\n",
    "cax = plt.imshow(X_Correlation_matrix, cmap='YlOrRd', interpolation='nearest')\n",
    "plt.colorbar(cax)\n",
    "plt.gca().invert_yaxis() \n",
    "plt.title('Correlation matrix $p_{ij}$', fontsize=16)\n",
    "plt.xlabel('X Check index i', fontsize=12)\n",
    "plt.ylabel('X Check index j', fontsize=12)\n",
    "# plt.grid(True, which='both', axis='both', linestyle='-', color='gray', linewidth=0.5)"
   ]
  },
  {
   "cell_type": "code",
   "execution_count": null,
   "id": "068d84e6-0e41-4541-9cdf-166bb638d2bd",
   "metadata": {},
   "outputs": [],
   "source": []
  },
  {
   "cell_type": "markdown",
   "id": "bf1429d8-e63a-4b58-be29-9dbf588f2c9a",
   "metadata": {},
   "source": [
    "#### error correction"
   ]
  },
  {
   "cell_type": "code",
   "execution_count": null,
   "id": "bf538a0c-c9b2-47ea-a745-fdd7a9e5c8d1",
   "metadata": {},
   "outputs": [],
   "source": [
    "# correct errors for logical X (X checks)\n",
    "X_no_correction_good_trials, X_no_correction_good_list, X_good_trials, X_good_list =     \\\n",
    "            error_decoding(num_trials_x, k, bpdX, HX, syndrome_history_X, final_logical_x_outcome )"
   ]
  },
  {
   "cell_type": "code",
   "execution_count": null,
   "id": "9ceed00f-1524-4026-981b-a2d4f203e743",
   "metadata": {},
   "outputs": [],
   "source": [
    "print(\"no error correction for logical X basis:\")\n",
    "print(f'Logical error over {num_cycles+1} cycles (four logical qubits):', 1-X_no_correction_good_trials/num_trials_x)\n",
    "print(f'Logical error over {num_cycles+1} cycles (single logical qubit):', 1-X_no_correction_good_list/num_trials_x)\n",
    "print(\"\\n\")\n",
    "print(\"error correction for logical X basis:\")\n",
    "print(f'Logical error over {num_cycles+1} cycles (four logical qubits):', 1-X_good_trials/num_trials_x)\n",
    "print(f'Logical error over {num_cycles+1} cycles (single logical qubit):', 1-X_good_list/num_trials_x)"
   ]
  },
  {
   "cell_type": "code",
   "execution_count": null,
   "id": "5d4b0c69-ba7a-49d8-8288-068e184acaea",
   "metadata": {},
   "outputs": [],
   "source": [
    "# print( \"Estimated logical error per cycle:\", 1 - (1-0.743) ** (1/(num_cycles+1)) )"
   ]
  },
  {
   "cell_type": "code",
   "execution_count": null,
   "id": "ea903d11-5ddb-4eeb-811a-48dec79e9aba",
   "metadata": {},
   "outputs": [],
   "source": []
  },
  {
   "cell_type": "code",
   "execution_count": null,
   "id": "8dfa55ce-dbed-4819-abb7-910c8b3d53f5",
   "metadata": {},
   "outputs": [],
   "source": []
  },
  {
   "cell_type": "code",
   "execution_count": null,
   "id": "8eb65752-00b1-49a3-84d7-f62a09bea10e",
   "metadata": {},
   "outputs": [],
   "source": [
    "# break-even point\n",
    "print(\"logical X point:\", 1 - ( (1+np.exp(-cycle_time/T2))/2 )**k)\n",
    "print(\"logical Z point:\", 1 - ( (1+np.exp(-cycle_time/T1))/2 )**k)"
   ]
  },
  {
   "cell_type": "markdown",
   "id": "aeaa72c4-e506-475f-aaa7-7e5aa5ea8a70",
   "metadata": {},
   "source": [
    "### Logical Z"
   ]
  },
  {
   "cell_type": "code",
   "execution_count": null,
   "id": "96a464a3-2e0a-460e-aacf-afc047fb9114",
   "metadata": {},
   "outputs": [],
   "source": [
    "num_trials_z = 50 ;\n",
    "syndrome_history_Z, final_logical_z_outcome = simulate_syndrome_Lz(num_trials_z, num_cycles, SM_cycle, cycle_append, error_rate_init, \\\n",
    "                error_rate_idle, error_rate_H, error_rate_cz, error_rate_meas, error_final, error_DD_phaseflip, error_DD_bitflip, lz, \\\n",
    "                                                        lin_order, data_qubits, Zchecks, remove_X_list, remove_Z_list)"
   ]
  },
  {
   "cell_type": "code",
   "execution_count": null,
   "id": "24ca3e61-da50-401e-93a6-a76afc97655d",
   "metadata": {},
   "outputs": [],
   "source": [
    "assert( len(syndrome_history_Z[0]) == (num_cycles+1) * (n2 - len(remove_Z_list) ) )\n",
    "num_detect_z = len(syndrome_history_Z[0]) ;"
   ]
  },
  {
   "cell_type": "markdown",
   "id": "2dbfd782-4478-495d-8af4-5841ae93d655",
   "metadata": {},
   "source": [
    "#### error detections"
   ]
  },
  {
   "cell_type": "code",
   "execution_count": null,
   "id": "35bf416c-c691-4753-a09e-22ead2c16ebe",
   "metadata": {},
   "outputs": [],
   "source": [
    "labels_z = ['Z0', 'Z1', 'Z2', 'Z5', 'Z6', 'Z7', 'Z8']\n",
    "num_zcheck = len(labels_z) ;\n",
    "\n",
    "mean_detect_prob_z = np.mean(syndrome_history_Z, axis=0) ;\n",
    "mean_detect_prob_cycle_z = [ np.mean(mean_detect_prob_z[num_zcheck*cycle:num_zcheck*(cycle+1)]) for cycle in range(num_cycles+1) ]\n",
    "\n",
    "for cycle in range(num_cycles+1) :\n",
    "    print( f'The mean probability of error detection in cycle {cycle+1} is:', mean_detect_prob_cycle_z[cycle] )\n",
    "\n",
    "plt.plot(range(1, num_cycles+2), mean_detect_prob_cycle_z)"
   ]
  },
  {
   "cell_type": "markdown",
   "id": "aa7234d2-ba45-4a8f-9029-821bc04f9adf",
   "metadata": {},
   "source": [
    "#### Correlation matrix $p_{ij}$ for error detection events"
   ]
  },
  {
   "cell_type": "code",
   "execution_count": null,
   "id": "982a6a9e-2f95-4be2-8011-ab774cedebd8",
   "metadata": {},
   "outputs": [],
   "source": [
    "Z_Set_averages = {\n",
    "    f\"z({s1},{s2})\": np.mean([np.prod([syndrome_history_Z[trial][s1], syndrome_history_Z[trial][s2]]) for trial in range(num_trials_z)])\n",
    "    for s1 in range(num_detect_z-1)\n",
    "    for s2 in range(s1, num_detect_z)  }\n",
    "\n",
    "Z_Set_averages.update({\n",
    "    f\"z({s3})\": np.mean([syndrome_history_Z[trial][s3] for trial in range(num_trials_z)])\n",
    "    for s3 in range(num_detect_z)   })"
   ]
  },
  {
   "cell_type": "code",
   "execution_count": null,
   "id": "4d62951b-eae8-480c-ac7d-e91bc8917da9",
   "metadata": {},
   "outputs": [],
   "source": [
    "Z_Correlation_matrix = np.zeros( (num_detect_z, num_detect_z) ) ;\n",
    "\n",
    "for i in range(num_detect_z-1):\n",
    "    for j in range(i+1, num_detect_z):\n",
    "        Z_Correlation_matrix[i,j] = p_ij(Z_Set_averages[f\"z({i})\"], Z_Set_averages[f\"z({j})\"], Z_Set_averages[f\"z({i},{j})\"])\n",
    "        Z_Correlation_matrix[j,i] = Z_Correlation_matrix[i,j] ;"
   ]
  },
  {
   "cell_type": "code",
   "execution_count": null,
   "id": "5042cca9-3410-4733-a828-3dd7d2ffd5a1",
   "metadata": {},
   "outputs": [],
   "source": [
    "plt.figure(figsize=(8, 6))\n",
    "cax = plt.imshow(Z_Correlation_matrix, cmap='YlOrRd', interpolation='nearest')\n",
    "plt.colorbar(cax)\n",
    "plt.gca().invert_yaxis() \n",
    "plt.title('Correlation matrix $p_{ij}$', fontsize=16)\n",
    "plt.xlabel('Z Check index i', fontsize=12)\n",
    "plt.ylabel('Z Check index j', fontsize=12)\n",
    "plt.grid(True, which='both', axis='both', linestyle='-', color='gray', linewidth=0.5)"
   ]
  },
  {
   "cell_type": "markdown",
   "id": "a4482acc-480a-4029-adff-81220174588d",
   "metadata": {},
   "source": [
    "#### error correction"
   ]
  },
  {
   "cell_type": "code",
   "execution_count": null,
   "id": "ee2905ee-96fc-4ed7-8dd2-0cbad9cdef3a",
   "metadata": {},
   "outputs": [],
   "source": [
    "# correct errors for logical Z (Z checks)\n",
    "Z_no_correction_good_trials, Z_no_correction_good_list, Z_good_trials, Z_good_list =     \\\n",
    "            error_decoding(num_trials_z, k, bpdZ, HZ, syndrome_history_Z, final_logical_z_outcome )"
   ]
  },
  {
   "cell_type": "code",
   "execution_count": null,
   "id": "247e5b6b-d9d2-4c94-9678-2c89789077f4",
   "metadata": {},
   "outputs": [],
   "source": [
    "print(\"no error correction for logical Z basis:\")\n",
    "print(f'Logical error over {num_cycles+1} cycles (six logical qubits):', 1-Z_no_correction_good_trials/num_trials_z)\n",
    "print(f'Logical error over {num_cycles+1} cycles (single logical qubit):', 1-Z_no_correction_good_list/num_trials_z)\n",
    "print(\"\\n\")\n",
    "print(\"error correction for logical Z basis:\")\n",
    "print(f'Logical error over {num_cycles+1} cycles (six logical qubits):', 1-Z_good_trials/num_trials_z)\n",
    "print(f'Logical error over {num_cycles+1} cycles (single logical qubit):', 1-Z_good_list/num_trials_z)"
   ]
  },
  {
   "cell_type": "code",
   "execution_count": null,
   "id": "315c1e91-a45e-4d9e-8183-c199bb40453d",
   "metadata": {},
   "outputs": [],
   "source": [
    "# print( \"Estimated logical error per cycle:\", 1 - (1-0.704) ** (1/(num_cycles+1)) )"
   ]
  },
  {
   "cell_type": "code",
   "execution_count": null,
   "id": "2e29ee6a-41ec-4e56-bd4c-74c261121a00",
   "metadata": {},
   "outputs": [],
   "source": []
  },
  {
   "cell_type": "code",
   "execution_count": null,
   "id": "8db0a4fd-2e4a-4e49-9a21-4e49c6378b26",
   "metadata": {},
   "outputs": [],
   "source": []
  }
 ],
 "metadata": {
  "kernelspec": {
   "display_name": "QEC",
   "language": "python",
   "name": "qec"
  },
  "language_info": {
   "codemirror_mode": {
    "name": "ipython",
    "version": 3
   },
   "file_extension": ".py",
   "mimetype": "text/x-python",
   "name": "python",
   "nbconvert_exporter": "python",
   "pygments_lexer": "ipython3",
   "version": "3.11.9"
  }
 },
 "nbformat": 4,
 "nbformat_minor": 5
}
